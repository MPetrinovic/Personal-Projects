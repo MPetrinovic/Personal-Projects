{
  "nbformat": 4,
  "nbformat_minor": 0,
  "metadata": {
    "colab": {
      "name": "Rješenje_Eksplorativna analiza podataka.ipynb",
      "provenance": [],
      "collapsed_sections": [],
      "authorship_tag": "ABX9TyNdRswdw0tbVKwe5ILD+qZM",
      "include_colab_link": true
    },
    "kernelspec": {
      "name": "python3",
      "display_name": "Python 3"
    }
  },
  "cells": [
    {
      "cell_type": "markdown",
      "metadata": {
        "id": "view-in-github",
        "colab_type": "text"
      },
      "source": [
        "<a href=\"https://colab.research.google.com/github/MPetrinovic/Personal-Projects/blob/main/Rje%C5%A1enje.ipynb\" target=\"_parent\"><img src=\"https://colab.research.google.com/assets/colab-badge.svg\" alt=\"Open In Colab\"/></a>"
      ]
    },
    {
      "cell_type": "code",
      "metadata": {
        "id": "Vd6aenH4XRn8"
      },
      "source": [
        "import pandas as pd\r\n",
        "import numpy as np\r\n",
        "import matplotlib.pyplot as plt\r\n",
        "import seaborn as sns\r\n",
        "sns.set_palette('Set2')\r\n",
        "from scipy.stats import chi2_contingency\r\n",
        "import scipy.stats as stats\r\n",
        "from scipy.stats import mannwhitneyu"
      ],
      "execution_count": 64,
      "outputs": []
    },
    {
      "cell_type": "code",
      "metadata": {
        "colab": {
          "base_uri": "https://localhost:8080/"
        },
        "id": "MjJqy33ZX6H3",
        "outputId": "0d2fa96d-8182-4349-cd0c-52f6ef5c3958"
      },
      "source": [
        "data = pd.read_csv('schools_data.csv')\r\n",
        "data.shape"
      ],
      "execution_count": 2,
      "outputs": [
        {
          "output_type": "execute_result",
          "data": {
            "text/plain": [
              "(7900, 32)"
            ]
          },
          "metadata": {
            "tags": []
          },
          "execution_count": 2
        }
      ]
    },
    {
      "cell_type": "code",
      "metadata": {
        "colab": {
          "base_uri": "https://localhost:8080/",
          "height": 224
        },
        "id": "njt1XlRSYsW2",
        "outputId": "ba10a42c-d1d7-4093-d45c-71208ba44cc2"
      },
      "source": [
        "data.head()"
      ],
      "execution_count": null,
      "outputs": [
        {
          "output_type": "execute_result",
          "data": {
            "text/html": [
              "<div>\n",
              "<style scoped>\n",
              "    .dataframe tbody tr th:only-of-type {\n",
              "        vertical-align: middle;\n",
              "    }\n",
              "\n",
              "    .dataframe tbody tr th {\n",
              "        vertical-align: top;\n",
              "    }\n",
              "\n",
              "    .dataframe thead th {\n",
              "        text-align: right;\n",
              "    }\n",
              "</style>\n",
              "<table border=\"1\" class=\"dataframe\">\n",
              "  <thead>\n",
              "    <tr style=\"text-align: right;\">\n",
              "      <th></th>\n",
              "      <th>school</th>\n",
              "      <th>sex</th>\n",
              "      <th>age</th>\n",
              "      <th>address</th>\n",
              "      <th>famsize</th>\n",
              "      <th>Pstatus</th>\n",
              "      <th>Medu</th>\n",
              "      <th>Fedu</th>\n",
              "      <th>Mjob</th>\n",
              "      <th>Fjob</th>\n",
              "      <th>reason</th>\n",
              "      <th>guardian</th>\n",
              "      <th>traveltime</th>\n",
              "      <th>studytime</th>\n",
              "      <th>failures</th>\n",
              "      <th>schoolsup</th>\n",
              "      <th>famsup</th>\n",
              "      <th>paid</th>\n",
              "      <th>activities</th>\n",
              "      <th>nursery</th>\n",
              "      <th>higher</th>\n",
              "      <th>internet</th>\n",
              "      <th>romantic</th>\n",
              "      <th>famrel</th>\n",
              "      <th>freetime</th>\n",
              "      <th>goout</th>\n",
              "      <th>Dalc</th>\n",
              "      <th>Walc</th>\n",
              "      <th>health</th>\n",
              "      <th>absences</th>\n",
              "      <th>repeated</th>\n",
              "      <th>data_perimeter</th>\n",
              "    </tr>\n",
              "  </thead>\n",
              "  <tbody>\n",
              "    <tr>\n",
              "      <th>0</th>\n",
              "      <td>MS</td>\n",
              "      <td>F</td>\n",
              "      <td>15</td>\n",
              "      <td>Urban</td>\n",
              "      <td>&gt;3</td>\n",
              "      <td>Married</td>\n",
              "      <td>2</td>\n",
              "      <td>3</td>\n",
              "      <td>other</td>\n",
              "      <td>other</td>\n",
              "      <td>other</td>\n",
              "      <td>father</td>\n",
              "      <td>2</td>\n",
              "      <td>1</td>\n",
              "      <td>0</td>\n",
              "      <td>False</td>\n",
              "      <td>True</td>\n",
              "      <td>False</td>\n",
              "      <td>True</td>\n",
              "      <td>True</td>\n",
              "      <td>True</td>\n",
              "      <td>False</td>\n",
              "      <td>False</td>\n",
              "      <td>3</td>\n",
              "      <td>5</td>\n",
              "      <td>1</td>\n",
              "      <td>1</td>\n",
              "      <td>1</td>\n",
              "      <td>5</td>\n",
              "      <td>0</td>\n",
              "      <td>0</td>\n",
              "      <td>validation</td>\n",
              "    </tr>\n",
              "    <tr>\n",
              "      <th>1</th>\n",
              "      <td>MS</td>\n",
              "      <td>M</td>\n",
              "      <td>15</td>\n",
              "      <td>Urban</td>\n",
              "      <td>&lt;=3</td>\n",
              "      <td>Married</td>\n",
              "      <td>4</td>\n",
              "      <td>3</td>\n",
              "      <td>teacher</td>\n",
              "      <td>services</td>\n",
              "      <td>home</td>\n",
              "      <td>mother</td>\n",
              "      <td>1</td>\n",
              "      <td>3</td>\n",
              "      <td>0</td>\n",
              "      <td>False</td>\n",
              "      <td>True</td>\n",
              "      <td>False</td>\n",
              "      <td>True</td>\n",
              "      <td>True</td>\n",
              "      <td>True</td>\n",
              "      <td>True</td>\n",
              "      <td>False</td>\n",
              "      <td>5</td>\n",
              "      <td>4</td>\n",
              "      <td>3</td>\n",
              "      <td>1</td>\n",
              "      <td>1</td>\n",
              "      <td>4</td>\n",
              "      <td>2</td>\n",
              "      <td>0</td>\n",
              "      <td>train</td>\n",
              "    </tr>\n",
              "    <tr>\n",
              "      <th>2</th>\n",
              "      <td>MS</td>\n",
              "      <td>M</td>\n",
              "      <td>16</td>\n",
              "      <td>Rural</td>\n",
              "      <td>&gt;3</td>\n",
              "      <td>Divorced</td>\n",
              "      <td>4</td>\n",
              "      <td>4</td>\n",
              "      <td>other</td>\n",
              "      <td>teacher</td>\n",
              "      <td>reputation</td>\n",
              "      <td>mother</td>\n",
              "      <td>2</td>\n",
              "      <td>3</td>\n",
              "      <td>0</td>\n",
              "      <td>False</td>\n",
              "      <td>True</td>\n",
              "      <td>False</td>\n",
              "      <td>True</td>\n",
              "      <td>True</td>\n",
              "      <td>True</td>\n",
              "      <td>True</td>\n",
              "      <td>True</td>\n",
              "      <td>2</td>\n",
              "      <td>4</td>\n",
              "      <td>3</td>\n",
              "      <td>1</td>\n",
              "      <td>1</td>\n",
              "      <td>5</td>\n",
              "      <td>7</td>\n",
              "      <td>0</td>\n",
              "      <td>validation</td>\n",
              "    </tr>\n",
              "    <tr>\n",
              "      <th>3</th>\n",
              "      <td>MS</td>\n",
              "      <td>F</td>\n",
              "      <td>15</td>\n",
              "      <td>Rural</td>\n",
              "      <td>&gt;3</td>\n",
              "      <td>Married</td>\n",
              "      <td>3</td>\n",
              "      <td>4</td>\n",
              "      <td>services</td>\n",
              "      <td>health</td>\n",
              "      <td>course</td>\n",
              "      <td>mother</td>\n",
              "      <td>1</td>\n",
              "      <td>3</td>\n",
              "      <td>0</td>\n",
              "      <td>True</td>\n",
              "      <td>True</td>\n",
              "      <td>True</td>\n",
              "      <td>True</td>\n",
              "      <td>True</td>\n",
              "      <td>True</td>\n",
              "      <td>True</td>\n",
              "      <td>False</td>\n",
              "      <td>4</td>\n",
              "      <td>3</td>\n",
              "      <td>2</td>\n",
              "      <td>1</td>\n",
              "      <td>1</td>\n",
              "      <td>5</td>\n",
              "      <td>2</td>\n",
              "      <td>0</td>\n",
              "      <td>train</td>\n",
              "    </tr>\n",
              "    <tr>\n",
              "      <th>4</th>\n",
              "      <td>MS</td>\n",
              "      <td>F</td>\n",
              "      <td>15</td>\n",
              "      <td>Rural</td>\n",
              "      <td>&gt;3</td>\n",
              "      <td>Married</td>\n",
              "      <td>2</td>\n",
              "      <td>2</td>\n",
              "      <td>at_home</td>\n",
              "      <td>other</td>\n",
              "      <td>reputation</td>\n",
              "      <td>mother</td>\n",
              "      <td>1</td>\n",
              "      <td>1</td>\n",
              "      <td>0</td>\n",
              "      <td>True</td>\n",
              "      <td>True</td>\n",
              "      <td>True</td>\n",
              "      <td>True</td>\n",
              "      <td>True</td>\n",
              "      <td>True</td>\n",
              "      <td>False</td>\n",
              "      <td>False</td>\n",
              "      <td>4</td>\n",
              "      <td>3</td>\n",
              "      <td>1</td>\n",
              "      <td>1</td>\n",
              "      <td>1</td>\n",
              "      <td>2</td>\n",
              "      <td>8</td>\n",
              "      <td>0</td>\n",
              "      <td>validation</td>\n",
              "    </tr>\n",
              "  </tbody>\n",
              "</table>\n",
              "</div>"
            ],
            "text/plain": [
              "  school sex  age address  ... health absences  repeated  data_perimeter\n",
              "0     MS   F   15   Urban  ...      5        0         0      validation\n",
              "1     MS   M   15   Urban  ...      4        2         0           train\n",
              "2     MS   M   16   Rural  ...      5        7         0      validation\n",
              "3     MS   F   15   Rural  ...      5        2         0           train\n",
              "4     MS   F   15   Rural  ...      2        8         0      validation\n",
              "\n",
              "[5 rows x 32 columns]"
            ]
          },
          "metadata": {
            "tags": []
          },
          "execution_count": 6
        }
      ]
    },
    {
      "cell_type": "code",
      "metadata": {
        "id": "0LCp0h87X6Ke"
      },
      "source": [
        "work_data = data.copy()\r\n",
        "work_data.sample(5)"
      ],
      "execution_count": null,
      "outputs": []
    },
    {
      "cell_type": "code",
      "metadata": {
        "colab": {
          "base_uri": "https://localhost:8080/",
          "height": 330
        },
        "id": "F-AQtuoNX6NA",
        "outputId": "a2483972-8384-4d5b-b368-a72fd6aa0a09"
      },
      "source": [
        "sns.countplot(x = 'repeated', data = data)\r\n",
        "work_data['repeated'].value_counts()/7900"
      ],
      "execution_count": null,
      "outputs": [
        {
          "output_type": "execute_result",
          "data": {
            "text/plain": [
              "0    0.697215\n",
              "1    0.302785\n",
              "Name: repeated, dtype: float64"
            ]
          },
          "metadata": {
            "tags": []
          },
          "execution_count": 35
        },
        {
          "output_type": "display_data",
          "data": {
            "image/png": "[encoded data removed]",
            "text/plain": [
              "<Figure size 432x288 with 1 Axes>"
            ]
          },
          "metadata": {
            "tags": [],
            "needs_background": "light"
          }
        }
      ]
    },
    {
      "cell_type": "markdown",
      "metadata": {
        "id": "2XQM7Dp6Z-rX"
      },
      "source": [
        "1. varijabla = SCHOOL"
      ]
    },
    {
      "cell_type": "code",
      "metadata": {
        "colab": {
          "base_uri": "https://localhost:8080/",
          "height": 541
        },
        "id": "v9Ck_8lYX6Pu",
        "outputId": "a6f4f1d1-4eb8-409e-e36a-c783410b9d87"
      },
      "source": [
        "sns.countplot(x = 'school', data = data)\r\n",
        "plt.show()\r\n",
        "data['school'].value_counts()\r\n",
        "sns.countplot(x = 'school', hue = 'repeated',data = data)\r\n",
        "plt.show()"
      ],
      "execution_count": null,
      "outputs": [
        {
          "output_type": "display_data",
          "data": {
            "image/png": "[encoded data removed]",
            "text/plain": [
              "<Figure size 432x288 with 1 Axes>"
            ]
          },
          "metadata": {
            "tags": [],
            "needs_background": "light"
          }
        },
        {
          "output_type": "display_data",
          "data": {
            "image/png": "[encoded data removed]",
            "text/plain": [
              "<Figure size 432x288 with 1 Axes>"
            ]
          },
          "metadata": {
            "tags": [],
            "needs_background": "light"
          }
        }
      ]
    },
    {
      "cell_type": "code",
      "metadata": {
        "colab": {
          "base_uri": "https://localhost:8080/"
        },
        "id": "sdjJs1uSX6Sf",
        "outputId": "dc406228-0346-46eb-c936-fdc2f61c6512"
      },
      "source": [
        "obs = pd.crosstab(data['school'],data['repeated'])\r\n",
        "print(obs)\r\n",
        "g, p, dof, expctd = chi2_contingency(obs,lambda_=\"log-likelihood\")\r\n",
        "print(p)"
      ],
      "execution_count": null,
      "outputs": [
        {
          "output_type": "stream",
          "text": [
            "repeated     0     1\n",
            "school              \n",
            "GP        1975   527\n",
            "LT        1403   222\n",
            "MS        1234   214\n",
            "RC         896  1429\n",
            "0.0\n"
          ],
          "name": "stdout"
        }
      ]
    },
    {
      "cell_type": "markdown",
      "metadata": {
        "id": "87pLqA7Ib4j3"
      },
      "source": [
        "$\\chi^2$ test pokazuje ovisno varijable škola i ponavljanja godine. Možemo reći da ponavljanje godine ovisi o školi koju učenik pohađa. "
      ]
    },
    {
      "cell_type": "markdown",
      "metadata": {
        "id": "wJsXRep8cMpM"
      },
      "source": [
        "2.Varijabla = sex"
      ]
    },
    {
      "cell_type": "code",
      "metadata": {
        "colab": {
          "base_uri": "https://localhost:8080/",
          "height": 541
        },
        "id": "zfhzBOGWX6U9",
        "outputId": "b4805a7d-3a58-4c2f-da7f-1db598f627f0"
      },
      "source": [
        "sns.countplot(x = 'sex', data = data)\r\n",
        "plt.show()\r\n",
        "data['sex'].value_counts()\r\n",
        "sns.countplot(x = 'sex', hue = 'repeated',data = data)\r\n",
        "plt.show()"
      ],
      "execution_count": null,
      "outputs": [
        {
          "output_type": "display_data",
          "data": {
            "image/png": "[encoded data removed]",
            "text/plain": [
              "<Figure size 432x288 with 1 Axes>"
            ]
          },
          "metadata": {
            "tags": [],
            "needs_background": "light"
          }
        },
        {
          "output_type": "display_data",
          "data": {
            "image/png": "[encoded data removed]",
            "text/plain": [
              "<Figure size 432x288 with 1 Axes>"
            ]
          },
          "metadata": {
            "tags": [],
            "needs_background": "light"
          }
        }
      ]
    },
    {
      "cell_type": "code",
      "metadata": {
        "colab": {
          "base_uri": "https://localhost:8080/"
        },
        "id": "tu4ANHSNcdmc",
        "outputId": "f63bb722-6217-4d81-89ab-8bf17d2443c8"
      },
      "source": [
        "obs = pd.crosstab(data['sex'],data['repeated'])\r\n",
        "print(obs[[1,0]])\r\n",
        "g, p, dof, expctd = chi2_contingency(obs[[1,0]],lambda_=\"log-likelihood\")\r\n",
        "print(p)"
      ],
      "execution_count": null,
      "outputs": [
        {
          "output_type": "stream",
          "text": [
            "repeated     1     0\n",
            "sex                 \n",
            "F         1361  2799\n",
            "M         1031  2709\n",
            "7.207292390507581e-07\n"
          ],
          "name": "stdout"
        }
      ]
    },
    {
      "cell_type": "code",
      "metadata": {
        "colab": {
          "base_uri": "https://localhost:8080/"
        },
        "id": "s9eCUWvTfYlX",
        "outputId": "7740266d-987a-42f4-b5e2-2818781d10cd"
      },
      "source": [
        "a = 1361/2799\r\n",
        "b = 1031/2709\r\n",
        "oddrat = a/b\r\n",
        "print(oddrat)"
      ],
      "execution_count": null,
      "outputs": [
        {
          "output_type": "stream",
          "text": [
            "1.2776313696626445\n"
          ],
          "name": "stdout"
        }
      ]
    },
    {
      "cell_type": "code",
      "metadata": {
        "colab": {
          "base_uri": "https://localhost:8080/"
        },
        "id": "8cX9Z_snclZl",
        "outputId": "108a7e52-c3dd-4b1a-efab-94a277ca312a"
      },
      "source": [
        "oddsratio, pvalue = stats.fisher_exact(obs[[1,0]])\r\n",
        "print(\"OddsR: \", oddsratio, \"p-Value:\", pvalue)"
      ],
      "execution_count": null,
      "outputs": [
        {
          "output_type": "stream",
          "text": [
            "OddsR:  1.2776313696626445 p-Value: 7.212931680765025e-07\n"
          ],
          "name": "stdout"
        }
      ]
    },
    {
      "cell_type": "markdown",
      "metadata": {
        "id": "aB2aozOqcL1E"
      },
      "source": [
        "3.varijabla = age"
      ]
    },
    {
      "cell_type": "code",
      "metadata": {
        "colab": {
          "base_uri": "https://localhost:8080/",
          "height": 514
        },
        "id": "KZFCkl90X6Xv",
        "outputId": "3f4ed70f-26d4-48bf-8177-3cffae585e54"
      },
      "source": [
        "sns.countplot(x='age',data=data)\r\n",
        "plt.show()\r\n",
        "sns.boxplot(y='age',data=data)\r\n",
        "plt.show()"
      ],
      "execution_count": null,
      "outputs": [
        {
          "output_type": "display_data",
          "data": {
            "image/png": "[encoded data removed]",
            "text/plain": [
              "<Figure size 432x288 with 1 Axes>"
            ]
          },
          "metadata": {
            "tags": [],
            "needs_background": "light"
          }
        },
        {
          "output_type": "display_data",
          "data": {
            "image/png": "[encoded data removed]",
            "text/plain": [
              "<Figure size 432x288 with 1 Axes>"
            ]
          },
          "metadata": {
            "tags": [],
            "needs_background": "light"
          }
        }
      ]
    },
    {
      "cell_type": "code",
      "metadata": {
        "colab": {
          "base_uri": "https://localhost:8080/",
          "height": 279
        },
        "id": "TZQhzPUcgEun",
        "outputId": "6b37dd97-bc4b-4b97-8156-2d4421b7f57e"
      },
      "source": [
        "sns.boxplot(y='age',x = 'repeated',data=data)\r\n",
        "plt.show()"
      ],
      "execution_count": null,
      "outputs": [
        {
          "output_type": "display_data",
          "data": {
            "image/png": "[encoded data removed]",
            "text/plain": [
              "<Figure size 432x288 with 1 Axes>"
            ]
          },
          "metadata": {
            "tags": [],
            "needs_background": "light"
          }
        }
      ]
    },
    {
      "cell_type": "code",
      "metadata": {
        "colab": {
          "base_uri": "https://localhost:8080/"
        },
        "id": "6_OBvVSxgEws",
        "outputId": "1dc12dea-1aa2-446d-c415-ea17df376832"
      },
      "source": [
        "r0 = data.age[data.repeated == 0]\r\n",
        "r1 = data.age[data.repeated == 1]\r\n",
        "s, p = stats.ttest_ind(r0,r1,equal_var = False)\r\n",
        "print(p)"
      ],
      "execution_count": null,
      "outputs": [
        {
          "output_type": "stream",
          "text": [
            "1.0255377075099464e-22\n"
          ],
          "name": "stdout"
        }
      ]
    },
    {
      "cell_type": "code",
      "metadata": {
        "colab": {
          "base_uri": "https://localhost:8080/"
        },
        "id": "sTtgsJKUgEzN",
        "outputId": "c953a7f3-17e0-44f6-f05d-b3069147ed08"
      },
      "source": [
        "data.columns"
      ],
      "execution_count": null,
      "outputs": [
        {
          "output_type": "execute_result",
          "data": {
            "text/plain": [
              "Index(['school', 'sex', 'age', 'address', 'famsize', 'Pstatus', 'Medu', 'Fedu',\n",
              "       'Mjob', 'Fjob', 'reason', 'guardian', 'traveltime', 'studytime',\n",
              "       'failures', 'schoolsup', 'famsup', 'paid', 'activities', 'nursery',\n",
              "       'higher', 'internet', 'romantic', 'famrel', 'freetime', 'goout', 'Dalc',\n",
              "       'Walc', 'health', 'absences', 'repeated', 'data_perimeter'],\n",
              "      dtype='object')"
            ]
          },
          "metadata": {
            "tags": []
          },
          "execution_count": 68
        }
      ]
    },
    {
      "cell_type": "markdown",
      "metadata": {
        "id": "QvGXB4qJiFK3"
      },
      "source": [
        "4.varijabla = address"
      ]
    },
    {
      "cell_type": "code",
      "metadata": {
        "colab": {
          "base_uri": "https://localhost:8080/",
          "height": 592
        },
        "id": "nkHZFOsSgE1d",
        "outputId": "3cffc8d0-1cce-44b2-ab7f-558fbea77301"
      },
      "source": [
        "print(data['address'].value_counts()/7900)\r\n",
        "sns.countplot(x = 'address', data = data)\r\n",
        "plt.show()\r\n",
        "sns.countplot(x = 'address', hue = 'repeated',data = data)\r\n",
        "plt.show()"
      ],
      "execution_count": null,
      "outputs": [
        {
          "output_type": "stream",
          "text": [
            "Urban    0.777215\n",
            "Rural    0.222785\n",
            "Name: address, dtype: float64\n"
          ],
          "name": "stdout"
        },
        {
          "output_type": "display_data",
          "data": {
            "image/png": "[encoded data removed]",
            "text/plain": [
              "<Figure size 432x288 with 1 Axes>"
            ]
          },
          "metadata": {
            "tags": [],
            "needs_background": "light"
          }
        },
        {
          "output_type": "display_data",
          "data": {
            "image/png": "[encoded data removed]",
            "text/plain": [
              "<Figure size 432x288 with 1 Axes>"
            ]
          },
          "metadata": {
            "tags": [],
            "needs_background": "light"
          }
        }
      ]
    },
    {
      "cell_type": "code",
      "metadata": {
        "colab": {
          "base_uri": "https://localhost:8080/"
        },
        "id": "mIJVjZ4OgE32",
        "outputId": "2ff7e875-5b99-43c4-b195-3b55d98065d3"
      },
      "source": [
        "obs = pd.crosstab(data['address'],data['repeated'])\r\n",
        "print(obs[[1,0]])\r\n",
        "g, p, dof, expctd = chi2_contingency(obs[[1,0]],lambda_=\"log-likelihood\")\r\n",
        "print(\"chi2 test p-value: \",p)\r\n",
        "oddsratio, pvalue = stats.fisher_exact(obs[[1,0]])\r\n",
        "print(\"OddsR: \", oddsratio, \"p-Value:\", pvalue)"
      ],
      "execution_count": null,
      "outputs": [
        {
          "output_type": "stream",
          "text": [
            "repeated     1     0\n",
            "address             \n",
            "Rural      655  1105\n",
            "Urban     1737  4403\n",
            "chi2 test p-value:  1.6413675145703275e-12\n",
            "OddsR:  1.5025463885567512 p-Value: 1.491683833664934e-12\n"
          ],
          "name": "stdout"
        }
      ]
    },
    {
      "cell_type": "markdown",
      "metadata": {
        "id": "sdhVGy6IjI3X"
      },
      "source": [
        "5.varijabla = famsize"
      ]
    },
    {
      "cell_type": "code",
      "metadata": {
        "colab": {
          "base_uri": "https://localhost:8080/",
          "height": 596
        },
        "id": "U8b9NB2aX6aL",
        "outputId": "42de4976-b00d-41ce-f55e-8116dae330fb"
      },
      "source": [
        "print(data['famsize'].value_counts()/7900)\r\n",
        "sns.countplot(x = 'famsize', data = data)\r\n",
        "plt.show()\r\n",
        "sns.countplot(x = 'famsize', hue = 'repeated',data = data)\r\n",
        "plt.show()"
      ],
      "execution_count": null,
      "outputs": [
        {
          "output_type": "stream",
          "text": [
            ">3     0.711392\n",
            "<=3    0.288608\n",
            "Name: famsize, dtype: float64\n"
          ],
          "name": "stdout"
        },
        {
          "output_type": "display_data",
          "data": {
            "image/png": "[encoded data removed]",
            "text/plain": [
              "<Figure size 432x288 with 1 Axes>"
            ]
          },
          "metadata": {
            "tags": [],
            "needs_background": "light"
          }
        },
        {
          "output_type": "display_data",
          "data": {
            "image/png": "[encoded data removed]",
            "text/plain": [
              "<Figure size 432x288 with 1 Axes>"
            ]
          },
          "metadata": {
            "tags": [],
            "needs_background": "light"
          }
        }
      ]
    },
    {
      "cell_type": "code",
      "metadata": {
        "colab": {
          "base_uri": "https://localhost:8080/"
        },
        "id": "FSB465XLjWKV",
        "outputId": "d95799d3-1a05-497b-c372-8365a75659e6"
      },
      "source": [
        "obs = pd.crosstab(data['famsize'],data['repeated'])\r\n",
        "print(obs[[1,0]])\r\n",
        "g, p, dof, expctd = chi2_contingency(obs[[1,0]],lambda_=\"log-likelihood\")\r\n",
        "print(\"chi2 test p-value: \",p)\r\n",
        "oddsratio, pvalue = stats.fisher_exact(obs[[1,0]])\r\n",
        "print(\"OddsR: \", oddsratio, \"p-Value:\", pvalue)"
      ],
      "execution_count": null,
      "outputs": [
        {
          "output_type": "stream",
          "text": [
            "repeated     1     0\n",
            "famsize             \n",
            "<=3        589  1691\n",
            ">3        1803  3817\n",
            "chi2 test p-value:  3.7887932365568124e-08\n",
            "OddsR:  0.7373914885926701 p-Value: 3.47321369191552e-08\n"
          ],
          "name": "stdout"
        }
      ]
    },
    {
      "cell_type": "code",
      "metadata": {
        "colab": {
          "base_uri": "https://localhost:8080/"
        },
        "id": "wOjPM8MVjWM0",
        "outputId": "e49f34b8-4557-4a22-a6c6-8d70bd49cbf2"
      },
      "source": [
        "data.columns"
      ],
      "execution_count": null,
      "outputs": [
        {
          "output_type": "execute_result",
          "data": {
            "text/plain": [
              "Index(['school', 'sex', 'age', 'address', 'famsize', 'Pstatus', 'Medu', 'Fedu',\n",
              "       'Mjob', 'Fjob', 'reason', 'guardian', 'traveltime', 'studytime',\n",
              "       'failures', 'schoolsup', 'famsup', 'paid', 'activities', 'nursery',\n",
              "       'higher', 'internet', 'romantic', 'famrel', 'freetime', 'goout', 'Dalc',\n",
              "       'Walc', 'health', 'absences', 'repeated', 'data_perimeter'],\n",
              "      dtype='object')"
            ]
          },
          "metadata": {
            "tags": []
          },
          "execution_count": 84
        }
      ]
    },
    {
      "cell_type": "markdown",
      "metadata": {
        "id": "kWqyEzeGktjZ"
      },
      "source": [
        "6.varijabla = Pstatus"
      ]
    },
    {
      "cell_type": "code",
      "metadata": {
        "colab": {
          "base_uri": "https://localhost:8080/",
          "height": 592
        },
        "id": "XhBpU5VOjWR2",
        "outputId": "334ae200-c5b4-4570-e047-20bbf8a6ba2d"
      },
      "source": [
        "print(data['Pstatus'].value_counts()/7900)\r\n",
        "sns.countplot(x = 'Pstatus', data = data)\r\n",
        "plt.show()\r\n",
        "sns.countplot(x = 'Pstatus', hue = 'repeated',data = data)\r\n",
        "plt.show()"
      ],
      "execution_count": null,
      "outputs": [
        {
          "output_type": "stream",
          "text": [
            "Married     0.896203\n",
            "Divorced    0.103797\n",
            "Name: Pstatus, dtype: float64\n"
          ],
          "name": "stdout"
        },
        {
          "output_type": "display_data",
          "data": {
            "image/png": "[encoded data removed]",
            "text/plain": [
              "<Figure size 432x288 with 1 Axes>"
            ]
          },
          "metadata": {
            "tags": [],
            "needs_background": "light"
          }
        },
        {
          "output_type": "display_data",
          "data": {
            "image/png": "[encoded data removed]",
            "text/plain": [
              "<Figure size 432x288 with 1 Axes>"
            ]
          },
          "metadata": {
            "tags": [],
            "needs_background": "light"
          }
        }
      ]
    },
    {
      "cell_type": "code",
      "metadata": {
        "colab": {
          "base_uri": "https://localhost:8080/"
        },
        "id": "BwPNQRdgjWUb",
        "outputId": "7e513e94-808a-4c5f-9de3-7faf5222b536"
      },
      "source": [
        "obs = pd.crosstab(data['Pstatus'],data['repeated'])\r\n",
        "print(obs[[1,0]])\r\n",
        "g, p, dof, expctd = chi2_contingency(obs[[1,0]],lambda_=\"log-likelihood\")\r\n",
        "print(\"chi2 test p-value: \",p)\r\n",
        "oddsratio, pvalue = stats.fisher_exact(obs[[1,0]])\r\n",
        "print(\"OddsR: \", oddsratio, \"p-Value:\", pvalue)"
      ],
      "execution_count": null,
      "outputs": [
        {
          "output_type": "stream",
          "text": [
            "repeated     1     0\n",
            "Pstatus             \n",
            "Divorced   278   542\n",
            "Married   2114  4966\n",
            "chi2 test p-value:  0.02011004261727061\n",
            "OddsR:  1.2048895607215295 p-Value: 0.017869565928866786\n"
          ],
          "name": "stdout"
        }
      ]
    },
    {
      "cell_type": "markdown",
      "metadata": {
        "id": "nSvjTXgrl264"
      },
      "source": [
        "7.Varijabla = Medu"
      ]
    },
    {
      "cell_type": "code",
      "metadata": {
        "colab": {
          "base_uri": "https://localhost:8080/",
          "height": 643
        },
        "id": "t_764C7RjWXB",
        "outputId": "055c1047-9aa5-4562-a210-5aa24489c61e"
      },
      "source": [
        "print(data['Medu'].value_counts()/7900)\r\n",
        "sns.countplot(x = 'Medu', data = data)\r\n",
        "plt.show()\r\n",
        "sns.countplot(x = 'Medu', hue = 'repeated',data = data)\r\n",
        "plt.show()"
      ],
      "execution_count": null,
      "outputs": [
        {
          "output_type": "stream",
          "text": [
            "4    0.331646\n",
            "2    0.260759\n",
            "3    0.250633\n",
            "1    0.149367\n",
            "0    0.007595\n",
            "Name: Medu, dtype: float64\n"
          ],
          "name": "stdout"
        },
        {
          "output_type": "display_data",
          "data": {
            "image/png": "[encoded data removed]",
            "text/plain": [
              "<Figure size 432x288 with 1 Axes>"
            ]
          },
          "metadata": {
            "tags": [],
            "needs_background": "light"
          }
        },
        {
          "output_type": "display_data",
          "data": {
            "image/png": "[encoded data removed]",
            "text/plain": [
              "<Figure size 432x288 with 1 Axes>"
            ]
          },
          "metadata": {
            "tags": [],
            "needs_background": "light"
          }
        }
      ]
    },
    {
      "cell_type": "code",
      "metadata": {
        "colab": {
          "base_uri": "https://localhost:8080/"
        },
        "id": "Yz55a2D6jWZ0",
        "outputId": "89e112d3-eeb7-4a06-cae0-f8267638fd68"
      },
      "source": [
        "obs = pd.crosstab(data['Medu'],data['repeated'])\r\n",
        "print(obs[[1,0]])\r\n",
        "g, p, dof, expctd = chi2_contingency(obs[[1,0]],lambda_=\"log-likelihood\")\r\n",
        "print(\"chi2 test p-value: \",p)"
      ],
      "execution_count": null,
      "outputs": [
        {
          "output_type": "stream",
          "text": [
            "repeated    1     0\n",
            "Medu               \n",
            "0          19    41\n",
            "1         515   665\n",
            "2         676  1384\n",
            "3         660  1320\n",
            "4         522  2098\n",
            "chi2 test p-value:  1.9154892352225763e-53\n"
          ],
          "name": "stdout"
        }
      ]
    },
    {
      "cell_type": "markdown",
      "metadata": {
        "id": "TUVqaO5-ptQf"
      },
      "source": [
        "8.Varijabla = Fedu"
      ]
    },
    {
      "cell_type": "code",
      "metadata": {
        "colab": {
          "base_uri": "https://localhost:8080/",
          "height": 779
        },
        "id": "PTKUzkzMjWb8",
        "outputId": "f261c517-cb38-408c-b88e-f4ce3ef0fbb7"
      },
      "source": [
        "print(data['Fedu'].value_counts()/7900)\r\n",
        "sns.countplot(x = 'Fedu', data = data)\r\n",
        "plt.show()\r\n",
        "sns.countplot(x = 'Fedu', hue = 'repeated',data = data)\r\n",
        "plt.show()\r\n",
        "\r\n",
        "obs = pd.crosstab(data['Fedu'],data['repeated'])\r\n",
        "print(obs[[1,0]])\r\n",
        "g, p, dof, expctd = chi2_contingency(obs[[1,0]],lambda_=\"log-likelihood\")\r\n",
        "print(\"chi2 test p-value: \",p)"
      ],
      "execution_count": null,
      "outputs": [
        {
          "output_type": "stream",
          "text": [
            "2    0.291139\n",
            "3    0.253165\n",
            "4    0.243038\n",
            "1    0.207595\n",
            "0    0.005063\n",
            "Name: Fedu, dtype: float64\n"
          ],
          "name": "stdout"
        },
        {
          "output_type": "display_data",
          "data": {
            "image/png": "[encoded data removed]",
            "text/plain": [
              "<Figure size 432x288 with 1 Axes>"
            ]
          },
          "metadata": {
            "tags": [],
            "needs_background": "light"
          }
        },
        {
          "output_type": "display_data",
          "data": {
            "image/png": "[encoded data removed]",
            "text/plain": [
              "<Figure size 432x288 with 1 Axes>"
            ]
          },
          "metadata": {
            "tags": [],
            "needs_background": "light"
          }
        },
        {
          "output_type": "stream",
          "text": [
            "repeated    1     0\n",
            "Fedu               \n",
            "0           6    34\n",
            "1         709   931\n",
            "2         694  1606\n",
            "3         553  1447\n",
            "4         430  1490\n",
            "chi2 test p-value:  7.80967622721655e-41\n"
          ],
          "name": "stdout"
        }
      ]
    },
    {
      "cell_type": "code",
      "metadata": {
        "colab": {
          "base_uri": "https://localhost:8080/"
        },
        "id": "mKdk0oRKjWeX",
        "outputId": "141456f2-b8d3-4d25-f20f-255dd25c4f78"
      },
      "source": [
        "data.columns"
      ],
      "execution_count": null,
      "outputs": [
        {
          "output_type": "execute_result",
          "data": {
            "text/plain": [
              "Index(['school', 'sex', 'age', 'address', 'famsize', 'Pstatus', 'Medu', 'Fedu',\n",
              "       'Mjob', 'Fjob', 'reason', 'guardian', 'traveltime', 'studytime',\n",
              "       'failures', 'schoolsup', 'famsup', 'paid', 'activities', 'nursery',\n",
              "       'higher', 'internet', 'romantic', 'famrel', 'freetime', 'goout', 'Dalc',\n",
              "       'Walc', 'health', 'absences', 'repeated', 'data_perimeter'],\n",
              "      dtype='object')"
            ]
          },
          "metadata": {
            "tags": []
          },
          "execution_count": 97
        }
      ]
    },
    {
      "cell_type": "markdown",
      "metadata": {
        "id": "-ERY3TQPpwSm"
      },
      "source": [
        "9.Varijabla = Mjob"
      ]
    },
    {
      "cell_type": "code",
      "metadata": {
        "colab": {
          "base_uri": "https://localhost:8080/",
          "height": 781
        },
        "id": "RMVaTytjjWg5",
        "outputId": "2c91c85c-1ae5-4b8d-cf02-d5df44ec01ea"
      },
      "source": [
        "print(data['Mjob'].value_counts()/7900)\r\n",
        "sns.countplot(x = 'Mjob', data = data)\r\n",
        "plt.show()\r\n",
        "sns.countplot(x = 'Mjob', hue = 'repeated',data = data)\r\n",
        "plt.show()\r\n",
        "\r\n",
        "obs = pd.crosstab(data['Mjob'],data['repeated'])\r\n",
        "print(obs[[1,0]])\r\n",
        "g, p, dof, expctd = chi2_contingency(obs[[1,0]],lambda_=\"log-likelihood\")\r\n",
        "print(\"chi2 test p-value: \",p)"
      ],
      "execution_count": null,
      "outputs": [
        {
          "output_type": "stream",
          "text": [
            "other       0.356962\n",
            "services    0.260759\n",
            "at_home     0.149367\n",
            "teacher     0.146835\n",
            "health      0.086076\n",
            "Name: Mjob, dtype: float64\n"
          ],
          "name": "stdout"
        },
        {
          "output_type": "display_data",
          "data": {
            "image/png": "[encoded data removed]",
            "text/plain": [
              "<Figure size 432x288 with 1 Axes>"
            ]
          },
          "metadata": {
            "tags": [],
            "needs_background": "light"
          }
        },
        {
          "output_type": "display_data",
          "data": {
            "image/png": "[encoded data removed]",
            "text/plain": [
              "<Figure size 432x288 with 1 Axes>"
            ]
          },
          "metadata": {
            "tags": [],
            "needs_background": "light"
          }
        },
        {
          "output_type": "stream",
          "text": [
            "repeated    1     0\n",
            "Mjob               \n",
            "at_home   458   722\n",
            "health    116   564\n",
            "other     972  1848\n",
            "services  602  1458\n",
            "teacher   244   916\n",
            "chi2 test p-value:  5.534005768615867e-37\n"
          ],
          "name": "stdout"
        }
      ]
    },
    {
      "cell_type": "markdown",
      "metadata": {
        "id": "TGlK5WeCpyn2"
      },
      "source": [
        "10.Varijabla = Fjob"
      ]
    },
    {
      "cell_type": "code",
      "metadata": {
        "colab": {
          "base_uri": "https://localhost:8080/",
          "height": 781
        },
        "id": "Ahz-C13djWjW",
        "outputId": "162ca86e-c49f-4f4e-a8e8-142c3dfd902f"
      },
      "source": [
        "print(data['Fjob'].value_counts()/7900)\r\n",
        "sns.countplot(x = 'Fjob', data = data)\r\n",
        "plt.show()\r\n",
        "sns.countplot(x = 'Fjob', hue = 'repeated',data = data)\r\n",
        "plt.show()\r\n",
        "\r\n",
        "obs = pd.crosstab(data['Fjob'],data['repeated'])\r\n",
        "print(obs[[1,0]])\r\n",
        "g, p, dof, expctd = chi2_contingency(obs[[1,0]],lambda_=\"log-likelihood\")\r\n",
        "print(\"chi2 test p-value: \",p)"
      ],
      "execution_count": null,
      "outputs": [
        {
          "output_type": "stream",
          "text": [
            "other       0.549367\n",
            "services    0.281013\n",
            "teacher     0.073418\n",
            "at_home     0.050633\n",
            "health      0.045570\n",
            "Name: Fjob, dtype: float64\n"
          ],
          "name": "stdout"
        },
        {
          "output_type": "display_data",
          "data": {
            "image/png": "[encoded data removed]",
            "text/plain": [
              "<Figure size 432x288 with 1 Axes>"
            ]
          },
          "metadata": {
            "tags": [],
            "needs_background": "light"
          }
        },
        {
          "output_type": "display_data",
          "data": {
            "image/png": "[encoded data removed]",
            "text/plain": [
              "<Figure size 432x288 with 1 Axes>"
            ]
          },
          "metadata": {
            "tags": [],
            "needs_background": "light"
          }
        },
        {
          "output_type": "stream",
          "text": [
            "repeated     1     0\n",
            "Fjob                \n",
            "at_home    125   275\n",
            "health      79   281\n",
            "other     1344  2996\n",
            "services   715  1505\n",
            "teacher    129   451\n",
            "chi2 test p-value:  2.360506464975341e-07\n"
          ],
          "name": "stdout"
        }
      ]
    },
    {
      "cell_type": "code",
      "metadata": {
        "colab": {
          "base_uri": "https://localhost:8080/"
        },
        "id": "3vmxml4ajWl_",
        "outputId": "84313edf-3145-4f99-caea-b1e8996b2500"
      },
      "source": [
        "data.columns"
      ],
      "execution_count": null,
      "outputs": [
        {
          "output_type": "execute_result",
          "data": {
            "text/plain": [
              "Index(['school', 'sex', 'age', 'address', 'famsize', 'Pstatus', 'Medu', 'Fedu',\n",
              "       'Mjob', 'Fjob', 'reason', 'guardian', 'traveltime', 'studytime',\n",
              "       'failures', 'schoolsup', 'famsup', 'paid', 'activities', 'nursery',\n",
              "       'higher', 'internet', 'romantic', 'famrel', 'freetime', 'goout', 'Dalc',\n",
              "       'Walc', 'health', 'absences', 'repeated', 'data_perimeter'],\n",
              "      dtype='object')"
            ]
          },
          "metadata": {
            "tags": []
          },
          "execution_count": 100
        }
      ]
    },
    {
      "cell_type": "markdown",
      "metadata": {
        "id": "dFw4ZwRhp_Qr"
      },
      "source": [
        "11.Varijabla = reason"
      ]
    },
    {
      "cell_type": "code",
      "metadata": {
        "colab": {
          "base_uri": "https://localhost:8080/",
          "height": 750
        },
        "id": "-AvEeIKQjWo9",
        "outputId": "b9a95b27-ecac-499c-c518-ceb5884c20b6"
      },
      "source": [
        "print(data['reason'].value_counts()/7900)\r\n",
        "sns.countplot(x = 'reason', data = data)\r\n",
        "plt.show()\r\n",
        "sns.countplot(x = 'reason', hue = 'repeated',data = data)\r\n",
        "plt.show()\r\n",
        "\r\n",
        "obs = pd.crosstab(data['reason'],data['repeated'])\r\n",
        "print(obs[[1,0]])\r\n",
        "g, p, dof, expctd = chi2_contingency(obs[[1,0]],lambda_=\"log-likelihood\")\r\n",
        "print(\"chi2 test p-value: \",p)"
      ],
      "execution_count": null,
      "outputs": [
        {
          "output_type": "stream",
          "text": [
            "course        0.367089\n",
            "home          0.275949\n",
            "reputation    0.265823\n",
            "other         0.091139\n",
            "Name: reason, dtype: float64\n"
          ],
          "name": "stdout"
        },
        {
          "output_type": "display_data",
          "data": {
            "image/png": "[encoded data removed]",
            "text/plain": [
              "<Figure size 432x288 with 1 Axes>"
            ]
          },
          "metadata": {
            "tags": [],
            "needs_background": "light"
          }
        },
        {
          "output_type": "display_data",
          "data": {
            "image/png": "[encoded data removed]",
            "text/plain": [
              "<Figure size 432x288 with 1 Axes>"
            ]
          },
          "metadata": {
            "tags": [],
            "needs_background": "light"
          }
        },
        {
          "output_type": "stream",
          "text": [
            "repeated      1     0\n",
            "reason               \n",
            "course      990  1910\n",
            "home        667  1513\n",
            "other       200   520\n",
            "reputation  535  1565\n",
            "chi2 test p-value:  5.704380116706152e-10\n"
          ],
          "name": "stdout"
        }
      ]
    },
    {
      "cell_type": "markdown",
      "metadata": {
        "id": "6m5SGXa4qRrW"
      },
      "source": [
        "12.Varijaba = guardian"
      ]
    },
    {
      "cell_type": "code",
      "metadata": {
        "colab": {
          "base_uri": "https://localhost:8080/",
          "height": 714
        },
        "id": "ZsHXi0iEqP_u",
        "outputId": "e03db238-36cf-4291-e6a9-4ecba435e5a5"
      },
      "source": [
        "print(data['guardian'].value_counts()/7900)\r\n",
        "sns.countplot(x = 'guardian', data = data)\r\n",
        "plt.show()\r\n",
        "sns.countplot(x = 'guardian', hue = 'repeated',data = data)\r\n",
        "plt.show()\r\n",
        "\r\n",
        "obs = pd.crosstab(data['guardian'],data['repeated'])\r\n",
        "print(obs[[1,0]])\r\n",
        "g, p, dof, expctd = chi2_contingency(obs[[1,0]],lambda_=\"log-likelihood\")\r\n",
        "print(\"chi2 test p-value: \",p)"
      ],
      "execution_count": null,
      "outputs": [
        {
          "output_type": "stream",
          "text": [
            "mother    0.691139\n",
            "father    0.227848\n",
            "other     0.081013\n",
            "Name: guardian, dtype: float64\n"
          ],
          "name": "stdout"
        },
        {
          "output_type": "display_data",
          "data": {
            "image/png": "[encoded data removed]",
            "text/plain": [
              "<Figure size 432x288 with 1 Axes>"
            ]
          },
          "metadata": {
            "tags": [],
            "needs_background": "light"
          }
        },
        {
          "output_type": "display_data",
          "data": {
            "image/png": "[encoded data removed]",
            "text/plain": [
              "<Figure size 432x288 with 1 Axes>"
            ]
          },
          "metadata": {
            "tags": [],
            "needs_background": "light"
          }
        },
        {
          "output_type": "stream",
          "text": [
            "repeated     1     0\n",
            "guardian            \n",
            "father     486  1314\n",
            "mother    1634  3826\n",
            "other      272   368\n",
            "chi2 test p-value:  4.410004950005862e-12\n"
          ],
          "name": "stdout"
        }
      ]
    },
    {
      "cell_type": "code",
      "metadata": {
        "colab": {
          "base_uri": "https://localhost:8080/"
        },
        "id": "adcP5gyvjWtZ",
        "outputId": "d67a121d-67aa-4446-ede6-5cce2275d7db"
      },
      "source": [
        "data.columns"
      ],
      "execution_count": null,
      "outputs": [
        {
          "output_type": "execute_result",
          "data": {
            "text/plain": [
              "Index(['school', 'sex', 'age', 'address', 'famsize', 'Pstatus', 'Medu', 'Fedu',\n",
              "       'Mjob', 'Fjob', 'reason', 'guardian', 'traveltime', 'studytime',\n",
              "       'failures', 'schoolsup', 'famsup', 'paid', 'activities', 'nursery',\n",
              "       'higher', 'internet', 'romantic', 'famrel', 'freetime', 'goout', 'Dalc',\n",
              "       'Walc', 'health', 'absences', 'repeated', 'data_perimeter'],\n",
              "      dtype='object')"
            ]
          },
          "metadata": {
            "tags": []
          },
          "execution_count": 105
        }
      ]
    },
    {
      "cell_type": "markdown",
      "metadata": {
        "id": "qMaMJKipm3Gj"
      },
      "source": [
        "13.Varijabla = travel time"
      ]
    },
    {
      "cell_type": "code",
      "metadata": {
        "id": "KZSr0EFFjWwF",
        "colab": {
          "base_uri": "https://localhost:8080/",
          "height": 745
        },
        "outputId": "b19ba805-de27-418d-c545-855aaa324233"
      },
      "source": [
        "print(data['traveltime'].value_counts()/7900)\r\n",
        "sns.countplot(x = 'traveltime', data = data)\r\n",
        "plt.show()\r\n",
        "sns.countplot(x = 'traveltime', hue = 'repeated',data = data)\r\n",
        "plt.show()\r\n",
        "\r\n",
        "obs = pd.crosstab(data['traveltime'],data['repeated'])\r\n",
        "print(obs[[1,0]])\r\n",
        "g, p, dof, expctd = chi2_contingency(obs[[1,0]],lambda_=\"log-likelihood\")\r\n",
        "print(\"chi2 test p-value: \",p)"
      ],
      "execution_count": null,
      "outputs": [
        {
          "output_type": "stream",
          "text": [
            "1    0.650633\n",
            "2    0.270886\n",
            "3    0.058228\n",
            "4    0.020253\n",
            "Name: traveltime, dtype: float64\n"
          ],
          "name": "stdout"
        },
        {
          "output_type": "display_data",
          "data": {
            "image/png": "[encoded data removed]",
            "text/plain": [
              "<Figure size 432x288 with 1 Axes>"
            ]
          },
          "metadata": {
            "tags": [],
            "needs_background": "light"
          }
        },
        {
          "output_type": "display_data",
          "data": {
            "image/png": "[encoded data removed]",
            "text/plain": [
              "<Figure size 432x288 with 1 Axes>"
            ]
          },
          "metadata": {
            "tags": [],
            "needs_background": "light"
          }
        },
        {
          "output_type": "stream",
          "text": [
            "repeated       1     0\n",
            "traveltime            \n",
            "1           1448  3692\n",
            "2            676  1464\n",
            "3            186   274\n",
            "4             82    78\n",
            "chi2 test p-value:  6.397196838396823e-14\n"
          ],
          "name": "stdout"
        }
      ]
    },
    {
      "cell_type": "markdown",
      "metadata": {
        "id": "oPS-IzbFnMWp"
      },
      "source": [
        "14. Varijabla = study time"
      ]
    },
    {
      "cell_type": "code",
      "metadata": {
        "colab": {
          "base_uri": "https://localhost:8080/",
          "height": 745
        },
        "id": "y08nMMz8nL1T",
        "outputId": "017d3cab-6638-4597-be33-29c66a379c6d"
      },
      "source": [
        "print(data['studytime'].value_counts()/7900)\r\n",
        "sns.countplot(x = 'studytime', data = data)\r\n",
        "plt.show()\r\n",
        "sns.countplot(x = 'studytime', hue = 'repeated',data = data)\r\n",
        "plt.show()\r\n",
        "\r\n",
        "obs = pd.crosstab(data['studytime'],data['repeated'])\r\n",
        "print(obs[[1,0]])\r\n",
        "g, p, dof, expctd = chi2_contingency(obs[[1,0]],lambda_=\"log-likelihood\")\r\n",
        "print(\"chi2 test p-value: \",p)"
      ],
      "execution_count": null,
      "outputs": [
        {
          "output_type": "stream",
          "text": [
            "2    0.501266\n",
            "1    0.265823\n",
            "3    0.164557\n",
            "4    0.068354\n",
            "Name: studytime, dtype: float64\n"
          ],
          "name": "stdout"
        },
        {
          "output_type": "display_data",
          "data": {
            "image/png": "[encoded data removed]",
            "text/plain": [
              "<Figure size 432x288 with 1 Axes>"
            ]
          },
          "metadata": {
            "tags": [],
            "needs_background": "light"
          }
        },
        {
          "output_type": "display_data",
          "data": {
            "image/png": "[encoded data removed]",
            "text/plain": [
              "<Figure size 432x288 with 1 Axes>"
            ]
          },
          "metadata": {
            "tags": [],
            "needs_background": "light"
          }
        },
        {
          "output_type": "stream",
          "text": [
            "repeated      1     0\n",
            "studytime            \n",
            "1           713  1387\n",
            "2          1257  2703\n",
            "3           310   990\n",
            "4           112   428\n",
            "chi2 test p-value:  7.728917438749785e-15\n"
          ],
          "name": "stdout"
        }
      ]
    },
    {
      "cell_type": "markdown",
      "metadata": {
        "id": "7Ca8ShcCngFV"
      },
      "source": [
        "15.Varijabla = failures"
      ]
    },
    {
      "cell_type": "code",
      "metadata": {
        "id": "Y_5T_x8fjWyf",
        "colab": {
          "base_uri": "https://localhost:8080/",
          "height": 793
        },
        "outputId": "0d29ff5e-1b76-4e58-adfe-46c39edc1b64"
      },
      "source": [
        "sns.countplot(x='failures',data=data)\r\n",
        "plt.show()\r\n",
        "sns.boxplot(y='failures',data=data)\r\n",
        "plt.show()\r\n",
        "\r\n",
        "sns.boxplot(y='failures',x = 'repeated',data=data)\r\n",
        "plt.show()\r\n",
        "\r\n",
        "r0 = data.failures[data.repeated == 0]\r\n",
        "r1 = data.failures[data.repeated == 1]\r\n",
        "s, p = stats.ttest_ind(r0,r1,equal_var = False)\r\n",
        "print(p)"
      ],
      "execution_count": null,
      "outputs": [
        {
          "output_type": "display_data",
          "data": {
            "image/png": "[encoded data removed]",
            "text/plain": [
              "<Figure size 432x288 with 1 Axes>"
            ]
          },
          "metadata": {
            "tags": [],
            "needs_background": "light"
          }
        },
        {
          "output_type": "display_data",
          "data": {
            "image/png": "[encoded data removed]",
            "text/plain": [
              "<Figure size 432x288 with 1 Axes>"
            ]
          },
          "metadata": {
            "tags": [],
            "needs_background": "light"
          }
        },
        {
          "output_type": "display_data",
          "data": {
            "image/png": "[encoded data removed]",
            "text/plain": [
              "<Figure size 432x288 with 1 Axes>"
            ]
          },
          "metadata": {
            "tags": [],
            "needs_background": "light"
          }
        },
        {
          "output_type": "stream",
          "text": [
            "4.579804604592222e-158\n"
          ],
          "name": "stdout"
        }
      ]
    },
    {
      "cell_type": "code",
      "metadata": {
        "colab": {
          "base_uri": "https://localhost:8080/"
        },
        "id": "COI5K9zcoHXG",
        "outputId": "eb01da9f-229e-41c6-dd24-8e76cf4e629a"
      },
      "source": [
        "data.columns"
      ],
      "execution_count": null,
      "outputs": [
        {
          "output_type": "execute_result",
          "data": {
            "text/plain": [
              "Index(['school', 'sex', 'age', 'address', 'famsize', 'Pstatus', 'Medu', 'Fedu',\n",
              "       'Mjob', 'Fjob', 'reason', 'guardian', 'traveltime', 'studytime',\n",
              "       'failures', 'schoolsup', 'famsup', 'paid', 'activities', 'nursery',\n",
              "       'higher', 'internet', 'romantic', 'famrel', 'freetime', 'goout', 'Dalc',\n",
              "       'Walc', 'health', 'absences', 'repeated', 'data_perimeter'],\n",
              "      dtype='object')"
            ]
          },
          "metadata": {
            "tags": []
          },
          "execution_count": 9
        }
      ]
    },
    {
      "cell_type": "markdown",
      "metadata": {
        "id": "qLbEOwBpoGC2"
      },
      "source": [
        "16.Varijabla = schoolsup"
      ]
    },
    {
      "cell_type": "code",
      "metadata": {
        "colab": {
          "base_uri": "https://localhost:8080/",
          "height": 694
        },
        "id": "nb6uNZahoaDj",
        "outputId": "6f440c65-734d-4da5-a561-12427a23f61f"
      },
      "source": [
        "print(data['schoolsup'].value_counts()/7900)\r\n",
        "sns.countplot(x = 'schoolsup', data = data)\r\n",
        "plt.show()\r\n",
        "sns.countplot(x = 'schoolsup', hue = 'repeated',data = data)\r\n",
        "plt.show()\r\n",
        "\r\n",
        "obs = pd.crosstab(data['schoolsup'],data['repeated'])\r\n",
        "print(obs[[1,0]])\r\n",
        "g, p, dof, expctd = chi2_contingency(obs[[1,0]],lambda_=\"log-likelihood\")\r\n",
        "print(\"chi2 test p-value: \",p)\r\n",
        "\r\n",
        "oddsratio, pvalue = stats.fisher_exact(obs[[1,0]])\r\n",
        "print(\"OddsR: \", oddsratio, \"p-Value:\", pvalue)"
      ],
      "execution_count": null,
      "outputs": [
        {
          "output_type": "stream",
          "text": [
            "False    0.870886\n",
            "True     0.129114\n",
            "Name: schoolsup, dtype: float64\n"
          ],
          "name": "stdout"
        },
        {
          "output_type": "display_data",
          "data": {
            "image/png": "[encoded data removed]",
            "text/plain": [
              "<Figure size 432x288 with 1 Axes>"
            ]
          },
          "metadata": {
            "tags": [],
            "needs_background": "light"
          }
        },
        {
          "output_type": "display_data",
          "data": {
            "image/png": "[encoded data removed]",
            "text/plain": [
              "<Figure size 432x288 with 1 Axes>"
            ]
          },
          "metadata": {
            "tags": [],
            "needs_background": "light"
          }
        },
        {
          "output_type": "stream",
          "text": [
            "repeated      1     0\n",
            "schoolsup            \n",
            "False      1890  4990\n",
            "True        502   518\n",
            "chi2 test p-value:  4.7592532931427565e-42\n",
            "OddsR:  0.39082946770034094 p-Value: 4.096583053399777e-42\n"
          ],
          "name": "stdout"
        }
      ]
    },
    {
      "cell_type": "markdown",
      "metadata": {
        "id": "Fle34wv0qLPA"
      },
      "source": [
        "17.Varijabla = famsup"
      ]
    },
    {
      "cell_type": "code",
      "metadata": {
        "id": "rZykNLnIX6fZ",
        "colab": {
          "base_uri": "https://localhost:8080/",
          "height": 698
        },
        "outputId": "668c0571-41f2-40df-e9a7-68fa98a157ec"
      },
      "source": [
        "print(data['famsup'].value_counts()/7900)\r\n",
        "sns.countplot(x = 'famsup', data = data)\r\n",
        "plt.show()\r\n",
        "sns.countplot(x = 'famsup', hue = 'repeated',data = data)\r\n",
        "plt.show()\r\n",
        "\r\n",
        "obs = pd.crosstab(data['famsup'],data['repeated'])\r\n",
        "print(obs[[1,0]])\r\n",
        "g, p, dof, expctd = chi2_contingency(obs[[1,0]],lambda_=\"log-likelihood\")\r\n",
        "print(\"chi2 test p-value: \",p)\r\n",
        "\r\n",
        "oddsratio, pvalue = stats.fisher_exact(obs[[1,0]])\r\n",
        "print(\"OddsR: \", oddsratio, \"p-Value:\", pvalue)"
      ],
      "execution_count": 3,
      "outputs": [
        {
          "output_type": "stream",
          "text": [
            "True     0.612658\n",
            "False    0.387342\n",
            "Name: famsup, dtype: float64\n"
          ],
          "name": "stdout"
        },
        {
          "output_type": "display_data",
          "data": {
            "image/png": "[encoded data removed]",
            "text/plain": [
              "<Figure size 432x288 with 1 Axes>"
            ]
          },
          "metadata": {
            "tags": [],
            "needs_background": "light"
          }
        },
        {
          "output_type": "display_data",
          "data": {
            "image/png": "[encoded data removed]",
            "text/plain": [
              "<Figure size 432x288 with 1 Axes>"
            ]
          },
          "metadata": {
            "tags": [],
            "needs_background": "light"
          }
        },
        {
          "output_type": "stream",
          "text": [
            "repeated     1     0\n",
            "famsup              \n",
            "False      889  2171\n",
            "True      1503  3337\n",
            "chi2 test p-value:  0.06236825883910615\n",
            "OddsR:  0.9091575792067025 p-Value: 0.05948715290047382\n"
          ],
          "name": "stdout"
        }
      ]
    },
    {
      "cell_type": "code",
      "metadata": {
        "colab": {
          "base_uri": "https://localhost:8080/"
        },
        "id": "fK6DCxdiqcVo",
        "outputId": "b11ef105-4f0a-4493-97a0-f9f3aa07b8e6"
      },
      "source": [
        "data.columns"
      ],
      "execution_count": 4,
      "outputs": [
        {
          "output_type": "execute_result",
          "data": {
            "text/plain": [
              "Index(['school', 'sex', 'age', 'address', 'famsize', 'Pstatus', 'Medu', 'Fedu',\n",
              "       'Mjob', 'Fjob', 'reason', 'guardian', 'traveltime', 'studytime',\n",
              "       'failures', 'schoolsup', 'famsup', 'paid', 'activities', 'nursery',\n",
              "       'higher', 'internet', 'romantic', 'famrel', 'freetime', 'goout', 'Dalc',\n",
              "       'Walc', 'health', 'absences', 'repeated', 'data_perimeter'],\n",
              "      dtype='object')"
            ]
          },
          "metadata": {
            "tags": []
          },
          "execution_count": 4
        }
      ]
    },
    {
      "cell_type": "markdown",
      "metadata": {
        "id": "u7Zy1ryxq4i7"
      },
      "source": [
        "18.Varijabla = paid"
      ]
    },
    {
      "cell_type": "code",
      "metadata": {
        "colab": {
          "base_uri": "https://localhost:8080/",
          "height": 692
        },
        "id": "3XGIhYg0qcYK",
        "outputId": "c4657f6a-850f-4ec1-b41e-4842f30272ad"
      },
      "source": [
        "print(data['paid'].value_counts()/7900)\r\n",
        "sns.countplot(x = 'paid', data = data)\r\n",
        "plt.show()\r\n",
        "sns.countplot(x = 'paid', hue = 'repeated',data = data)\r\n",
        "plt.show()\r\n",
        "\r\n",
        "obs = pd.crosstab(data['paid'],data['repeated'])\r\n",
        "print(obs[[1,0]])\r\n",
        "g, p, dof, expctd = chi2_contingency(obs[[1,0]],lambda_=\"log-likelihood\")\r\n",
        "print(\"chi2 test p-value: \",p)\r\n",
        "\r\n",
        "oddsratio, pvalue = stats.fisher_exact(obs[[1,0]])\r\n",
        "print(\"OddsR: \", oddsratio, \"p-Value:\", pvalue)"
      ],
      "execution_count": 5,
      "outputs": [
        {
          "output_type": "stream",
          "text": [
            "False    0.541772\n",
            "True     0.458228\n",
            "Name: paid, dtype: float64\n"
          ],
          "name": "stdout"
        },
        {
          "output_type": "display_data",
          "data": {
            "image/png": "[encoded data removed]",
            "text/plain": [
              "<Figure size 432x288 with 1 Axes>"
            ]
          },
          "metadata": {
            "tags": [],
            "needs_background": "light"
          }
        },
        {
          "output_type": "display_data",
          "data": {
            "image/png": "[encoded data removed]",
            "text/plain": [
              "<Figure size 432x288 with 1 Axes>"
            ]
          },
          "metadata": {
            "tags": [],
            "needs_background": "light"
          }
        },
        {
          "output_type": "stream",
          "text": [
            "repeated     1     0\n",
            "paid                \n",
            "False     1483  2797\n",
            "True       909  2711\n",
            "chi2 test p-value:  3.341874896834814e-20\n",
            "OddsR:  1.5813001750657725 p-Value: 2.7832144367976905e-20\n"
          ],
          "name": "stdout"
        }
      ]
    },
    {
      "cell_type": "markdown",
      "metadata": {
        "id": "tlZczS2Nq84R"
      },
      "source": [
        "19.Varijabla = activities"
      ]
    },
    {
      "cell_type": "code",
      "metadata": {
        "colab": {
          "base_uri": "https://localhost:8080/",
          "height": 694
        },
        "id": "4nvotTE_q70z",
        "outputId": "5bab74de-349f-473f-a4cb-57c365d93cf4"
      },
      "source": [
        "print(data['activities'].value_counts()/7900)\r\n",
        "sns.countplot(x = 'activities', data = data)\r\n",
        "plt.show()\r\n",
        "sns.countplot(x = 'activities', hue = 'repeated',data = data)\r\n",
        "plt.show()\r\n",
        "\r\n",
        "obs = pd.crosstab(data['activities'],data['repeated'])\r\n",
        "print(obs[[1,0]])\r\n",
        "g, p, dof, expctd = chi2_contingency(obs[[1,0]])\r\n",
        "print(\"chi2 test p-value: \",p)\r\n",
        "\r\n",
        "oddsratio, pvalue = stats.fisher_exact(obs[[1,0]],lambda_=\"log-likelihood\")\r\n",
        "print(\"OddsR: \", oddsratio, \"p-Value:\", pvalue)"
      ],
      "execution_count": 7,
      "outputs": [
        {
          "output_type": "stream",
          "text": [
            "True     0.508861\n",
            "False    0.491139\n",
            "Name: activities, dtype: float64\n"
          ],
          "name": "stdout"
        },
        {
          "output_type": "display_data",
          "data": {
            "image/png": "[encoded data removed]",
            "text/plain": [
              "<Figure size 432x288 with 1 Axes>"
            ]
          },
          "metadata": {
            "tags": [],
            "needs_background": "light"
          }
        },
        {
          "output_type": "display_data",
          "data": {
            "image/png": "[encoded data removed]",
            "text/plain": [
              "<Figure size 432x288 with 1 Axes>"
            ]
          },
          "metadata": {
            "tags": [],
            "needs_background": "light"
          }
        },
        {
          "output_type": "stream",
          "text": [
            "repeated       1     0\n",
            "activities            \n",
            "False       1262  2618\n",
            "True        1130  2890\n",
            "chi2 test p-value:  2.1716609498997473e-05\n",
            "OddsR:  1.2328467992184806 p-Value: 2.0240483162911497e-05\n"
          ],
          "name": "stdout"
        }
      ]
    },
    {
      "cell_type": "code",
      "metadata": {
        "colab": {
          "base_uri": "https://localhost:8080/",
          "height": 35
        },
        "id": "42OkHMXfqcbK",
        "outputId": "bfdb347a-5cab-4ebe-ea86-c8d387d2aa09"
      },
      "source": [
        "data.columns[19]"
      ],
      "execution_count": 11,
      "outputs": [
        {
          "output_type": "execute_result",
          "data": {
            "application/vnd.google.colaboratory.intrinsic+json": {
              "type": "string"
            },
            "text/plain": [
              "'nursery'"
            ]
          },
          "metadata": {
            "tags": []
          },
          "execution_count": 11
        }
      ]
    },
    {
      "cell_type": "markdown",
      "metadata": {
        "id": "2zmwfpjcrxIY"
      },
      "source": [
        "20.Varijabla = nursery"
      ]
    },
    {
      "cell_type": "code",
      "metadata": {
        "colab": {
          "base_uri": "https://localhost:8080/",
          "height": 692
        },
        "id": "kfQ1cUQFqcdv",
        "outputId": "0f0c4088-4b5f-4f3e-cea2-c0f476a9e536"
      },
      "source": [
        "print(data['nursery'].value_counts()/7900)\r\n",
        "sns.countplot(x = 'nursery', data = data)\r\n",
        "plt.show()\r\n",
        "sns.countplot(x = 'nursery', hue = 'repeated',data = data)\r\n",
        "plt.show()\r\n",
        "\r\n",
        "obs = pd.crosstab(data['nursery'],data['repeated'])\r\n",
        "print(obs[[1,0]])\r\n",
        "g, p, dof, expctd = chi2_contingency(obs[[1,0]],lambda_=\"log-likelihood\")\r\n",
        "print(\"chi2 test p-value: \",p)\r\n",
        "\r\n",
        "oddsratio, pvalue = stats.fisher_exact(obs[[1,0]])\r\n",
        "print(\"OddsR: \", oddsratio, \"p-Value:\", pvalue)"
      ],
      "execution_count": 15,
      "outputs": [
        {
          "output_type": "stream",
          "text": [
            "True     0.794937\n",
            "False    0.205063\n",
            "Name: nursery, dtype: float64\n"
          ],
          "name": "stdout"
        },
        {
          "output_type": "display_data",
          "data": {
            "image/png": "[encoded data removed]",
            "text/plain": [
              "<Figure size 432x288 with 1 Axes>"
            ]
          },
          "metadata": {
            "tags": [],
            "needs_background": "light"
          }
        },
        {
          "output_type": "display_data",
          "data": {
            "image/png": "[encoded data removed]",
            "text/plain": [
              "<Figure size 432x288 with 1 Axes>"
            ]
          },
          "metadata": {
            "tags": [],
            "needs_background": "light"
          }
        },
        {
          "output_type": "stream",
          "text": [
            "repeated     1     0\n",
            "nursery             \n",
            "False      554  1066\n",
            "True      1838  4442\n",
            "chi2 test p-value:  0.0001513966622120322\n",
            "OddsR:  1.2559883387400042 p-Value: 0.00013250899187726252\n"
          ],
          "name": "stdout"
        }
      ]
    },
    {
      "cell_type": "code",
      "metadata": {
        "colab": {
          "base_uri": "https://localhost:8080/",
          "height": 35
        },
        "id": "A15yqxZYqcgK",
        "outputId": "9883fe6c-2253-4e82-be6a-6ef2bd715617"
      },
      "source": [
        "data.columns[20]"
      ],
      "execution_count": 16,
      "outputs": [
        {
          "output_type": "execute_result",
          "data": {
            "application/vnd.google.colaboratory.intrinsic+json": {
              "type": "string"
            },
            "text/plain": [
              "'higher'"
            ]
          },
          "metadata": {
            "tags": []
          },
          "execution_count": 16
        }
      ]
    },
    {
      "cell_type": "markdown",
      "metadata": {
        "id": "y3Xns8Cir1lZ"
      },
      "source": [
        "21.Varijabla = higher"
      ]
    },
    {
      "cell_type": "code",
      "metadata": {
        "colab": {
          "base_uri": "https://localhost:8080/",
          "height": 692
        },
        "id": "glWVdIiuqci_",
        "outputId": "926cecc0-76fb-44d5-d3ca-1e1daf7ec2b9"
      },
      "source": [
        "print(data['higher'].value_counts()/7900)\r\n",
        "sns.countplot(x = 'higher', data = data)\r\n",
        "plt.show()\r\n",
        "sns.countplot(x = 'higher', hue = 'repeated',data = data)\r\n",
        "plt.show()\r\n",
        "\r\n",
        "obs = pd.crosstab(data['higher'],data['repeated'])\r\n",
        "print(obs[[1,0]])\r\n",
        "g, p, dof, expctd = chi2_contingency(obs[[1,0]],lambda_=\"log-likelihood\")\r\n",
        "print(\"chi2 test p-value: \",p)\r\n",
        "\r\n",
        "oddsratio, pvalue = stats.fisher_exact(obs[[1,0]])\r\n",
        "print(\"OddsR: \", oddsratio, \"p-Value:\", pvalue)"
      ],
      "execution_count": 17,
      "outputs": [
        {
          "output_type": "stream",
          "text": [
            "True     0.949367\n",
            "False    0.050633\n",
            "Name: higher, dtype: float64\n"
          ],
          "name": "stdout"
        },
        {
          "output_type": "display_data",
          "data": {
            "image/png": "[encoded data removed]",
            "text/plain": [
              "<Figure size 432x288 with 1 Axes>"
            ]
          },
          "metadata": {
            "tags": [],
            "needs_background": "light"
          }
        },
        {
          "output_type": "display_data",
          "data": {
            "image/png": "[encoded data removed]",
            "text/plain": [
              "<Figure size 432x288 with 1 Axes>"
            ]
          },
          "metadata": {
            "tags": [],
            "needs_background": "light"
          }
        },
        {
          "output_type": "stream",
          "text": [
            "repeated     1     0\n",
            "higher              \n",
            "False      240   160\n",
            "True      2152  5348\n",
            "chi2 test p-value:  2.828038062777878e-36\n",
            "OddsR:  3.7276951672862455 p-Value: 2.4518695989107403e-36\n"
          ],
          "name": "stdout"
        }
      ]
    },
    {
      "cell_type": "code",
      "metadata": {
        "colab": {
          "base_uri": "https://localhost:8080/",
          "height": 35
        },
        "id": "RGgkcsJUqclj",
        "outputId": "8df5e6a1-6d16-495e-b183-d96048356d89"
      },
      "source": [
        "data.columns[21]"
      ],
      "execution_count": 18,
      "outputs": [
        {
          "output_type": "execute_result",
          "data": {
            "application/vnd.google.colaboratory.intrinsic+json": {
              "type": "string"
            },
            "text/plain": [
              "'internet'"
            ]
          },
          "metadata": {
            "tags": []
          },
          "execution_count": 18
        }
      ]
    },
    {
      "cell_type": "markdown",
      "metadata": {
        "id": "JdBjcuu4sUtj"
      },
      "source": [
        "22.Varijabla = internet"
      ]
    },
    {
      "cell_type": "code",
      "metadata": {
        "colab": {
          "base_uri": "https://localhost:8080/",
          "height": 692
        },
        "id": "i5G4jD7AqcoH",
        "outputId": "2755ff85-fbc7-44e1-d454-bddbead6cf63"
      },
      "source": [
        "print(data['internet'].value_counts()/7900)\r\n",
        "sns.countplot(x = 'internet', data = data)\r\n",
        "plt.show()\r\n",
        "sns.countplot(x = 'internet', hue = 'repeated',data = data)\r\n",
        "plt.show()\r\n",
        "\r\n",
        "obs = pd.crosstab(data['internet'],data['repeated'])\r\n",
        "print(obs[[1,0]])\r\n",
        "g, p, dof, expctd = chi2_contingency(obs[[1,0]],lambda_=\"log-likelihood\")\r\n",
        "print(\"chi2 test p-value: \",p)\r\n",
        "\r\n",
        "oddsratio, pvalue = stats.fisher_exact(obs[[1,0]])\r\n",
        "print(\"OddsR: \", oddsratio, \"p-Value:\", pvalue)"
      ],
      "execution_count": 19,
      "outputs": [
        {
          "output_type": "stream",
          "text": [
            "True     0.832911\n",
            "False    0.167089\n",
            "Name: internet, dtype: float64\n"
          ],
          "name": "stdout"
        },
        {
          "output_type": "display_data",
          "data": {
            "image/png": "[encoded data removed]",
            "text/plain": [
              "<Figure size 432x288 with 1 Axes>"
            ]
          },
          "metadata": {
            "tags": [],
            "needs_background": "light"
          }
        },
        {
          "output_type": "display_data",
          "data": {
            "image/png": "[encoded data removed]",
            "text/plain": [
              "<Figure size 432x288 with 1 Axes>"
            ]
          },
          "metadata": {
            "tags": [],
            "needs_background": "light"
          }
        },
        {
          "output_type": "stream",
          "text": [
            "repeated     1     0\n",
            "internet            \n",
            "False      547   773\n",
            "True      1845  4735\n",
            "chi2 test p-value:  4.248255417311261e-21\n",
            "OddsR:  1.8160652369783723 p-Value: 3.9542706762047546e-21\n"
          ],
          "name": "stdout"
        }
      ]
    },
    {
      "cell_type": "code",
      "metadata": {
        "colab": {
          "base_uri": "https://localhost:8080/",
          "height": 35
        },
        "id": "N3DQsdYPqcqu",
        "outputId": "92661932-2507-416c-b606-53dc73120d74"
      },
      "source": [
        "data.columns[22]"
      ],
      "execution_count": 20,
      "outputs": [
        {
          "output_type": "execute_result",
          "data": {
            "application/vnd.google.colaboratory.intrinsic+json": {
              "type": "string"
            },
            "text/plain": [
              "'romantic'"
            ]
          },
          "metadata": {
            "tags": []
          },
          "execution_count": 20
        }
      ]
    },
    {
      "cell_type": "markdown",
      "metadata": {
        "id": "3Spep6CFsst7"
      },
      "source": [
        "23.Varijalble = romantic"
      ]
    },
    {
      "cell_type": "code",
      "metadata": {
        "colab": {
          "base_uri": "https://localhost:8080/",
          "height": 692
        },
        "id": "2_dhtD1wqctl",
        "outputId": "6b5261e1-1749-4b67-e402-ebff3c23dd45"
      },
      "source": [
        "print(data['romantic'].value_counts()/7900)\r\n",
        "sns.countplot(x = 'romantic', data = data)\r\n",
        "plt.show()\r\n",
        "sns.countplot(x = 'romantic', hue = 'repeated',data = data)\r\n",
        "plt.show()\r\n",
        "\r\n",
        "obs = pd.crosstab(data['romantic'],data['repeated'])\r\n",
        "print(obs[[1,0]])\r\n",
        "g, p, dof, expctd = chi2_contingency(obs[[1,0]],lambda_=\"log-likelihood\")\r\n",
        "print(\"chi2 test p-value: \",p)\r\n",
        "\r\n",
        "oddsratio, pvalue = stats.fisher_exact(obs[[1,0]])\r\n",
        "print(\"OddsR: \", oddsratio, \"p-Value:\", pvalue)"
      ],
      "execution_count": 21,
      "outputs": [
        {
          "output_type": "stream",
          "text": [
            "False    0.665823\n",
            "True     0.334177\n",
            "Name: romantic, dtype: float64\n"
          ],
          "name": "stdout"
        },
        {
          "output_type": "display_data",
          "data": {
            "image/png": "[encoded data removed]",
            "text/plain": [
              "<Figure size 432x288 with 1 Axes>"
            ]
          },
          "metadata": {
            "tags": [],
            "needs_background": "light"
          }
        },
        {
          "output_type": "display_data",
          "data": {
            "image/png": "[encoded data removed]",
            "text/plain": [
              "<Figure size 432x288 with 1 Axes>"
            ]
          },
          "metadata": {
            "tags": [],
            "needs_background": "light"
          }
        },
        {
          "output_type": "stream",
          "text": [
            "repeated     1     0\n",
            "romantic            \n",
            "False     1487  3773\n",
            "True       905  1735\n",
            "chi2 test p-value:  5.671201350897738e-08\n",
            "OddsR:  0.7555706217336615 p-Value: 4.947518340552613e-08\n"
          ],
          "name": "stdout"
        }
      ]
    },
    {
      "cell_type": "code",
      "metadata": {
        "colab": {
          "base_uri": "https://localhost:8080/",
          "height": 35
        },
        "id": "gkbqYtxEs4gb",
        "outputId": "b165c9e6-e93f-4a6a-e46a-5aed9b37cefe"
      },
      "source": [
        "data.columns[23]"
      ],
      "execution_count": 22,
      "outputs": [
        {
          "output_type": "execute_result",
          "data": {
            "application/vnd.google.colaboratory.intrinsic+json": {
              "type": "string"
            },
            "text/plain": [
              "'famrel'"
            ]
          },
          "metadata": {
            "tags": []
          },
          "execution_count": 22
        }
      ]
    },
    {
      "cell_type": "markdown",
      "metadata": {
        "id": "cIcdrigAs8n1"
      },
      "source": [
        "24.Varijabla = famrel"
      ]
    },
    {
      "cell_type": "code",
      "metadata": {
        "colab": {
          "base_uri": "https://localhost:8080/",
          "height": 793
        },
        "id": "cyYodKfrs4nS",
        "outputId": "54fa2590-e4a5-48ee-d721-91de95e043a2"
      },
      "source": [
        "sns.countplot(x='famrel',data=data)\r\n",
        "plt.show()\r\n",
        "sns.boxplot(y='famrel',data=data)\r\n",
        "plt.show()\r\n",
        "\r\n",
        "sns.boxplot(y='famrel',x = 'repeated',data=data)\r\n",
        "plt.show()\r\n",
        "\r\n",
        "r0 = data.famrel[data.repeated == 0]\r\n",
        "r1 = data.famrel[data.repeated == 1]\r\n",
        "s, p = stats.ttest_ind(r0,r1,equal_var = False)\r\n",
        "print(p)"
      ],
      "execution_count": 24,
      "outputs": [
        {
          "output_type": "display_data",
          "data": {
            "image/png": "[encoded data removed]",
            "text/plain": [
              "<Figure size 432x288 with 1 Axes>"
            ]
          },
          "metadata": {
            "tags": [],
            "needs_background": "light"
          }
        },
        {
          "output_type": "display_data",
          "data": {
            "image/png": "[encoded data removed]",
            "text/plain": [
              "<Figure size 432x288 with 1 Axes>"
            ]
          },
          "metadata": {
            "tags": [],
            "needs_background": "light"
          }
        },
        {
          "output_type": "display_data",
          "data": {
            "image/png": "[encoded data removed]",
            "text/plain": [
              "<Figure size 432x288 with 1 Axes>"
            ]
          },
          "metadata": {
            "tags": [],
            "needs_background": "light"
          }
        },
        {
          "output_type": "stream",
          "text": [
            "0.0619572539933194\n"
          ],
          "name": "stdout"
        }
      ]
    },
    {
      "cell_type": "code",
      "metadata": {
        "colab": {
          "base_uri": "https://localhost:8080/",
          "height": 35
        },
        "id": "HP650Ayvs4qI",
        "outputId": "068da831-2315-4258-db63-3a909c5a5ed4"
      },
      "source": [
        "data.columns[24]"
      ],
      "execution_count": 25,
      "outputs": [
        {
          "output_type": "execute_result",
          "data": {
            "application/vnd.google.colaboratory.intrinsic+json": {
              "type": "string"
            },
            "text/plain": [
              "'freetime'"
            ]
          },
          "metadata": {
            "tags": []
          },
          "execution_count": 25
        }
      ]
    },
    {
      "cell_type": "markdown",
      "metadata": {
        "id": "LFYR636ita4S"
      },
      "source": [
        "25.varijabla = freetime"
      ]
    },
    {
      "cell_type": "code",
      "metadata": {
        "colab": {
          "base_uri": "https://localhost:8080/",
          "height": 810
        },
        "id": "_O5znMM5s4v2",
        "outputId": "457991b5-78be-4fe0-c076-659905def02c"
      },
      "source": [
        "sns.countplot(x='freetime',data=data)\r\n",
        "plt.show()\r\n",
        "sns.boxplot(y='freetime',data=data)\r\n",
        "plt.show()\r\n",
        "\r\n",
        "sns.boxplot(y='freetime',x = 'repeated',data=data)\r\n",
        "plt.show()\r\n",
        "\r\n",
        "r0 = data.freetime[data.repeated == 0]\r\n",
        "r1 = data.freetime[data.repeated == 1]\r\n",
        "s, p = stats.ttest_ind(r0,r1,equal_var = False)\r\n",
        "print('t-test: ',p)\r\n",
        "\r\n",
        "stat, p = mannwhitneyu(r0,r1)\r\n",
        "print('MVW: ',p)"
      ],
      "execution_count": 34,
      "outputs": [
        {
          "output_type": "display_data",
          "data": {
            "image/png": "[encoded data removed]",
            "text/plain": [
              "<Figure size 432x288 with 1 Axes>"
            ]
          },
          "metadata": {
            "tags": [],
            "needs_background": "light"
          }
        },
        {
          "output_type": "display_data",
          "data": {
            "image/png": "[encoded data removed]",
            "text/plain": [
              "<Figure size 432x288 with 1 Axes>"
            ]
          },
          "metadata": {
            "tags": [],
            "needs_background": "light"
          }
        },
        {
          "output_type": "display_data",
          "data": {
            "image/png": "[encoded data removed]",
            "text/plain": [
              "<Figure size 432x288 with 1 Axes>"
            ]
          },
          "metadata": {
            "tags": [],
            "needs_background": "light"
          }
        },
        {
          "output_type": "stream",
          "text": [
            "t-test:  0.46805219032412826\n",
            "MVW:  0.20546894878059846\n"
          ],
          "name": "stdout"
        }
      ]
    },
    {
      "cell_type": "code",
      "metadata": {
        "colab": {
          "base_uri": "https://localhost:8080/",
          "height": 35
        },
        "id": "gMGyscAfs4y6",
        "outputId": "638971aa-f60a-43e5-b7c5-c1c6c8e7c848"
      },
      "source": [
        "data.columns[25]"
      ],
      "execution_count": 30,
      "outputs": [
        {
          "output_type": "execute_result",
          "data": {
            "application/vnd.google.colaboratory.intrinsic+json": {
              "type": "string"
            },
            "text/plain": [
              "'goout'"
            ]
          },
          "metadata": {
            "tags": []
          },
          "execution_count": 30
        }
      ]
    },
    {
      "cell_type": "markdown",
      "metadata": {
        "id": "VWZG9i3Gt_zV"
      },
      "source": [
        "26.Varijaba = goout"
      ]
    },
    {
      "cell_type": "code",
      "metadata": {
        "colab": {
          "base_uri": "https://localhost:8080/",
          "height": 810
        },
        "id": "JeppZDFIs41T",
        "outputId": "94c0c5c9-34d3-470f-d92b-f12944518d91"
      },
      "source": [
        "sns.countplot(x='goout',data=data)\r\n",
        "plt.show()\r\n",
        "sns.boxplot(y='goout',data=data)\r\n",
        "plt.show()\r\n",
        "\r\n",
        "sns.boxplot(y='goout',x = 'repeated',data=data)\r\n",
        "plt.show()\r\n",
        "\r\n",
        "r0 = data.goout[data.repeated == 0]\r\n",
        "r1 = data.goout[data.repeated == 1]\r\n",
        "s, p = stats.ttest_ind(r0,r1,equal_var = False)\r\n",
        "\r\n",
        "print('t-test: ',p)\r\n",
        "\r\n",
        "stat, p = mannwhitneyu(r0,r1)\r\n",
        "print('MVW: ',p)\r\n"
      ],
      "execution_count": 36,
      "outputs": [
        {
          "output_type": "display_data",
          "data": {
            "image/png": "[encoded data removed]",
            "text/plain": [
              "<Figure size 432x288 with 1 Axes>"
            ]
          },
          "metadata": {
            "tags": [],
            "needs_background": "light"
          }
        },
        {
          "output_type": "display_data",
          "data": {
            "image/png": "[encoded data removed]",
            "text/plain": [
              "<Figure size 432x288 with 1 Axes>"
            ]
          },
          "metadata": {
            "tags": [],
            "needs_background": "light"
          }
        },
        {
          "output_type": "display_data",
          "data": {
            "image/png": "[encoded data removed]",
            "text/plain": [
              "<Figure size 432x288 with 1 Axes>"
            ]
          },
          "metadata": {
            "tags": [],
            "needs_background": "light"
          }
        },
        {
          "output_type": "stream",
          "text": [
            "t-test:  9.782917131957893e-18\n",
            "MVW:  9.942677972815905e-19\n"
          ],
          "name": "stdout"
        }
      ]
    },
    {
      "cell_type": "markdown",
      "metadata": {
        "id": "Utu30nhgxEXU"
      },
      "source": [
        ""
      ]
    },
    {
      "cell_type": "code",
      "metadata": {
        "colab": {
          "base_uri": "https://localhost:8080/",
          "height": 35
        },
        "id": "-ObqdXR-qcwF",
        "outputId": "7016a6d0-abae-452c-bd70-3d13d71907f5"
      },
      "source": [
        "data.columns[26]"
      ],
      "execution_count": 42,
      "outputs": [
        {
          "output_type": "execute_result",
          "data": {
            "application/vnd.google.colaboratory.intrinsic+json": {
              "type": "string"
            },
            "text/plain": [
              "'Dalc'"
            ]
          },
          "metadata": {
            "tags": []
          },
          "execution_count": 42
        }
      ]
    },
    {
      "cell_type": "markdown",
      "metadata": {
        "id": "eHS25aAXwscX"
      },
      "source": [
        "27.varijabla = Dalc"
      ]
    },
    {
      "cell_type": "code",
      "metadata": {
        "colab": {
          "base_uri": "https://localhost:8080/",
          "height": 810
        },
        "id": "W7uzygaZwuoT",
        "outputId": "862d2eed-f8ad-4e89-c7b4-4bdcb959a48e"
      },
      "source": [
        "sns.countplot(x='Dalc',data=data)\r\n",
        "plt.show()\r\n",
        "sns.boxplot(y='Dalc',data=data)\r\n",
        "plt.show()\r\n",
        "\r\n",
        "sns.boxplot(y='Dalc',x = 'repeated',data=data)\r\n",
        "plt.show()\r\n",
        "\r\n",
        "r0 = data.Dalc[data.repeated == 0]\r\n",
        "r1 = data.Dalc[data.repeated == 1]\r\n",
        "s, p = stats.ttest_ind(r0,r1,equal_var = False)\r\n",
        "\r\n",
        "print('t-test: ',p)\r\n",
        "\r\n",
        "stat, p = mannwhitneyu(r0,r1)\r\n",
        "print('MVW: ',p)"
      ],
      "execution_count": 43,
      "outputs": [
        {
          "output_type": "display_data",
          "data": {
            "image/png": "[encoded data removed]",
            "text/plain": [
              "<Figure size 432x288 with 1 Axes>"
            ]
          },
          "metadata": {
            "tags": [],
            "needs_background": "light"
          }
        },
        {
          "output_type": "display_data",
          "data": {
            "image/png": "[encoded data removed]",
            "text/plain": [
              "<Figure size 432x288 with 1 Axes>"
            ]
          },
          "metadata": {
            "tags": [],
            "needs_background": "light"
          }
        },
        {
          "output_type": "display_data",
          "data": {
            "image/png": "[encoded data removed]",
            "text/plain": [
              "<Figure size 432x288 with 1 Axes>"
            ]
          },
          "metadata": {
            "tags": [],
            "needs_background": "light"
          }
        },
        {
          "output_type": "stream",
          "text": [
            "t-test:  3.8384849849422617e-10\n",
            "MVW:  1.6764137055955005e-17\n"
          ],
          "name": "stdout"
        }
      ]
    },
    {
      "cell_type": "code",
      "metadata": {
        "colab": {
          "base_uri": "https://localhost:8080/"
        },
        "id": "uYg0XeAuwur7",
        "outputId": "f6bfc7fe-2d48-49ed-ea92-32a81bfe3997"
      },
      "source": [
        "obs = pd.crosstab(data['Dalc'],data['repeated'])\r\n",
        "print(obs[[1,0]])\r\n",
        "g, p, dof, expctd = chi2_contingency(obs[[1,0]],lambda_=\"log-likelihood\")\r\n",
        "print(\"chi2 test p-value: \",p)"
      ],
      "execution_count": 44,
      "outputs": [
        {
          "output_type": "stream",
          "text": [
            "repeated     1     0\n",
            "Dalc                \n",
            "1         1504  4016\n",
            "2          584   916\n",
            "3          175   345\n",
            "4           65   115\n",
            "5           64   116\n",
            "chi2 test p-value:  3.615058735586791e-17\n"
          ],
          "name": "stdout"
        }
      ]
    },
    {
      "cell_type": "code",
      "metadata": {
        "colab": {
          "base_uri": "https://localhost:8080/",
          "height": 35
        },
        "id": "7JN9Dal4wuvS",
        "outputId": "1331e494-9adf-425b-9d2c-eb566dbea5cf"
      },
      "source": [
        "data.columns[27]"
      ],
      "execution_count": 46,
      "outputs": [
        {
          "output_type": "execute_result",
          "data": {
            "application/vnd.google.colaboratory.intrinsic+json": {
              "type": "string"
            },
            "text/plain": [
              "'Walc'"
            ]
          },
          "metadata": {
            "tags": []
          },
          "execution_count": 46
        }
      ]
    },
    {
      "cell_type": "markdown",
      "metadata": {
        "id": "7igLB8_UxUr2"
      },
      "source": [
        "28.Varijaba = Walc"
      ]
    },
    {
      "cell_type": "code",
      "metadata": {
        "colab": {
          "base_uri": "https://localhost:8080/",
          "height": 810
        },
        "id": "w9Iy9IsGwuxq",
        "outputId": "60e55cdd-933c-4a3e-c684-d96f0bf47a8d"
      },
      "source": [
        "sns.countplot(x='Walc',data=data)\r\n",
        "plt.show()\r\n",
        "sns.boxplot(y='Walc',data=data)\r\n",
        "plt.show()\r\n",
        "\r\n",
        "sns.boxplot(y='Walc',x = 'repeated',data=data)\r\n",
        "plt.show()\r\n",
        "\r\n",
        "r0 = data.Walc[data.repeated == 0]\r\n",
        "r1 = data.Walc[data.repeated == 1]\r\n",
        "s, p = stats.ttest_ind(r0,r1,equal_var = False)\r\n",
        "\r\n",
        "print('t-test: ',p)\r\n",
        "\r\n",
        "stat, p = mannwhitneyu(r0,r1)\r\n",
        "print('MVW: ',p)"
      ],
      "execution_count": 47,
      "outputs": [
        {
          "output_type": "display_data",
          "data": {
            "image/png": "[encoded data removed]",
            "text/plain": [
              "<Figure size 432x288 with 1 Axes>"
            ]
          },
          "metadata": {
            "tags": [],
            "needs_background": "light"
          }
        },
        {
          "output_type": "display_data",
          "data": {
            "image/png": "[encoded data removed]",
            "text/plain": [
              "<Figure size 432x288 with 1 Axes>"
            ]
          },
          "metadata": {
            "tags": [],
            "needs_background": "light"
          }
        },
        {
          "output_type": "display_data",
          "data": {
            "image/png": "[encoded data removed]",
            "text/plain": [
              "<Figure size 432x288 with 1 Axes>"
            ]
          },
          "metadata": {
            "tags": [],
            "needs_background": "light"
          }
        },
        {
          "output_type": "stream",
          "text": [
            "t-test:  3.223995095320207e-11\n",
            "MVW:  1.4899780693003666e-10\n"
          ],
          "name": "stdout"
        }
      ]
    },
    {
      "cell_type": "code",
      "metadata": {
        "colab": {
          "base_uri": "https://localhost:8080/"
        },
        "id": "AsuhjIbVwuzy",
        "outputId": "23c9e6e7-e4f2-4984-d7a3-cda776690fab"
      },
      "source": [
        "obs = pd.crosstab(data['Walc'],data['repeated'])\r\n",
        "print(obs[[1,0]])\r\n",
        "g, p, dof, expctd = chi2_contingency(obs[[1,0]],lambda_=\"log-likelihood\")\r\n",
        "print(\"chi2 test p-value: \",p)"
      ],
      "execution_count": 48,
      "outputs": [
        {
          "output_type": "stream",
          "text": [
            "repeated    1     0\n",
            "Walc               \n",
            "1         825  2195\n",
            "2         502  1198\n",
            "3         486  1114\n",
            "4         343   677\n",
            "5         236   324\n",
            "chi2 test p-value:  5.95189649702558e-11\n"
          ],
          "name": "stdout"
        }
      ]
    },
    {
      "cell_type": "code",
      "metadata": {
        "colab": {
          "base_uri": "https://localhost:8080/",
          "height": 35
        },
        "id": "u7oXx3o8xsQb",
        "outputId": "1a5722f1-8677-402c-de42-0bf9e88fa4c8"
      },
      "source": [
        "data.columns[28]"
      ],
      "execution_count": 49,
      "outputs": [
        {
          "output_type": "execute_result",
          "data": {
            "application/vnd.google.colaboratory.intrinsic+json": {
              "type": "string"
            },
            "text/plain": [
              "'health'"
            ]
          },
          "metadata": {
            "tags": []
          },
          "execution_count": 49
        }
      ]
    },
    {
      "cell_type": "markdown",
      "metadata": {
        "id": "iOc8flEjxmXp"
      },
      "source": [
        "29.Varijabla = health"
      ]
    },
    {
      "cell_type": "code",
      "metadata": {
        "colab": {
          "base_uri": "https://localhost:8080/",
          "height": 810
        },
        "id": "mQy4zYzCxrby",
        "outputId": "8ce1bfdc-9122-4ea1-d0ac-0eb0928e7ee9"
      },
      "source": [
        "sns.countplot(x='health',data=data)\r\n",
        "plt.show()\r\n",
        "sns.boxplot(y='health',data=data)\r\n",
        "plt.show()\r\n",
        "\r\n",
        "sns.boxplot(y='health',x = 'repeated',data=data)\r\n",
        "plt.show()\r\n",
        "\r\n",
        "r0 = data.health[data.repeated == 0]\r\n",
        "r1 = data.health[data.repeated == 1]\r\n",
        "s, p = stats.ttest_ind(r0,r1,equal_var = False)\r\n",
        "\r\n",
        "print('t-test: ',p)\r\n",
        "\r\n",
        "stat, p = mannwhitneyu(r0,r1)\r\n",
        "print('MVW: ',p)"
      ],
      "execution_count": 50,
      "outputs": [
        {
          "output_type": "display_data",
          "data": {
            "image/png": "[encoded data removed]",
            "text/plain": [
              "<Figure size 432x288 with 1 Axes>"
            ]
          },
          "metadata": {
            "tags": [],
            "needs_background": "light"
          }
        },
        {
          "output_type": "display_data",
          "data": {
            "image/png": "[encoded data removed]",
            "text/plain": [
              "<Figure size 432x288 with 1 Axes>"
            ]
          },
          "metadata": {
            "tags": [],
            "needs_background": "light"
          }
        },
        {
          "output_type": "display_data",
          "data": {
            "image/png": "[encoded data removed]",
            "text/plain": [
              "<Figure size 432x288 with 1 Axes>"
            ]
          },
          "metadata": {
            "tags": [],
            "needs_background": "light"
          }
        },
        {
          "output_type": "stream",
          "text": [
            "t-test:  0.00687297241751824\n",
            "MVW:  0.034603087010724114\n"
          ],
          "name": "stdout"
        }
      ]
    },
    {
      "cell_type": "code",
      "metadata": {
        "colab": {
          "base_uri": "https://localhost:8080/"
        },
        "id": "QTYmaqR5xpsT",
        "outputId": "efbedb05-e90f-4aca-cd46-c46a676bf33e"
      },
      "source": [
        "obs = pd.crosstab(data['health'],data['repeated'])\r\n",
        "print(obs[[1,0]])\r\n",
        "g, p, dof, expctd = chi2_contingency(obs[[1,0]],lambda_=\"log-likelihood\")\r\n",
        "print(\"chi2 test p-value: \",p)"
      ],
      "execution_count": 51,
      "outputs": [
        {
          "output_type": "stream",
          "text": [
            "repeated    1     0\n",
            "health             \n",
            "1         213   727\n",
            "2         283   617\n",
            "3         576  1244\n",
            "4         456   864\n",
            "5         864  2056\n",
            "chi2 test p-value:  2.3726140691651458e-08\n"
          ],
          "name": "stdout"
        }
      ]
    },
    {
      "cell_type": "code",
      "metadata": {
        "colab": {
          "base_uri": "https://localhost:8080/",
          "height": 35
        },
        "id": "D6o67g-JyDKM",
        "outputId": "e120051a-3c93-416b-f6a2-fd5f109882ea"
      },
      "source": [
        "data.columns[29]"
      ],
      "execution_count": 53,
      "outputs": [
        {
          "output_type": "execute_result",
          "data": {
            "application/vnd.google.colaboratory.intrinsic+json": {
              "type": "string"
            },
            "text/plain": [
              "'absences'"
            ]
          },
          "metadata": {
            "tags": []
          },
          "execution_count": 53
        }
      ]
    },
    {
      "cell_type": "code",
      "metadata": {
        "colab": {
          "base_uri": "https://localhost:8080/",
          "height": 810
        },
        "id": "Y9XUFecExmmJ",
        "outputId": "8203739c-b296-4612-cb25-b6a9acabbbc5"
      },
      "source": [
        "sns.histplot(x='absences',data=data,bins=15)\r\n",
        "plt.show()\r\n",
        "sns.boxplot(y='absences',data=data)\r\n",
        "plt.show()\r\n",
        "\r\n",
        "sns.boxplot(y='absences',x = 'repeated',data=data)\r\n",
        "plt.show()\r\n",
        "\r\n",
        "r0 = data.absences[data.repeated == 0]\r\n",
        "r1 = data.absences[data.repeated == 1]\r\n",
        "s, p = stats.ttest_ind(r0,r1,equal_var = False)\r\n",
        "\r\n",
        "print('t-test: ',p)\r\n",
        "\r\n",
        "stat, p = mannwhitneyu(r0,r1)\r\n",
        "print('MVW: ',p)"
      ],
      "execution_count": 66,
      "outputs": [
        {
          "output_type": "display_data",
          "data": {
            "image/png": "[encoded data removed]",
            "text/plain": [
              "<Figure size 432x288 with 1 Axes>"
            ]
          },
          "metadata": {
            "tags": [],
            "needs_background": "light"
          }
        },
        {
          "output_type": "display_data",
          "data": {
            "image/png": "[encoded data removed]",
            "text/plain": [
              "<Figure size 432x288 with 1 Axes>"
            ]
          },
          "metadata": {
            "tags": [],
            "needs_background": "light"
          }
        },
        {
          "output_type": "display_data",
          "data": {
            "image/png": "[encoded data removed]",
            "text/plain": [
              "<Figure size 432x288 with 1 Axes>"
            ]
          },
          "metadata": {
            "tags": [],
            "needs_background": "light"
          }
        },
        {
          "output_type": "stream",
          "text": [
            "t-test:  0.7612144303599555\n",
            "MVW:  0.0008616503324682099\n"
          ],
          "name": "stdout"
        }
      ]
    },
    {
      "cell_type": "code",
      "metadata": {
        "id": "dsy52y0Dxmqv"
      },
      "source": [
        ""
      ],
      "execution_count": null,
      "outputs": []
    },
    {
      "cell_type": "code",
      "metadata": {
        "id": "0iiYaELwxmty"
      },
      "source": [
        ""
      ],
      "execution_count": null,
      "outputs": []
    },
    {
      "cell_type": "code",
      "metadata": {
        "id": "F0b8zw8xxmxK"
      },
      "source": [
        ""
      ],
      "execution_count": null,
      "outputs": []
    },
    {
      "cell_type": "code",
      "metadata": {
        "id": "AoP-noOPxm0o"
      },
      "source": [
        ""
      ],
      "execution_count": null,
      "outputs": []
    },
    {
      "cell_type": "code",
      "metadata": {
        "id": "ED0rDJpmxm3V"
      },
      "source": [
        ""
      ],
      "execution_count": null,
      "outputs": []
    },
    {
      "cell_type": "code",
      "metadata": {
        "id": "IDA1RbQrxm6T"
      },
      "source": [
        ""
      ],
      "execution_count": null,
      "outputs": []
    },
    {
      "cell_type": "code",
      "metadata": {
        "id": "JGyHJx7fxm9L"
      },
      "source": [
        ""
      ],
      "execution_count": null,
      "outputs": []
    },
    {
      "cell_type": "code",
      "metadata": {
        "id": "_sbzajg4xnAW"
      },
      "source": [
        ""
      ],
      "execution_count": null,
      "outputs": []
    },
    {
      "cell_type": "code",
      "metadata": {
        "id": "hrgGOdCZxnHv"
      },
      "source": [
        ""
      ],
      "execution_count": null,
      "outputs": []
    },
    {
      "cell_type": "code",
      "metadata": {
        "id": "I5GppOcqxnKd"
      },
      "source": [
        ""
      ],
      "execution_count": null,
      "outputs": []
    }
  ]
}