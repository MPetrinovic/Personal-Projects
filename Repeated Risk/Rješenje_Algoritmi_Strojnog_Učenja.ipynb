{
  "nbformat": 4,
  "nbformat_minor": 0,
  "metadata": {
    "colab": {
      "name": "Rješenje_Algoritmi_Strojnog_Učenja.ipynb",
      "provenance": [],
      "collapsed_sections": []
    },
    "kernelspec": {
      "name": "python3",
      "display_name": "Python 3"
    }
  },
  "cells": [
    {
      "cell_type": "code",
      "metadata": {
        "colab": {
          "base_uri": "https://localhost:8080/",
          "height": 215
        },
        "id": "b8h1nQv2j-H5",
        "outputId": "830e3cf7-3074-4c8d-96bb-ca82ce45e209"
      },
      "source": [
        "import pandas as pd\r\n",
        "import numpy as np\r\n",
        "import matplotlib.pyplot as plt\r\n",
        "\r\n",
        "\r\n",
        "data = pd.read_csv('schools_data.csv')\r\n",
        "data.shape\r\n",
        "\r\n",
        "## Pravimo kopiju podataka da ne pokvarimo originalne podatke\r\n",
        "work_data = data.copy()\r\n",
        "work_data.sample(5)"
      ],
      "execution_count": 1,
      "outputs": [
        {
          "output_type": "execute_result",
          "data": {
            "text/html": [
              "<div>\n",
              "<style scoped>\n",
              "    .dataframe tbody tr th:only-of-type {\n",
              "        vertical-align: middle;\n",
              "    }\n",
              "\n",
              "    .dataframe tbody tr th {\n",
              "        vertical-align: top;\n",
              "    }\n",
              "\n",
              "    .dataframe thead th {\n",
              "        text-align: right;\n",
              "    }\n",
              "</style>\n",
              "<table border=\"1\" class=\"dataframe\">\n",
              "  <thead>\n",
              "    <tr style=\"text-align: right;\">\n",
              "      <th></th>\n",
              "      <th>school</th>\n",
              "      <th>sex</th>\n",
              "      <th>age</th>\n",
              "      <th>address</th>\n",
              "      <th>famsize</th>\n",
              "      <th>Pstatus</th>\n",
              "      <th>Medu</th>\n",
              "      <th>Fedu</th>\n",
              "      <th>Mjob</th>\n",
              "      <th>Fjob</th>\n",
              "      <th>reason</th>\n",
              "      <th>guardian</th>\n",
              "      <th>traveltime</th>\n",
              "      <th>studytime</th>\n",
              "      <th>failures</th>\n",
              "      <th>schoolsup</th>\n",
              "      <th>famsup</th>\n",
              "      <th>paid</th>\n",
              "      <th>activities</th>\n",
              "      <th>nursery</th>\n",
              "      <th>higher</th>\n",
              "      <th>internet</th>\n",
              "      <th>romantic</th>\n",
              "      <th>famrel</th>\n",
              "      <th>freetime</th>\n",
              "      <th>goout</th>\n",
              "      <th>Dalc</th>\n",
              "      <th>Walc</th>\n",
              "      <th>health</th>\n",
              "      <th>absences</th>\n",
              "      <th>repeated</th>\n",
              "      <th>data_perimeter</th>\n",
              "    </tr>\n",
              "  </thead>\n",
              "  <tbody>\n",
              "    <tr>\n",
              "      <th>6858</th>\n",
              "      <td>GP</td>\n",
              "      <td>M</td>\n",
              "      <td>17</td>\n",
              "      <td>Urban</td>\n",
              "      <td>&gt;3</td>\n",
              "      <td>Married</td>\n",
              "      <td>3</td>\n",
              "      <td>1</td>\n",
              "      <td>services</td>\n",
              "      <td>other</td>\n",
              "      <td>other</td>\n",
              "      <td>mother</td>\n",
              "      <td>1</td>\n",
              "      <td>2</td>\n",
              "      <td>0</td>\n",
              "      <td>False</td>\n",
              "      <td>False</td>\n",
              "      <td>True</td>\n",
              "      <td>True</td>\n",
              "      <td>True</td>\n",
              "      <td>True</td>\n",
              "      <td>True</td>\n",
              "      <td>True</td>\n",
              "      <td>5</td>\n",
              "      <td>4</td>\n",
              "      <td>4</td>\n",
              "      <td>3</td>\n",
              "      <td>4</td>\n",
              "      <td>5</td>\n",
              "      <td>2</td>\n",
              "      <td>0</td>\n",
              "      <td>train</td>\n",
              "    </tr>\n",
              "    <tr>\n",
              "      <th>4316</th>\n",
              "      <td>LT</td>\n",
              "      <td>F</td>\n",
              "      <td>16</td>\n",
              "      <td>Urban</td>\n",
              "      <td>&gt;3</td>\n",
              "      <td>Married</td>\n",
              "      <td>2</td>\n",
              "      <td>2</td>\n",
              "      <td>other</td>\n",
              "      <td>other</td>\n",
              "      <td>reputation</td>\n",
              "      <td>mother</td>\n",
              "      <td>1</td>\n",
              "      <td>4</td>\n",
              "      <td>0</td>\n",
              "      <td>False</td>\n",
              "      <td>False</td>\n",
              "      <td>True</td>\n",
              "      <td>False</td>\n",
              "      <td>True</td>\n",
              "      <td>True</td>\n",
              "      <td>True</td>\n",
              "      <td>True</td>\n",
              "      <td>5</td>\n",
              "      <td>2</td>\n",
              "      <td>3</td>\n",
              "      <td>1</td>\n",
              "      <td>3</td>\n",
              "      <td>3</td>\n",
              "      <td>0</td>\n",
              "      <td>0</td>\n",
              "      <td>train</td>\n",
              "    </tr>\n",
              "    <tr>\n",
              "      <th>3519</th>\n",
              "      <td>RC</td>\n",
              "      <td>F</td>\n",
              "      <td>18</td>\n",
              "      <td>Urban</td>\n",
              "      <td>&gt;3</td>\n",
              "      <td>Married</td>\n",
              "      <td>2</td>\n",
              "      <td>3</td>\n",
              "      <td>at_home</td>\n",
              "      <td>services</td>\n",
              "      <td>course</td>\n",
              "      <td>father</td>\n",
              "      <td>2</td>\n",
              "      <td>1</td>\n",
              "      <td>0</td>\n",
              "      <td>False</td>\n",
              "      <td>True</td>\n",
              "      <td>True</td>\n",
              "      <td>False</td>\n",
              "      <td>True</td>\n",
              "      <td>True</td>\n",
              "      <td>True</td>\n",
              "      <td>True</td>\n",
              "      <td>5</td>\n",
              "      <td>2</td>\n",
              "      <td>3</td>\n",
              "      <td>1</td>\n",
              "      <td>2</td>\n",
              "      <td>4</td>\n",
              "      <td>0</td>\n",
              "      <td>1</td>\n",
              "      <td>train</td>\n",
              "    </tr>\n",
              "    <tr>\n",
              "      <th>5827</th>\n",
              "      <td>GP</td>\n",
              "      <td>M</td>\n",
              "      <td>16</td>\n",
              "      <td>Urban</td>\n",
              "      <td>&gt;3</td>\n",
              "      <td>Married</td>\n",
              "      <td>3</td>\n",
              "      <td>2</td>\n",
              "      <td>other</td>\n",
              "      <td>other</td>\n",
              "      <td>home</td>\n",
              "      <td>mother</td>\n",
              "      <td>1</td>\n",
              "      <td>1</td>\n",
              "      <td>0</td>\n",
              "      <td>False</td>\n",
              "      <td>True</td>\n",
              "      <td>True</td>\n",
              "      <td>False</td>\n",
              "      <td>False</td>\n",
              "      <td>True</td>\n",
              "      <td>True</td>\n",
              "      <td>False</td>\n",
              "      <td>5</td>\n",
              "      <td>4</td>\n",
              "      <td>3</td>\n",
              "      <td>1</td>\n",
              "      <td>1</td>\n",
              "      <td>5</td>\n",
              "      <td>0</td>\n",
              "      <td>0</td>\n",
              "      <td>validation</td>\n",
              "    </tr>\n",
              "    <tr>\n",
              "      <th>4188</th>\n",
              "      <td>LT</td>\n",
              "      <td>F</td>\n",
              "      <td>17</td>\n",
              "      <td>Urban</td>\n",
              "      <td>&gt;3</td>\n",
              "      <td>Divorced</td>\n",
              "      <td>2</td>\n",
              "      <td>2</td>\n",
              "      <td>at_home</td>\n",
              "      <td>at_home</td>\n",
              "      <td>home</td>\n",
              "      <td>father</td>\n",
              "      <td>1</td>\n",
              "      <td>2</td>\n",
              "      <td>1</td>\n",
              "      <td>False</td>\n",
              "      <td>True</td>\n",
              "      <td>False</td>\n",
              "      <td>False</td>\n",
              "      <td>True</td>\n",
              "      <td>True</td>\n",
              "      <td>True</td>\n",
              "      <td>True</td>\n",
              "      <td>3</td>\n",
              "      <td>3</td>\n",
              "      <td>1</td>\n",
              "      <td>1</td>\n",
              "      <td>2</td>\n",
              "      <td>4</td>\n",
              "      <td>0</td>\n",
              "      <td>0</td>\n",
              "      <td>train</td>\n",
              "    </tr>\n",
              "  </tbody>\n",
              "</table>\n",
              "</div>"
            ],
            "text/plain": [
              "     school sex  age address  ... health absences  repeated  data_perimeter\n",
              "6858     GP   M   17   Urban  ...      5        2         0           train\n",
              "4316     LT   F   16   Urban  ...      3        0         0           train\n",
              "3519     RC   F   18   Urban  ...      4        0         1           train\n",
              "5827     GP   M   16   Urban  ...      5        0         0      validation\n",
              "4188     LT   F   17   Urban  ...      4        0         0           train\n",
              "\n",
              "[5 rows x 32 columns]"
            ]
          },
          "metadata": {
            "tags": []
          },
          "execution_count": 1
        }
      ]
    },
    {
      "cell_type": "code",
      "metadata": {
        "id": "-f2JJT9Rm2Jh"
      },
      "source": [
        "import seaborn as sns"
      ],
      "execution_count": 17,
      "outputs": []
    },
    {
      "cell_type": "markdown",
      "metadata": {
        "id": "MML5SqEPxQDu"
      },
      "source": [
        "Kako varijable 'famsup','freetime','absences' u eksploatornoj analizi nisu pokazali statističku značajnost u utjecaju na povaljanje godine. "
      ]
    },
    {
      "cell_type": "code",
      "metadata": {
        "id": "cm7F-DIOkStw"
      },
      "source": [
        "work_data = work_data.drop(['famsup','freetime','absences'],axis = 1)"
      ],
      "execution_count": 3,
      "outputs": []
    },
    {
      "cell_type": "code",
      "metadata": {
        "colab": {
          "base_uri": "https://localhost:8080/",
          "height": 215
        },
        "id": "sGzdlkUzkiOd",
        "outputId": "7995ef30-1a36-422b-87c6-81691c33824e"
      },
      "source": [
        "work_data.sample(5)"
      ],
      "execution_count": 4,
      "outputs": [
        {
          "output_type": "execute_result",
          "data": {
            "text/html": [
              "<div>\n",
              "<style scoped>\n",
              "    .dataframe tbody tr th:only-of-type {\n",
              "        vertical-align: middle;\n",
              "    }\n",
              "\n",
              "    .dataframe tbody tr th {\n",
              "        vertical-align: top;\n",
              "    }\n",
              "\n",
              "    .dataframe thead th {\n",
              "        text-align: right;\n",
              "    }\n",
              "</style>\n",
              "<table border=\"1\" class=\"dataframe\">\n",
              "  <thead>\n",
              "    <tr style=\"text-align: right;\">\n",
              "      <th></th>\n",
              "      <th>school</th>\n",
              "      <th>sex</th>\n",
              "      <th>age</th>\n",
              "      <th>address</th>\n",
              "      <th>famsize</th>\n",
              "      <th>Pstatus</th>\n",
              "      <th>Medu</th>\n",
              "      <th>Fedu</th>\n",
              "      <th>Mjob</th>\n",
              "      <th>Fjob</th>\n",
              "      <th>reason</th>\n",
              "      <th>guardian</th>\n",
              "      <th>traveltime</th>\n",
              "      <th>studytime</th>\n",
              "      <th>failures</th>\n",
              "      <th>schoolsup</th>\n",
              "      <th>paid</th>\n",
              "      <th>activities</th>\n",
              "      <th>nursery</th>\n",
              "      <th>higher</th>\n",
              "      <th>internet</th>\n",
              "      <th>romantic</th>\n",
              "      <th>famrel</th>\n",
              "      <th>goout</th>\n",
              "      <th>Dalc</th>\n",
              "      <th>Walc</th>\n",
              "      <th>health</th>\n",
              "      <th>repeated</th>\n",
              "      <th>data_perimeter</th>\n",
              "    </tr>\n",
              "  </thead>\n",
              "  <tbody>\n",
              "    <tr>\n",
              "      <th>2751</th>\n",
              "      <td>RC</td>\n",
              "      <td>F</td>\n",
              "      <td>16</td>\n",
              "      <td>Rural</td>\n",
              "      <td>&gt;3</td>\n",
              "      <td>Married</td>\n",
              "      <td>3</td>\n",
              "      <td>3</td>\n",
              "      <td>services</td>\n",
              "      <td>other</td>\n",
              "      <td>reputation</td>\n",
              "      <td>father</td>\n",
              "      <td>1</td>\n",
              "      <td>3</td>\n",
              "      <td>1</td>\n",
              "      <td>True</td>\n",
              "      <td>False</td>\n",
              "      <td>True</td>\n",
              "      <td>True</td>\n",
              "      <td>True</td>\n",
              "      <td>True</td>\n",
              "      <td>False</td>\n",
              "      <td>4</td>\n",
              "      <td>2</td>\n",
              "      <td>1</td>\n",
              "      <td>1</td>\n",
              "      <td>2</td>\n",
              "      <td>1</td>\n",
              "      <td>train</td>\n",
              "    </tr>\n",
              "    <tr>\n",
              "      <th>604</th>\n",
              "      <td>MS</td>\n",
              "      <td>F</td>\n",
              "      <td>18</td>\n",
              "      <td>Urban</td>\n",
              "      <td>&gt;3</td>\n",
              "      <td>Married</td>\n",
              "      <td>2</td>\n",
              "      <td>1</td>\n",
              "      <td>other</td>\n",
              "      <td>other</td>\n",
              "      <td>course</td>\n",
              "      <td>other</td>\n",
              "      <td>2</td>\n",
              "      <td>3</td>\n",
              "      <td>0</td>\n",
              "      <td>False</td>\n",
              "      <td>True</td>\n",
              "      <td>False</td>\n",
              "      <td>False</td>\n",
              "      <td>True</td>\n",
              "      <td>True</td>\n",
              "      <td>True</td>\n",
              "      <td>4</td>\n",
              "      <td>4</td>\n",
              "      <td>1</td>\n",
              "      <td>1</td>\n",
              "      <td>3</td>\n",
              "      <td>0</td>\n",
              "      <td>validation</td>\n",
              "    </tr>\n",
              "    <tr>\n",
              "      <th>6465</th>\n",
              "      <td>GP</td>\n",
              "      <td>M</td>\n",
              "      <td>19</td>\n",
              "      <td>Urban</td>\n",
              "      <td>&gt;3</td>\n",
              "      <td>Married</td>\n",
              "      <td>1</td>\n",
              "      <td>2</td>\n",
              "      <td>other</td>\n",
              "      <td>services</td>\n",
              "      <td>course</td>\n",
              "      <td>other</td>\n",
              "      <td>1</td>\n",
              "      <td>2</td>\n",
              "      <td>1</td>\n",
              "      <td>False</td>\n",
              "      <td>False</td>\n",
              "      <td>False</td>\n",
              "      <td>False</td>\n",
              "      <td>True</td>\n",
              "      <td>True</td>\n",
              "      <td>False</td>\n",
              "      <td>4</td>\n",
              "      <td>2</td>\n",
              "      <td>2</td>\n",
              "      <td>2</td>\n",
              "      <td>4</td>\n",
              "      <td>0</td>\n",
              "      <td>validation</td>\n",
              "    </tr>\n",
              "    <tr>\n",
              "      <th>6796</th>\n",
              "      <td>GP</td>\n",
              "      <td>F</td>\n",
              "      <td>16</td>\n",
              "      <td>Rural</td>\n",
              "      <td>&gt;3</td>\n",
              "      <td>Married</td>\n",
              "      <td>2</td>\n",
              "      <td>2</td>\n",
              "      <td>services</td>\n",
              "      <td>services</td>\n",
              "      <td>reputation</td>\n",
              "      <td>mother</td>\n",
              "      <td>2</td>\n",
              "      <td>4</td>\n",
              "      <td>0</td>\n",
              "      <td>False</td>\n",
              "      <td>True</td>\n",
              "      <td>True</td>\n",
              "      <td>False</td>\n",
              "      <td>True</td>\n",
              "      <td>True</td>\n",
              "      <td>False</td>\n",
              "      <td>5</td>\n",
              "      <td>5</td>\n",
              "      <td>1</td>\n",
              "      <td>1</td>\n",
              "      <td>5</td>\n",
              "      <td>0</td>\n",
              "      <td>train</td>\n",
              "    </tr>\n",
              "    <tr>\n",
              "      <th>940</th>\n",
              "      <td>MS</td>\n",
              "      <td>M</td>\n",
              "      <td>17</td>\n",
              "      <td>Urban</td>\n",
              "      <td>&gt;3</td>\n",
              "      <td>Married</td>\n",
              "      <td>3</td>\n",
              "      <td>3</td>\n",
              "      <td>services</td>\n",
              "      <td>services</td>\n",
              "      <td>other</td>\n",
              "      <td>mother</td>\n",
              "      <td>1</td>\n",
              "      <td>2</td>\n",
              "      <td>0</td>\n",
              "      <td>False</td>\n",
              "      <td>False</td>\n",
              "      <td>True</td>\n",
              "      <td>True</td>\n",
              "      <td>True</td>\n",
              "      <td>True</td>\n",
              "      <td>True</td>\n",
              "      <td>4</td>\n",
              "      <td>4</td>\n",
              "      <td>2</td>\n",
              "      <td>3</td>\n",
              "      <td>4</td>\n",
              "      <td>0</td>\n",
              "      <td>validation</td>\n",
              "    </tr>\n",
              "  </tbody>\n",
              "</table>\n",
              "</div>"
            ],
            "text/plain": [
              "     school sex  age address  ... Walc health  repeated  data_perimeter\n",
              "2751     RC   F   16   Rural  ...    1      2         1           train\n",
              "604      MS   F   18   Urban  ...    1      3         0      validation\n",
              "6465     GP   M   19   Urban  ...    2      4         0      validation\n",
              "6796     GP   F   16   Rural  ...    1      5         0           train\n",
              "940      MS   M   17   Urban  ...    3      4         0      validation\n",
              "\n",
              "[5 rows x 29 columns]"
            ]
          },
          "metadata": {
            "tags": []
          },
          "execution_count": 4
        }
      ]
    },
    {
      "cell_type": "markdown",
      "metadata": {
        "id": "2T9928lQxnBP"
      },
      "source": [
        "Idući koraci su varijable koje imaju dvije kategorije ćemo staviti 1 i 0 kao oznake, varijable TRUE i FALSE također na 1 i 0, te travel/study time, Medu i Fedu ćemo označiti kategorijalno. "
      ]
    },
    {
      "cell_type": "code",
      "metadata": {
        "id": "NLKrCaZakkp-"
      },
      "source": [
        "work_data['sex'][work_data['sex'] == 'M'] = 1\r\n",
        "work_data['sex'][work_data['sex'] == 'F'] = 0\r\n",
        "\r\n",
        "work_data['address'][work_data['address'] == 'Urban'] = 1\r\n",
        "work_data['address'][work_data['address'] == 'Rural'] = 0\r\n",
        "\r\n",
        "work_data['famsize'][work_data['famsize'] == '>3'] = 1\r\n",
        "work_data['famsize'][work_data['famsize'] == '<=3'] = 0\r\n",
        "\r\n",
        "work_data['Pstatus'][work_data['Pstatus'] == 'Married'] = 1\r\n",
        "work_data['Pstatus'][work_data['Pstatus'] == 'Divorced'] = 0\r\n",
        "\r\n",
        "TFlist = ['schoolsup','paid','activities','nursery','higher','internet','romantic']\r\n",
        "work_data[TFlist] = work_data[TFlist]*1\r\n",
        "\r\n",
        "work_data['traveltime'][work_data['traveltime'] == 1] = '<15'\r\n",
        "work_data['traveltime'][work_data['traveltime'] == 2] = '15-30'\r\n",
        "work_data['traveltime'][work_data['traveltime'] == 3] = '30-60'\r\n",
        "work_data['traveltime'][work_data['traveltime'] == 4] = '>60'\r\n",
        "\r\n",
        "work_data['studytime'][work_data['studytime'] == 1] = '<2'\r\n",
        "work_data['studytime'][work_data['studytime'] == 2] = '2-5'\r\n",
        "work_data['studytime'][work_data['studytime'] == 3] = '5-10'\r\n",
        "work_data['studytime'][work_data['studytime'] == 4] = '>10'\r\n",
        "\r\n",
        "work_data['Medu'][work_data['Medu'] == 0] = 'none'\r\n",
        "work_data['Medu'][work_data['Medu'] == 1] = '4th_grade'\r\n",
        "work_data['Medu'][work_data['Medu'] == 2] = '5th-9th_grade'\r\n",
        "work_data['Medu'][work_data['Medu'] == 3] = 'secondary_education'\r\n",
        "work_data['Medu'][work_data['Medu'] == 4] = 'higher_education'\r\n",
        "\r\n",
        "work_data['Fedu'][work_data['Fedu'] == 0] = 'none'\r\n",
        "work_data['Fedu'][work_data['Fedu'] == 1] = '4th_grade'\r\n",
        "work_data['Fedu'][work_data['Fedu'] == 2] = '5th-9th_grade'\r\n",
        "work_data['Fedu'][work_data['Fedu'] == 3] = 'secondary_education'\r\n",
        "work_data['Fedu'][work_data['Fedu'] == 4] = 'higher_education'"
      ],
      "execution_count": null,
      "outputs": []
    },
    {
      "cell_type": "markdown",
      "metadata": {
        "id": "k1a1c_Y1yDqE"
      },
      "source": [
        "Numeričke varijable ćemo sklalirani na $[0,1]$, a kategorijalne sa $>2$ kategorije ćemo napraviti **one-hot**. "
      ]
    },
    {
      "cell_type": "code",
      "metadata": {
        "colab": {
          "base_uri": "https://localhost:8080/",
          "height": 215
        },
        "id": "pjugRi49kkxt",
        "outputId": "1dec2369-4337-4eec-8e12-b211101328e3"
      },
      "source": [
        "from sklearn.preprocessing import MinMaxScaler\r\n",
        "scaler = MinMaxScaler()\r\n",
        "\r\n",
        "X_train = work_data[work_data['data_perimeter'] == 'train']\r\n",
        "X_test = work_data[work_data['data_perimeter'] == 'validation']\r\n",
        "\r\n",
        "y_train = X_train['repeated'].values\r\n",
        "y_test = X_test['repeated'].values\r\n",
        "\r\n",
        "X_train = X_train.drop(['data_perimeter'],axis=1)\r\n",
        "X_test = X_test.drop(['data_perimeter'],axis=1)\r\n",
        "\r\n",
        "X_train = X_train.drop(['repeated'],axis=1)\r\n",
        "X_test = X_test.drop(['repeated'],axis=1)\r\n",
        "\r\n",
        "X_train = pd.get_dummies(X_train)\r\n",
        "X_test = pd.get_dummies(X_test)\r\n",
        "\r\n",
        "X_train = scaler.fit_transform(X_train)\r\n",
        "X_test = scaler.transform(X_test)\r\n",
        "\r\n",
        "pd.DataFrame(X_test).sample(5)"
      ],
      "execution_count": 6,
      "outputs": [
        {
          "output_type": "execute_result",
          "data": {
            "text/html": [
              "<div>\n",
              "<style scoped>\n",
              "    .dataframe tbody tr th:only-of-type {\n",
              "        vertical-align: middle;\n",
              "    }\n",
              "\n",
              "    .dataframe tbody tr th {\n",
              "        vertical-align: top;\n",
              "    }\n",
              "\n",
              "    .dataframe thead th {\n",
              "        text-align: right;\n",
              "    }\n",
              "</style>\n",
              "<table border=\"1\" class=\"dataframe\">\n",
              "  <thead>\n",
              "    <tr style=\"text-align: right;\">\n",
              "      <th></th>\n",
              "      <th>0</th>\n",
              "      <th>1</th>\n",
              "      <th>2</th>\n",
              "      <th>3</th>\n",
              "      <th>4</th>\n",
              "      <th>5</th>\n",
              "      <th>6</th>\n",
              "      <th>7</th>\n",
              "      <th>8</th>\n",
              "      <th>9</th>\n",
              "      <th>10</th>\n",
              "      <th>11</th>\n",
              "      <th>12</th>\n",
              "      <th>13</th>\n",
              "      <th>14</th>\n",
              "      <th>15</th>\n",
              "      <th>16</th>\n",
              "      <th>17</th>\n",
              "      <th>18</th>\n",
              "      <th>19</th>\n",
              "      <th>20</th>\n",
              "      <th>21</th>\n",
              "      <th>22</th>\n",
              "      <th>23</th>\n",
              "      <th>24</th>\n",
              "      <th>25</th>\n",
              "      <th>26</th>\n",
              "      <th>27</th>\n",
              "      <th>28</th>\n",
              "      <th>29</th>\n",
              "      <th>30</th>\n",
              "      <th>31</th>\n",
              "      <th>32</th>\n",
              "      <th>33</th>\n",
              "      <th>34</th>\n",
              "      <th>35</th>\n",
              "      <th>36</th>\n",
              "      <th>37</th>\n",
              "      <th>38</th>\n",
              "      <th>39</th>\n",
              "      <th>40</th>\n",
              "      <th>41</th>\n",
              "      <th>42</th>\n",
              "      <th>43</th>\n",
              "      <th>44</th>\n",
              "      <th>45</th>\n",
              "      <th>46</th>\n",
              "      <th>47</th>\n",
              "      <th>48</th>\n",
              "      <th>49</th>\n",
              "      <th>50</th>\n",
              "      <th>51</th>\n",
              "      <th>52</th>\n",
              "      <th>53</th>\n",
              "      <th>54</th>\n",
              "      <th>55</th>\n",
              "      <th>56</th>\n",
              "      <th>57</th>\n",
              "      <th>58</th>\n",
              "      <th>59</th>\n",
              "      <th>60</th>\n",
              "    </tr>\n",
              "  </thead>\n",
              "  <tbody>\n",
              "    <tr>\n",
              "      <th>2208</th>\n",
              "      <td>0.428571</td>\n",
              "      <td>0.000000</td>\n",
              "      <td>0.0</td>\n",
              "      <td>1.0</td>\n",
              "      <td>0.0</td>\n",
              "      <td>1.0</td>\n",
              "      <td>1.0</td>\n",
              "      <td>0.0</td>\n",
              "      <td>0.0</td>\n",
              "      <td>1.0</td>\n",
              "      <td>0.50</td>\n",
              "      <td>0.00</td>\n",
              "      <td>0.50</td>\n",
              "      <td>0.75</td>\n",
              "      <td>1.0</td>\n",
              "      <td>0.0</td>\n",
              "      <td>0.0</td>\n",
              "      <td>0.0</td>\n",
              "      <td>1.0</td>\n",
              "      <td>0.0</td>\n",
              "      <td>1.0</td>\n",
              "      <td>0.0</td>\n",
              "      <td>0.0</td>\n",
              "      <td>1.0</td>\n",
              "      <td>0.0</td>\n",
              "      <td>1.0</td>\n",
              "      <td>0.0</td>\n",
              "      <td>1.0</td>\n",
              "      <td>0.0</td>\n",
              "      <td>0.0</td>\n",
              "      <td>0.0</td>\n",
              "      <td>0.0</td>\n",
              "      <td>1.0</td>\n",
              "      <td>0.0</td>\n",
              "      <td>0.0</td>\n",
              "      <td>0.0</td>\n",
              "      <td>1.0</td>\n",
              "      <td>0.0</td>\n",
              "      <td>0.0</td>\n",
              "      <td>0.0</td>\n",
              "      <td>0.0</td>\n",
              "      <td>0.0</td>\n",
              "      <td>0.0</td>\n",
              "      <td>1.0</td>\n",
              "      <td>0.0</td>\n",
              "      <td>0.0</td>\n",
              "      <td>0.0</td>\n",
              "      <td>0.0</td>\n",
              "      <td>1.0</td>\n",
              "      <td>0.0</td>\n",
              "      <td>0.0</td>\n",
              "      <td>1.0</td>\n",
              "      <td>0.0</td>\n",
              "      <td>1.0</td>\n",
              "      <td>0.0</td>\n",
              "      <td>0.0</td>\n",
              "      <td>0.0</td>\n",
              "      <td>0.0</td>\n",
              "      <td>1.0</td>\n",
              "      <td>0.0</td>\n",
              "      <td>0.0</td>\n",
              "    </tr>\n",
              "    <tr>\n",
              "      <th>2236</th>\n",
              "      <td>0.000000</td>\n",
              "      <td>0.000000</td>\n",
              "      <td>0.0</td>\n",
              "      <td>0.0</td>\n",
              "      <td>0.0</td>\n",
              "      <td>1.0</td>\n",
              "      <td>1.0</td>\n",
              "      <td>0.0</td>\n",
              "      <td>1.0</td>\n",
              "      <td>1.0</td>\n",
              "      <td>0.50</td>\n",
              "      <td>0.00</td>\n",
              "      <td>0.00</td>\n",
              "      <td>1.00</td>\n",
              "      <td>1.0</td>\n",
              "      <td>0.0</td>\n",
              "      <td>0.0</td>\n",
              "      <td>0.0</td>\n",
              "      <td>0.0</td>\n",
              "      <td>1.0</td>\n",
              "      <td>1.0</td>\n",
              "      <td>0.0</td>\n",
              "      <td>0.0</td>\n",
              "      <td>1.0</td>\n",
              "      <td>0.0</td>\n",
              "      <td>1.0</td>\n",
              "      <td>0.0</td>\n",
              "      <td>0.0</td>\n",
              "      <td>0.0</td>\n",
              "      <td>0.0</td>\n",
              "      <td>1.0</td>\n",
              "      <td>0.0</td>\n",
              "      <td>0.0</td>\n",
              "      <td>1.0</td>\n",
              "      <td>0.0</td>\n",
              "      <td>0.0</td>\n",
              "      <td>1.0</td>\n",
              "      <td>0.0</td>\n",
              "      <td>0.0</td>\n",
              "      <td>0.0</td>\n",
              "      <td>0.0</td>\n",
              "      <td>0.0</td>\n",
              "      <td>0.0</td>\n",
              "      <td>0.0</td>\n",
              "      <td>0.0</td>\n",
              "      <td>1.0</td>\n",
              "      <td>1.0</td>\n",
              "      <td>0.0</td>\n",
              "      <td>0.0</td>\n",
              "      <td>0.0</td>\n",
              "      <td>0.0</td>\n",
              "      <td>1.0</td>\n",
              "      <td>0.0</td>\n",
              "      <td>0.0</td>\n",
              "      <td>0.0</td>\n",
              "      <td>0.0</td>\n",
              "      <td>1.0</td>\n",
              "      <td>1.0</td>\n",
              "      <td>0.0</td>\n",
              "      <td>0.0</td>\n",
              "      <td>0.0</td>\n",
              "    </tr>\n",
              "    <tr>\n",
              "      <th>615</th>\n",
              "      <td>0.285714</td>\n",
              "      <td>0.000000</td>\n",
              "      <td>0.0</td>\n",
              "      <td>1.0</td>\n",
              "      <td>1.0</td>\n",
              "      <td>1.0</td>\n",
              "      <td>1.0</td>\n",
              "      <td>1.0</td>\n",
              "      <td>0.0</td>\n",
              "      <td>0.5</td>\n",
              "      <td>0.25</td>\n",
              "      <td>0.25</td>\n",
              "      <td>0.25</td>\n",
              "      <td>0.50</td>\n",
              "      <td>0.0</td>\n",
              "      <td>0.0</td>\n",
              "      <td>0.0</td>\n",
              "      <td>1.0</td>\n",
              "      <td>1.0</td>\n",
              "      <td>0.0</td>\n",
              "      <td>1.0</td>\n",
              "      <td>0.0</td>\n",
              "      <td>1.0</td>\n",
              "      <td>0.0</td>\n",
              "      <td>0.0</td>\n",
              "      <td>1.0</td>\n",
              "      <td>0.0</td>\n",
              "      <td>1.0</td>\n",
              "      <td>0.0</td>\n",
              "      <td>0.0</td>\n",
              "      <td>0.0</td>\n",
              "      <td>0.0</td>\n",
              "      <td>1.0</td>\n",
              "      <td>0.0</td>\n",
              "      <td>0.0</td>\n",
              "      <td>0.0</td>\n",
              "      <td>0.0</td>\n",
              "      <td>0.0</td>\n",
              "      <td>0.0</td>\n",
              "      <td>1.0</td>\n",
              "      <td>0.0</td>\n",
              "      <td>0.0</td>\n",
              "      <td>0.0</td>\n",
              "      <td>0.0</td>\n",
              "      <td>1.0</td>\n",
              "      <td>0.0</td>\n",
              "      <td>1.0</td>\n",
              "      <td>0.0</td>\n",
              "      <td>0.0</td>\n",
              "      <td>0.0</td>\n",
              "      <td>0.0</td>\n",
              "      <td>1.0</td>\n",
              "      <td>0.0</td>\n",
              "      <td>0.0</td>\n",
              "      <td>0.0</td>\n",
              "      <td>1.0</td>\n",
              "      <td>0.0</td>\n",
              "      <td>0.0</td>\n",
              "      <td>1.0</td>\n",
              "      <td>0.0</td>\n",
              "      <td>0.0</td>\n",
              "    </tr>\n",
              "    <tr>\n",
              "      <th>178</th>\n",
              "      <td>0.428571</td>\n",
              "      <td>0.333333</td>\n",
              "      <td>0.0</td>\n",
              "      <td>0.0</td>\n",
              "      <td>0.0</td>\n",
              "      <td>0.0</td>\n",
              "      <td>0.0</td>\n",
              "      <td>1.0</td>\n",
              "      <td>0.0</td>\n",
              "      <td>0.5</td>\n",
              "      <td>1.00</td>\n",
              "      <td>0.25</td>\n",
              "      <td>1.00</td>\n",
              "      <td>1.00</td>\n",
              "      <td>0.0</td>\n",
              "      <td>0.0</td>\n",
              "      <td>1.0</td>\n",
              "      <td>0.0</td>\n",
              "      <td>0.0</td>\n",
              "      <td>1.0</td>\n",
              "      <td>0.0</td>\n",
              "      <td>1.0</td>\n",
              "      <td>0.0</td>\n",
              "      <td>1.0</td>\n",
              "      <td>0.0</td>\n",
              "      <td>1.0</td>\n",
              "      <td>0.0</td>\n",
              "      <td>1.0</td>\n",
              "      <td>0.0</td>\n",
              "      <td>0.0</td>\n",
              "      <td>0.0</td>\n",
              "      <td>1.0</td>\n",
              "      <td>0.0</td>\n",
              "      <td>0.0</td>\n",
              "      <td>0.0</td>\n",
              "      <td>0.0</td>\n",
              "      <td>0.0</td>\n",
              "      <td>0.0</td>\n",
              "      <td>0.0</td>\n",
              "      <td>1.0</td>\n",
              "      <td>0.0</td>\n",
              "      <td>0.0</td>\n",
              "      <td>0.0</td>\n",
              "      <td>0.0</td>\n",
              "      <td>1.0</td>\n",
              "      <td>0.0</td>\n",
              "      <td>0.0</td>\n",
              "      <td>0.0</td>\n",
              "      <td>1.0</td>\n",
              "      <td>0.0</td>\n",
              "      <td>0.0</td>\n",
              "      <td>1.0</td>\n",
              "      <td>0.0</td>\n",
              "      <td>0.0</td>\n",
              "      <td>0.0</td>\n",
              "      <td>1.0</td>\n",
              "      <td>0.0</td>\n",
              "      <td>0.0</td>\n",
              "      <td>0.0</td>\n",
              "      <td>1.0</td>\n",
              "      <td>0.0</td>\n",
              "    </tr>\n",
              "    <tr>\n",
              "      <th>1827</th>\n",
              "      <td>0.428571</td>\n",
              "      <td>0.000000</td>\n",
              "      <td>0.0</td>\n",
              "      <td>0.0</td>\n",
              "      <td>0.0</td>\n",
              "      <td>1.0</td>\n",
              "      <td>1.0</td>\n",
              "      <td>1.0</td>\n",
              "      <td>0.0</td>\n",
              "      <td>1.0</td>\n",
              "      <td>0.75</td>\n",
              "      <td>0.00</td>\n",
              "      <td>0.00</td>\n",
              "      <td>0.00</td>\n",
              "      <td>1.0</td>\n",
              "      <td>0.0</td>\n",
              "      <td>0.0</td>\n",
              "      <td>0.0</td>\n",
              "      <td>1.0</td>\n",
              "      <td>0.0</td>\n",
              "      <td>1.0</td>\n",
              "      <td>0.0</td>\n",
              "      <td>1.0</td>\n",
              "      <td>0.0</td>\n",
              "      <td>0.0</td>\n",
              "      <td>1.0</td>\n",
              "      <td>0.0</td>\n",
              "      <td>0.0</td>\n",
              "      <td>1.0</td>\n",
              "      <td>0.0</td>\n",
              "      <td>0.0</td>\n",
              "      <td>0.0</td>\n",
              "      <td>0.0</td>\n",
              "      <td>1.0</td>\n",
              "      <td>0.0</td>\n",
              "      <td>0.0</td>\n",
              "      <td>0.0</td>\n",
              "      <td>0.0</td>\n",
              "      <td>1.0</td>\n",
              "      <td>0.0</td>\n",
              "      <td>0.0</td>\n",
              "      <td>0.0</td>\n",
              "      <td>0.0</td>\n",
              "      <td>1.0</td>\n",
              "      <td>0.0</td>\n",
              "      <td>0.0</td>\n",
              "      <td>0.0</td>\n",
              "      <td>0.0</td>\n",
              "      <td>0.0</td>\n",
              "      <td>1.0</td>\n",
              "      <td>0.0</td>\n",
              "      <td>1.0</td>\n",
              "      <td>0.0</td>\n",
              "      <td>1.0</td>\n",
              "      <td>0.0</td>\n",
              "      <td>0.0</td>\n",
              "      <td>0.0</td>\n",
              "      <td>0.0</td>\n",
              "      <td>1.0</td>\n",
              "      <td>0.0</td>\n",
              "      <td>0.0</td>\n",
              "    </tr>\n",
              "  </tbody>\n",
              "</table>\n",
              "</div>"
            ],
            "text/plain": [
              "            0         1    2    3    4    5   ...   55   56   57   58   59   60\n",
              "2208  0.428571  0.000000  0.0  1.0  0.0  1.0  ...  0.0  0.0  0.0  1.0  0.0  0.0\n",
              "2236  0.000000  0.000000  0.0  0.0  0.0  1.0  ...  0.0  1.0  1.0  0.0  0.0  0.0\n",
              "615   0.285714  0.000000  0.0  1.0  1.0  1.0  ...  1.0  0.0  0.0  1.0  0.0  0.0\n",
              "178   0.428571  0.333333  0.0  0.0  0.0  0.0  ...  1.0  0.0  0.0  0.0  1.0  0.0\n",
              "1827  0.428571  0.000000  0.0  0.0  0.0  1.0  ...  0.0  0.0  0.0  1.0  0.0  0.0\n",
              "\n",
              "[5 rows x 61 columns]"
            ]
          },
          "metadata": {
            "tags": []
          },
          "execution_count": 6
        }
      ]
    },
    {
      "cell_type": "code",
      "metadata": {
        "colab": {
          "base_uri": "https://localhost:8080/"
        },
        "id": "_Ov3g9GnrUhZ",
        "outputId": "a42e0dfb-7fab-4215-9bf2-cf846647f55d"
      },
      "source": [
        "X_test.shape"
      ],
      "execution_count": 34,
      "outputs": [
        {
          "output_type": "execute_result",
          "data": {
            "text/plain": [
              "(2355, 61)"
            ]
          },
          "metadata": {
            "tags": []
          },
          "execution_count": 34
        }
      ]
    },
    {
      "cell_type": "markdown",
      "metadata": {
        "id": "2iNN-ly_yV5Q"
      },
      "source": [
        "Kako smo u EDA vidjeli da je odnos zavisne varijable $70:30$ napravit ćemo oversampling kako bi povećali točnost modela i povećali broj uzoraka za treniranje. Koristit ćemo algoritam $SMOTE$. "
      ]
    },
    {
      "cell_type": "code",
      "metadata": {
        "id": "P5XxLhm_kk0w"
      },
      "source": [
        "from imblearn.over_sampling import SMOTE\r\n",
        "\r\n",
        "oversample = SMOTE()\r\n",
        "X_train, y_train = oversample.fit_resample(X_train, y_train)"
      ],
      "execution_count": null,
      "outputs": []
    },
    {
      "cell_type": "markdown",
      "metadata": {
        "id": "lCV9Kx4BysEt"
      },
      "source": [
        "Koristit ćemo 4 ML algoritma:\r\n",
        "\r\n",
        "1. Logistička regresija\r\n",
        "\r\n",
        "2. Stablo odlučivanja\r\n",
        "\r\n",
        "3. SVM Klasifikator\r\n",
        "\r\n",
        "4. Neuronska mreža"
      ]
    },
    {
      "cell_type": "markdown",
      "metadata": {
        "id": "7ybR7C2smLSw"
      },
      "source": [
        "**1. Logistička regresija**"
      ]
    },
    {
      "cell_type": "code",
      "metadata": {
        "id": "PsgckYL0kk3N"
      },
      "source": [
        "from sklearn.linear_model import LogisticRegression\r\n",
        "from sklearn.model_selection import RepeatedStratifiedKFold\r\n",
        "from sklearn.model_selection import GridSearchCV\r\n",
        "from sklearn.metrics import f1_score, precision_score, recall_score"
      ],
      "execution_count": 8,
      "outputs": []
    },
    {
      "cell_type": "code",
      "metadata": {
        "id": "o4aWv6aEkk5w"
      },
      "source": [
        "model = LogisticRegression()\r\n",
        "solvers = ['newton-cg', 'lbfgs', 'liblinear']\r\n",
        "penalty = ['l2','l1','elasticnet’']\r\n",
        "c_values = [100, 10, 1.0, 0.1, 0.01]"
      ],
      "execution_count": 9,
      "outputs": []
    },
    {
      "cell_type": "code",
      "metadata": {
        "id": "SWiOh-KTkk8n"
      },
      "source": [
        "grid = dict(solver=solvers,\r\n",
        "            penalty=penalty,\r\n",
        "            C=c_values)\r\n",
        "\r\n",
        "cv = RepeatedStratifiedKFold(n_splits=10, \r\n",
        "                             n_repeats=1, \r\n",
        "                             random_state=1)\r\n",
        "\r\n",
        "grid_search = GridSearchCV(estimator=model, \r\n",
        "                           param_grid=grid, \r\n",
        "                           n_jobs=-1, \r\n",
        "                           cv=cv, \r\n",
        "                           scoring='accuracy',\r\n",
        "                           error_score=0)\r\n",
        "\r\n",
        "grid_result = grid_search.fit(X_train, y_train)"
      ],
      "execution_count": 10,
      "outputs": []
    },
    {
      "cell_type": "code",
      "metadata": {
        "colab": {
          "base_uri": "https://localhost:8080/"
        },
        "id": "h5w259fWlMLZ",
        "outputId": "6d5d04b9-01ff-4b5a-f8de-6ad5cdc20440"
      },
      "source": [
        "print(\"Best: %f using %s\" % (grid_result.best_score_, grid_result.best_params_))"
      ],
      "execution_count": 11,
      "outputs": [
        {
          "output_type": "stream",
          "text": [
            "Best: 0.831157 using {'C': 10, 'penalty': 'l2', 'solver': 'liblinear'}\n"
          ],
          "name": "stdout"
        }
      ]
    },
    {
      "cell_type": "code",
      "metadata": {
        "colab": {
          "base_uri": "https://localhost:8080/"
        },
        "id": "LsYVRVe-lMU2",
        "outputId": "d92b4001-8543-4b14-8d8b-5263bee06f77"
      },
      "source": [
        "y_pred = grid_search.predict(X_test)\r\n",
        "from sklearn.metrics import confusion_matrix\r\n",
        "cm = confusion_matrix(y_test, y_pred)\r\n",
        "sns.heatmap(cm)"
      ],
      "execution_count": 12,
      "outputs": [
        {
          "output_type": "stream",
          "text": [
            "[[1307  295]\n",
            " [ 142  611]]\n"
          ],
          "name": "stdout"
        }
      ]
    },
    {
      "cell_type": "code",
      "metadata": {
        "colab": {
          "base_uri": "https://localhost:8080/"
        },
        "id": "_iCG-yN2lMXg",
        "outputId": "7da65630-35cf-4b20-87df-85d8e694fdcc"
      },
      "source": [
        "acc = (cm[0][0]+cm[1][1])/2355\r\n",
        "print('Test Accuracy:',acc)\r\n",
        "print('Test F1: ',f1_score(y_test, y_pred))\r\n",
        "print('Test Precision ',precision_score(y_test, y_pred))\r\n",
        "print('Test Recal: ',recall_score(y_test, y_pred))"
      ],
      "execution_count": 13,
      "outputs": [
        {
          "output_type": "stream",
          "text": [
            "Test Accuracy: 0.8144373673036094\n",
            "Test F1:  0.7365883062085594\n",
            "Test Precision  0.67439293598234\n",
            "Test Recal:  0.8114209827357237\n"
          ],
          "name": "stdout"
        }
      ]
    },
    {
      "cell_type": "code",
      "metadata": {
        "colab": {
          "base_uri": "https://localhost:8080/",
          "height": 295
        },
        "id": "8ltUHVpBlMaS",
        "outputId": "814d15aa-a760-459b-d7f8-ebde0b9391fc"
      },
      "source": [
        "from sklearn.metrics import roc_curve, auc\r\n",
        "import matplotlib.pyplot as plt\r\n",
        "y_prob = grid_search.predict_proba(X_test)\r\n",
        "          \r\n",
        "fpr, tpr, threshold = roc_curve(y_test, y_prob[:,1])\r\n",
        "roc_auc = auc(fpr, tpr)\r\n",
        "\r\n",
        "plt.title('Receiver Operating Characteristic')\r\n",
        "plt.plot(fpr, tpr, 'royalblue', label = 'AUC = %0.7f' % roc_auc)\r\n",
        "plt.legend(loc = 'lower right')\r\n",
        "plt.plot([0, 1], [0, 1],'lightcoral')\r\n",
        "plt.ylabel('True Positive Rate')\r\n",
        "plt.xlabel('False Positive Rate')\r\n",
        "plt.show()"
      ],
      "execution_count": 14,
      "outputs": [
        {
          "output_type": "display_data",
          "data": {
            "image/png": "[encoded data removed]",
            "text/plain": [
              "<Figure size 432x288 with 1 Axes>"
            ]
          },
          "metadata": {
            "tags": [],
            "needs_background": "light"
          }
        }
      ]
    },
    {
      "cell_type": "markdown",
      "metadata": {
        "id": "rV-p99qzmVjf"
      },
      "source": [
        "**2. Stablo odlučivanja**"
      ]
    },
    {
      "cell_type": "code",
      "metadata": {
        "id": "PHjw3jxElMcn"
      },
      "source": [
        "from sklearn.tree import DecisionTreeClassifier\r\n",
        "\r\n",
        "model = DecisionTreeClassifier()\r\n",
        "criterion = ['gini','entropy']\r\n",
        "max_depth = range(1,10)\r\n",
        "min_samples_split = range(1,10)\r\n",
        "min_samples_leaf = range(1,5)"
      ],
      "execution_count": 15,
      "outputs": []
    },
    {
      "cell_type": "code",
      "metadata": {
        "id": "p7PNYGD8mZ0v"
      },
      "source": [
        "grid = dict(criterion = criterion, \r\n",
        "            max_depth = max_depth,\r\n",
        "            min_samples_split = min_samples_split,\r\n",
        "            min_samples_leaf = min_samples_leaf)\r\n",
        "\r\n",
        "cv = RepeatedStratifiedKFold(n_splits=10, \r\n",
        "                             n_repeats=3, \r\n",
        "                             random_state=1)\r\n",
        "\r\n",
        "grid_search = GridSearchCV(estimator=model, \r\n",
        "                           param_grid=grid, \r\n",
        "                           n_jobs=-1, \r\n",
        "                           cv=cv, \r\n",
        "                           scoring='accuracy',\r\n",
        "                           error_score=0)\r\n",
        "\r\n",
        "grid_result = grid_search.fit(X_train, y_train)"
      ],
      "execution_count": 16,
      "outputs": []
    },
    {
      "cell_type": "code",
      "metadata": {
        "colab": {
          "base_uri": "https://localhost:8080/"
        },
        "id": "h-mBVQRlmZ7H",
        "outputId": "a79af509-b9b0-40ac-8bda-a98b5cd9c3db"
      },
      "source": [
        "print(\"Best: %f using %s\" % (grid_result.best_score_, grid_result.best_params_))"
      ],
      "execution_count": 18,
      "outputs": [
        {
          "output_type": "stream",
          "text": [
            "Best: 0.880612 using {'criterion': 'gini', 'max_depth': 9, 'min_samples_leaf': 3, 'min_samples_split': 6}\n"
          ],
          "name": "stdout"
        }
      ]
    },
    {
      "cell_type": "code",
      "metadata": {
        "colab": {
          "base_uri": "https://localhost:8080/",
          "height": 282
        },
        "id": "unX6VEs7maAM",
        "outputId": "772a7e64-6d27-4c0f-9a4c-fca1b87b3727"
      },
      "source": [
        "y_pred = grid_search.predict(X_test)\r\n",
        "from sklearn.metrics import confusion_matrix\r\n",
        "cm = confusion_matrix(y_test, y_pred)\r\n",
        "sns.heatmap(cm, annot=True,cmap='Blues_r')"
      ],
      "execution_count": 25,
      "outputs": [
        {
          "output_type": "execute_result",
          "data": {
            "text/plain": [
              "<matplotlib.axes._subplots.AxesSubplot at 0x7f317e9359e8>"
            ]
          },
          "metadata": {
            "tags": []
          },
          "execution_count": 25
        },
        {
          "output_type": "display_data",
          "data": {
            "image/png": "[encoded data removed]",
            "text/plain": [
              "<Figure size 432x288 with 2 Axes>"
            ]
          },
          "metadata": {
            "tags": [],
            "needs_background": "light"
          }
        }
      ]
    },
    {
      "cell_type": "code",
      "metadata": {
        "colab": {
          "base_uri": "https://localhost:8080/"
        },
        "id": "JD5_oCRimaEQ",
        "outputId": "848bb4d6-7ddc-4472-a029-de2863800544"
      },
      "source": [
        "acc = (cm[0][0]+cm[1][1])/2355\r\n",
        "print('Test Accuracy:',acc)\r\n",
        "print('Test F1: ',f1_score(y_test, y_pred))\r\n",
        "print('Test Precision ',precision_score(y_test, y_pred))\r\n",
        "print('Test Recal: ',recall_score(y_test, y_pred))"
      ],
      "execution_count": 26,
      "outputs": [
        {
          "output_type": "stream",
          "text": [
            "Test Accuracy: 0.8416135881104034\n",
            "Test F1:  0.7588881706528766\n",
            "Test Precision  0.739294710327456\n",
            "Test Recal:  0.7795484727755644\n"
          ],
          "name": "stdout"
        }
      ]
    },
    {
      "cell_type": "code",
      "metadata": {
        "colab": {
          "base_uri": "https://localhost:8080/",
          "height": 295
        },
        "id": "G0P1jcC0lMfo",
        "outputId": "fc545ca9-ce54-477c-f375-b0370f5a836c"
      },
      "source": [
        "y_prob = grid_search.predict_proba(X_test)\r\n",
        "          \r\n",
        "fpr, tpr, threshold = roc_curve(y_test, y_prob[:,1])\r\n",
        "roc_auc = auc(fpr, tpr)\r\n",
        "\r\n",
        "plt.title('Receiver Operating Characteristic')\r\n",
        "plt.plot(fpr, tpr, 'royalblue', label = 'AUC = %0.7f' % roc_auc)\r\n",
        "plt.legend(loc = 'lower right')\r\n",
        "plt.plot([0, 1], [0, 1],'lightcoral')\r\n",
        "plt.ylabel('True Positive Rate')\r\n",
        "plt.xlabel('False Positive Rate')\r\n",
        "plt.show()"
      ],
      "execution_count": 27,
      "outputs": [
        {
          "output_type": "display_data",
          "data": {
            "image/png": "[encoded data removed]",
            "text/plain": [
              "<Figure size 432x288 with 1 Axes>"
            ]
          },
          "metadata": {
            "tags": [],
            "needs_background": "light"
          }
        }
      ]
    },
    {
      "cell_type": "markdown",
      "metadata": {
        "id": "NYxpK9O6ozHR"
      },
      "source": [
        "**3. Support vector machine klasifikator**"
      ]
    },
    {
      "cell_type": "code",
      "metadata": {
        "id": "PJJeRAMUoyg5"
      },
      "source": [
        "from sklearn.svm import SVC\r\n",
        "\r\n",
        "model = SVC(probability=True)\r\n",
        "kernel = ['poly', 'rbf', 'sigmoid']\r\n",
        "C = [100, 50, 10, 1.0, 0.1, 0.01]\r\n",
        "gamma = ['scale']"
      ],
      "execution_count": 28,
      "outputs": []
    },
    {
      "cell_type": "code",
      "metadata": {
        "id": "iwWeli4moyrf"
      },
      "source": [
        "grid = dict(kernel=kernel,\r\n",
        "            C=C,gamma=gamma)\r\n",
        "\r\n",
        "cv = RepeatedStratifiedKFold(n_splits=3, \r\n",
        "                             n_repeats=1, \r\n",
        "                             random_state=1)\r\n",
        "\r\n",
        "grid_search = GridSearchCV(estimator=model, \r\n",
        "                           param_grid=grid, \r\n",
        "                           n_jobs=2, \r\n",
        "                           cv=cv, \r\n",
        "                           scoring='accuracy',\r\n",
        "                           error_score=0)\r\n",
        "\r\n",
        "grid_result = grid_search.fit(X_train, y_train)"
      ],
      "execution_count": 29,
      "outputs": []
    },
    {
      "cell_type": "code",
      "metadata": {
        "colab": {
          "base_uri": "https://localhost:8080/"
        },
        "id": "Bj3Xyaa6oyw7",
        "outputId": "52692c26-cea8-4f33-a389-5cebdaca1ff2"
      },
      "source": [
        "print(\"Best: %f using %s\" % (grid_result.best_score_, grid_result.best_params_))"
      ],
      "execution_count": 30,
      "outputs": [
        {
          "output_type": "stream",
          "text": [
            "Best: 0.897081 using {'C': 100, 'gamma': 'scale', 'kernel': 'rbf'}\n"
          ],
          "name": "stdout"
        }
      ]
    },
    {
      "cell_type": "code",
      "metadata": {
        "colab": {
          "base_uri": "https://localhost:8080/",
          "height": 284
        },
        "id": "re3VhOYdo9Ss",
        "outputId": "3980549b-2220-401b-8a3b-268550b8bc6b"
      },
      "source": [
        "y_pred = grid_search.predict(X_test)\r\n",
        "from sklearn.metrics import confusion_matrix\r\n",
        "cm = confusion_matrix(y_test, y_pred)\r\n",
        "sns.heatmap(cm, annot=True,cmap='Blues_r')"
      ],
      "execution_count": 31,
      "outputs": [
        {
          "output_type": "execute_result",
          "data": {
            "text/plain": [
              "<matplotlib.axes._subplots.AxesSubplot at 0x7f317e4d3a58>"
            ]
          },
          "metadata": {
            "tags": []
          },
          "execution_count": 31
        },
        {
          "output_type": "display_data",
          "data": {
            "image/png": "[encoded data removed]",
            "text/plain": [
              "<Figure size 432x288 with 2 Axes>"
            ]
          },
          "metadata": {
            "tags": [],
            "needs_background": "light"
          }
        }
      ]
    },
    {
      "cell_type": "code",
      "metadata": {
        "colab": {
          "base_uri": "https://localhost:8080/"
        },
        "id": "wE3n6Dgao9V3",
        "outputId": "72b58480-cd9f-4bea-c28a-519b990abb3a"
      },
      "source": [
        "acc = (cm[0][0]+cm[1][1])/2355\r\n",
        "print('Test Accuracy:',acc)\r\n",
        "print('Test F1: ',f1_score(y_test, y_pred))\r\n",
        "print('Test Precision ',precision_score(y_test, y_pred))\r\n",
        "print('Test Recal: ',recall_score(y_test, y_pred))"
      ],
      "execution_count": 32,
      "outputs": [
        {
          "output_type": "stream",
          "text": [
            "Test Accuracy: 0.8535031847133758\n",
            "Test F1:  0.7749510763209393\n",
            "Test Precision  0.7615384615384615\n",
            "Test Recal:  0.7888446215139442\n"
          ],
          "name": "stdout"
        }
      ]
    },
    {
      "cell_type": "code",
      "metadata": {
        "colab": {
          "base_uri": "https://localhost:8080/",
          "height": 295
        },
        "id": "ZueQt7cxo9Yq",
        "outputId": "e662656c-72b4-4885-ce70-d71b92164aec"
      },
      "source": [
        "y_prob = grid_search.predict_proba(X_test)\r\n",
        "          \r\n",
        "fpr, tpr, threshold = roc_curve(y_test, y_prob[:,1])\r\n",
        "roc_auc = auc(fpr, tpr)\r\n",
        "\r\n",
        "plt.title('Receiver Operating Characteristic')\r\n",
        "plt.plot(fpr, tpr, 'royalblue', label = 'AUC = %0.7f' % roc_auc)\r\n",
        "plt.legend(loc = 'lower right')\r\n",
        "plt.plot([0, 1], [0, 1],'lightcoral')\r\n",
        "plt.ylabel('True Positive Rate')\r\n",
        "plt.xlabel('False Positive Rate')\r\n",
        "plt.show()"
      ],
      "execution_count": 33,
      "outputs": [
        {
          "output_type": "display_data",
          "data": {
            "image/png": "[encoded data removed]",
            "text/plain": [
              "<Figure size 432x288 with 1 Axes>"
            ]
          },
          "metadata": {
            "tags": [],
            "needs_background": "light"
          }
        }
      ]
    },
    {
      "cell_type": "markdown",
      "metadata": {
        "id": "svjBlm2LrK6S"
      },
      "source": [
        "**4. Neuronska mreža**"
      ]
    },
    {
      "cell_type": "code",
      "metadata": {
        "id": "EEyBi_IsrJCa"
      },
      "source": [
        "from keras.models import Sequential\r\n",
        "from keras.layers import Dense\r\n",
        "from keras.layers import Dropout\r\n",
        "from keras.wrappers.scikit_learn import KerasClassifier"
      ],
      "execution_count": 35,
      "outputs": []
    },
    {
      "cell_type": "code",
      "metadata": {
        "id": "NUAyWJLMrJMM"
      },
      "source": [
        "def create_model(init_mode='uniform',dropout_rate=0.0,optimizer='adam'):\r\n",
        "  model = Sequential()\r\n",
        "  model.add(Dense(61, input_dim= 61, kernel_initializer = init_mode, activation = 'relu'))\r\n",
        "  model.add(Dropout(dropout_rate))\r\n",
        "  model.add(Dense(40, kernel_initializer = init_mode, activation = 'relu'))\r\n",
        "  model.add(Dropout(dropout_rate))\r\n",
        "  model.add(Dense(21, kernel_initializer = init_mode, activation = 'relu'))\r\n",
        "  model.add(Dropout(dropout_rate))\r\n",
        "  model.add(Dense(1, activation = 'sigmoid'))\r\n",
        "  model.compile(loss='binary_crossentropy', optimizer=optimizer, metrics=['accuracy'])\r\n",
        "  return model"
      ],
      "execution_count": 36,
      "outputs": []
    },
    {
      "cell_type": "code",
      "metadata": {
        "id": "VBZXwuxmrJPB"
      },
      "source": [
        "init_mode = ['uniform', 'normal',]\r\n",
        "dropout_rate = [0.0, 0.1, 0.15]\r\n",
        "optimizer = ['SGD', 'RMSprop', 'Adam']"
      ],
      "execution_count": 37,
      "outputs": []
    },
    {
      "cell_type": "code",
      "metadata": {
        "id": "bHqJBMWErJRy"
      },
      "source": [
        "model = KerasClassifier(build_fn = create_model, \r\n",
        "                        epochs=20, \r\n",
        "                        batch_size=10, \r\n",
        "                        verbose=0)"
      ],
      "execution_count": 38,
      "outputs": []
    },
    {
      "cell_type": "code",
      "metadata": {
        "id": "dcib2F13rJUj"
      },
      "source": [
        "param_grid = dict(dropout_rate=dropout_rate, \r\n",
        "                  init_mode=init_mode,\r\n",
        "                  optimizer=optimizer)\r\n",
        "\r\n",
        "grid = GridSearchCV(estimator=model, \r\n",
        "                    param_grid=param_grid, \r\n",
        "                    n_jobs=-1, \r\n",
        "                    cv=3,\r\n",
        "                    scoring='accuracy')\r\n",
        "\r\n",
        "grid_result = grid.fit(X_train, y_train)"
      ],
      "execution_count": 39,
      "outputs": []
    },
    {
      "cell_type": "code",
      "metadata": {
        "colab": {
          "base_uri": "https://localhost:8080/"
        },
        "id": "_C4fQjUVrnQY",
        "outputId": "4441cf84-0f9f-41bd-c8df-b8252acee07f"
      },
      "source": [
        "print(\"Best: %f using %s\" % (grid_result.best_score_, grid_result.best_params_))"
      ],
      "execution_count": 40,
      "outputs": [
        {
          "output_type": "stream",
          "text": [
            "Best: 0.614695 using {'dropout_rate': 0.0, 'init_mode': 'normal', 'optimizer': 'SGD'}\n"
          ],
          "name": "stdout"
        }
      ]
    },
    {
      "cell_type": "markdown",
      "metadata": {
        "id": "m-HBH-bIzDiF"
      },
      "source": [
        "Obzirom na malo sumnjiv postotak točnosti od $61\\%$ ručno ćemo trenirat neuronsku mrežu s parametrima koje je Grid pronašao kao najbolje. "
      ]
    },
    {
      "cell_type": "code",
      "metadata": {
        "id": "0GaCAWqRrnYK"
      },
      "source": [
        "model = Sequential()\r\n",
        "model.add(Dense(61, input_dim= 61, kernel_initializer = 'normal', activation = 'relu'))\r\n",
        "model.add(Dropout(0.0))\r\n",
        "model.add(Dense(40, kernel_initializer = 'normal', activation = 'relu'))\r\n",
        "model.add(Dropout(0.0))\r\n",
        "model.add(Dense(21, kernel_initializer = 'normal', activation = 'relu'))\r\n",
        "model.add(Dropout(0.0))\r\n",
        "model.add(Dense(1, activation = 'sigmoid'))\r\n",
        "model.compile(loss='binary_crossentropy', optimizer='Adam', metrics=['accuracy'])"
      ],
      "execution_count": 41,
      "outputs": []
    },
    {
      "cell_type": "code",
      "metadata": {
        "colab": {
          "base_uri": "https://localhost:8080/"
        },
        "id": "6guQDX8rrnbK",
        "outputId": "ace1fd19-522f-4f68-e558-b5524a07b97e"
      },
      "source": [
        "model.fit(X_train, y_train,\r\n",
        "          epochs = 20,\r\n",
        "          verbose = 0) "
      ],
      "execution_count": 42,
      "outputs": [
        {
          "output_type": "execute_result",
          "data": {
            "text/plain": [
              "<tensorflow.python.keras.callbacks.History at 0x7f3146f37e80>"
            ]
          },
          "metadata": {
            "tags": []
          },
          "execution_count": 42
        }
      ]
    },
    {
      "cell_type": "code",
      "metadata": {
        "colab": {
          "base_uri": "https://localhost:8080/"
        },
        "id": "I3QsPopnrnh2",
        "outputId": "eb213bb0-eb43-4eb4-be70-e2eb1cd2e89b"
      },
      "source": [
        "print(model.evaluate(X_train,y_train))\r\n",
        "print(model.evaluate(X_test,y_test))"
      ],
      "execution_count": 44,
      "outputs": [
        {
          "output_type": "stream",
          "text": [
            "245/245 [==============================] - 0s 980us/step - loss: 0.2076 - accuracy: 0.9095\n",
            "[0.207638218998909, 0.9094982147216797]\n",
            "74/74 [==============================] - 0s 991us/step - loss: 0.3700 - accuracy: 0.8493\n",
            "[0.36995306611061096, 0.8492568731307983]\n"
          ],
          "name": "stdout"
        }
      ]
    },
    {
      "cell_type": "code",
      "metadata": {
        "colab": {
          "base_uri": "https://localhost:8080/",
          "height": 335
        },
        "id": "62RkofH4uDoS",
        "outputId": "f21629fd-daa2-4c25-d615-7484703b3134"
      },
      "source": [
        "y_pred = model.predict_classes(X_test)\r\n",
        "from sklearn.metrics import confusion_matrix\r\n",
        "cm = confusion_matrix(y_test, y_pred)\r\n",
        "sns.heatmap(cm, annot=True,cmap='Blues_r')"
      ],
      "execution_count": 45,
      "outputs": [
        {
          "output_type": "stream",
          "text": [
            "/usr/local/lib/python3.6/dist-packages/tensorflow/python/keras/engine/sequential.py:450: UserWarning: `model.predict_classes()` is deprecated and will be removed after 2021-01-01. Please use instead:* `np.argmax(model.predict(x), axis=-1)`,   if your model does multi-class classification   (e.g. if it uses a `softmax` last-layer activation).* `(model.predict(x) > 0.5).astype(\"int32\")`,   if your model does binary classification   (e.g. if it uses a `sigmoid` last-layer activation).\n",
            "  warnings.warn('`model.predict_classes()` is deprecated and '\n"
          ],
          "name": "stderr"
        },
        {
          "output_type": "execute_result",
          "data": {
            "text/plain": [
              "<matplotlib.axes._subplots.AxesSubplot at 0x7f3145c7d780>"
            ]
          },
          "metadata": {
            "tags": []
          },
          "execution_count": 45
        },
        {
          "output_type": "display_data",
          "data": {
            "image/png": "[encoded data removed]",
            "text/plain": [
              "<Figure size 432x288 with 2 Axes>"
            ]
          },
          "metadata": {
            "tags": [],
            "needs_background": "light"
          }
        }
      ]
    },
    {
      "cell_type": "code",
      "metadata": {
        "colab": {
          "base_uri": "https://localhost:8080/"
        },
        "id": "rME64QZmuDx4",
        "outputId": "b73612c8-a83b-4a2e-8c45-85b8ef710f67"
      },
      "source": [
        "acc = (cm[0][0]+cm[1][1])/2355\r\n",
        "print('Test Accuracy:',acc)\r\n",
        "print('Test F1: ',f1_score(y_test, y_pred))\r\n",
        "print('Test Precision ',precision_score(y_test, y_pred))\r\n",
        "print('Test Recal: ',recall_score(y_test, y_pred))"
      ],
      "execution_count": 46,
      "outputs": [
        {
          "output_type": "stream",
          "text": [
            "Test Accuracy: 0.8492569002123143\n",
            "Test F1:  0.7867867867867867\n",
            "Test Precision  0.7182017543859649\n",
            "Test Recal:  0.8698539176626826\n"
          ],
          "name": "stdout"
        }
      ]
    },
    {
      "cell_type": "code",
      "metadata": {
        "colab": {
          "base_uri": "https://localhost:8080/",
          "height": 349
        },
        "id": "UrqT8RWiuTC1",
        "outputId": "3c113cc3-7b2c-4045-a270-4097ccb0f31e"
      },
      "source": [
        "from sklearn.metrics import roc_curve, auc\r\n",
        "import matplotlib.pyplot as plt\r\n",
        "y_prob = model.predict_proba(X_test)\r\n",
        "          \r\n",
        "fpr, tpr, threshold = roc_curve(y_test, y_prob)\r\n",
        "roc_auc = auc(fpr, tpr)\r\n",
        "\r\n",
        "plt.title('Receiver Operating Characteristic')\r\n",
        "plt.plot(fpr, tpr, 'royalblue', label = 'AUC = %0.7f' % roc_auc)\r\n",
        "plt.legend(loc = 'lower right')\r\n",
        "plt.plot([0, 1], [0, 1],'lightcoral')\r\n",
        "plt.ylabel('True Positive Rate')\r\n",
        "plt.xlabel('False Positive Rate')\r\n",
        "plt.show()"
      ],
      "execution_count": 47,
      "outputs": [
        {
          "output_type": "stream",
          "text": [
            "/usr/local/lib/python3.6/dist-packages/tensorflow/python/keras/engine/sequential.py:425: UserWarning: `model.predict_proba()` is deprecated and will be removed after 2021-01-01. Please use `model.predict()` instead.\n",
            "  warnings.warn('`model.predict_proba()` is deprecated and '\n"
          ],
          "name": "stderr"
        },
        {
          "output_type": "display_data",
          "data": {
            "image/png": "[encoded data removed]",
            "text/plain": [
              "<Figure size 432x288 with 1 Axes>"
            ]
          },
          "metadata": {
            "tags": [],
            "needs_background": "light"
          }
        }
      ]
    },
    {
      "cell_type": "markdown",
      "metadata": {
        "id": "AbYtrRw-u2Od"
      },
      "source": [
        "Odabir modela? Pogledajmo tablicu (koja je napravljena u Excelu radi bolje preglednosti) kako koji model stoji s pojedinom performansom.\r\n",
        "\r\n",
        "![image.png](data:image/png;base64,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)"
      ]
    },
    {
      "cell_type": "markdown",
      "metadata": {
        "id": "QRkuhaviu2ZT"
      },
      "source": [
        "Odmah je uočljivo kako logistička regresija stoji najgore po skoro svim performansama. Za odabir najboljeg upotrijebit ćemo neki sustav bodovanja. Kako smo imali 4 modela, za svaku perfomansu ćemo modelu dodjeliti bod, tako je 1-najgore, 4-najbolje, te tako pozbrajati redom i dobiti konačan odabir. Bodovi s kumulativnim zbrojem nalaze se u tablici ispod.\r\n",
        "\r\n",
        "![image.png](data:image/png;base64,iVBORw0KGgoAAAANSUhEUgAAAtQAAAB5CAYAAAAZMLbpAAAgAElEQVR4Ae1dT6s8MVatb+GAsxQGZkAs3IxvZFbqLJzdoBSDK0eeDIO4EoQSXIkbhbfQXe3cCyq8VeNXcPMTF/1FBBeRm+QkN6nc6qr+l7zOffCoTiqV3Htykpy6naoeTOHv27dvhVzNUgQUga+MgI7rY72neMl49YxNz77LjEjP9IyR+p5y4RVTUh8PJWelwqWymqcIKAJfAwEd18f6SfGS8eoZm559lxmRnukZI/U95cIrpqQ+VkH9ir2tPikCBQSkSaBQVLOMMYqXTIOesenZd5kR6ZmeMVLfUy68YkrqYxXUr9jb6pMiUEBAmgQKRTVLBfUmB3rmUs++b5KCnewZI/WdEeFFP0p9PNCJ/H8YBqP/ioFyQDmgHFAOKAeUA8oB5YByIOVArpspXYxQE3Dn81n/FQPlwAtxQMf1sTlN8ZLx6hmbnn3fqwt6xkh9l+eNvfxpvRz1cemvmNszIVrvSLXv9Qfro/pYx/Ux7iheMl49Y9Oz73vnpp4xUt/leWMvf1ovR31c+ivm9kyI1jtS7Xv9wfqoPtZxfYw7ipeMV8/Y9Oz73rmpZ4zUd3ne2Muf1stRH5f+irk9E6L1jlT7Xn+wPqqPdVwf447iJePVMzY9+753buoZI/Vdnjf28qf1ctTHpb9ibs+EaL0jn2rfaTajfUB1MsvuvcSLmQ5f8/oD8Kn9JvSVjutjPFO8ZLx6xqZn3/fOY18To3ztytPyeOC4fE3f9/nG/Sx9ruL7VTrlNn/Jz9JfMbcKKIIIKHVar3nLxJ4yHWdzKmC2TGN8Q4tQZjd+VxH1uklot00Fn/XafZPDelyjrxivkjf8HLmRymy4ijtZHbyvlynyelqEh2VPhvjvbgKdT+O0ZONkTxlnx1Px4r4e/dwENht9d9QfXz6Z7xgvp4W35fqT+moYbuDrARvXvCB7TmYe1+NoHCeznLi9D/h8ZKwdKXsAk3wOLmMk+17u69FM80kY63JduS3705gPwaM8va/No75ftG9zfEfepePibM7hOvgD+/fPgRdtyzgi+V7s33E003KH/n0Epy/USX6W/oq5EihHwdXyIPA9jnHgUP8Mw2jm1USNCcBP7CqonzgZ36OPH1vHelxnfGGixXEsn4gP2HdhQjo6N6QTcsmuxUwFQUN+jGFR3lMm+vhUvNjCdJrdTXG0O9pUwq0NbLZtLNm9nZfPd1GsBuFwmrM+L/Hi3nad7Y3d2nbZ3ocL/SNj7UhZxsm1v9u4rsfOdvmUw7Gv0/G7XcdRG9flMR+CR3l6X/tHfV/bkbaTYgPbUCbyLowL9FtRUB+bAy/Zlp+XfE99SPt3ZTfs33t8BKcv1El+lv6KuRIoOXiaBqmfcYwDZxx9FDqL1IWFGOdVUKugZpPS5rgOE0jpRu0Z/N5qwy9s42xm/y1NPgnHCXs0c4h6+EiMF9R7yvA5rRZeYRyHG4Evhg3jHMfz2Gc23wk4UH+O02yW5ZqtaVuYbp8r8yLaG7gZxhS/qduu+xhG7dZVxki2F2Mz3kSybx5uXcd28zEX0Hlatp/321Hf+bXrz5fmvgLv4G9BUANnG5AT5sm1Dfv8pusk39Eu79/wjU6mYw63H8ZZfrOx3+6jbZKfpb9irgTK0Ua1/D07lA2cubSA4Pxo5tl/PZ5MRCezzPnX4fm2EX73Sl+3TcU91KeQ7+4006/Vr5uElCv35Eq5rs1xHSalXFDHCX1Bv3te5Xwaxol9a5LzgNWzgFeDoWsufiXuFwY7GWORSCZhtDWYIGawqITjnjIpbtfh5erYHiNncyIRGCLq+OoTYziN4MRFKLXPjpkWsQmYF+zdfS5isek/1Re4+5wFtcyLaG/kYMxzPrAxkI0l6stLnKFtJemWPvgLbiMt8Yv6Y13W1ru5NjC7d47dMkYyH9aCS+7X63E6r9bAXXPWwa1ER33fXPsuju/Iscg7jzPmymA/+n5rnpT7aNNOP64l39f9K9l9L52yVY/QNuYRu74BqzimuP/kZ+mvmCuBwivUz7cR7zh+nAT8s7eDkwEDiQlqEJr6NvkPZWKdyflsbyKiZ6syQeBsE/G438/G+XXboz4T8Qd/VluJ0J+MN8mEw/KJK4FPuA4TEtJZ+eSaMvaOu17oBztRr7zwJr6Wrrsg7q7Di4QRe46BjzeMkWALx4L8KY/BLUHZJDYXcE36RSwbsdjy39YV8GScEOstc2yfTe7aMi+ivRA29qbJ97/LK4wBP14ucuZ8NsU53HIK9Xr/Ax45v8j+rKxUbzIucQ2vz38O4z3FtYxRWoZjDt9iX9PNg28D48bedFwYW5I/CU6ZH8EH+Ake5WnZfu7LUd/5tfnni+ObzRngXagDOgCCOvAC/u3zJ9S3Y0xJvoe+5PNhsh3P2SKVi+tKHGfUVvof/bpUTxhvBW4lN7/ALvOd2i39FXMlUI4Aq2XvTdZIJBo4OSGQtmTAQMJEEQYS+zo85Pm71ZBGhNLd4TnCgqiYYFCGxAyi2nkZpO+Ng9Z37djaHNer/gfO6PPBDNkDfqeFPfBH+1ntBId+x3V5mr6m99eBp8KkZf2EXeByaQHZU8+eMoVJU8Qadok3IBtjBLbAp9NiZorU+/aTsZzZlNgDG1BPK9hs2bz7XJzv3ByExTPiFLAADls82t0ueC8fy+NIsrd0k5mPJYyVDc4EH2OZE0WL7XYYXO+x2eRXVpbXiy0AIQ+RTFyzf+yWMZIxlQUQ/wYLdkQMVutPsD2WiThR5P6aOavAuQ0+HfU98DivE75sje/SmEc94AHGRZ5GuTseJd/F/uWiGv7SnCpxkZexz5AVdAovc7Ee9C3GL3gDruF8yl3ys/RXzJVAETv+jh2ibaQdF/FAh+cCmDocne/JgIGDgZinfX+B5EURTmUCMT2pUM/qzpAWu31EjP5Ifmr+ozDaHNehr9GP6IeMW2ys24UqbFvIBQ+uw4SENK8feSiDNuMR4pJsX/0juhB4KdcjP/Ee28pxvwqvYEvBXj5GGG52HzB7wBg+O7Ek24dyK1wIq5rYMI7kmO5Px/ku9a/Qx4G7hXN3sSXtgzIvSvaO8ebR2gG+8zHA38awwRnwCnN64hfqhf8Icrj6Un5lZYV6k7UhX18SX9DmHozSMpwLaC/taxJW7BrYWpoLMLZQpogTCeqJbbUC3vAhwyb4jfPMlgT/NL/Mj7QM9136vGt8fzFBzec06gvX3348IJ31HbhxWKds1ZPjhjkkXJNzIe0/srv0V8y9FyEkomh+2jn78IgTtvtqJ6ZXDynmxMzTfjK4mqhbE9qVk9A+DK7BTa8BtpvjGhMKFqawYGBiyURAKI9FCUcsPrguT/N68jJ5X0WOu4kXbeDo62a2rL72hB97yqCsP16FF8ba5hghPymywhf3iAsWUr74oA/jsWFsMhyjzXn/bqWjf9s4FG7879K+bFuZF9FekYNhbox9bbHZwxmUwY1S4mNpHEn8ysqi3iAknN/J2lC0O6snsUd+OE3iQtoe+wYW0VWqH7ZujS2UKeHE5oB0PsnnKCktc4L7VebHvmtjPZFPqa3Z3MeE4WqcAAv0LfNf5uhRO9Pyku95/zo/wSE/HnJ7PaeSa0tlgl++30pl2FYg4IR51n7zunqzEmwDF9Z+qqDOBn0kbwpWm/lxgIXBAOL4CWaVvxpIbCIPJPR5edou+Niv5kkVyvCHz3LstonYJra5D6+ZliY72yehbxlH7HhBf6b5fDLC9fu2fPB6UHd50lp9QxLGbz4WYnr19DqJVru47imT9vtVeAUcN8YIRcmw7cVO9G6clSZ6cbywdrBVxJWNfrr5IKafhk3opxRP0Zdi+Wg3cBGvF7G4pX352jIvor1hHl75Bb7zMZDeEKxfhertCHN9vNZGWy23UW8UFDK/srIBu1hvHHfIwzVIk03IK4/dMkYypolosrhFPMO3LcHW7bFFbcdvTH1UmsYbnm2A2N69Ta3so8THo74X62G+bo9vvreebY+hrZi48YC/THzLc4HcR0U7M45Lvq/71/VL0lfBZ8azPC9Pb+qUjXrI7lDX5F+/ycrv4LcK6qzz9xCknTJxgokTNhs0pTt5COpkIOEO1x+Lgy0rw+rGwHADgZULbcGmY5NQOzjfNqG07Ic02Vmbw+TCJxW+cGb5YYFnHLATOPo95wHSvB7k4ZoU+9UCyMZvOAfeBftze9j2hz1lWBvX4cUXuMwW2CpgF8Z1dr4kKIP/YfxG7MI5tLfH7z1l9mLDyl0/HuJ8V/Kf6g1+QjiEY5lP19sSsaU6yryI9oZ+XOEAvvMx4Oq+PK/G+pO51/Y/6vV+Z/xBeWdXVnbX2oBruN3IK2NdxijFkfcH/E/6OvgR20A5+BSO4LrkD+EU6svGZVjfcp/ytGw/9+Wo7/xafA7cvnV85984HhznsGfvUfJd7Dcas8FHgeN7y4R+3FMP9WVWLnCIzm33PflZ+ivmSqDsBVXL7Rt4x3CKnc8n7EDUQEr21VhCkJOZ+a8oDvn+Prpj43vv6FVe9LAUTT5xQsOrm/iv0RFf4lO420Q85vMjcOy3zs1xHSZavmjyiSXPJ+GIbzDc+4DdO6LBlZwHSPN6kIdreN+U+R74ExZHdi093MdsoigM7R9NflF0TxkvhK7Di3zw778OAs8v4GE85q8/w2vz4D8fq3QO+Tg2js1KSMLuI8foYyKyWN1BdOQ4J/PVkTb3lS3zItq77i/UC77zMYBzlzhD5TgvBjOOs3/lJOrFWNjiV152Xa8bN+zhvSAuuN2leuCLdNMRz4dx7PsT61ja1xHTmH8LTtfOWcBVtp/7U+bHvmtdPdHvIpeEuW/C70/48SD+SueBOZD7teez5Dv6l86Hf/qlxNU75lOOr7m4X6es1wLOadcffA6JHKNzl/mtgppNxnvIoWWOTAJatnW+SJNd63bXsk/xksd0z9j07PvesdgzRuq7PG/s5U/r5aiPS3/F3J4J0XpHqn2vP1gf1cc6ro9xR/GS8eoZm5593zs39YyR+i7PG3v503o56uPSXzG3Z0K03pFq3+sP1kf1sY7rY9xRvGS8esamZ9/3zk09Y6S+y/PGXv60Xo76uPRXzO2ZEK13pNr3+oP1UX2s4/oYdxQvGa+esenZ971zU88Yqe/yvLGXP62Xoz4u/RVzeyZE6x2p9r3+YH1UH+u4PsYdxUvGq2dsevZ979zUM0bquzxv7OVP6+Woj0t/w7dv30z+T4X1XzFQDigHlAPKAeWAckA5oBxQDqQcyHUzpYsym4Br/Q5B7Xv9u0Dt4/v2MY1r/duPgOIlY9UzNj37LjMiPdMzRr37/r+//JV59X+pj4srLBVWMXNfMaN4Kp61OSBNAulSqCkgoHgBifWxZ2x69n3NhHJOzxj17vuri2nyT+pjFdT6bmq9eeqEA9IkUF4SNVfxkjnQMzY9+y4zIj3TM0a9+66COh0Lwk+raoSxdoRR21cO3sKBnif6bIrblVS8ZJh6xqZn32VGpGd6xqh331VQp2NBBXXDEUv8VKb9SVL/E6TuJzO3fyrzFiGm176GkO95os+muF1JxUuGqWdsevZdZkR6pmeMevddBXU6FjoR1Cczj+6pTStO7y2iT7MZ7dtSJrNcW3exDm/3OJmJ7B9nc7L1q6A+r/ACJqOZT68him+5uWlyoj9/mDcaJ++f2SxUP9kUXo3hVBWbylhU9b00LCrjUTKpDkaf5j17Q1mNaaWO774XKnOBfFdBnY0IAuWWhftrXNuWoEbk2UWbvfhbCcQ8nwtFiMcbBPy1wr+V61Z4AROOU7/CuupEn80xlDx/vNmbd7JLBXUBIJ/VIk61uNQCFrV8LzGkBTxKdj0fo7P5eBsMF9AOmzfzcS5Z+Li85/vufGmBC+T7swT1v30/fY3d8J3fNf/9pDeMSH3c8UOJDxbUB0VmUVAfqgPisWNBfQiv/oS1NAk8bmnZqPnz3YppWgA/31VQi0g1ilMVLjWCRRXfSwRpBI+SaW1g5CLWXGSXbL13XhXfG+EC+f4MQe3E9A/MvwUB/VPzCwrMfP+nT2lf6mMV1MNgyls+TmaZR79tw90JjRO2V8RIsd12kX3NNEyLOZ/XAve0zGb020yGYTTTcjLncxT21En4l/dFn8wyjaHcMEJA5+3FehH1zv2ha+WtEL6+cTbLPDkcwvaSszkhz9s8TovfenIAmyvrLuNI7eYYIB0j1McweC3RLU0C915QjtangnofYi3hVJtLNbGo7XuJLTXxKNnTBEZ++0MXgpp1Qk0uUL8/XlD/ifmH7wzmhz/6k6St//7Rd8yzotQSv1VQC4J6maK4JfDCfxCVEGvsHMqVBHXYjsDLkxiOwje0MQxGEtRFuwrtIeK93mPN2+d7sHPxWPDP+x7qhr84Wju4sM3aonKJrez83rpFHHm7+U0GBHXBJ7Ip9GmOwWulpUmAzcVVPtZcALYcbg2vlnCqjU1NLGr7XuJsTTxK9tTHyG0BGd4+zJN3fFitUMLkWXk1uUD9/nhB/StjI9TJFg8nsjVCXe1r+ihkVxHqINpGM9so8tnEB958RNu/YYMEon0o8DSbKRFnEG9e3KE8xNtpMXOILlPE10WdEU12+9CzOrhd/iG70zKtxXfelsf4tLAoMuwdID5z8Yi2nQh2Dz5y0QqRStgs7gFJ1IX2L2JzQ91FHGEzfEI62noMgxyTr52uv8iVl5SaC0DZIpfbGl4t4VQbm5pY1Pa9xNmaeJTsqYNR9lBiBTFNWNTxPfZCTS6Q788Q1P/7S7/FY/iO+Yef+8+JwH7srzVKfawR6lKEGoIQos0LUkSHreiFuKVtE8tit4cQyC4Cy4UnE3dhu8dgaPvIwt48sUtQC3al4jtGffMbBSu+mQ3WXojg1Y3NWozadmAD+br698J1NzZR6O6um7Z1MB9SHGEzw9zaGNs5hsHXFtCOF9EHaRKIU3GdTzUXgC2PW8OrJZxqY1MTi9q+lzhbE4+SPU1g5PcVvz35qcTavtfkAvn+HEFNghmimrQICevHimjul9THKqivFdRhv24Uluke61zckbChfdlTso8ae5gPCeqwtSKKJb5/ePbR7mQrA0TuSgRDfPK66DPsj2L0kOjN2iljc03dWzjCZviEtG/nMAY5Jl87LU0CpQXxmXk1F4AtP1vDqyWcamNTE4vavpc4WxOPkj2tYGRxeXKkurbvNblAvnPh+ajPdr/0MJhf/KET0Ujrlo9VZPRZomXnlg9EkYMYc+IMAjiPAseoIMScF3e0NQNbIM7n8GAhtnigvhjhJhzWdRBh6YHGIMR9vWnZ6JtY/+4tH7Et61vAQX6gEb5cxuZ43edNHDO8An5pnwWML2LwLC4+p53aE31p4aW8mguAZBPlt4ZXSzjVxqYmFrV9L3G2Jh4le1rByL5KTgV1qYsekkf9/igRHer9+e+aHzIxHfL/8AdPi1RL/NYIdRZJHewWiChICbjkH9Hh4taHkYnmTNwVy7M3jGTnnRDO6hAeYHQCMSsbhK8XrVn90SdEc3NRh/oy0WtvBjJMgBG2yBTbKmFzr7qBI2yGT0hfi0GOyddOS5PAQ2bWA5W2JgZgemt4tYRTbWxqYlHbd/CTH2viwe3A56djZN/o8W6Sn4fyb/nQLR/olccfqd+DwA2vtLvzVgwrqAtbPKT8B9gh8VsFNcRgOEKMnczMX083cEHoH8QL16QCUxLD6evu8No8iDTeHp2jfAhC2ER5vNxgRnr1nI2ir8uG9nxkPKTpLSLTbGb7JhNeN2zhba9Fr926MqWvFCSChS0m9JDiLmyuqJu2zfB+GTmOaBc+IR3b4ddexoDj8fU/S5PA46fZQgt+f6PlTcKVbFEsXPqsrCbwahSnKtg0gkUV30ukbwSPkmk1MEp+2MTPKc9+ZR5hUcN30wgXyPeHC2rsnc7eOb1+N/WdhTwT5lIfdyyobxNIeECRb2sIYg1R7GrbWW7zLW5bua6edrBZC+pbffvK10uTQGlB1LxKC+MXAb5nLvXs+1569oxR774/XlCTUOYPJPqApr7l4zrB1oKogWikwZP/c5Hdgq3PtqEFbLCP2/UNItZfl2/36MOeJ/q9QoCXU7w4GunnnrHp2feUBXKqZ4x69/05gvpx0ec99kt9rBHqq6PI6dYLAtj+8iDeW311va8g+hrAJuzjxvaZV8D1Nh+kSUBeFvs+o3jJ/d8zNj37LjMiPdMzRr37vkeQfvUyUh+roO5a+N4m0O4RNdU6ntcH0iSQLoWaAgKKF5BYH3vGpmff10wo5/SMUe++f3WxvMd+qY9VUKugNipqnydqa2ItTQLlJVFzFS+ZAz1j07PvMiPSMz1j1LvvewTpVy8j9fHw7ds3k/9TYf1XDJQDygHlgHJAOaAcUA4oB5QDKQdy3UxpjVBrhFoj1J1wgCZE/duPgOIlY9UzNj37LjMiPdMzRr37/n//+tfm1f+lPi6usFS45lfT2nYfWxC0n5/bz9IkkC6FmgICiheQWB97xqZn39dMKOf0jFHvvr+6mCb/pD5WQd1JdFLF63PFa4t4S5NAeUnUXMVL5kDP2PTsu8yI9EzPGPXuuwrqdCxY9d2iIFCbVBQqB67nQM8TfTbF7UoqXjJMPWPTs+8yI9IzPWPUu+8qqNOxoIL6blHrPb/UhzIVfnzkNJvRPoCKtq+zBT+iYn/Qxr//2f38+vXiT4Xz/bHreaLPprhdScVLhqlnbHr2XWZEeqZnjHr3XQV1Ohb6FNSnxczTaH2nAWF/pOV0q6iBQB3NLNaFMhC1t7Z54Po7Cerz+WTm0WE22eNsTnRTsqr/gG1X39QAzy3Mn2FHe220NdF/mvfkbUJv5uOcTUSVk23g1SZOdbBpA4s6vpcGQ47HYN4/S+Wen1cVo/OHeaO5pRIYdXzPuVBnPiXfVVBn441A6StC6AVhssCTQPTC8Hw2iMIei7zuEXco85UFNRfPTMiqoG5qHNWZ6LPJxSbP5uONL/4uPQzvphE9YK2sj1e7OD0fm3aweL7ve8aQMeePNzMMdYRUbmEtjBwG/vVm3QjqtsbGQwX1P/+e+R3SaX/wxwXh/sfmzxIN9+vmH//5MW8ckfitDyVSJDT8TPVkFh9JPi2zGVVQNyUI+7rJu3+EW5oE8sWwSvrz3X47VGkNLLrcJF6N4NQENpWwaML3ImNdlLKFMVQFI8aHz/feItQZIRgW2ZmHJqnfHyWo/+dPfz3uIFgJ6j83//i9wfzZ30BAu/Qw/Jb5jwe8xk/itwrqRFCz6GrYclCOXiNSvcyj34fs74rHiW3vQPR5NNM8xXLFMjxCfTJ5veMUo+VlYbnnmsXYLRn2Lo7bhLZhr5TmkWiUIeF3Mku2XWax+PH6Io52rzXwRRTb37zkfqdbb3x942yWJcUTN0LnM9qMfbld5/2Fa7l/6rcjTQIPnWH3Vm6/pm0jugaTm8SrEZyawKYSFk34DpLyo9/q0K2gZlh0L6grjo2HCOq/+S0rpkkw/8cfSBFqiGl/ZNfc2yZpDlBBnQg/J4pJvEaBFoUggYh/J6gh3mK+PR8i28J5Ww8EKcogfTbLlNWHdkO9a3F2+ZqyH84ftJ3bkqfLgrrY9rSYKG5d/dg2M9hzzgfk3YxnwAY2Q1AjnWEayq+xbFUQ32oX9XWrf+6rWt3ycal/WsGpBS7VwqIF39c88dum3j5MC48i1Maod0Fdc2zcW7zm9e0W1HZ7yGO2fUj8Lq6wVPjWxfvLXX/i0VsnvhCFJl9S4RdF2GlZ3AN4JMxPs5mKYnkw4+zLISI7DMZFaiH4vKgN50czLyfXDyEP18T2Lc7h/MY1vIzd1uIi2tTXw3CDoF7VezYnih7PZLvkG9qDyIf4pWt34jn5cny7TnJztLfODEtEzl/wKE0C68X52Tnuq+q3xp5KbA+vdnCqj009LOr7jvHpMCB77H8jYpqsq41R34K67tjIBfC903sFtdsiols+qor5UyassT1BFtSTGenNFpjUigI1irvwRgxJUEMgZhFURIG5yA83LXuuKZUJYhgCNxPAuSD2Nw3Jq/ZK9QYxmtcHAe1vDNA+89WK8UN45m0gHTHfrlMFNZbnOse2Imscg9qigNtiTFs41cWmLhZ1fU9ZkaT8vtkWbkxrY9SvoK4/Nu4toPP69glq94Di7/zpnz9kT7fEb41QB/HHhVUUfhCwRUENQZiI6VLEN4q7lxXUbBtHEPoFQQ4cadsHPgPj+Jq9IzcoEND5TYHH/GIf8X5/7c/SJJAsyk9O2IWvsbd7AIKW8GoNp5rY1Maipu/gpnS02DQQqa6NkcWh0mbymr63MDZyAXzv9GVB7R9I/N7vmf95wAOJ5I/Uxyqo/XaOkQQe3hVNUWovkvMIdWn/b8g7tOUDIhtteUEYBCDO833LLI/fCOy5ZlXmyJYPbDUpXIMI9RBtsxHhwh7qdHvK5B+QZNfN/j3gEOcinvGa1baSIOJdGYh2uY9eW0THm5uzOAlIi/Oj890+v7YeROQ+S5MmL/OMzy3iVAubFrCo5fserll8VFCbHgV1K2Pj3gI6r++SoLbnH/R2D9gizQEqqNn+aAIp/UfUk79az5WxUdUgJqXrIJbz8/wd1yiDtmJ0PLVlMEEUcjFtP++5ZqOMuId6zzVCGUlQ40dggDXb7hFfX5jjBWyA1X5BfblOFdR7Fup7l2lh8r/kkzRpXrrunudbxakGNq1gUcP3FafsWxyyh3j9Wz50y4fpTlC3NDYgOh913BLUbt/0Yx5E5P5Ic4AKai9I6bVvbm+wF8yr19Sd2C8pjv6BQnojR/x1RXo7yGzf0JEJwNJr3oIohkjENSTweFtkz2hsBD1cUxKBO65J9oeTD4v7hUNRUFN0nD+sWbpmbS+9v9u9JaXkW3zAk0gZtnt433bhyaLhlyLUFKHdrrOE5WvmSZPAarF+eEb2MBVurujYQHQN7tfHq12cno9NO1g833cwMj06EZUGHyrtckgNq/VQosk4h4cAABTdSURBVN9DTv2T/mc3Hitr75vxfH60NTa48HzEZ0lQP0tMk09SH6ug3hSpryms+DaA1/sMEc+j2NqP1M/SJHDf5eR1alO85L7sGZuefZcZkZ7pGaPefX+EiP4//05pwjb9x1s88l9JZOUesJda6mMV1Cqoq75V5Z6CPuyXtoOOR/xVUKugThf8PSlp0txz7auX6Rmbnn3fy+ueMerd94cI6gc9XHitrVIfq6BWQf0ygjrul45bcu4p2L96XdIksHeR7K2c4iX3eM/Y9Oy7zIj0TM8Y9e77tSL1K10n9bEKahXUryOotS83+1KaBNKlUFNAQPECEutjz9j07PuaCeWcnjHq3fevJIyvtVXqYxXUKsI2RdhXj8qq/XG7izQJlJdEzVW8ZA70jE3PvsuMSM/0jFHvvl8rUr/SdVIfD9++fTP5PxXWf8VAOaAcUA4oB5QDygHlgHJAOZByINfNlNYItUaoNULdCQdoQtS//QgoXjJWPWPTs+8yI9IzPWPUu+/Lf/2tefV/qY+LKywV1q/K41flioVi8QockCaBdCnUFBBQvIDE+tgzNj37vmZCOadnjHr3/dXFNPkn9bEK6k6ik68gCNWH225spEmgvCRqruIlc6BnbHr2XWZEeqZnjHr3XQV1Ohas+lbxcpt4UfwUv9Y40PNEn01xu5KKlwxTz9j07LvMiPRMzxj17rsK6nQsqKBuPmqNXwOUfrzk0vlbxS7/mfPSLxI+uv1b7e/z+p4n+myK25VUvGSYesamZ99lRqRnesaod99VUKdjQQV1LqhPi5mn0eJCg2UYJzOfSJSdzDy6Jz/H+bTed75M7ppxNqfz2SwTe0rU5+VRzCVpx12XlzmfLwnWS+cPCMrTbMbslwfTXyQczDTnZe7Yft4Xml7zbCcmbU30n+Y9e5vQ+2c2EVVOtoWXMebz3c9B76Y2VHWwaYMzdXy/MBga4gZZWgejnB9v5uN8AbcHnG7D98HUmE/JdxXUGakIlLWIOyDCdi7wX6ONKJoJl/DvBXEQlwWBDAHtxHZez1Zk17dTqNNhdkmwXjp/oC8Lgjr162zOqzK3tw9cizcqL8WvA31xo9/E3Tb+zubjLZ3wzx9vZhjqLIASJu3gRRY6sfD2Rjj1KKjb4UxbvGiPG2TR8zHK+eHSNcZKfd+NqTWfku8PFdT//hPzG6TDfvbzYjt/+TOm0YbB/MZf/UWx3K02Sn1cXGGp8NcQu08QI4gyD5NZbFT6bE7LbEaI3SAmc4EMUYn8KKjH0Ue7pyXBOYhInEcbKyGFuuts+YCgnhYJ/0v2SdfF/IBFKfK/wiNep7yVsZAmAUlQPjffCcYaURXJz5bw+nwfzPD+6RfKHgV1qZfqcKYlXhAqrXGDbGoCIx+1f/ac0oTv/ga8hu+3ilXp+r/7q+/GgGZBUDsx/dvmL/Havn/6bVv+x/90/9f4SX2sgvqSOAuCGsI4FyxMKHPxB6EdRHEst94iQXXi/GjmOd0qshaJuWDFtYNxEd38/Nks8+i3biD6jW0rzh93k4C7u9FMC7aw8LrwGeXoSKIe+RD4eTq3b8ueWJZIi/8YqT6tfBknvjXGtz3OZpkn53Pog7zv+kpLk0BJqjw97/xh3oY0av10G7IGm8HLYuOi9y7ypILadlUlzjTDCwKhQW6QWU1gxLDJhvZDk+34/vz5lHyXBPFN+UwcW+GcC2ofuc7Fsy37mz8xfweRfaej1McqqC8J6iAWnbgj8YZINYQuoqkDE27I40IQ+61JrMbPXtRxAQ4Rz+pDW+6YCla0FdtPz8c911GgEiFCebTNBKwTymQbrwufeT2XBbVsH68H9kRsrI3eJuCI6Dg/l/gS7GV1iziqoH7oyrK7cv/17NuHqbDlUbSSeFX/z2Hz5jeDqqBGj9TjTBu8IBza5AZZ1gJGtcZKfd/rjo2bhPMOwSsL6u+a6d/TaLSLarOo9Y7699gv9XFxxaDCqYDrS3isfD8tZvIPHxI29A+BZ8sGQYooNkQh0oQf8gZDWyWCyPTbPpC29R4R1MWyEL6IGNM2lcU+GAl7J+uHP5/XQQ9hjrh2XRdEbdzykZdh6bxufwOzac854iPijAh6wN7hGm8ABjNMzOeLN06vz3FpEoBEee4xe4CoMTHdiihwDyLGiHQtkZBzow6X2uBMHd/zHsBDqu1xo42x47iCG9ECeg/LqsOPdsbGHkF6SxlZUA8mj1CroG5Y+JwyYR0FZRTLVgBC5CWR0VjGXocyyZYJL8AFERqFPgRrjMJGW0gY4jxEMQnqyYzZTUEShWbn0ij8uq79glqy75I9gqAWcIE9TnzDXn4z8/piOXJD9rXORL9z3fL7HWssgJKF9fFyiyTfB9m3oM56qhJn6vOCcGiXG2RdXYzqRWjr++7HSMWxcYtY3nNtUVD/11+Y6TcHMyTbO3zeoBHqhiPkURjz6CkizDYqOruHDvn5PELN06uHFAXhGEUTRONkZt9W2L5hb0ji+YXSQbxHgUsTXhTUJMJobzIX3RCkWV3s9X9RxOdlYrpo3w57gGeCoYCLCmpZREfOnCsvcn6i3zjYh6sailTXFQWIQOZjNqZr3nxUxybohsEMT+ZME757weTm8cgJpGtyg7qmJkZ2Hqn4JpyavvPptcZ8Sr7vEcW3lCkLatrq8XPzY7+DAOPgxz+jBxNVUDcjqEnYjbR1wL/h40xRat9pUVBy0Tr6SDAEKcROFOLhOgjEvD7kJxFu1ENH2EAR6FhvFJ/8fIz2kti3Aus0ex/ilg/ro/92AO/CdvWlddH1ELDBj8Sey/ZBLIv2sC0foUxyY8CwDeIcebAXaY5b359bmej5pM8/2+jrk8URbz//3CJeGqFOe6kGZ1rkBaHSCjfIlloYOQzqvn6zlu/pyPB8ePJ8Sr7fIpb3XCsL6nT/NNVlt3wkUet1mT1t5mWkPtY91F5E8kge/xzEX3bnk0Z3SahFYUtgpxHj9PxaiGbR4kOCOhXz7gdnICqjYLY2ST6gvey8szOr67CgLtgntJdgmpVx4j7DmNuLm4Ug7lVQcx7TZ2kSyCfih6ft0/dx76dtz7+xoXZkjfveDF7MqFZE09OxaYgzT/ed9f/Wx1a4QTbWwKgFMV3F98bGRi4+753eL6jdlo9HvIta4rcK6guC2m6FmNJXzqWvaYtRTy6+Y7QY56MYjII6RnuTSCzE5K4ItasfUWWq5xREZdxDHc7TA5XTbGb7q404fzL8/DBKr81DW+4rxuhHLrrzNPkZ373tfjUy/vLk2h5qJ/1589gWzyc7/DcIoR/RtgrqZgV1iKalX1XzvcJbwuFZ56RJ81ntl9ppRTTVwMb5Xp8zNXwvcSHPa4UbZNfzMcoeyuPBlgpR2rxvHp1uaWzcW0Dn9e0T1KU91feJTpM9Er9VUAchBuGrx1yIafo1OCFNAo+e7L9q/YqX3HM9Y9Oz7zIj0jM9Y9S777kAvkvav4easE3/sT8aDyCy8/m7qu/0yjwV1Cqam9mTruK8njjveaJPl/t9KcVLxqlnbHr2XWZEeqZnjHr3/S4C+o7i9xH2SH2sEWoV2yq2O+GANAmkS6GmgIDiBSTWx56x6dn3NRPKOT1j1LvvjxCwrdUp9bEK6k7ElEaG60WGW8FemgTKS6LmKl4yB3rGpmffZUakZ3rGqHffWxO/j7BH6mMV1CqoNULdCQekSSBdCjUFBBQvILE+9oxNz76vmVDO6Rmj3n1/hIBtrU6pj4dv376Z/J8K679ioBxQDigHlAPKAeWAckA5oBxIOZDrZkprhLqT6GQr2w7UjnpbT2hC1L/9CCheMlY9Y9Oz7zIj0jM9Y9S777/4z9m8+r/Ux8UVlgqr8KknfBR7xf4RHJAmgXQp1BQQULyAxPrYMzY9+75mQjmnZ4x69/3VxTT5J/WxCmqNUOvNUycckCaB8pKouYqXzIGesenZd5kR6ZmeMerddxXU6Viw6vsRETKtUyOvyoF6HOh5os+muF1JxUuGqWdsevZdZkR6pmeMevddBXU6FlRQdxKxPBd+ovzrCV7/k+7+Z9oX+5Pq+rPjpX7seaLPprhdScVLhqlnbHr2XWZEeqZnjHr3XQV1OhY6FtRenNm3nOSibDET5XvhVhIsXy/P+zRMZvnKNxHLZDk7Te44zifdxlLoz2Yn+s9323/D8G4+s7moZrINvD7Ne/bWpfcGQKqOTUXOVPc9DIqcG2/m4xxOVv1QHaOe+VHZdxXU2dCjwfD1xOE9vkrngnoww7QwHFRQt8wJF5l+tRuee3A61lF9kcvmGZd0ouDt7c2ooM4BOpuPt8FwAX3+IJzqC6e6XKrLmbq+gyM5N1y6lTFUF6Oe+VHf98cI6sl8LwksfNf88F+Et4n8y++bX6OyP50e9rYRid/6UGISyYOgHs040jsHeZRaBXXLglpti8JZwkKaBLBE1zh+vg9meP80TihqhPpyH7gFk4vsy9fcv0RNLtXmTE3fN3vSRyZrc4NsrIlRz/xowff7C+pfmh/+YDDf+3sIaJcmffaT7BV9f/Sr7/pvO1VQs2jwZXEgiYbb8iGoJ7P4bQQxSl0W1Kd5MiO7cxqnxZyCSC9sqTjNvjy2WcR6F9QVtpWczDKPWf3zuv5xtvYGO8bJLKeI4WmZ/Q2Cu0mYFmyJyO2D/4PBtom8/WGczMzqTvH215P9C8PFX5PnRRu3MDibTYwDnvyl6/FG6Jj9EbPUr9fIr7nIFYXA+cO8+WirCuoiQutMi1katV4XenxONS41wJlqvl/qVobNpaKPPl8NI4ZBrTmld9/vL6ghpNnx70crnKPIns0vWN5PfqqCui1BfYa4XAtfCObT7DqVBlDyH7aK5IL1bM5BAGb18jqSB+yyuqlcENyof6NMaI+Xydt26eDPpfrD+VxoAjPe1sbnUE/BD38u2MTxoc/AuOgfBHWh3gS/3P7XTleb6Iurt/uK+s1v+qy1+BVN85lt4UVG+a/13z5M7a2ydbBpgzN1fN9iqjvX0hiqg1HP/GjH96cIarutQ972oYI6RHVrihoIwlRgumitF2crEQjxRmJ5MZPdKlIWrDbqGQRgXsaJRIj1KLxHMyOiHK4dzLQQTlEwhsg4Iut40BBp2H1azEwRbIs3rmcReZTz/XFaWMT9NLsHM1H3qs+AH/OF2SzayPwgoRwwCPlbGEe+BPENsX0+m2P2x7o0Qn15Ab+phP16Om7xaEkMwK86ogCt4+i2eJAt9r8BMU2WVcGmEc5U8R10EI9+72wjTyVWwahnfjTk+zMEtdvasd7ygbZVUK/EWQ1xA0FYEJwQdxCcEKpY6JIjBCATrPAvCMy8DVzj/Ub9aM9fj4fvEpFf2usdRC9EvluQx2lm20FgX4wiO6EesbfbNOxNQiwzhLpjOSdAgR/3BW3AX7omz0OaX3c2Z2CQYAs7hLIZXsfsz/15rXSVRa4oANb7gFVQF4FaZ9qFczCI7K8LPCfn+VxqhzPP9/1Sn7bzzQUsfT5GPfOjLd8hah93dA8o/tqvfik+dKiCGoKz6hGCMIo/RD2nxYs+CLZdYg9CMdYXI8/IQ5l9AvG4oCZRSHuxp2QftdsHjbYnM2P7CvyjfgjiHyIWR9ieC07gx32JbcRX8+V5SPPrDgjqYGd2fciH3ThK9uf+vFb6+Yscltfs6EUh2VP6ry0WYW0zeMEgf7QPHlWOVD8dm4Y483Tfs/7Pk5YPvb9ysmd+NOb744Q07aH2DyT+4PfNH2UPJPJ2VVBXFdIQThCEXHB5sTf6hwMhOINY23pID0IRWzTcQ4ZORKANlJHEIMsPbSKvdC3yfP30cCDbRrFMbt93GuGmsvA9PpCImwm+X9m+i/tZEerg7xGM0Zf0MKPf444tIBe3rMRrdctHvmw/Nq0R6v34Wqx6E9QFeGpxpiVB7TCo/xrFvHtawKhnftT0nQvbe3+2Qrnwdo+8HRXUzQpqJswoogZBfT4bRIudQGbRtlAmitRVmSBKIYAhkiHqNq6FQAxbJ/i1qC8K6nXbEPhZ2SBgfX1iFB43A7AVR9i8YY/t56zdoh+uzosYCzbarSvCOXnLCvx4zWMLi1y+8CJdawFA+6VjdbzsGwviPnNro83rccvHuodqcaY6LzwUzv/2xDSZ1wJGPfOjpu+5uL1X2u2blh9E5O2ooG5YUNOWiRn7iINYJtF1MhTxDa+rw1fYvEx4UJEE92ho64irC6IU4pKLUAi6k5l9RJkmKLqeR5vjXmR+LepD/c5Gdz3dEJAN0mvz6CYhRnXp4cCQHgZD+69n+9PeqBt24gictuyhsrmNSPPrYp2bGAuiGXvBj9mPNl/z2MIit5ZFLqfWAiDZ05YoYDfrQ/1X5rWFTXbDsdWhdzrXxjhy+2bDvI61h46Vv71QfhR/3uNO7NtXTa35lPjIhe29Ph8R09SmCuomBPVrCqlX3L6gPh3nahtCYN+C0EIpxUvuhZ6x6dl3mRHpmZ4x6t33e4noWE/+K4kswMD3Uvv3UBP+6b/8NpDYBnvH9cbebJSX+rh4K0WFVbAcFyyKmWLWMgekSSBdCjUFBBQvILE+9oxNz76vmVDO6Rmj3n2H6Hzlo9THKqg1Mq43T51wQJoEykui5ipeMgd6xqZn32VGpGd6xqh3319ZSMM3qY9VUHciplqOnKptz4nsS5NAuhRqCggoXkBifewZm559XzOhnNMzRr37DtH5ykepj1VQq6DWCHUnHJAmgfKSqLmKl8yBnrHp2XeZEemZnjHq3fdXFtLwTerj4du3byb/p8L6rxgoB5QDygHlgHJAOaAcUA4oB1IO5LqZ0sUINZ3QP0VAEXgtBHRcH+tPxUvGq2dsevZdZkR6pmeM1PeUC6+YkvpYBfUr9rb6pAgUEJAmgUJRzTLGfnOnQJQR6JlLPfteZsM6t2eM1Pc1H14tR+pjFdSv1tPqjyIgICBNAkLx7rMVL5kCPWPTs+8yI9IzPWOkvqdceMWU1McqqF+xt9UnRaCAgDQJFIpqlkaoNznQM5d69n2TFOxkzxip74wIL/pR6mMV1C/a4eqWIpAjIE0CeTlNOwQUL5kJPWPTs+8yI9IzPWOkvqdceMWU1McqqF+xt9UnRaCAgDQJFIpqlkaoNznQM5d69n2TFOxkzxip74wIL/pR6uP/BwXofoLEwMHCAAAAAElFTkSuQmCC)"
      ]
    },
    {
      "cell_type": "markdown",
      "metadata": {
        "id": "Wzfs7a89wmem"
      },
      "source": [
        "Kako je vidljivo bilo iz prve tablice, tako jednako i iz druge, najboljim modelo ćemo smatrati **Neuronsku mrežu**."
      ]
    },
    {
      "cell_type": "code",
      "metadata": {
        "colab": {
          "base_uri": "https://localhost:8080/",
          "height": 385
        },
        "id": "6fP00Xf6wrar",
        "outputId": "9af660b4-bd01-41a6-e325-ae4a85a61796"
      },
      "source": [
        "padovi = data.groupby('school')['failures'].mean()\r\n",
        "print(padovi)\r\n",
        "padovi.plot(kind='bar')\r\n",
        "plt.show()"
      ],
      "execution_count": 48,
      "outputs": [
        {
          "output_type": "stream",
          "text": [
            "school\n",
            "GP    0.328937\n",
            "LT    0.371077\n",
            "MS    0.334254\n",
            "RC    0.313978\n",
            "Name: failures, dtype: float64\n"
          ],
          "name": "stdout"
        },
        {
          "output_type": "display_data",
          "data": {
            "image/png": "[encoded data removed]",
            "text/plain": [
              "<Figure size 432x288 with 1 Axes>"
            ]
          },
          "metadata": {
            "tags": [],
            "needs_background": "light"
          }
        }
      ]
    },
    {
      "cell_type": "markdown",
      "metadata": {
        "id": "6GSn3R_2wyqs"
      },
      "source": [
        "Izračun i grafički prikaz pokazuju da $LT$ škola u prosjeku ima najveći prosječni broj padova iz predmeta."
      ]
    },
    {
      "cell_type": "code",
      "metadata": {
        "colab": {
          "base_uri": "https://localhost:8080/"
        },
        "id": "fmFclSluwrlW",
        "outputId": "577ac562-8611-487c-fc78-6a3202829614"
      },
      "source": [
        "c = 'age, Medu, Fedu, traveltime, studytime, failures, famrel, freetime, goout, Dalc, Walc, health, absences, repeated'\r\n",
        "L = c.split(\", \")\r\n",
        "pcadata = data[L]\r\n",
        "pcadata.shape[1]"
      ],
      "execution_count": 49,
      "outputs": [
        {
          "output_type": "execute_result",
          "data": {
            "text/plain": [
              "14"
            ]
          },
          "metadata": {
            "tags": []
          },
          "execution_count": 49
        }
      ]
    },
    {
      "cell_type": "code",
      "metadata": {
        "colab": {
          "base_uri": "https://localhost:8080/"
        },
        "id": "RiJ1TzyIw5Lu",
        "outputId": "58b3099d-0807-4ac4-ab61-3b29a95fd317"
      },
      "source": [
        "from sklearn.decomposition import PCA\r\n",
        "\r\n",
        "pca = PCA(n_components=14)\r\n",
        "pca.fit_transform(pcadata)"
      ],
      "execution_count": 50,
      "outputs": [
        {
          "output_type": "execute_result",
          "data": {
            "text/plain": [
              "array([[-5.82154948, -1.26901567, -0.59299775, ...,  0.56376258,\n",
              "         0.11063324,  0.12563076],\n",
              "       [-3.79262267, -1.70926493, -1.63581198, ..., -0.06286818,\n",
              "         0.01953816,  0.15696929],\n",
              "       [ 1.24342587, -1.39408649, -1.94168865, ...,  0.56241053,\n",
              "         0.07889439,  0.16912132],\n",
              "       ...,\n",
              "       [ 2.36728135,  2.58510056, -3.18547285, ..., -0.20520661,\n",
              "         0.71207002,  0.11200066],\n",
              "       [-5.74680457, -0.84363387, -1.44626563, ...,  1.76233067,\n",
              "        -0.19923335,  0.92541783],\n",
              "       [-5.79242234,  0.12516436,  1.18133803, ..., -0.16216994,\n",
              "         0.06363859, -0.67658962]])"
            ]
          },
          "metadata": {
            "tags": []
          },
          "execution_count": 50
        }
      ]
    },
    {
      "cell_type": "code",
      "metadata": {
        "id": "iOgwAuB7w7Rm"
      },
      "source": [
        "x = []\r\n",
        "for i in range(14):\r\n",
        "  s = 'PCA' + str(i+1)\r\n",
        "  x.append(s)\r\n",
        "\r\n",
        "y = pca.explained_variance_"
      ],
      "execution_count": 51,
      "outputs": []
    },
    {
      "cell_type": "code",
      "metadata": {
        "colab": {
          "base_uri": "https://localhost:8080/",
          "height": 600
        },
        "id": "TPY436Rhw9xB",
        "outputId": "62c99ab0-54d9-4035-ce1f-ba39549c668d"
      },
      "source": [
        "sns.barplot(x,y)\r\n",
        "plt.show()\r\n",
        "sns.barplot(x,pca.explained_variance_ratio_.cumsum())\r\n",
        "plt.show()"
      ],
      "execution_count": 52,
      "outputs": [
        {
          "output_type": "stream",
          "text": [
            "/usr/local/lib/python3.6/dist-packages/seaborn/_decorators.py:43: FutureWarning: Pass the following variables as keyword args: x, y. From version 0.12, the only valid positional argument will be `data`, and passing other arguments without an explicit keyword will result in an error or misinterpretation.\n",
            "  FutureWarning\n"
          ],
          "name": "stderr"
        },
        {
          "output_type": "display_data",
          "data": {
            "image/png": "[encoded data removed]",
            "text/plain": [
              "<Figure size 432x288 with 1 Axes>"
            ]
          },
          "metadata": {
            "tags": [],
            "needs_background": "light"
          }
        },
        {
          "output_type": "stream",
          "text": [
            "/usr/local/lib/python3.6/dist-packages/seaborn/_decorators.py:43: FutureWarning: Pass the following variables as keyword args: x, y. From version 0.12, the only valid positional argument will be `data`, and passing other arguments without an explicit keyword will result in an error or misinterpretation.\n",
            "  FutureWarning\n"
          ],
          "name": "stderr"
        },
        {
          "output_type": "display_data",
          "data": {
            "image/png": "[encoded data removed]",
            "text/plain": [
              "<Figure size 432x288 with 1 Axes>"
            ]
          },
          "metadata": {
            "tags": [],
            "needs_background": "light"
          }
        }
      ]
    },
    {
      "cell_type": "code",
      "metadata": {
        "colab": {
          "base_uri": "https://localhost:8080/"
        },
        "id": "607Ru4Jew-DB",
        "outputId": "fbfb4b04-3ad8-4a2e-fe16-760338727b8a"
      },
      "source": [
        "pca.explained_variance_ratio_.cumsum()"
      ],
      "execution_count": 53,
      "outputs": [
        {
          "output_type": "execute_result",
          "data": {
            "text/plain": [
              "array([0.82862822, 0.86397679, 0.8921883 , 0.91723158, 0.93479357,\n",
              "       0.94917052, 0.95950681, 0.96844031, 0.97651806, 0.982592  ,\n",
              "       0.98836803, 0.99370732, 0.99791067, 1.        ])"
            ]
          },
          "metadata": {
            "tags": []
          },
          "execution_count": 53
        }
      ]
    },
    {
      "cell_type": "markdown",
      "metadata": {
        "id": "lBKh8ELfxC_o"
      },
      "source": [
        "Iz grafa i navedenog niza kumulativnih suma, može se zaključiti da je potrebno 2 komplonente PCA za objašnjene barem  85%  varijance."
      ]
    }
  ]
}