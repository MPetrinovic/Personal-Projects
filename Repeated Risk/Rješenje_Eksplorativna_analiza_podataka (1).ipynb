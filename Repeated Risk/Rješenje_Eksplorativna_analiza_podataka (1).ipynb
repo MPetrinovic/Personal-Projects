{
  "nbformat": 4,
  "nbformat_minor": 0,
  "metadata": {
    "colab": {
      "name": "Rješenje_Eksplorativna analiza podataka.ipynb",
      "provenance": [],
      "collapsed_sections": []
    },
    "kernelspec": {
      "name": "python3",
      "display_name": "Python 3"
    }
  },
  "cells": [
    {
      "cell_type": "code",
      "metadata": {
        "id": "Vd6aenH4XRn8"
      },
      "source": [
        "import pandas as pd\r\n",
        "import numpy as np\r\n",
        "import matplotlib.pyplot as plt\r\n",
        "import seaborn as sns\r\n",
        "sns.set_palette('Set2')\r\n",
        "from scipy.stats import chi2_contingency\r\n",
        "import scipy.stats as stats\r\n",
        "from scipy.stats import mannwhitneyu"
      ],
      "execution_count": 1,
      "outputs": []
    },
    {
      "cell_type": "markdown",
      "metadata": {
        "id": "9cBpcpoTEIDS"
      },
      "source": [
        "Učitavanje potrebnih biblioteka, te učitavanje podataka u program.\r\n",
        "Nakon učitavanja slijedi okviran pregled."
      ]
    },
    {
      "cell_type": "code",
      "metadata": {
        "colab": {
          "base_uri": "https://localhost:8080/"
        },
        "id": "MjJqy33ZX6H3",
        "outputId": "e86cf928-3b9a-41c5-9874-7e658d56cec0"
      },
      "source": [
        "data = pd.read_csv('schools_data.csv')\r\n",
        "data.shape"
      ],
      "execution_count": 3,
      "outputs": [
        {
          "output_type": "execute_result",
          "data": {
            "text/plain": [
              "(7900, 32)"
            ]
          },
          "metadata": {
            "tags": []
          },
          "execution_count": 3
        }
      ]
    },
    {
      "cell_type": "code",
      "metadata": {
        "colab": {
          "base_uri": "https://localhost:8080/",
          "height": 215
        },
        "id": "njt1XlRSYsW2",
        "outputId": "d297167f-e652-44b8-e7f5-6ff68b3e11fd"
      },
      "source": [
        "data.head()"
      ],
      "execution_count": null,
      "outputs": [
        {
          "output_type": "execute_result",
          "data": {
            "text/html": [
              "<div>\n",
              "<style scoped>\n",
              "    .dataframe tbody tr th:only-of-type {\n",
              "        vertical-align: middle;\n",
              "    }\n",
              "\n",
              "    .dataframe tbody tr th {\n",
              "        vertical-align: top;\n",
              "    }\n",
              "\n",
              "    .dataframe thead th {\n",
              "        text-align: right;\n",
              "    }\n",
              "</style>\n",
              "<table border=\"1\" class=\"dataframe\">\n",
              "  <thead>\n",
              "    <tr style=\"text-align: right;\">\n",
              "      <th></th>\n",
              "      <th>school</th>\n",
              "      <th>sex</th>\n",
              "      <th>age</th>\n",
              "      <th>address</th>\n",
              "      <th>famsize</th>\n",
              "      <th>Pstatus</th>\n",
              "      <th>Medu</th>\n",
              "      <th>Fedu</th>\n",
              "      <th>Mjob</th>\n",
              "      <th>Fjob</th>\n",
              "      <th>reason</th>\n",
              "      <th>guardian</th>\n",
              "      <th>traveltime</th>\n",
              "      <th>studytime</th>\n",
              "      <th>failures</th>\n",
              "      <th>schoolsup</th>\n",
              "      <th>famsup</th>\n",
              "      <th>paid</th>\n",
              "      <th>activities</th>\n",
              "      <th>nursery</th>\n",
              "      <th>higher</th>\n",
              "      <th>internet</th>\n",
              "      <th>romantic</th>\n",
              "      <th>famrel</th>\n",
              "      <th>freetime</th>\n",
              "      <th>goout</th>\n",
              "      <th>Dalc</th>\n",
              "      <th>Walc</th>\n",
              "      <th>health</th>\n",
              "      <th>absences</th>\n",
              "      <th>repeated</th>\n",
              "      <th>data_perimeter</th>\n",
              "    </tr>\n",
              "  </thead>\n",
              "  <tbody>\n",
              "    <tr>\n",
              "      <th>0</th>\n",
              "      <td>MS</td>\n",
              "      <td>F</td>\n",
              "      <td>15</td>\n",
              "      <td>Urban</td>\n",
              "      <td>&gt;3</td>\n",
              "      <td>Married</td>\n",
              "      <td>2</td>\n",
              "      <td>3</td>\n",
              "      <td>other</td>\n",
              "      <td>other</td>\n",
              "      <td>other</td>\n",
              "      <td>father</td>\n",
              "      <td>2</td>\n",
              "      <td>1</td>\n",
              "      <td>0</td>\n",
              "      <td>False</td>\n",
              "      <td>True</td>\n",
              "      <td>False</td>\n",
              "      <td>True</td>\n",
              "      <td>True</td>\n",
              "      <td>True</td>\n",
              "      <td>False</td>\n",
              "      <td>False</td>\n",
              "      <td>3</td>\n",
              "      <td>5</td>\n",
              "      <td>1</td>\n",
              "      <td>1</td>\n",
              "      <td>1</td>\n",
              "      <td>5</td>\n",
              "      <td>0</td>\n",
              "      <td>0</td>\n",
              "      <td>validation</td>\n",
              "    </tr>\n",
              "    <tr>\n",
              "      <th>1</th>\n",
              "      <td>MS</td>\n",
              "      <td>M</td>\n",
              "      <td>15</td>\n",
              "      <td>Urban</td>\n",
              "      <td>&lt;=3</td>\n",
              "      <td>Married</td>\n",
              "      <td>4</td>\n",
              "      <td>3</td>\n",
              "      <td>teacher</td>\n",
              "      <td>services</td>\n",
              "      <td>home</td>\n",
              "      <td>mother</td>\n",
              "      <td>1</td>\n",
              "      <td>3</td>\n",
              "      <td>0</td>\n",
              "      <td>False</td>\n",
              "      <td>True</td>\n",
              "      <td>False</td>\n",
              "      <td>True</td>\n",
              "      <td>True</td>\n",
              "      <td>True</td>\n",
              "      <td>True</td>\n",
              "      <td>False</td>\n",
              "      <td>5</td>\n",
              "      <td>4</td>\n",
              "      <td>3</td>\n",
              "      <td>1</td>\n",
              "      <td>1</td>\n",
              "      <td>4</td>\n",
              "      <td>2</td>\n",
              "      <td>0</td>\n",
              "      <td>train</td>\n",
              "    </tr>\n",
              "    <tr>\n",
              "      <th>2</th>\n",
              "      <td>MS</td>\n",
              "      <td>M</td>\n",
              "      <td>16</td>\n",
              "      <td>Rural</td>\n",
              "      <td>&gt;3</td>\n",
              "      <td>Divorced</td>\n",
              "      <td>4</td>\n",
              "      <td>4</td>\n",
              "      <td>other</td>\n",
              "      <td>teacher</td>\n",
              "      <td>reputation</td>\n",
              "      <td>mother</td>\n",
              "      <td>2</td>\n",
              "      <td>3</td>\n",
              "      <td>0</td>\n",
              "      <td>False</td>\n",
              "      <td>True</td>\n",
              "      <td>False</td>\n",
              "      <td>True</td>\n",
              "      <td>True</td>\n",
              "      <td>True</td>\n",
              "      <td>True</td>\n",
              "      <td>True</td>\n",
              "      <td>2</td>\n",
              "      <td>4</td>\n",
              "      <td>3</td>\n",
              "      <td>1</td>\n",
              "      <td>1</td>\n",
              "      <td>5</td>\n",
              "      <td>7</td>\n",
              "      <td>0</td>\n",
              "      <td>validation</td>\n",
              "    </tr>\n",
              "    <tr>\n",
              "      <th>3</th>\n",
              "      <td>MS</td>\n",
              "      <td>F</td>\n",
              "      <td>15</td>\n",
              "      <td>Rural</td>\n",
              "      <td>&gt;3</td>\n",
              "      <td>Married</td>\n",
              "      <td>3</td>\n",
              "      <td>4</td>\n",
              "      <td>services</td>\n",
              "      <td>health</td>\n",
              "      <td>course</td>\n",
              "      <td>mother</td>\n",
              "      <td>1</td>\n",
              "      <td>3</td>\n",
              "      <td>0</td>\n",
              "      <td>True</td>\n",
              "      <td>True</td>\n",
              "      <td>True</td>\n",
              "      <td>True</td>\n",
              "      <td>True</td>\n",
              "      <td>True</td>\n",
              "      <td>True</td>\n",
              "      <td>False</td>\n",
              "      <td>4</td>\n",
              "      <td>3</td>\n",
              "      <td>2</td>\n",
              "      <td>1</td>\n",
              "      <td>1</td>\n",
              "      <td>5</td>\n",
              "      <td>2</td>\n",
              "      <td>0</td>\n",
              "      <td>train</td>\n",
              "    </tr>\n",
              "    <tr>\n",
              "      <th>4</th>\n",
              "      <td>MS</td>\n",
              "      <td>F</td>\n",
              "      <td>15</td>\n",
              "      <td>Rural</td>\n",
              "      <td>&gt;3</td>\n",
              "      <td>Married</td>\n",
              "      <td>2</td>\n",
              "      <td>2</td>\n",
              "      <td>at_home</td>\n",
              "      <td>other</td>\n",
              "      <td>reputation</td>\n",
              "      <td>mother</td>\n",
              "      <td>1</td>\n",
              "      <td>1</td>\n",
              "      <td>0</td>\n",
              "      <td>True</td>\n",
              "      <td>True</td>\n",
              "      <td>True</td>\n",
              "      <td>True</td>\n",
              "      <td>True</td>\n",
              "      <td>True</td>\n",
              "      <td>False</td>\n",
              "      <td>False</td>\n",
              "      <td>4</td>\n",
              "      <td>3</td>\n",
              "      <td>1</td>\n",
              "      <td>1</td>\n",
              "      <td>1</td>\n",
              "      <td>2</td>\n",
              "      <td>8</td>\n",
              "      <td>0</td>\n",
              "      <td>validation</td>\n",
              "    </tr>\n",
              "  </tbody>\n",
              "</table>\n",
              "</div>"
            ],
            "text/plain": [
              "  school sex  age address  ... health absences  repeated  data_perimeter\n",
              "0     MS   F   15   Urban  ...      5        0         0      validation\n",
              "1     MS   M   15   Urban  ...      4        2         0           train\n",
              "2     MS   M   16   Rural  ...      5        7         0      validation\n",
              "3     MS   F   15   Rural  ...      5        2         0           train\n",
              "4     MS   F   15   Rural  ...      2        8         0      validation\n",
              "\n",
              "[5 rows x 32 columns]"
            ]
          },
          "metadata": {
            "tags": []
          },
          "execution_count": 3
        }
      ]
    },
    {
      "cell_type": "markdown",
      "metadata": {
        "id": "95vjB4ToazfM"
      },
      "source": [
        "U ovom odjeljku ćemo opisati i grafički prikazati svaku varijablu posebno, te također odnos sa zavisnom. Provest će se i statistički testovi na razini značajnosti $\\alpha = 0.05$ i također izračunat će se odds ration ili risk ratio za varijable za koje je to moguće i dati će se komentar za svaki dobiveni rezultat."
      ]
    },
    {
      "cell_type": "markdown",
      "metadata": {
        "id": "vLlGN7E_bcWk"
      },
      "source": [
        "1. Varijabla za promatranje je zavisna varijabla **Repeated**. Ona govori je li učenik ponavljao godinu ili ne."
      ]
    },
    {
      "cell_type": "code",
      "metadata": {
        "colab": {
          "base_uri": "https://localhost:8080/",
          "height": 330
        },
        "id": "F-AQtuoNX6NA",
        "outputId": "7a8b173f-465a-499a-a4c3-04835a1b219e"
      },
      "source": [
        "sns.countplot(x = 'repeated', data = data)\r\n",
        "data['repeated'].value_counts()/7900"
      ],
      "execution_count": null,
      "outputs": [
        {
          "output_type": "execute_result",
          "data": {
            "text/plain": [
              "0    0.697215\n",
              "1    0.302785\n",
              "Name: repeated, dtype: float64"
            ]
          },
          "metadata": {
            "tags": []
          },
          "execution_count": 5
        },
        {
          "output_type": "display_data",
          "data": {
            "image/png": "[encoded data removed]",
            "text/plain": [
              "<Figure size 432x288 with 1 Axes>"
            ]
          },
          "metadata": {
            "tags": [],
            "needs_background": "light"
          }
        }
      ]
    },
    {
      "cell_type": "markdown",
      "metadata": {
        "id": "AgNnOtt4bw31"
      },
      "source": [
        "Iz tablice frekvencija, tako i iz grafičkog prikaza da većina učenika nije ponavljala godinu u školi. $30\\%$ od ukupnog broja učenika je ponavljalo školsku godinu."
      ]
    },
    {
      "cell_type": "markdown",
      "metadata": {
        "id": "2XQM7Dp6Z-rX"
      },
      "source": [
        "Varijabla **SCHOOL** opisuje školu koju učenik pohađa. U podacima su su prisutne 4 škole. čiji pregled sljedi u nastavku."
      ]
    },
    {
      "cell_type": "code",
      "metadata": {
        "colab": {
          "base_uri": "https://localhost:8080/",
          "height": 410
        },
        "id": "v9Ck_8lYX6Pu",
        "outputId": "0a4904b0-444c-4b3d-d851-277d40600fb6"
      },
      "source": [
        "print(data['school'].value_counts()/7900)\r\n",
        "\r\n",
        "fig, ax = plt.subplots(1, 2, figsize=(10, 3))\r\n",
        "sns.countplot(ax = ax[0], x = 'school', data = data)\r\n",
        "sns.countplot(ax = ax[1], x = 'school', hue = 'repeated',data = data)\r\n",
        "plt.show()\r\n",
        "\r\n",
        "obs = pd.crosstab(data['school'],data['repeated'])\r\n",
        "print(obs)"
      ],
      "execution_count": null,
      "outputs": [
        {
          "output_type": "stream",
          "text": [
            "GP    0.316709\n",
            "RC    0.294304\n",
            "LT    0.205696\n",
            "MS    0.183291\n",
            "Name: school, dtype: float64\n"
          ],
          "name": "stdout"
        },
        {
          "output_type": "display_data",
          "data": {
            "image/png": "[encoded data removed]",
            "text/plain": [
              "<Figure size 720x216 with 2 Axes>"
            ]
          },
          "metadata": {
            "tags": [],
            "needs_background": "light"
          }
        },
        {
          "output_type": "stream",
          "text": [
            "repeated     0     1\n",
            "school              \n",
            "GP        1975   527\n",
            "LT        1403   222\n",
            "MS        1234   214\n",
            "RC         896  1429\n"
          ],
          "name": "stdout"
        }
      ]
    },
    {
      "cell_type": "markdown",
      "metadata": {
        "id": "OJicds825CLe"
      },
      "source": [
        "Možemo zaključiti kako najveći broj učenika pohađa GP školu, njih $31.6\\%$. Također iz donjeg grafa se vidi da u školi RC je veći postatak učenika koji su pohađali godinu. Od 2325 godinu je ponavljalo njih $61.46\\%$. To bi potencijalno moglo ukazivati na obrazovne probleme u samoj školi. Dalje, testirajmo ovisi li ponavljanje godine o školi koju učenik pohađa. Koristimo $\\chi^2$ test."
      ]
    },
    {
      "cell_type": "code",
      "metadata": {
        "colab": {
          "base_uri": "https://localhost:8080/"
        },
        "id": "sdjJs1uSX6Sf",
        "outputId": "dc406228-0346-46eb-c936-fdc2f61c6512"
      },
      "source": [
        "g, p, dof, expctd = chi2_contingency(obs,lambda_=\"log-likelihood\")\r\n",
        "print(p)"
      ],
      "execution_count": null,
      "outputs": [
        {
          "output_type": "stream",
          "text": [
            "repeated     0     1\n",
            "school              \n",
            "GP        1975   527\n",
            "LT        1403   222\n",
            "MS        1234   214\n",
            "RC         896  1429\n",
            "0.0\n"
          ],
          "name": "stdout"
        }
      ]
    },
    {
      "cell_type": "markdown",
      "metadata": {
        "id": "87pLqA7Ib4j3"
      },
      "source": [
        "$\\chi^2$ test pokazuje ovisno varijable škola i ponavljanja godine. Možemo reći da ponavljanje godine ovisi o školi koju učenik pohađa. "
      ]
    },
    {
      "cell_type": "markdown",
      "metadata": {
        "id": "wJsXRep8cMpM"
      },
      "source": [
        "Varijabla **sex** pokazaju spol učenika."
      ]
    },
    {
      "cell_type": "code",
      "metadata": {
        "colab": {
          "base_uri": "https://localhost:8080/",
          "height": 342
        },
        "id": "zfhzBOGWX6U9",
        "outputId": "cf17971a-4307-4df9-8cae-3d50f111542b"
      },
      "source": [
        "print(data['sex'].value_counts()/7900)\r\n",
        "\r\n",
        "fig, axes = plt.subplots(1, 2, figsize=(10, 3))\r\n",
        "sns.countplot(ax = axes[0],x = 'sex', data = data)\r\n",
        "sns.countplot(ax = axes[1],x = 'sex', hue = 'repeated',data = data)\r\n",
        "plt.show()\r\n",
        "\r\n",
        "obs = pd.crosstab(data['sex'],data['repeated'])\r\n",
        "print(obs[[1,0]])"
      ],
      "execution_count": null,
      "outputs": [
        {
          "output_type": "stream",
          "text": [
            "F    0.526582\n",
            "M    0.473418\n",
            "Name: sex, dtype: float64\n"
          ],
          "name": "stdout"
        },
        {
          "output_type": "display_data",
          "data": {
            "image/png": "[encoded data removed]",
            "text/plain": [
              "<Figure size 720x216 with 2 Axes>"
            ]
          },
          "metadata": {
            "tags": [],
            "needs_background": "light"
          }
        },
        {
          "output_type": "stream",
          "text": [
            "repeated     1     0\n",
            "sex                 \n",
            "F         1361  2799\n",
            "M         1031  2709\n"
          ],
          "name": "stdout"
        }
      ]
    },
    {
      "cell_type": "code",
      "metadata": {
        "colab": {
          "base_uri": "https://localhost:8080/"
        },
        "id": "tu4ANHSNcdmc",
        "outputId": "f63bb722-6217-4d81-89ab-8bf17d2443c8"
      },
      "source": [
        "g, p, dof, expctd = chi2_contingency(obs[[1,0]],lambda_=\"log-likelihood\")\r\n",
        "print(p)"
      ],
      "execution_count": null,
      "outputs": [
        {
          "output_type": "stream",
          "text": [
            "repeated     1     0\n",
            "sex                 \n",
            "F         1361  2799\n",
            "M         1031  2709\n",
            "7.207292390507581e-07\n"
          ],
          "name": "stdout"
        }
      ]
    },
    {
      "cell_type": "markdown",
      "metadata": {
        "id": "hKwViKen8Saj"
      },
      "source": [
        "Iz rezultata $\\chi^2$ testa možemo zaključiti da ponavljanje godine ovisi o spolu. "
      ]
    },
    {
      "cell_type": "code",
      "metadata": {
        "colab": {
          "base_uri": "https://localhost:8080/"
        },
        "id": "8cX9Z_snclZl",
        "outputId": "108a7e52-c3dd-4b1a-efab-94a277ca312a"
      },
      "source": [
        "oddsratio, pvalue = stats.fisher_exact(obs[[1,0]])\r\n",
        "print(\"OddsR: \", oddsratio, \"p-Value:\", pvalue)"
      ],
      "execution_count": null,
      "outputs": [
        {
          "output_type": "stream",
          "text": [
            "OddsR:  1.2776313696626445 p-Value: 7.212931680765025e-07\n"
          ],
          "name": "stdout"
        }
      ]
    },
    {
      "cell_type": "markdown",
      "metadata": {
        "id": "WA_BbpxG8eCI"
      },
      "source": [
        "Ako izračunamo odds ili risk ratio, vidimo da ženski učenici imaju $1.27$ puta veći rizik od ponavljanja godine nego muški učenici."
      ]
    },
    {
      "cell_type": "markdown",
      "metadata": {
        "id": "aB2aozOqcL1E"
      },
      "source": [
        "Varijabla **AGE** prikazuje dob učenika. Opisnu statistiku, tj. osnovni podaci, se nalaze u tablici ispod."
      ]
    },
    {
      "cell_type": "code",
      "metadata": {
        "colab": {
          "base_uri": "https://localhost:8080/"
        },
        "id": "_AwyXmATB6Gg",
        "outputId": "aaeabbad-ce9b-4e61-e9e7-423b3bfca21e"
      },
      "source": [
        "data.age.describe()"
      ],
      "execution_count": null,
      "outputs": [
        {
          "output_type": "execute_result",
          "data": {
            "text/plain": [
              "count    7900.000000\n",
              "mean       16.696203\n",
              "std         1.274507\n",
              "min        15.000000\n",
              "25%        16.000000\n",
              "50%        17.000000\n",
              "75%        18.000000\n",
              "max        22.000000\n",
              "Name: age, dtype: float64"
            ]
          },
          "metadata": {
            "tags": []
          },
          "execution_count": 22
        }
      ]
    },
    {
      "cell_type": "code",
      "metadata": {
        "colab": {
          "base_uri": "https://localhost:8080/",
          "height": 225
        },
        "id": "KZFCkl90X6Xv",
        "outputId": "8369a0b2-b848-4741-e917-07e959637748"
      },
      "source": [
        "fig, ax = plt.subplots(1, 2, figsize=(10, 3))\r\n",
        "sns.countplot(ax = ax[0], x='age',data=data)\r\n",
        "sns.boxplot(ax = ax[1], y='age',data=data)\r\n",
        "plt.show()"
      ],
      "execution_count": null,
      "outputs": [
        {
          "output_type": "display_data",
          "data": {
            "image/png": "[encoded data removed]",
            "text/plain": [
              "<Figure size 720x216 with 2 Axes>"
            ]
          },
          "metadata": {
            "tags": [],
            "needs_background": "light"
          }
        }
      ]
    },
    {
      "cell_type": "markdown",
      "metadata": {
        "id": "104jU69JC9tI"
      },
      "source": [
        "Vidimo kako najveći broj učenika je u dobi od 16 godina. Također da se uočiti kako postoje učenici od 20 i više godina, čak 22., što je možemo reći malo stariji za srednju školu. Pogledajmo dalje usporedni graf dobi s zavisnom varijablom. Zatim ćemo testirati postoji li razlika u distribuciji varijable dobi od učenika koji su ponavljali i koji nisu."
      ]
    },
    {
      "cell_type": "code",
      "metadata": {
        "colab": {
          "base_uri": "https://localhost:8080/",
          "height": 279
        },
        "id": "TZQhzPUcgEun",
        "outputId": "6b37dd97-bc4b-4b97-8156-2d4421b7f57e"
      },
      "source": [
        "sns.boxplot(y='age',x = 'repeated',data=data)\r\n",
        "plt.show()"
      ],
      "execution_count": null,
      "outputs": [
        {
          "output_type": "display_data",
          "data": {
            "image/png": "[encoded data removed]",
            "text/plain": [
              "<Figure size 432x288 with 1 Axes>"
            ]
          },
          "metadata": {
            "tags": [],
            "needs_background": "light"
          }
        }
      ]
    },
    {
      "cell_type": "code",
      "metadata": {
        "colab": {
          "base_uri": "https://localhost:8080/"
        },
        "id": "6_OBvVSxgEws",
        "outputId": "1dc12dea-1aa2-446d-c415-ea17df376832"
      },
      "source": [
        "r0 = data.age[data.repeated == 0]\r\n",
        "r1 = data.age[data.repeated == 1]\r\n",
        "s, p = stats.ttest_ind(r0,r1,equal_var = False)\r\n",
        "print(p)"
      ],
      "execution_count": null,
      "outputs": [
        {
          "output_type": "stream",
          "text": [
            "1.0255377075099464e-22\n"
          ],
          "name": "stdout"
        }
      ]
    },
    {
      "cell_type": "markdown",
      "metadata": {
        "id": "2YVaQ578Don-"
      },
      "source": [
        "Iz kutijastog dijagrama ne možemo na prvu vidjeti razliku, jer prisjetimo se nije jednak broj podataka u pojedinoj klasi. Stoga rezultat t-testa ukazuje na statistički značajnu razliku u distibuciju dobi."
      ]
    },
    {
      "cell_type": "markdown",
      "metadata": {
        "id": "QvGXB4qJiFK3"
      },
      "source": [
        "Varijabla **ADDRESS** je kategorička varijabla koja kategorizira učenika živi li u urbanoj sredini ili u ruralnoj, npr. selo. "
      ]
    },
    {
      "cell_type": "code",
      "metadata": {
        "colab": {
          "base_uri": "https://localhost:8080/",
          "height": 342
        },
        "id": "nkHZFOsSgE1d",
        "outputId": "bb3d3097-e336-472a-e81c-916ef7a2c391"
      },
      "source": [
        "print(data['address'].value_counts()/7900)\r\n",
        "\r\n",
        "fig, ax = plt.subplots(1, 2, figsize=(10, 3))\r\n",
        "sns.countplot(ax = ax[0], x = 'address', data = data)\r\n",
        "sns.countplot(ax = ax[1],x = 'address', hue = 'repeated',data = data)\r\n",
        "plt.show()\r\n",
        "\r\n",
        "obs = pd.crosstab(data['address'],data['repeated'])\r\n",
        "print(obs[[1,0]])"
      ],
      "execution_count": null,
      "outputs": [
        {
          "output_type": "stream",
          "text": [
            "Urban    0.777215\n",
            "Rural    0.222785\n",
            "Name: address, dtype: float64\n"
          ],
          "name": "stdout"
        },
        {
          "output_type": "display_data",
          "data": {
            "image/png": "[encoded data removed]",
            "text/plain": [
              "<Figure size 720x216 with 2 Axes>"
            ]
          },
          "metadata": {
            "tags": [],
            "needs_background": "light"
          }
        },
        {
          "output_type": "stream",
          "text": [
            "repeated     1     0\n",
            "address             \n",
            "Rural      655  1105\n",
            "Urban     1737  4403\n"
          ],
          "name": "stdout"
        }
      ]
    },
    {
      "cell_type": "markdown",
      "metadata": {
        "id": "er4pRrnXEq-F"
      },
      "source": [
        "Vidimo kako skoro $78\\%$ učenika živi u urbanoj sredini. Nadalje, testirajmo zavisnost mjesta života i ponavljanja godine."
      ]
    },
    {
      "cell_type": "code",
      "metadata": {
        "colab": {
          "base_uri": "https://localhost:8080/"
        },
        "id": "mIJVjZ4OgE32",
        "outputId": "2ff7e875-5b99-43c4-b195-3b55d98065d3"
      },
      "source": [
        "g, p, dof, expctd = chi2_contingency(obs[[1,0]],lambda_=\"log-likelihood\")\r\n",
        "print(\"chi2 test p-value: \",p)\r\n",
        "oddsratio, pvalue = stats.fisher_exact(obs[[1,0]])\r\n",
        "print(\"OddsR: \", oddsratio, \"p-Value:\", pvalue)"
      ],
      "execution_count": null,
      "outputs": [
        {
          "output_type": "stream",
          "text": [
            "repeated     1     0\n",
            "address             \n",
            "Rural      655  1105\n",
            "Urban     1737  4403\n",
            "chi2 test p-value:  1.6413675145703275e-12\n",
            "OddsR:  1.5025463885567512 p-Value: 1.491683833664934e-12\n"
          ],
          "name": "stdout"
        }
      ]
    },
    {
      "cell_type": "markdown",
      "metadata": {
        "id": "m5Nfak8QFAC_"
      },
      "source": [
        "Rezultat testiranja ukazuje da postoji ovisnost mjesta gdje učenik živi i ponavljanja godine. Također možemo vidjeti da učenici koji žive u ruralnom okruženju imaju $1.5$ puta veći rizik od ponavljanja godine u odnosu na učenike iz urbanih. Razlozi tome mogu biti razni, putovanje, daleko mjesto prebivališta i slično."
      ]
    },
    {
      "cell_type": "markdown",
      "metadata": {
        "id": "sdhVGy6IjI3X"
      },
      "source": [
        "5.varijabla = famsize"
      ]
    },
    {
      "cell_type": "code",
      "metadata": {
        "colab": {
          "base_uri": "https://localhost:8080/",
          "height": 346
        },
        "id": "U8b9NB2aX6aL",
        "outputId": "c5619c48-00bb-4526-c94b-cab5a60dfd05"
      },
      "source": [
        "print(data['famsize'].value_counts()/7900)\r\n",
        "\r\n",
        "fig, ax = plt.subplots(1, 2, figsize=(10, 3))\r\n",
        "sns.countplot(ax = ax[0], x = 'famsize', data = data)\r\n",
        "sns.countplot(ax = ax[1],x = 'famsize', hue = 'repeated',data = data)\r\n",
        "plt.show()\r\n",
        "\r\n",
        "obs = pd.crosstab(data['famsize'],data['repeated'])\r\n",
        "print(obs[[1,0]])"
      ],
      "execution_count": null,
      "outputs": [
        {
          "output_type": "stream",
          "text": [
            ">3     0.711392\n",
            "<=3    0.288608\n",
            "Name: famsize, dtype: float64\n"
          ],
          "name": "stdout"
        },
        {
          "output_type": "display_data",
          "data": {
            "image/png": "[encoded data removed]",
            "text/plain": [
              "<Figure size 720x216 with 2 Axes>"
            ]
          },
          "metadata": {
            "tags": [],
            "needs_background": "light"
          }
        },
        {
          "output_type": "stream",
          "text": [
            "repeated     1     0\n",
            "famsize             \n",
            "<=3        589  1691\n",
            ">3        1803  3817\n"
          ],
          "name": "stdout"
        }
      ]
    },
    {
      "cell_type": "code",
      "metadata": {
        "colab": {
          "base_uri": "https://localhost:8080/"
        },
        "id": "FSB465XLjWKV",
        "outputId": "d95799d3-1a05-497b-c372-8365a75659e6"
      },
      "source": [
        "g, p, dof, expctd = chi2_contingency(obs[[1,0]],lambda_=\"log-likelihood\")\r\n",
        "print(\"chi2 test p-value: \",p)\r\n",
        "oddsratio, pvalue = stats.fisher_exact(obs[[1,0]])\r\n",
        "print(\"OddsR: \", oddsratio, \"p-Value:\", pvalue)"
      ],
      "execution_count": null,
      "outputs": [
        {
          "output_type": "stream",
          "text": [
            "repeated     1     0\n",
            "famsize             \n",
            "<=3        589  1691\n",
            ">3        1803  3817\n",
            "chi2 test p-value:  3.7887932365568124e-08\n",
            "OddsR:  0.7373914885926701 p-Value: 3.47321369191552e-08\n"
          ],
          "name": "stdout"
        }
      ]
    },
    {
      "cell_type": "markdown",
      "metadata": {
        "id": "adgYXUdsGjGj"
      },
      "source": [
        "Vidimo kako $71\\%$ učenika živi u mnogobrojnijoj obitelji. Testiranjem zavisnosti utvrđeno je postojanje iste na ponavljanje godine. Isto tako vidimo da učenici koji žive s obiljeni do max. 3 člana imaju oko $0.74$ puta manji rizik od ponavljanja godine u odnosu na učenike u mnogobrojnijoj obitelji."
      ]
    },
    {
      "cell_type": "markdown",
      "metadata": {
        "id": "kWqyEzeGktjZ"
      },
      "source": [
        "Varijabla **Pstatus** opisuje, tj kategorizira bračni status učenikova roditelj, tj jesu li vjenčani ili razvedeni."
      ]
    },
    {
      "cell_type": "code",
      "metadata": {
        "colab": {
          "base_uri": "https://localhost:8080/",
          "height": 342
        },
        "id": "XhBpU5VOjWR2",
        "outputId": "fe81bc36-59f2-4ba5-93c6-c1c964325cbe"
      },
      "source": [
        "print(data['Pstatus'].value_counts()/7900)\r\n",
        "\r\n",
        "fig, ax = plt.subplots(1, 2, figsize=(10, 3))\r\n",
        "sns.countplot(ax = ax[0],x = 'Pstatus', data = data)\r\n",
        "sns.countplot(ax = ax[1],x = 'Pstatus', hue = 'repeated',data = data)\r\n",
        "plt.show()\r\n",
        "\r\n",
        "obs = pd.crosstab(data['Pstatus'],data['repeated'])\r\n",
        "print(obs[[1,0]])"
      ],
      "execution_count": null,
      "outputs": [
        {
          "output_type": "stream",
          "text": [
            "Married     0.896203\n",
            "Divorced    0.103797\n",
            "Name: Pstatus, dtype: float64\n"
          ],
          "name": "stdout"
        },
        {
          "output_type": "display_data",
          "data": {
            "image/png": "[encoded data removed]",
            "text/plain": [
              "<Figure size 720x216 with 2 Axes>"
            ]
          },
          "metadata": {
            "tags": [],
            "needs_background": "light"
          }
        },
        {
          "output_type": "stream",
          "text": [
            "repeated     1     0\n",
            "Pstatus             \n",
            "Divorced   278   542\n",
            "Married   2114  4966\n"
          ],
          "name": "stdout"
        }
      ]
    },
    {
      "cell_type": "code",
      "metadata": {
        "colab": {
          "base_uri": "https://localhost:8080/"
        },
        "id": "BwPNQRdgjWUb",
        "outputId": "7e513e94-808a-4c5f-9de3-7faf5222b536"
      },
      "source": [
        "g, p, dof, expctd = chi2_contingency(obs[[1,0]],lambda_=\"log-likelihood\")\r\n",
        "print(\"chi2 test p-value: \",p)\r\n",
        "oddsratio, pvalue = stats.fisher_exact(obs[[1,0]])\r\n",
        "print(\"OddsR: \", oddsratio, \"p-Value:\", pvalue)"
      ],
      "execution_count": null,
      "outputs": [
        {
          "output_type": "stream",
          "text": [
            "repeated     1     0\n",
            "Pstatus             \n",
            "Divorced   278   542\n",
            "Married   2114  4966\n",
            "chi2 test p-value:  0.02011004261727061\n",
            "OddsR:  1.2048895607215295 p-Value: 0.017869565928866786\n"
          ],
          "name": "stdout"
        }
      ]
    },
    {
      "cell_type": "markdown",
      "metadata": {
        "id": "T4dIRhwPHuq7"
      },
      "source": [
        "Uočljivo je kako velika večina učenika živi u obitelji gdje su roditelji u braku, njih $89\\%$. Postoji zavisnost među bračnim statusom roditelja i ponavljanja godine, te je izračunato da učenici kojima su roditelji razvedeni imaju $1.2$ veći rizik od ponavljanja godine."
      ]
    },
    {
      "cell_type": "markdown",
      "metadata": {
        "id": "nSvjTXgrl264"
      },
      "source": [
        "Varijable **Medu** i **Fedu** su varijable koje opisuju stupanj obrazovanja majke tj. oca redom i to na način kako je opisano na slici\r\n",
        "![image.png](data:image/png;base64,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)"
      ]
    },
    {
      "cell_type": "code",
      "metadata": {
        "colab": {
          "base_uri": "https://localhost:8080/",
          "height": 443
        },
        "id": "t_764C7RjWXB",
        "outputId": "26654ad0-979d-4033-c364-880a9f9cfbe5"
      },
      "source": [
        "print(data['Medu'].value_counts()/7900)\r\n",
        "\r\n",
        "fig, ax = plt.subplots(1, 2, figsize=(10, 3))\r\n",
        "sns.countplot(ax = ax[0], x = 'Medu', data = data)\r\n",
        "sns.countplot(ax = ax[1], x = 'Medu', hue = 'repeated',data = data)\r\n",
        "plt.show()\r\n",
        "\r\n",
        "obs = pd.crosstab(data['Medu'],data['repeated'])\r\n",
        "print(obs[[1,0]])"
      ],
      "execution_count": null,
      "outputs": [
        {
          "output_type": "stream",
          "text": [
            "4    0.331646\n",
            "2    0.260759\n",
            "3    0.250633\n",
            "1    0.149367\n",
            "0    0.007595\n",
            "Name: Medu, dtype: float64\n"
          ],
          "name": "stdout"
        },
        {
          "output_type": "display_data",
          "data": {
            "image/png": "[encoded data removed]",
            "text/plain": [
              "<Figure size 720x216 with 2 Axes>"
            ]
          },
          "metadata": {
            "tags": [],
            "needs_background": "light"
          }
        },
        {
          "output_type": "stream",
          "text": [
            "repeated    1     0\n",
            "Medu               \n",
            "0          19    41\n",
            "1         515   665\n",
            "2         676  1384\n",
            "3         660  1320\n",
            "4         522  2098\n"
          ],
          "name": "stdout"
        }
      ]
    },
    {
      "cell_type": "code",
      "metadata": {
        "colab": {
          "base_uri": "https://localhost:8080/"
        },
        "id": "Yz55a2D6jWZ0",
        "outputId": "497e8a54-45e4-4ae9-996e-53c4c188191c"
      },
      "source": [
        "g, p, dof, expctd = chi2_contingency(obs[[1,0]],lambda_=\"log-likelihood\")\r\n",
        "print(\"chi2 test p-value: \",p)"
      ],
      "execution_count": null,
      "outputs": [
        {
          "output_type": "stream",
          "text": [
            "chi2 test p-value:  1.9154892352225763e-53\n"
          ],
          "name": "stdout"
        }
      ]
    },
    {
      "cell_type": "code",
      "metadata": {
        "colab": {
          "base_uri": "https://localhost:8080/",
          "height": 443
        },
        "id": "PTKUzkzMjWb8",
        "outputId": "9f6c9c64-8d8a-42af-c3ed-56d364fe7fe9"
      },
      "source": [
        "print(data['Fedu'].value_counts()/7900)\r\n",
        "\r\n",
        "fig, ax = plt.subplots(1, 2, figsize=(10, 3))\r\n",
        "sns.countplot(ax = ax[0], x = 'Fedu', data = data)\r\n",
        "sns.countplot(ax = ax[1], x = 'Fedu', hue = 'repeated',data = data)\r\n",
        "plt.show()\r\n",
        "\r\n",
        "obs = pd.crosstab(data['Fedu'],data['repeated'])\r\n",
        "print(obs[[1,0]])\r\n"
      ],
      "execution_count": null,
      "outputs": [
        {
          "output_type": "stream",
          "text": [
            "2    0.291139\n",
            "3    0.253165\n",
            "4    0.243038\n",
            "1    0.207595\n",
            "0    0.005063\n",
            "Name: Fedu, dtype: float64\n"
          ],
          "name": "stdout"
        },
        {
          "output_type": "display_data",
          "data": {
            "image/png": "[encoded data removed]",
            "text/plain": [
              "<Figure size 720x216 with 2 Axes>"
            ]
          },
          "metadata": {
            "tags": [],
            "needs_background": "light"
          }
        },
        {
          "output_type": "stream",
          "text": [
            "repeated    1     0\n",
            "Fedu               \n",
            "0           6    34\n",
            "1         709   931\n",
            "2         694  1606\n",
            "3         553  1447\n",
            "4         430  1490\n"
          ],
          "name": "stdout"
        }
      ]
    },
    {
      "cell_type": "code",
      "metadata": {
        "colab": {
          "base_uri": "https://localhost:8080/"
        },
        "id": "mKdk0oRKjWeX",
        "outputId": "532ebf32-27fb-420b-f1d0-cf4c0d4638d6"
      },
      "source": [
        "g, p, dof, expctd = chi2_contingency(obs[[1,0]],lambda_=\"log-likelihood\")\r\n",
        "print(\"chi2 test p-value: \",p)"
      ],
      "execution_count": null,
      "outputs": [
        {
          "output_type": "stream",
          "text": [
            "chi2 test p-value:  7.80967622721655e-41\n"
          ],
          "name": "stdout"
        }
      ]
    },
    {
      "cell_type": "markdown",
      "metadata": {
        "id": "aJKv9zqPx1eR"
      },
      "source": [
        "Iz grafičkih prikaza vidimo kako najviše majki ima visok stupan obrazovanja, dok je najveći broj očeva srednjoškolski obrazovano. Obje varijabli su pokazale statističku značajnost, tj. zavisnost, s zavisnom varijablom, što je na neki način i logično jer djeca visoko obrazovanih roditelja mogu od njih učiti i dobiti pomoć."
      ]
    },
    {
      "cell_type": "markdown",
      "metadata": {
        "id": "-ERY3TQPpwSm"
      },
      "source": [
        "Varijable **Mjob** i **Fjob** varijable koje opisuju zaposlenje majke odnosno oca i to na način kao na slici\r\n",
        "\r\n",
        "![image.png](data:image/png;base64,iVBORw0KGgoAAAANSUhEUgAAA6wAAAAuCAYAAAAsq5QKAAAgAElEQVR4Ae1dO7Jbu47tMXgwHonjm3fm5CWegxPHnoE7c+ABdObIVa4exB2FukjiuwB+9pZ0jnQOX9V94iZBYGEBBElJ1vmvy/7fZmAzcJCBfy8/Pn+6fPj29+C8Lf4eGPj97cvlx7+v5+nvb58uHz7/urwihOud//fX5Z+Pny5f/1yvamvoMPDn++XDx9fN1QzZvz+/PGb+Vr6+X3470GUvwD4nsB/eCQMPm7ellu6zyhvPwvdxJv2vNx7F7d5m4D4M1AP14x327uPs1rrOwN/L14+ve4B9CxfWhz38rSfCU0jWXHmtw2y9AMKbEvRGxT8/H+3tlnYgDLgK3md/c+gpMvWBQD5V3l4upZaGvH0gOjeUGzDwTs6j+8J6g1zZKt4nA/tQ/T7jPvT6z/dXPxw884W1rqmPny4fXvnSP4zxmxosb7DApfEF/dN4l5i3/x7xU/WKM7nYl/5HxPuCIXyXpp4lby+X/Q2AN52g9AZfqZ3voQ7tC+ubzubt3GZgM7AZ2AxsBjYDm4HNwGZgM7AZeF4G9oX1eWO3kW8GNgObgc3AZmAzsBnYDGwGNgObgTfNwL6wvunwbuc2A5uBzcBmYDOwGdgMbAY2A5uBzcDzMrAvrM8bu418M7AZ2AxsBjYDm4HNwGZgM7AZ2Ay8aQb2hfVNh3c7txnYDGwGNgObgc3AZmAzsBnYDGwGnpcBuLDS3/KhX+tb+qVG+onv6d/9g58CP/NLlmfmPFJoCn79Ja97/92k9uuP07gMCDrD95k5HsLr/mqlx3K/GLVfGTzy509iPH0+eeT3fbofLxU31Yr1n+LnusV8Nq7W51/JVsVr/8RRwWOfF/Ac9vlKzK8+fYGTDGPhKfm11kx03Ec5c+s/SRJyYYziAvLjuoB5PtF95+Ex1vsY519n1X20Z6dx9WI1oAfjBv3NZ1tPziil3Dm0dk7MufGf+fF73Ak8Z6h62Dno/8kaOvSv2Zivr6hkfW3aucXe0dxGHqy+x2mf4+Mk/pPnh5ddXy1f+U5S+TlUjy4Xc2H1ygptS4WSifr8pX+QIJlrf3r5+svQyWS4xTT6+WktBPdedDGet3BjpuPaGNX5B5N4hukRx9va4gvWCkKIZ8inFR23krlz7nJNWf5bjIRH/hRK4+rFDqsVr9l08fmygOewz7eK5WvpWeAkQLtl3pGuW19YA+ZjHeO6gHl+TPdbkG782Dd+c6+q3IPFNkc6720+m/oyn/JqEtfu/w74q+5xDsmDPNyy/g1cqrwfz7fVteksh73SjXYeXoiHjvXV7lN8rCpHuTPnh7C+7s0rnGHrn1z6dOjPAMqFNS+KCw4QUV9//rr8IwdGz2YpYl+/fa9/Z00vbF5m5emmxXDF4C1lXjw5FmJ3S/9I11Uxqrl05BJ3BwdeSGVbb0d8hXiGfHoh4NUMYLm16RO++bw7cxm6wgncdPF55cJ6wucrED/A1DMxumXeka4Hu9TM6oLP8wcI40tDCGsrAVDX0vEDd6LpIbrys9lDQAsgbpqf764mBjqh45b1D1TDY43j0Q8OVtYm2MFvmOBw/vxyPOT2F3vP8LGoOoidWSthzr15TfRXjtbPwXJh7RWa2QbaEq6849nAxAvp38vXciiowPSd0dQeyfAfEOePjjk4POfHN/0j4x8+3m5jYv2/f36RP2Iu+gFb6qd8lbrgM7hgbvNLg1ftylwzjx2nA6/wYnUXmar/++WHwV3wFb36KRPZEzuf+p+Ik13m41/BwbYM/3Dg4znHY6R8qDk91HqOkgRPOVZNjOtYbBHTOp62bgxPEDNcVyuHkuJDjefI19GY0NH80HzKcwF9CLn07W/NMdVzq9wt+DJd4kBoVKyywXKc/l5+fLYxOJ431RAVdvXTriteEw0vcta+vrqCZ9FnjK/4TJQsYY21os5G3bC2A+nyDumvy1euKzIn1htfM5kTW11an+VZv/6LYzY/RmOMGmS+/Wq5IXhZbuEVebIxqGOEjeS83+WrS+XNXbuW1ZeWP0meEiyf55x7NsdVl3iCeMHnqvPzr4vW7P9c/vPfny64/xZ9rQ43fBnW1qd4tGYwGohDss59rQcclbs+P4IRfGzW57YZpX31Pn25/PjT4hfiaielbbSf113vP69VjmvT8c9PqG3kL879LTjO7GU4Z5RvnfVec499aHkhvI1qVZqzFg+1kzjbHK3up7qEmH5jMi+uG46RVynrBPQJD0bc5xrmh/W/TOJcGNXQuFbGNghMjU3uj4Hrm8naDLbMeg9jto56zfCkPPh8z/DimvMyDcP3y+8sNpCfsZYRDt77Pur9pgJO+ABHymYAZxTQQTFuHwhSXU15Kn563zg/dD814+Dv69xJChvN/8htZKr0LF5YjaOohxwvi68mD5L557s7ZPMirbKm2HDy8jg7Yv8drSRnmDfAh3gHz6JffDDJNLLJiS3z+OvUJvlIJvrnD78NgykyXd3GZ04+g9G7SX648azY+VkvGqPAT8GixUZ5oz7jy6HckRitxJZkZM4RPCaGcNArnkmh9JSvPyV8dXkwXDGnrkCQLtvX8tDkmJNR7uIc4zfN0UsH+230TnN3nRKVzOIU18ASXwnP+iYdWaw+oE/mOc3jiEfx562Il/zk/FzGCpcAyUdTr3gjdbmDuDQPdH0WmbhGA2cko/nT5uhzAWUudtU02WN/S99KjiUyUuuH/qG/nL+WJ4iBywUYI3Vu7Tt51m/WUISgPbR2LPdO92JcOa+G67Ra9TFCW+OasRarpsP6n8RcGUhaHqMIJDnQ8Nt1KtLS6PlUDoGWd5nQbSS4evltv6lGMdY3wCmnrH32jd8EqRiwviCPiZ6wbmHOQr5VvuyaYvy2r+AjzI5D1B9kPJ48fp5nzm21g7zkAevOM7FhGbtuMm0iZ+bGeshvBtl8pBgJd95/rrNSMzkPTH3E9RTymWNu5jQf0Fbm2biv+W3XMvto+mrMrc9jnQ6by/dEd8IHx4LzgZ/tm3ONo3I5RJx2zWNs9M0c1j33pK9DYsrxCZfRifYF3+MapJif5tXEsbfuE9hZniRitUsurL1JMcFBlS0ytW2CXA/q5ISV4wO8LERfZMQCkc7Bw8XX5K5fWGwv0994MYEowoSLE7POE19YG+HifpgjF3Ie52mVJ7WXYQpzgVtWpa8dflUgbXm/OjpuFSPwuwGiBQ3F1OfqeVzz2GJuXY+Hc8b7kNI/7gz5lGPjXOU11LPrYh10Nyh1bs1XyG1GCjG8Te6y8iOvORfe91wG+XK8CATIC/C7HUZ0DfPBAg82Ho8o7zQaXo6jCFXbreauY7Ubb9G0xoXYlEaeB80v63+b4PPB+9PjwvsEvPM+Yg8W1ZTH5e0yeC/DveNXj1lkTQww9tEv8AFyJ8qLldCYy67FtenBeCW+jrBOa0ZyoKwe2TgAN8HjhY4OjlM5QLpwzTW+cA2NsfVi5fK78hv1+vhkMbUcKg5vE7nN9OAbJn6O16d2bMv5UwY6PgW5qsTb41rMe6ace+Q8MMvR3EfWi3FVPxK9ZRDywcdFZ2OrJ+c46OSt5w/4obrNfjh9AqL5UjkE/CJyKEYya9IYcygxhZoyUUrDxMPK2Rll4I3YNDYpH96fdF53P8q9ajr8falI1jjKntbs4tkh16i9eS4AbyHnYJzVQYw8PhaCuSmHLAuvoB9G3aNcWOXQYgLcCC3vNOBmZnQ4YGZxFJFCCOtzchQUHgvEsX4igQpUHgQssjz3+GumP01Mh9djtFZdQro5Raozz/HUT1aneyHgLcngXSMLNmk7PgJ+nuD9cHNYpHhbv64cFyeL5OO+SKSyV+BqNiG3nT7vG68R3iBSPNxJr8p7+zoHF+rcX5g8enQ4+weDbp4V3aRDvjLC63GaT8gLAb1T7o5oyMdGeUPxdlitlo5vRYTmCF98cEK+8BkOFmwtzT8exFeMN47j8yrWMo9kOTdV1YCLKpSNUx/nkiojO7ze8hg1te2TVeFZdKG9lfqIcxRQr1apBLRWYoCxxzn4DPKH6gLpKjxhTarIF+Pas4n84LObB34Ac/03RWBvaDonZ46oXHtSHCt5oiqkleoarReZOW6YuNUcp/x2fFoNDke2bvI15/XhOsj04D4NcwzuNN/4sC3rlbniNW+dMu3qX9sfKx9cV3GtJGcmzEn3THoP17Vgl7F6Pjy/LBNfe3Kt3+5HGU82Tt6+P4/gWA/HzIbO6+FWifVWjUv21VmX26v6Or66eHdk0noD51KnhzElcbB5zmIH/HG5yvPLq9Nh7VqhUXvNdz7/6frozHN8NDzZBdrli/NhhFXPoYqjL28urEWIwFBi1aI0M+ycoYsoFZzigBS2TI4DDmMK1xNYA8zFTIXGlyFTZPkAJJiMjtLMEsgVFZZ3BW0xgG5OUeR9Y9X+8Ojjwfj1lRbaLEasnHgO83kcXh0f94wRcy/vKjGQ5j/Gy8XkCC7ON1Lv9LBJFyeM0QIeKYi8AdMG4fTiwYCNH3gFfZw3Glu2T6+ybiCnqN/GOuXFQUNeaNDFAuyYzaphPJi7zv7sYSFOYS10+CKemdeWi+B/1WUOAvh8iwur47bj/xmsRdUqF8Es8FDHqS/Em/llnjBGkC9JXsaaCXOCzZJjJCP5r07UPIeaoKNJayUGIfaeo7a2zAEJ5MN4AsN3Rb6lXi7GtWvTYcN4+RrWdHBsPcL2tBIrmgd5PHzDHEzlOA7YNvpyXccOWKoOMCT5XWtw2APZHnMb4yDrAnLZx9XnIZ/1JFeY+vrGMtvCOUVokG+8j1scLoeUDT4sD+sq7nFs265lpx+4Wcx/g6o1aV48QHs+PL9Bi3RUOcsJjxjs3Vxze4e372NI+WW5YTv02mxwHY6veS6YWgX6Zo/eHuUUxtRwMNOn48gDjbi49flouJpfti36nR7utbkV1wDncXvl9cNzs1fSMckLH+NMT9a35juvQc3zA7yGvZbzifLlSFwxJzKXqA8urFGyBjQjlUUxuPW5gC7Om8CBnD0gR+JYuSfQzWERuSCcX1isKtPfEtr4UYQdwR4j66pi9lNFN6eOtn9sjQXG8WQXidUM7ToHMIJIeCQ87nv6IOT4CPhZ2Pvv5rDIQozSwuGKtSpzMbkCl9PD6p0+71uveDg9NB+Lv88Zf9hj04deHU6+dMxzoMYnORTZuDl/UlDICwm9VO6mmGxnvm6cX0trhvwM9Q/8R134vJLHFn7WdtxmAiexFlUBb6Y/6wMeqkjWl831MVrJSzksS830OjIrcY5K2ZzX3kFrGoOcy5Z3vCfCp6HAvcoOcAyGGo/5Dzr1pvVtGn4rTr/H2nmtPao/RlcPSNrf5i1fWoHPpvKk7VQXxzh+dTeFT50r+W35dLocjsyXfO17fbguMz28L3EccY5DVR9cvi1fWHO8Ya3iHpddWG1txRx1vEXs3Z5glyU9H55flomvPbnWT1x3sdo4efv+PNLksk++GFEPB4/j61F5N3/xHHRu70EeyHLlkNdlRwbOoqmPTg97NYoDyxx77e4/Lhes3VX9a77jmTSsPzbn+FjE43xgRZ3X7nqL8nJhTQOXFghQ4pwpY82h+qtW9qAHcj5YbU5YbJD0edHvBweQTh89pibeeOECTiqA4CEu5gDmrCVH/qlvQeGwHkkOw0Lqmxl3Niiud4tR6kO+ODzuA7nDseAwuneTudP+AiTm1gIeyHOms2HmYsoHA38AZNml15BPOTZej+0CTf4ADywjPzwQdBMiiRHyYsfVR58/6pXrF506fn0r5yLLm/DGgj0ATXJe1gL6gM9Op3rn8Wh/3sp90k2njQsmVkKxlP6ArQh2dHf7RXn6plvzK+a277c2F/My2Y9cLjEsqI9VJrxJ07NplISmxWwG7XoZ8Nt+6RH2EpD3HBkby02bBx28ENeRzTrGvyAsbxQ0MG6e5cBiNf6txMpOlXbVoXVF+rNGB8cp26QLa0TzexFPxdjLNYoV1+OOn80e500W01y/i09YO5ke3pfYFumFuHvayQeSCTyb+Os8P0f6iW+pVSGWOZ7qZ5qjuY/9esdIxvg4Hzy/PDe++vjpuOOqk2v87Zf2KRj67/1z+sSMmRP4JKFOf65PFI8bw1w2ayfNj7HqQ2fnSd1PY5hi91yn8+AyPPUiO3/y3iW4vd2ZTh6vsRMd3Eu5wPUmxN3kCk8pr8BHLy9c/5G4HpCVC2u2iHOnrSfRmTLa5mXvJGuiOuck0DouSWlIZ71S0MQWF1jAdvARMZXpabHBQNOzxdXmWX8w8daSgw+kVjcm0Pxdqmbb6eANjJM34Qr5iD6RD7eIEXJa8SBnDSTGZBkX+Ip6qnaHA2O0gCfJBYmh+WXHZjse6pMwdLoilsgDr0W109aQXy+yrgw/Uc7mEPJCEKGwid/2wIMyB4pVh4ikO3JThDDec75ifmtdMn9yAH1wOVQsr+FJHHFdES/hq3E7iZUsRN0xdxyY+tDJA/JX3gApssQJH/aQk5hvbN//onGVM3nKel1twxxjPCYP2V+HMToYenhe+BoVY8JcIA3ZGqtDIN/063oNAExHk/VrGfeGiJd5VRtDm1zPTO1iCDgvxtDWDM2BfqxsPrOViFdHsla+1tbyJOoLPgkfwHuc6nqCHjm7JPlt9lPBLb8jkvmX8+bjg2s104M10s9p+sBvWGveJp8PYQ6fPayf0mfqaqibHo8QLDGx56022vD4/hYLzX/RYxpxHtk2mIOvZr5tsi5ba7hP6wjnueWK1g/XFuZI6hjEkHmQcYxnZoP8EhuMvMM1D89eEyyayyYeJGd5mKmWPdj4WedALoo9I4e8pzFEPVU5cM17iuWNfNE9buYJxpfXi707od2ZThpP+EffcQ++hlfcd+Z3EvUjjYEOu5a5sJZ+IpC/n2yD4aaZhyS4DYBdeBoITsxaNFA/6ZLvg5tEKxZ5jv69uPK96XHhMUinTdZv/6pV6ku6yIC7BFcrlIy5UxASPkNcZPMil+oc4Dt4i/j8RhnEDd+WD07Me8So8uNini/WNCaLuWN9SfW42GKMFvFwseB1VHOB+Cf/mm3N3RRLFhTT5/OJBpAHXGMcV8HWimNmv/Xxv02wRRR58bZ5jbdezDvI05XcJT6PbgQon/kY8jnwRb4avop/jXuKX/DBzKn6FvPGxLbbxPi69WLsEt45VmMJdQcujGxtdvLAjgFvqiFyovnccq7EL8TMYNQ8m+RYNQoy/ImM8dHFVIHGlsFQ66CNQR2DHC8aaA7mJG7szV+tC9G478E1WvAoLySLeI3PRWJsk3MqYsrmIZ7gL54xcC/jQ7nJm6N7fMUAPjYmIAeCbRq38RR+uA7y32E1MV6sT0v5Herzl8uPn9/ND182jJ5XihH47OODazXTw7nAvuEcHmcu2qvLN7P3VYy99ZDEOdQqx0XJv4inxZX6kzNXHZ/kf9OR/D/OS/MirgvUxHH4UT9RY+6YYy89Xj/ofxZDymFZPxEf2nBvIDGcGkeLkfQCByyevppcaOfFggX1cOzm51G1gTzQCMXL5SPb6/DBsdG/V6y1OtOTrjvRndReBd1pGf+rHst5mZLFuKMqdM9zQWvSYH0t8Qq46xzoC/hKR/Pf85oK1k64sPYFbz1SiYICe2sbW991DLx4jJaT/Dq/9uwnZID/nvMTQt+Qn4WBsnnGA96zoN84iQE6KPsD5w3ZqfvUzpMbMvqmVaWXogf3uJ798HJa1hX2PbgfG96DM3Cwlr7ShbXzDsmDc/u+4L1OjNJC+b6I394mDJS8uNsBNLG3u94hA+VAtt9EfROBr5eEa2NJF1//7j9+QvQm6NpO3JGBp7uw1ryPn44VP/xauCNpW/U7YODYp6uFkJe/sNYbdflaRFwQ7yBCz+Hiq8aoHQj25eQ5UuVlUP69fL328PkyQLeVJ2agHMh23XniADroxw9Dbjo/yF7IX+W0/zSChfbrZqDPwHNdWNu6iXWw9N/5WwXJWpN/ema+drsvzf1ce6aRui4OfmL/8hfWZ2J0Y90MbAY2A5uBzcBmYDOwGdgMbAY2A5uBV2NgX1hfjfpteDOwGdgMbAY2A5uBzcBmYDOwGdgMbAZGDOwL64idPbYZ2AxsBjYDm4HNwGZgM7AZ2AxsBjYDr8bAvrC+GvXb8GZgM7AZ2AxsBjYDm4HNwGZgM7AZ2AyMGNgX1hE7e2wzsBnYDGwGNgObgc3AZmAzsBnYDGwGXo2B7oW1/oJT75c54de85r/a1X55LPvFr9ZHvxhMPyMff6FswM+ZOQN1+ZD9A7wHft248GR/BavydmB+DqbTyxyf/yW3M79md2aOd6DhnueQn3W3p7vFqOXQup9JPDGf7kZCVHx9nKNO7aH11as3Kiithof/1A1xZdeaSN6jEWPp/+zOCp4kvveA+jA6VzhJwJb6fiAvEg3aVdc254x2X9eKuTDWB/KTeuPzfKz57qMTrHexTzFbqptV9vz+dxf8p5RSPbyynp2p2cfnlHV9wzNNiaHx+zieU4Q/7CTv/8kaOvGu2jCcT8R1+Mja1FkXv1eagVGz2rphno1snR07ycc5c1Qjju6NsL4ud+UVzzgF83UxzC+sRPyHjAx0kC6M4w2FgGf6zkVLZ73AhdUXDTU9biXFBbkbKzg4islxcPpJ8XPcqLE6/x55oSYepAUH1SkqjGeST1MdtxO4Ns5jJMeLb8PDl4+X5gZiGWrQCh6M75ih5x9d4SR6Wf8u863qA+1rh94QjZBu2zPZE3ye39b0U2ijmI3PF8WTtiYfKranCaZ6eOYScdrmyYmT/D2m9VyNOGbjuaTvu+8yF433+RpjeXpdXptmXtgrzdioedM8Gxm6YuwMH6fNHT8zXS7J+rorr2Tvo3kTsdozzwf9DxfWekDgv3kUDgp5IZ0vKgIe9B1Em4mfXQCZrk7fuUPTSyfHpb5zlb7J0PHrFt3z2A+s1Nhd947LQPuDDbW1c2RT8HmX5NMLenhVnKc4T/jmCu2J+VNMIwGIZahBa3h8fEf23sLYGifo6U05ogPFQ11qXB6j95fLfd8BT+w9WldYWznAmifPcMHL4UNvfs4Cocd4nOXvIZTnasQhE08mfN9915BR43jwIrG4No2Vy+XMnKLgpnnmEN3u4axvpxCcWSvJnDvzGvfvhuHIOdjS4y6sVTl9ZBsNXfrJNg0UETW7sKZ6aC5foj/ypyrkBs/5+evyj5GxXyuxDh9r08aR6j0yRpcyTo4/c6ytUOkfK/f+cNB/Xb4yts+/Lv/384v7Ok1b5EbH5OP4vDiin/6CyXN+FNuMBWPUIT3mGMX629+L99/bbOrWcP2unCsH9bBKOcN43eLhGP3brLB/v0dzqiji+eRjQZ8AiC3SJ88JR9V2PYShbsvHZH2Q3ra2lYcP9l0vtg1c2ZwTHkAm4p/hab58tev129/6ZkvUxcCS18ofb7CaN95PyxPrGHHZkxnEEvhobxit4dH4st3sFfGyzyyL4zlW5LvNxrkZX2ynvVbMn39dfnzjXNI5LUe4H3EoJ1ajj1eZy/6N82hsy2CVmvTl8uPn91qjjl9YEYv6zJ/s1dztrmni2axlyXWoN5ab2nZ5rnsw167yGv2ZxLXa/H6xNfvr/3S4sT6lWNEWx489Qe4SvLiG3D5V9Fu+Wa95JYyRhwXbRo00SR9z/M/Pv5cfnzGfRXrY6Oe3mRbs0b5OF/CW698vR/cymVdNEReTvdXPGedbvgabnX9++rNJ204xVyynONZibvE0LjG/LnRWsDlyMu60R3PcP2DeZevmj4kjNyUfwafsDRXMfTgjW//TT8hKiODsJbWF8UxsNDGOGx18eO7wNVmbkMuFS8GzhKNjsM79cvlx9dm5xUTWNO8PxLtfr71c6+1xCR+ZOxMeajw7e6xVV7AKt3VglPeQi5zbN+OV88ev+3AnKTirzcit9a3XdhdWK1QDB4un+y4HJaknz2ojIlGfFSltWeg8QCTbeRRssWUWiG5YNC8rEKz6wGvkoukXDAa79pHPFoMkqglWwl1bNLYAoz+amOozOES27LgvfiAvhS9iixcXPXRosTTzEtvRWsIhf2XBFjnpM/o55oZbxsH+8rP9xLnxag/FvHjUH8zxTA/3sS13aGVHQ1wzf1l45TXJJ95gk/Wh2LJP3uN67PnEsedxyye/IaK2KE+HeEiGC+aK61MZXQ+6/shvuQBpfWGfitrmV1xrVg/XJe2DWFKslYdFPDO/kjxvOcxrAXBUh9qbYYg1HL4S3ZGLCFDywKy9IrVcs8y8OsfmCq910xdlVmwlMuxvesGLfmpPzGnPk41BXFdVT62HnGNWnusPj6nVtEU+aGyT+eyn4dnj5TmfLm4tcy0x8wqGNpfyzfmRr6csP50d3BvwGW2mRPhOh1GGYtxivRJhbRAe5VjXsq0bOqHfirmb5MeCveafj1fjebyXeV7Uj+gb1xOI90q+Vfw2f9WO1sPCEeR96Qr6aa7JQedDkivxEncy7t11g2cDH4c0+qzL1RrCFXwz+rn+mT3L+c/jRkfLA8M/cMq5o7FIcpCc8LZSz8adZFttaa2RvkxmrLWNUuz1Dc0sf5K6z3VN9hSKg42NiVdYGzJvoNvEY+ZKNx4h5vbNnJnWMt7P++CTxXstr6Krt+4z7A2r4spk8r7bXFizYuTsqTP67hW/SxEXGyd3bwG5TREWqJgNhVRGDjdw4xnikgSPxTffMEFu6A8XN5ojtqJLPYxRUntwDvrdJL3tNsfEkNTlc9UWb1Yc60y3SEMsc90LuGhxepuweMBW7p+fg7wxbo/Tz2GZ9VfIEznYdbjnAtjbIJyfHWxVph1m1nmY4OHCKoVunYG+pI+9yDkfecPRw1mT83NPxTJw7HX28Eh/p+Hzh4VarEoOH8GKh+2qm3OEVfOBaFpXIMZHahbHPXBGILKYWTwrtlZkxOdxI+e4xbdtuLB2AH/R7uM4l+8iSnSj7FJcqx7eS1RD9JXymGMG9qPnfKsAAA2HSURBVL1frAfzE3KF+aDcizZZz/prhqPpHduOFjrrlvIJ11Ccb3qW8rtjD2pk6ksaQ59bntuOLYipmwNjxjttBpncjtOrs2Ft0FzON9njuGbHcTxHpFxBzhnz0sxySC7DXH9SzkWFNob1h3PSx0omw1zPG/jfybE6p2JuNkLegg2xHWIpI0uNIYcc0w7mqYGU+zU+/Lk744T0cJwJjON+yFmspbk/R2LOeZJrwl6H1QzWmMg+D3wVuQO8hgumm5tzaKCYZoLDjI6aL3thhYQIwCCZ8wXAJFNAYY7q7CSHCiy3ujiKBrIvF3HxMQlKWhB8oFviZclq/Ul0ozcGV0g0lKVnn/R9G1bOtp3a1FcjkY53bDrZjgxsbimuqgeLi+UVcgt0KnqYowODfBjMsfO7bfSbniXfzETHl+nnCwl/DYY/5eyuIZ2b8ukOVqt4ruVBMWkLuaERF+9mN2ze3RiP1jb4EPhbwaPo81ZHRy58MO9OcEF2szxofdfULPIV85IPmibHl2z18j/EqUem9g9rfxWDXAhv3k7Ge1gVgmlR3ApPfAA0o/IuezLm4tazifzgs5s3y08aN7ETqFYP2XBfHRTBlUaGY9F2UI+xYgHiPeGVJcavhCfkd8+e98nFjg1VDsd7mZ/ndbKadmDVtevnzPIt7pdyyRtxZWJez02SIxGjxxPfpPPjNF/0iZeTfwMZ7fJMp9/mLQtkr7huWIb663msJ8N7NPHn7MMYxo7NyGuaI2W0428Xk2hcb5BtORdzPpy1kXIP8U5lCmS7zmyb3QE91G25b21dJzzT69betNX13cfD2k31JJ3dfcpx4u1UNW6cFXs+1nxPdLO65LWLN5G1Xbe5sFIg+hcjT4AF4NouoIM5luQ653giVcJkA4Gv1jhQ+A55GTSF3BwefBCSAFrcYsP72ZKDP32Or43jRLfosw2SM372Y4SbAfnIhcaotQuqtg9vEGwL49bxq/LGm/MBXPLOEoF3etghKGAQI+srz5D4Czcr+QB2VNliC7mJsZXNocZbufW5Tu9WWz9TXjysOQ+reK7lweNqT8gNyTi/IEZmTTTe+F18kKMY+7UNPri6VWyv4Mn8sH2EQ3LMjnH7BNY6FeZ1uWA7+prlQeuLtYrzsVezpnnZvbCObTU8mv+Kvvntv2Gho7FFcczqmwg3nbauulyx66zOAfkwLoq7Dc+bvbwuxrVr0+dtiLWbR7a6+Um6Qm5x7Gx8oqzls0uE4dNf4KM+zsX2am0b7d1zjOfFzBg2fZySutu1R2cO4jbEoVitseA9kWH43PLzOj6AHj+n6fV+2HxjHJbPjp2TZ6aAx9VatEXPSznHnJXXfi47+y7/7XxoV4yWEx438QHeWQL3Dmcf9pU2ltkhbWTD5z6vP4hjmeK4VUTLLZrP9tK6f9ZGyj3Fm+pznw/Du7u8smdej/TWfxvc1m3TbbiDHFuqV6dizmhGrzn+OsPxRnK2ZrtxtuH1rfme6GZ1yavbI5PxXtexC2sv2Xr9YtUTIN3YAD1dpyzJMEdV2iTV3jMtxNEKOB9wVaOXSwJoccs0z01LjqhbxGsj0e0F0qeGG/+htop6230bVs62VVO2kbnRzjueHZuVN96cOzKl3oYCAzw6PYwH8gRiZHXyDNzg1vIB7KiyxRb6jc8dNanPEJ+ejFE552ERT7phGEOnmh3bzq81/k/FMtSgFTwzRxtefxD3c05hrSrWuPDW2lOWB1lfnAucuNgY6dqvh7Dqo7kwLtkCHaI9xElGOg3CbOxHwYRLY7/itwcEzH8jG3XPexoffPhMsGQqBjaV3+a7O4i5ebP8hHhnODp9La/7+5SfltnJ+vys/KnH38zXRFvlivcsM55w6Diuoh6/xgT1oH6P38/zOkUT4PRzREoabZzzDfaRKpXbWatVcW7EY2TqetZagZc9AT1tGJ0g6+y72IGgfezVGeqv8e7JpJdSPsd4nA2b9d+CyGID4/jYxYSC2TNhC7XSYz59KU65B5upTMFq14Vtsx+gh7pt7G2bZx1+7fLrOTpjC/dJweY48XaqjBvnWZ6PNTyJblaXvHbxJrK269iF1QVe1cwd8gToTGhBQJveuCBd8aM5oeingQB7i4+e3J4vtKnJgk0CmGICfcCBQHT9iW4RHDUIoztAqTzG0fEsYh7vMEbChUzWhvOHuzt+Vd50c17HxYWe9IOe1gsFDGKEnNg57TLh+WBPuEjqD46AHRVcbEVucmzZxb23hri/g83EKLfl8ymX8XiYl7BeF1nIxSI3VQ7i7dexatL+k7E0PDWta3gUQd5SXHacdf9v++XSsMYoJtKfxzbXnX2bxNrGWNJY8D/rZ9x/62DLFc4/tVFx8VfVk09Yuwcei4HaIccgH9Rqv9XLaeUv47f5yr+U6j/RBXmoN30kvRHileKtuLy86x/abPjar0pDfGCe0ynmNM497nr9ooLOGaM3a1Q2z9mejV5/0+e5FBuUT6t4yrxmB/jjfJb87tgD/1PMaS773PLzNC7iV2mAHj/HSdIDYIacyC+NMEfUNry6R0aMKZ5qk37lWupcU5rKSzzgPCA4KIfwG1l8eWQbwVejwDaH9YdzgnzHsxjM9f4APyTr6wvHtNjx+aAQO/2r/qki0xr7I2unh9loSpspNsgr4E701Ll8fsx8Bz000XHfw93rF+O2MeaI9ytn104ftNsczi0VrDVa8hryp4gd4DXkmfM90a0woHVE1k89eGHlQszB168RMNlePT/lCcGj8uoIKL0UYC4YpYuST+zRHPcrmNyHxUAMHWvgxtySwCdH6/O/IIfzlpIjbGoFK/I3D3iawG7hRg7CQkl4bDIaf37WTSfJkWhKYitxrDIdvxD3Mi7YoFBPtQkFrMpobAMnZg4X4bV8ADspJ+POkE/Z+iBuhFfyWZ6LCeqza4bjqEXJ59wKD+l6RTyE2eEZu70wej5vmAv2+1wsMbaLeGaedfO85ec5rGQ00Y1cZPDyPOADn66bac06lJd+HUe/fa4W3A2nxUN7if11yMzB0Efzkj2o5QzGving9eR+1bIOgTzUm2DedhBnnKt1CNfXSlwnNhu/fi+rtnBeYsvznnAHeL08OZv5aXmAdtPhc2StFoGi8ki2tT5Rbrlfrk/mYVfQo7pt3eU3YNQeryX9FDP1L+XI55aft1aT3JzMBsSP8WtO5nbimjV+mrVV5cyzwyMcU16lMZnnnKixjW4u61mn5YatKVaBabMueWNCz8l8ZijSzTejn895csFgGc7tyG3klfyns2+0wbyzTsWdc63j4xavE6uX+zSXeV3afB/rpdGai8g96Tf50uVDZPwaadqjntKPfETd+byRPzEezJHyhnZH+nQsyfukBuH6ynM6+jX3neYs3bmyGKgno9bhC2tVRkT476qPzEQCUmla6Fr8ihQHlL8/DknLc+zfdUwLWWpxqTMEWS6VjKl9faklmsFneKo+LS666jX8bS1b6ISTSXLw4uA4lVfPrXc/Xyi0EOQ7+7qwFKf/m35uQ/Ym3FO1J4Wkasv/3h3x6LGv4fptLQ70SAGFGA05Mfy3BT3KB1iklLdi1+LstQm/jyOujyTGZl7NhcJ5Zh/ljH+rPEhuSr4gHuAh9ZVia+ynYtLZKZbkzzhvzHolfYdj6epBWR9H8IgTncY4z89gVUOoO3Khsq2V54Ed0zUwrVmYb1leUp6WvLVrpeHo2crx8N+ilXzI1gA6XJ9xjVmeOvnMuEMOg3zlwOpLAWgncga8NMFJXGc2yYblu+pN56Etvz/M6wEfDE0sJ/uUksGthkHiyt28Dru1qHN459jRPP6bjcoH+RxiK4ZbA2OV5XeRBHsfvv1y+2C65ki397nhYpx+3lpN8nPsJVvjw/qbk2Zt1L28Y8fVyKar6Gn2TP4bzopvAQ9R3OqemUf9ARPF0PPkhM3DJJfT/DfTuUnx5HpT99x0nSb8Qk55/3Num0wvPomNGicGy69Nt41t4xjXM8tnryYXDO+oR/esA7pT7ske+DPmw6+R5sVIj8eIuv0el3GS9Jkcr7kxjHkyv9uF/Cfrw9iua+IKXr3vZBt8SaFWm57XVC7p7F5YE9n7d/FCz/4Y8/2tv3sLvji+AB073i9A8pOaKLmxUvye1L0N+0EY+PPdXYQfBNWGcZCBegiGg+tBFQPxdshdu/QM1Oyh98HAM55r0ktEuYScu1i8j0BvL48z0C629o2RIzoe68Ka3vaPuLNlr2Hgvpt+jqxeku920Mht7t7HZ6Dkxdmi9vjebYSPwkCpefsi8ijRuAbHLS6V9CkB7EftE6F9cL8mOu9q7tNdWDuXiOIHrIV3Fcft7O0ZSN8YWTfzIBdW2ijK1wj2pyrr0buVJBXY8vWElz+8dYrlrXzbep6QgZIT+4D4hIF7Msh/L1/3gezJYjaAe+VhqGnGr4Um/5Z3AGEPbQb4K94vf5Y6x3390CA5d5f++/pgzv30FWL++rR/3WeBc5F9tFmltiZfUz4A80EurAcQb9HNwGZgM7AZ2AxsBjYDm4HNwGZgM7AZeBcM7AvruwjzdnIzsBnYDGwGNgObgc3AZmAzsBnYDDwfA/vC+nwx24g3A5uBzcBmYDOwGdgMbAY2A5uBzcC7YOD/Acdfkxk/EbYDAAAAAElFTkSuQmCC)"
      ]
    },
    {
      "cell_type": "code",
      "metadata": {
        "colab": {
          "base_uri": "https://localhost:8080/",
          "height": 445
        },
        "id": "RMVaTytjjWg5",
        "outputId": "27a8defc-b2bb-440a-c264-be1eb76cbfe3"
      },
      "source": [
        "print(data['Mjob'].value_counts()/7900)\r\n",
        "\r\n",
        "fig, ax = plt.subplots(1, 2, figsize=(10, 3))\r\n",
        "sns.countplot(ax = ax[0],x = 'Mjob', data = data)\r\n",
        "sns.countplot(ax = ax[1],x = 'Mjob', hue = 'repeated',data = data)\r\n",
        "plt.show()\r\n",
        "\r\n",
        "obs = pd.crosstab(data['Mjob'],data['repeated'])\r\n",
        "print(obs[[1,0]])"
      ],
      "execution_count": null,
      "outputs": [
        {
          "output_type": "stream",
          "text": [
            "other       0.356962\n",
            "services    0.260759\n",
            "at_home     0.149367\n",
            "teacher     0.146835\n",
            "health      0.086076\n",
            "Name: Mjob, dtype: float64\n"
          ],
          "name": "stdout"
        },
        {
          "output_type": "display_data",
          "data": {
            "image/png": "[encoded data removed]",
            "text/plain": [
              "<Figure size 720x216 with 2 Axes>"
            ]
          },
          "metadata": {
            "tags": [],
            "needs_background": "light"
          }
        },
        {
          "output_type": "stream",
          "text": [
            "repeated    1     0\n",
            "Mjob               \n",
            "at_home   458   722\n",
            "health    116   564\n",
            "other     972  1848\n",
            "services  602  1458\n",
            "teacher   244   916\n"
          ],
          "name": "stdout"
        }
      ]
    },
    {
      "cell_type": "code",
      "metadata": {
        "colab": {
          "base_uri": "https://localhost:8080/"
        },
        "id": "WxKlmjoC57jT",
        "outputId": "5bf35d03-9654-4a1e-f3c8-f7c74c9c6dfd"
      },
      "source": [
        "g, p, dof, expctd = chi2_contingency(obs[[1,0]],lambda_=\"log-likelihood\")\r\n",
        "print(\"chi2 test p-value: \",p)"
      ],
      "execution_count": null,
      "outputs": [
        {
          "output_type": "stream",
          "text": [
            "chi2 test p-value:  5.534005768615867e-37\n"
          ],
          "name": "stdout"
        }
      ]
    },
    {
      "cell_type": "code",
      "metadata": {
        "colab": {
          "base_uri": "https://localhost:8080/",
          "height": 445
        },
        "id": "Ahz-C13djWjW",
        "outputId": "3f78313d-c4e2-4e7a-d76b-3d9dcb05bf4f"
      },
      "source": [
        "print(data['Fjob'].value_counts()/7900)\r\n",
        "\r\n",
        "fig, ax = plt.subplots(1, 2, figsize=(10, 3))\r\n",
        "sns.countplot(ax = ax[0],x = 'Fjob', data = data)\r\n",
        "sns.countplot(ax = ax[1],x = 'Fjob', hue = 'repeated',data = data)\r\n",
        "plt.show()\r\n",
        "\r\n",
        "obs = pd.crosstab(data['Fjob'],data['repeated'])\r\n",
        "print(obs[[1,0]])"
      ],
      "execution_count": null,
      "outputs": [
        {
          "output_type": "stream",
          "text": [
            "other       0.549367\n",
            "services    0.281013\n",
            "teacher     0.073418\n",
            "at_home     0.050633\n",
            "health      0.045570\n",
            "Name: Fjob, dtype: float64\n"
          ],
          "name": "stdout"
        },
        {
          "output_type": "display_data",
          "data": {
            "image/png": "[encoded data removed]",
            "text/plain": [
              "<Figure size 720x216 with 2 Axes>"
            ]
          },
          "metadata": {
            "tags": [],
            "needs_background": "light"
          }
        },
        {
          "output_type": "stream",
          "text": [
            "repeated     1     0\n",
            "Fjob                \n",
            "at_home    125   275\n",
            "health      79   281\n",
            "other     1344  2996\n",
            "services   715  1505\n",
            "teacher    129   451\n"
          ],
          "name": "stdout"
        }
      ]
    },
    {
      "cell_type": "code",
      "metadata": {
        "colab": {
          "base_uri": "https://localhost:8080/"
        },
        "id": "3vmxml4ajWl_",
        "outputId": "a10d7363-6296-464b-c9e2-8c98635a9ac3"
      },
      "source": [
        "g, p, dof, expctd = chi2_contingency(obs[[1,0]],lambda_=\"log-likelihood\")\r\n",
        "print(\"chi2 test p-value: \",p)"
      ],
      "execution_count": null,
      "outputs": [
        {
          "output_type": "stream",
          "text": [
            "chi2 test p-value:  2.360506464975341e-07\n"
          ],
          "name": "stdout"
        }
      ]
    },
    {
      "cell_type": "markdown",
      "metadata": {
        "id": "zUsHogFL6y2_"
      },
      "source": [
        "Možemo vidjeti da najveći postotak roditelja radi u ostalim službama. Najmanji postotak majci i očeva radi u zdravstvenom sektoru, njih $8.6\\%$ odnosno $4.5\\%$. Također se pokazuje zavisnost s ponavljanjem godine. "
      ]
    },
    {
      "cell_type": "markdown",
      "metadata": {
        "id": "dFw4ZwRhp_Qr"
      },
      "source": [
        "Varijabla **reason** je kategorička varijabla i opisuje razlog upisa u određenu školu."
      ]
    },
    {
      "cell_type": "code",
      "metadata": {
        "colab": {
          "base_uri": "https://localhost:8080/",
          "height": 414
        },
        "id": "-AvEeIKQjWo9",
        "outputId": "0299afcf-eb5a-4d66-b5db-5f5370689406"
      },
      "source": [
        "print(data['reason'].value_counts()/7900)\r\n",
        "\r\n",
        "fig, ax = plt.subplots(1, 2, figsize=(10, 3))\r\n",
        "sns.countplot(ax = ax[0],x = 'reason', data = data)\r\n",
        "sns.countplot(ax = ax[1],x = 'reason', hue = 'repeated',data = data)\r\n",
        "plt.show()\r\n",
        "\r\n",
        "obs = pd.crosstab(data['reason'],data['repeated'])\r\n",
        "print(obs[[1,0]])"
      ],
      "execution_count": null,
      "outputs": [
        {
          "output_type": "stream",
          "text": [
            "course        0.367089\n",
            "home          0.275949\n",
            "reputation    0.265823\n",
            "other         0.091139\n",
            "Name: reason, dtype: float64\n"
          ],
          "name": "stdout"
        },
        {
          "output_type": "display_data",
          "data": {
            "image/png": "[encoded data removed]",
            "text/plain": [
              "<Figure size 720x216 with 2 Axes>"
            ]
          },
          "metadata": {
            "tags": [],
            "needs_background": "light"
          }
        },
        {
          "output_type": "stream",
          "text": [
            "repeated      1     0\n",
            "reason               \n",
            "course      990  1910\n",
            "home        667  1513\n",
            "other       200   520\n",
            "reputation  535  1565\n"
          ],
          "name": "stdout"
        }
      ]
    },
    {
      "cell_type": "code",
      "metadata": {
        "colab": {
          "base_uri": "https://localhost:8080/"
        },
        "id": "O5psFiB78pr4",
        "outputId": "1bbf792c-9065-40c7-c1dc-9e86d8132b90"
      },
      "source": [
        "g, p, dof, expctd = chi2_contingency(obs[[1,0]],lambda_=\"log-likelihood\")\r\n",
        "print(\"chi2 test p-value: \",p)"
      ],
      "execution_count": null,
      "outputs": [
        {
          "output_type": "stream",
          "text": [
            "chi2 test p-value:  5.704380116706152e-10\n"
          ],
          "name": "stdout"
        }
      ]
    },
    {
      "cell_type": "markdown",
      "metadata": {
        "id": "7ttvVQs9_j9S"
      },
      "source": [
        "Analiza pokazuje da je $36.7\\%$ učenika upisalo određenu školu zbog predmeta koje se u njoj izvode. Pokazana je statistička zavisnost s varijablom repeated."
      ]
    },
    {
      "cell_type": "markdown",
      "metadata": {
        "id": "6m5SGXa4qRrW"
      },
      "source": [
        "Varijaba **guardian** je kategorička varijabla koja opisuje učenikovog skrbnika."
      ]
    },
    {
      "cell_type": "code",
      "metadata": {
        "colab": {
          "base_uri": "https://localhost:8080/",
          "height": 379
        },
        "id": "ZsHXi0iEqP_u",
        "outputId": "b48b04dc-b2bc-49fd-8355-c7d208b39464"
      },
      "source": [
        "print(data['guardian'].value_counts()/7900)\r\n",
        "\r\n",
        "fig, ax = plt.subplots(1, 2, figsize=(10, 3))\r\n",
        "sns.countplot(ax = ax[0],x = 'guardian', data = data)\r\n",
        "sns.countplot(ax = ax[1],x = 'guardian', hue = 'repeated',data = data)\r\n",
        "plt.show()\r\n",
        "\r\n",
        "obs = pd.crosstab(data['guardian'],data['repeated'])\r\n",
        "print(obs[[1,0]])"
      ],
      "execution_count": null,
      "outputs": [
        {
          "output_type": "stream",
          "text": [
            "mother    0.691139\n",
            "father    0.227848\n",
            "other     0.081013\n",
            "Name: guardian, dtype: float64\n"
          ],
          "name": "stdout"
        },
        {
          "output_type": "display_data",
          "data": {
            "image/png": "[encoded data removed]",
            "text/plain": [
              "<Figure size 720x216 with 2 Axes>"
            ]
          },
          "metadata": {
            "tags": [],
            "needs_background": "light"
          }
        },
        {
          "output_type": "stream",
          "text": [
            "repeated     1     0\n",
            "guardian            \n",
            "father     486  1314\n",
            "mother    1634  3826\n",
            "other      272   368\n"
          ],
          "name": "stdout"
        }
      ]
    },
    {
      "cell_type": "code",
      "metadata": {
        "colab": {
          "base_uri": "https://localhost:8080/"
        },
        "id": "adcP5gyvjWtZ",
        "outputId": "f1663e3e-45cf-40e1-ba54-d4eeface8370"
      },
      "source": [
        "g, p, dof, expctd = chi2_contingency(obs[[1,0]],lambda_=\"log-likelihood\")\r\n",
        "print(\"chi2 test p-value: \",p)"
      ],
      "execution_count": null,
      "outputs": [
        {
          "output_type": "stream",
          "text": [
            "chi2 test p-value:  4.410004950005862e-12\n"
          ],
          "name": "stdout"
        }
      ]
    },
    {
      "cell_type": "code",
      "metadata": {
        "colab": {
          "base_uri": "https://localhost:8080/"
        },
        "id": "xhSWDfxDAwsX",
        "outputId": "97fa3479-6cb0-4f25-c050-7371f79968b4"
      },
      "source": [
        "272/(272+368)"
      ],
      "execution_count": null,
      "outputs": [
        {
          "output_type": "execute_result",
          "data": {
            "text/plain": [
              "0.425"
            ]
          },
          "metadata": {
            "tags": []
          },
          "execution_count": 16
        }
      ]
    },
    {
      "cell_type": "markdown",
      "metadata": {
        "id": "kd9kJ4TvAgpm"
      },
      "source": [
        "Iz podataka je vidljivo, ono što je nekako ljudski i najlogičnije, da najveći postotal učenika, njih $69.11\\%$. Također vidimo da je najveće proporcija učenika koji su ponavljali godinu kod učenika koji za skrbinka nemaju roditelje i njih je $42.5\\%$. "
      ]
    },
    {
      "cell_type": "markdown",
      "metadata": {
        "id": "qMaMJKipm3Gj"
      },
      "source": [
        "Varijabla **travel time** prikazuje vrijeme putovanja učenika od svoga doma do škole i to na sljedeći način:\r\n",
        "\r\n",
        "![image.png](data:image/png;base64,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)"
      ]
    },
    {
      "cell_type": "code",
      "metadata": {
        "id": "KZSr0EFFjWwF",
        "colab": {
          "base_uri": "https://localhost:8080/",
          "height": 410
        },
        "outputId": "b61e4ae9-8281-41ca-db67-8ef7821c9914"
      },
      "source": [
        "print(data['traveltime'].value_counts()/7900)\r\n",
        "\r\n",
        "fig, ax = plt.subplots(1, 2, figsize=(10, 3))\r\n",
        "sns.countplot(ax = ax[0],x = 'traveltime', data = data)\r\n",
        "sns.countplot(ax = ax[1],x = 'traveltime', hue = 'repeated',data = data)\r\n",
        "plt.show()\r\n",
        "\r\n",
        "obs = pd.crosstab(data['traveltime'],data['repeated'])\r\n",
        "print(obs[[1,0]])"
      ],
      "execution_count": null,
      "outputs": [
        {
          "output_type": "stream",
          "text": [
            "1    0.650633\n",
            "2    0.270886\n",
            "3    0.058228\n",
            "4    0.020253\n",
            "Name: traveltime, dtype: float64\n"
          ],
          "name": "stdout"
        },
        {
          "output_type": "display_data",
          "data": {
            "image/png": "[encoded data removed]",
            "text/plain": [
              "<Figure size 720x216 with 2 Axes>"
            ]
          },
          "metadata": {
            "tags": [],
            "needs_background": "light"
          }
        },
        {
          "output_type": "stream",
          "text": [
            "repeated       1     0\n",
            "traveltime            \n",
            "1           1448  3692\n",
            "2            676  1464\n",
            "3            186   274\n",
            "4             82    78\n"
          ],
          "name": "stdout"
        }
      ]
    },
    {
      "cell_type": "code",
      "metadata": {
        "colab": {
          "base_uri": "https://localhost:8080/"
        },
        "id": "qDi-2kumE_YT",
        "outputId": "18f84d90-b0b1-4552-b457-1435bad3526a"
      },
      "source": [
        "g, p, dof, expctd = chi2_contingency(obs[[1,0]],lambda_=\"log-likelihood\")\r\n",
        "print(\"chi2 test p-value: \",p)"
      ],
      "execution_count": null,
      "outputs": [
        {
          "output_type": "stream",
          "text": [
            "chi2 test p-value:  6.397196838396823e-14\n"
          ],
          "name": "stdout"
        }
      ]
    },
    {
      "cell_type": "code",
      "metadata": {
        "colab": {
          "base_uri": "https://localhost:8080/"
        },
        "id": "hLNRjezLFh0T",
        "outputId": "804490a8-be0b-47a8-807a-c5a4153c76c9"
      },
      "source": [
        "82/(82+78)"
      ],
      "execution_count": null,
      "outputs": [
        {
          "output_type": "execute_result",
          "data": {
            "text/plain": [
              "0.5125"
            ]
          },
          "metadata": {
            "tags": []
          },
          "execution_count": 19
        }
      ]
    },
    {
      "cell_type": "markdown",
      "metadata": {
        "id": "jzFflM18FjY2"
      },
      "source": [
        "$65\\%$ učenika ima manje od 15 minuta putovanja do svoje škole, dok svega $2\\%$ njih putuje više od sata. U grupi učenika koji putuju više od sat vremena njih $51.25\\%$ je ponavljalo godinu. Postoji zavisnost između vremena putovanja i ponavljanja godine, što je nekako i logično. "
      ]
    },
    {
      "cell_type": "markdown",
      "metadata": {
        "id": "oPS-IzbFnMWp"
      },
      "source": [
        "Varijabla **study time** pokazuje koliko vremena na tjedan učenik provede učeći. \r\n",
        "![image.png](data:image/png;base64,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)"
      ]
    },
    {
      "cell_type": "code",
      "metadata": {
        "colab": {
          "base_uri": "https://localhost:8080/",
          "height": 410
        },
        "id": "y08nMMz8nL1T",
        "outputId": "09d901ab-9368-4103-8acd-d35b9f6f0c4e"
      },
      "source": [
        "print(data['studytime'].value_counts()/7900)\r\n",
        "\r\n",
        "fig, ax = plt.subplots(1, 2, figsize=(10, 3))\r\n",
        "sns.countplot(ax = ax[0],x = 'studytime', data = data)\r\n",
        "sns.countplot(ax = ax[1],x = 'studytime', hue = 'repeated',data = data)\r\n",
        "plt.show()\r\n",
        "\r\n",
        "obs = pd.crosstab(data['studytime'],data['repeated'])\r\n",
        "print(obs[[1,0]])"
      ],
      "execution_count": null,
      "outputs": [
        {
          "output_type": "stream",
          "text": [
            "2    0.501266\n",
            "1    0.265823\n",
            "3    0.164557\n",
            "4    0.068354\n",
            "Name: studytime, dtype: float64\n"
          ],
          "name": "stdout"
        },
        {
          "output_type": "display_data",
          "data": {
            "image/png": "[encoded data removed]",
            "text/plain": [
              "<Figure size 720x216 with 2 Axes>"
            ]
          },
          "metadata": {
            "tags": [],
            "needs_background": "light"
          }
        },
        {
          "output_type": "stream",
          "text": [
            "repeated      1     0\n",
            "studytime            \n",
            "1           713  1387\n",
            "2          1257  2703\n",
            "3           310   990\n",
            "4           112   428\n"
          ],
          "name": "stdout"
        }
      ]
    },
    {
      "cell_type": "code",
      "metadata": {
        "colab": {
          "base_uri": "https://localhost:8080/"
        },
        "id": "Zlag1uzfHbY9",
        "outputId": "ccca95bb-2607-454f-eeff-deddd73f07f5"
      },
      "source": [
        "g, p, dof, expctd = chi2_contingency(obs[[1,0]],lambda_=\"log-likelihood\")\r\n",
        "print(\"chi2 test p-value: \",p)"
      ],
      "execution_count": null,
      "outputs": [
        {
          "output_type": "stream",
          "text": [
            "chi2 test p-value:  7.728917438749785e-15\n"
          ],
          "name": "stdout"
        }
      ]
    },
    {
      "cell_type": "code",
      "metadata": {
        "colab": {
          "base_uri": "https://localhost:8080/"
        },
        "id": "27FEyp46HfPc",
        "outputId": "3e82c785-d38b-4a79-96c9-f86891e43022"
      },
      "source": [
        "data['studytime'].value_counts()"
      ],
      "execution_count": null,
      "outputs": [
        {
          "output_type": "execute_result",
          "data": {
            "text/plain": [
              "2    3960\n",
              "1    2100\n",
              "3    1300\n",
              "4     540\n",
              "Name: studytime, dtype: int64"
            ]
          },
          "metadata": {
            "tags": []
          },
          "execution_count": 22
        }
      ]
    },
    {
      "cell_type": "code",
      "metadata": {
        "colab": {
          "base_uri": "https://localhost:8080/"
        },
        "id": "212AI2T0H2kQ",
        "outputId": "0309f016-ce28-4641-8e7c-c4024651ff11"
      },
      "source": [
        "print(713/2100)\r\n",
        "print(1257/3960)\r\n",
        "print(310/1300)\r\n",
        "print(112/540)"
      ],
      "execution_count": null,
      "outputs": [
        {
          "output_type": "stream",
          "text": [
            "0.3395238095238095\n",
            "0.31742424242424244\n",
            "0.23846153846153847\n",
            "0.2074074074074074\n"
          ],
          "name": "stdout"
        }
      ]
    },
    {
      "cell_type": "markdown",
      "metadata": {
        "id": "evMwTJatHfx1"
      },
      "source": [
        "Najveći broj učenika, njih polovica, tijekom tjedna potroši 2 do 5 sati na učenje. Najmanju promorciju učenika koji su ponavljai godinu od $20\\%$ ima grupa učenika koja tjedno uči više od 10 sati. "
      ]
    },
    {
      "cell_type": "markdown",
      "metadata": {
        "id": "7Ca8ShcCngFV"
      },
      "source": [
        "Varijabla **failures** je numeričkog tipa i pokazuje koliko je učenik imao predmeta koje je pao."
      ]
    },
    {
      "cell_type": "code",
      "metadata": {
        "id": "Y_5T_x8fjWyf",
        "colab": {
          "base_uri": "https://localhost:8080/",
          "height": 326
        },
        "outputId": "15ee3351-4d6e-4161-bd87-63f2cd04c60c"
      },
      "source": [
        "print(data['failures'].value_counts()/7900)\r\n",
        "\r\n",
        "fig, ax = plt.subplots(1, 2, figsize=(10, 3))\r\n",
        "sns.countplot(ax = ax[0],x = 'failures', data = data)\r\n",
        "sns.countplot(ax = ax[1],x = 'failures', hue = 'repeated',data = data)\r\n",
        "plt.show()\r\n",
        "\r\n",
        "r0 = data.failures[data.repeated == 0]\r\n",
        "r1 = data.failures[data.repeated == 1]\r\n",
        "\r\n",
        "stat, p = mannwhitneyu(r0,r1)\r\n",
        "print('MVW: ',p)"
      ],
      "execution_count": 10,
      "outputs": [
        {
          "output_type": "stream",
          "text": [
            "0    0.789873\n",
            "1    0.126582\n",
            "2    0.043038\n",
            "3    0.040506\n",
            "Name: failures, dtype: float64\n"
          ],
          "name": "stdout"
        },
        {
          "output_type": "display_data",
          "data": {
            "image/png": "[encoded data removed]",
            "text/plain": [
              "<Figure size 720x216 with 2 Axes>"
            ]
          },
          "metadata": {
            "tags": [],
            "needs_background": "light"
          }
        },
        {
          "output_type": "stream",
          "text": [
            "MVW:  9.457783184426722e-238\n"
          ],
          "name": "stdout"
        }
      ]
    },
    {
      "cell_type": "code",
      "metadata": {
        "colab": {
          "base_uri": "https://localhost:8080/"
        },
        "id": "lbXOT04MJvag",
        "outputId": "67c9aea6-ff77-481c-8e33-4b0385bdcfe0"
      },
      "source": [
        "obs = pd.crosstab(data['failures'],data['repeated'])\r\n",
        "print(obs[[1,0]])"
      ],
      "execution_count": 8,
      "outputs": [
        {
          "output_type": "stream",
          "text": [
            "repeated     1     0\n",
            "failures            \n",
            "0         1372  4868\n",
            "1          463   537\n",
            "2          261    79\n",
            "3          296    24\n"
          ],
          "name": "stdout"
        }
      ]
    },
    {
      "cell_type": "code",
      "metadata": {
        "colab": {
          "base_uri": "https://localhost:8080/"
        },
        "id": "v1hhvcDqJ6dJ",
        "outputId": "0c29cd6c-ce92-47af-bf37-a1076eea5e98"
      },
      "source": [
        "print(261/(261+79))\r\n",
        "print(296/(296+24))"
      ],
      "execution_count": 13,
      "outputs": [
        {
          "output_type": "stream",
          "text": [
            "0.7676470588235295\n",
            "0.925\n"
          ],
          "name": "stdout"
        }
      ]
    },
    {
      "cell_type": "markdown",
      "metadata": {
        "id": "Ou07s-TpJPMu"
      },
      "source": [
        "Jako mali broj učenika, oko $8\\%$ njih je palo 2 i 3 predmeta. MVW test je pokazao kako postoji razlika u distribuciji broja padova u odnosu na ponavljanje godine. Proporcija učenika koji su ponavljali godinu, a pali su 2 ili 3 predmeta iznosi redom $76.7\\%$ i $92.5\\%$. Učenici koji su pali 3 predmeta, gotovi svi su ponavljali godinu. "
      ]
    },
    {
      "cell_type": "markdown",
      "metadata": {
        "id": "qLbEOwBpoGC2"
      },
      "source": [
        "Varijabla **schoolsup** opisuje dodatnu obrazovnu podršku. Varijabla tipa bool, tj imali učenik dodatno obrazovnu podršku ili ne. "
      ]
    },
    {
      "cell_type": "code",
      "metadata": {
        "colab": {
          "base_uri": "https://localhost:8080/",
          "height": 342
        },
        "id": "nb6uNZahoaDj",
        "outputId": "5abf2409-de9d-4c5a-f764-7bf277799dd0"
      },
      "source": [
        "print(data['schoolsup'].value_counts()/7900)\r\n",
        "\r\n",
        "fig, ax = plt.subplots(1, 2, figsize=(10, 3))\r\n",
        "sns.countplot(ax = ax[0],x = 'schoolsup', data = data)\r\n",
        "sns.countplot(ax = ax[1],x = 'schoolsup', hue = 'repeated',data = data)\r\n",
        "plt.show()\r\n",
        "\r\n",
        "obs = pd.crosstab(data['schoolsup'],data['repeated'])\r\n",
        "print(obs[[1,0]])"
      ],
      "execution_count": null,
      "outputs": [
        {
          "output_type": "stream",
          "text": [
            "False    0.870886\n",
            "True     0.129114\n",
            "Name: schoolsup, dtype: float64\n"
          ],
          "name": "stdout"
        },
        {
          "output_type": "display_data",
          "data": {
            "image/png": "[encoded data removed]",
            "text/plain": [
              "<Figure size 720x216 with 2 Axes>"
            ]
          },
          "metadata": {
            "tags": [],
            "needs_background": "light"
          }
        },
        {
          "output_type": "stream",
          "text": [
            "repeated      1     0\n",
            "schoolsup            \n",
            "False      1890  4990\n",
            "True        502   518\n"
          ],
          "name": "stdout"
        }
      ]
    },
    {
      "cell_type": "code",
      "metadata": {
        "colab": {
          "base_uri": "https://localhost:8080/"
        },
        "id": "lUvf-dlfJe2i",
        "outputId": "53b8ff8f-98e1-4376-ba26-900d2da575a7"
      },
      "source": [
        "g, p, dof, expctd = chi2_contingency(obs[[1,0]],lambda_=\"log-likelihood\")\r\n",
        "print(\"chi2 test p-value: \",p)"
      ],
      "execution_count": null,
      "outputs": [
        {
          "output_type": "stream",
          "text": [
            "chi2 test p-value:  4.7592532931427565e-42\n"
          ],
          "name": "stdout"
        }
      ]
    },
    {
      "cell_type": "code",
      "metadata": {
        "colab": {
          "base_uri": "https://localhost:8080/"
        },
        "id": "_IpB4YlZJfjX",
        "outputId": "76f927a1-5a0a-4dc0-a9e3-072c22a27601"
      },
      "source": [
        "oddsratio, pvalue = stats.fisher_exact(obs[[1,0]])\r\n",
        "print(\"OddsR: \", oddsratio, \"p-Value:\", pvalue)"
      ],
      "execution_count": null,
      "outputs": [
        {
          "output_type": "stream",
          "text": [
            "OddsR:  0.39082946770034094 p-Value: 4.096583053399777e-42\n"
          ],
          "name": "stdout"
        }
      ]
    },
    {
      "cell_type": "code",
      "metadata": {
        "colab": {
          "base_uri": "https://localhost:8080/"
        },
        "id": "efl2kgF4J5Zi",
        "outputId": "46908606-bac1-4313-bad3-340ead44d37f"
      },
      "source": [
        "1/0.39082946770034094"
      ],
      "execution_count": null,
      "outputs": [
        {
          "output_type": "execute_result",
          "data": {
            "text/plain": [
              "2.5586607015178444"
            ]
          },
          "metadata": {
            "tags": []
          },
          "execution_count": 32
        }
      ]
    },
    {
      "cell_type": "markdown",
      "metadata": {
        "id": "eeGC5bh7Jp91"
      },
      "source": [
        "Velika većina učenika, $87\\%$ nema nikakvu dodatnu obrazovnu podršku (instrukcije i sl.). $49\\%$ učenika koji trebaju nekakvu dodatnu podršku je ponavljalo godinu. Traženje dodatne obrazovne podrške povećava rizik od ponavljanja godine za $2.55$ puta. "
      ]
    },
    {
      "cell_type": "markdown",
      "metadata": {
        "id": "Fle34wv0qLPA"
      },
      "source": [
        "Varijabla **famsup** pokazuje ima li učenik podršku obitelji za obrazovanje ili ne."
      ]
    },
    {
      "cell_type": "code",
      "metadata": {
        "id": "rZykNLnIX6fZ",
        "colab": {
          "base_uri": "https://localhost:8080/",
          "height": 354
        },
        "outputId": "d90f1f3d-1f96-42d8-982f-e21fcf2f34f5"
      },
      "source": [
        "print(data['famsup'].value_counts()/7900)\r\n",
        "\r\n",
        "fig, ax = plt.subplots(1, 2, figsize=(10, 3))\r\n",
        "sns.countplot(ax = ax[0],x = 'famsup', data = data)\r\n",
        "sns.countplot(ax = ax[1],x = 'famsup', hue = 'repeated',data = data)\r\n",
        "plt.show()\r\n",
        "\r\n",
        "obs = pd.crosstab(data['famsup'],data['repeated'])\r\n",
        "print(obs[[1,0]])"
      ],
      "execution_count": 14,
      "outputs": [
        {
          "output_type": "stream",
          "text": [
            "True     0.612658\n",
            "False    0.387342\n",
            "Name: famsup, dtype: float64\n"
          ],
          "name": "stdout"
        },
        {
          "output_type": "display_data",
          "data": {
            "image/png": "[encoded data removed]",
            "text/plain": [
              "<Figure size 720x216 with 2 Axes>"
            ]
          },
          "metadata": {
            "tags": [],
            "needs_background": "light"
          }
        },
        {
          "output_type": "stream",
          "text": [
            "repeated     1     0\n",
            "famsup              \n",
            "False      889  2171\n",
            "True      1503  3337\n"
          ],
          "name": "stdout"
        }
      ]
    },
    {
      "cell_type": "code",
      "metadata": {
        "colab": {
          "base_uri": "https://localhost:8080/"
        },
        "id": "fK6DCxdiqcVo",
        "outputId": "c8d55d69-c1fa-41cf-84ec-d827705bc48e"
      },
      "source": [
        "g, p, dof, expctd = chi2_contingency(obs[[1,0]])\r\n",
        "print(\"chi2 test p-value: \",p)"
      ],
      "execution_count": 16,
      "outputs": [
        {
          "output_type": "stream",
          "text": [
            "chi2 test p-value:  0.06275171081042748\n"
          ],
          "name": "stdout"
        }
      ]
    },
    {
      "cell_type": "code",
      "metadata": {
        "colab": {
          "base_uri": "https://localhost:8080/"
        },
        "id": "Y0qhHvSwK7Ty",
        "outputId": "d5da248e-8b04-47c1-bbd1-793f368788bf"
      },
      "source": [
        "oddsratio, pvalue = stats.fisher_exact(obs[[1,0]])\r\n",
        "print(\"OddsR: \", oddsratio, \"p-Value:\", pvalue)"
      ],
      "execution_count": 17,
      "outputs": [
        {
          "output_type": "stream",
          "text": [
            "OddsR:  0.9091575792067025 p-Value: 0.05948715290047382\n"
          ],
          "name": "stdout"
        }
      ]
    },
    {
      "cell_type": "markdown",
      "metadata": {
        "id": "tKzYNNH7LfgD"
      },
      "source": [
        "Vrijednost $\\chi^2$ testa, te rezultati odds ratio ne ukazuju na statitiskučku značajnost obiteljske podrške i ponavljanja godine."
      ]
    },
    {
      "cell_type": "markdown",
      "metadata": {
        "id": "u7Zy1ryxq4i7"
      },
      "source": [
        "Varijabla **paid** pokazuje plaća li učenik dodatne sate iz određenih predmeta."
      ]
    },
    {
      "cell_type": "code",
      "metadata": {
        "colab": {
          "base_uri": "https://localhost:8080/",
          "height": 342
        },
        "id": "3XGIhYg0qcYK",
        "outputId": "f6be1dbc-a003-4abf-d39b-6ca9ddf54fdd"
      },
      "source": [
        "print(data['paid'].value_counts()/7900)\r\n",
        "\r\n",
        "fig, ax = plt.subplots(1, 2, figsize=(10, 3))\r\n",
        "sns.countplot(ax = ax[0],x = 'paid', data = data)\r\n",
        "sns.countplot(ax = ax[1],x = 'paid', hue = 'repeated',data = data)\r\n",
        "plt.show()\r\n",
        "\r\n",
        "obs = pd.crosstab(data['paid'],data['repeated'])\r\n",
        "print(obs[[1,0]])"
      ],
      "execution_count": 18,
      "outputs": [
        {
          "output_type": "stream",
          "text": [
            "False    0.541772\n",
            "True     0.458228\n",
            "Name: paid, dtype: float64\n"
          ],
          "name": "stdout"
        },
        {
          "output_type": "display_data",
          "data": {
            "image/png": "[encoded data removed]",
            "text/plain": [
              "<Figure size 720x216 with 2 Axes>"
            ]
          },
          "metadata": {
            "tags": [],
            "needs_background": "light"
          }
        },
        {
          "output_type": "stream",
          "text": [
            "repeated     1     0\n",
            "paid                \n",
            "False     1483  2797\n",
            "True       909  2711\n"
          ],
          "name": "stdout"
        }
      ]
    },
    {
      "cell_type": "code",
      "metadata": {
        "colab": {
          "base_uri": "https://localhost:8080/"
        },
        "id": "019Io48OL43E",
        "outputId": "e5670f85-4285-4647-a631-78a626834447"
      },
      "source": [
        "g, p, dof, expctd = chi2_contingency(obs[[1,0]],lambda_=\"log-likelihood\")\r\n",
        "print(\"chi2 test p-value: \",p)"
      ],
      "execution_count": 19,
      "outputs": [
        {
          "output_type": "stream",
          "text": [
            "chi2 test p-value:  3.341874896834814e-20\n"
          ],
          "name": "stdout"
        }
      ]
    },
    {
      "cell_type": "code",
      "metadata": {
        "colab": {
          "base_uri": "https://localhost:8080/"
        },
        "id": "ypT4_XlKL5aj",
        "outputId": "ee274d21-4ccb-48a9-aac8-186d2cc6fea8"
      },
      "source": [
        "oddsratio, pvalue = stats.fisher_exact(obs[[1,0]])\r\n",
        "print(\"OddsR: \", oddsratio, \"p-Value:\", pvalue)"
      ],
      "execution_count": 20,
      "outputs": [
        {
          "output_type": "stream",
          "text": [
            "OddsR:  1.5813001750657725 p-Value: 2.7832144367976905e-20\n"
          ],
          "name": "stdout"
        }
      ]
    },
    {
      "cell_type": "markdown",
      "metadata": {
        "id": "eMeRI4NkMhuS"
      },
      "source": [
        "Vidljivo je kako $54\\%$ ne plaća, a samim time ne sudjelju na nekim dodatnim satima. To pokazuje zavisnost s ponavljanjem godine, te učenici koji ne plaćaju dodatne sate imaju $1.58$ puta veći rizik od ponavljanja godine."
      ]
    },
    {
      "cell_type": "markdown",
      "metadata": {
        "id": "tlZczS2Nq84R"
      },
      "source": [
        "Varijabla **activities** ukazuje bavi li se učenik ekstra nastavnim aktivnostima."
      ]
    },
    {
      "cell_type": "code",
      "metadata": {
        "colab": {
          "base_uri": "https://localhost:8080/",
          "height": 345
        },
        "id": "4nvotTE_q70z",
        "outputId": "9d80a899-ecf1-4164-9e08-09927f81d8ee"
      },
      "source": [
        "print(data['activities'].value_counts()/7900)\r\n",
        "\r\n",
        "fig, ax = plt.subplots(1, 2, figsize=(10, 3))\r\n",
        "sns.countplot(ax = ax[0],x = 'activities', data = data)\r\n",
        "sns.countplot(ax = ax[1],x = 'activities', hue = 'repeated',data = data)\r\n",
        "plt.show()\r\n",
        "\r\n",
        "obs = pd.crosstab(data['activities'],data['repeated'])\r\n",
        "print(obs[[1,0]])"
      ],
      "execution_count": 21,
      "outputs": [
        {
          "output_type": "stream",
          "text": [
            "True     0.508861\n",
            "False    0.491139\n",
            "Name: activities, dtype: float64\n"
          ],
          "name": "stdout"
        },
        {
          "output_type": "display_data",
          "data": {
            "image/png": "[encoded data removed]",
            "text/plain": [
              "<Figure size 720x216 with 2 Axes>"
            ]
          },
          "metadata": {
            "tags": [],
            "needs_background": "light"
          }
        },
        {
          "output_type": "stream",
          "text": [
            "repeated       1     0\n",
            "activities            \n",
            "False       1262  2618\n",
            "True        1130  2890\n"
          ],
          "name": "stdout"
        }
      ]
    },
    {
      "cell_type": "code",
      "metadata": {
        "colab": {
          "base_uri": "https://localhost:8080/"
        },
        "id": "23XHhWUdOK7Q",
        "outputId": "4c338953-635e-45b4-a17a-5a386b8b05d4"
      },
      "source": [
        "g, p, dof, expctd = chi2_contingency(obs[[1,0]],lambda_=\"log-likelihood\")\r\n",
        "print(\"chi2 test p-value: \",p)"
      ],
      "execution_count": 22,
      "outputs": [
        {
          "output_type": "stream",
          "text": [
            "chi2 test p-value:  2.1680338457294295e-05\n"
          ],
          "name": "stdout"
        }
      ]
    },
    {
      "cell_type": "code",
      "metadata": {
        "colab": {
          "base_uri": "https://localhost:8080/"
        },
        "id": "lHp9Q3rJOLoN",
        "outputId": "98d79434-07d6-42cc-f2b1-f03292ebd752"
      },
      "source": [
        "oddsratio, pvalue = stats.fisher_exact(obs[[1,0]])\r\n",
        "print(\"OddsR: \", oddsratio, \"p-Value:\", pvalue)"
      ],
      "execution_count": 23,
      "outputs": [
        {
          "output_type": "stream",
          "text": [
            "OddsR:  1.2328467992184806 p-Value: 2.0240483162911497e-05\n"
          ],
          "name": "stdout"
        }
      ]
    },
    {
      "cell_type": "markdown",
      "metadata": {
        "id": "UKk41M12O3jk"
      },
      "source": [
        "Skoro je podjednak broj učenika koji se bavi i onih koji ne. No testiranjem je ukazana zavisnost s povaljanjem godine, te učenici koji se na bave nekim dodatnim aktivnostima imaju $1.23$ puta veći rizik od ponavljanja godine. Zaključak je nekako i logičan jer učenici koji se bave na neki načim imaju bolju sliku kod učitelja."
      ]
    },
    {
      "cell_type": "markdown",
      "metadata": {
        "id": "2zmwfpjcrxIY"
      },
      "source": [
        "Varijabla **nursery** opisuje pohađa li učenik jaslice, eng. nursery school. "
      ]
    },
    {
      "cell_type": "code",
      "metadata": {
        "colab": {
          "base_uri": "https://localhost:8080/",
          "height": 342
        },
        "id": "kfQ1cUQFqcdv",
        "outputId": "5486ab74-f5d0-4e8a-89aa-24c74ab26cfb"
      },
      "source": [
        "print(data['nursery'].value_counts()/7900)\r\n",
        "\r\n",
        "fig, ax = plt.subplots(1, 2, figsize=(10, 3))\r\n",
        "sns.countplot(ax = ax[0],x = 'nursery', data = data)\r\n",
        "sns.countplot(ax = ax[1],x = 'nursery', hue = 'repeated',data = data)\r\n",
        "plt.show()\r\n",
        "\r\n",
        "obs = pd.crosstab(data['nursery'],data['repeated'])\r\n",
        "print(obs[[1,0]])"
      ],
      "execution_count": 24,
      "outputs": [
        {
          "output_type": "stream",
          "text": [
            "True     0.794937\n",
            "False    0.205063\n",
            "Name: nursery, dtype: float64\n"
          ],
          "name": "stdout"
        },
        {
          "output_type": "display_data",
          "data": {
            "image/png": "[encoded data removed]",
            "text/plain": [
              "<Figure size 720x216 with 2 Axes>"
            ]
          },
          "metadata": {
            "tags": [],
            "needs_background": "light"
          }
        },
        {
          "output_type": "stream",
          "text": [
            "repeated     1     0\n",
            "nursery             \n",
            "False      554  1066\n",
            "True      1838  4442\n"
          ],
          "name": "stdout"
        }
      ]
    },
    {
      "cell_type": "code",
      "metadata": {
        "colab": {
          "base_uri": "https://localhost:8080/"
        },
        "id": "A15yqxZYqcgK",
        "outputId": "092f5071-c1a2-467d-cc4d-05cf41488b4e"
      },
      "source": [
        "g, p, dof, expctd = chi2_contingency(obs[[1,0]],lambda_=\"log-likelihood\")\r\n",
        "print(\"chi2 test p-value: \",p)"
      ],
      "execution_count": 25,
      "outputs": [
        {
          "output_type": "stream",
          "text": [
            "chi2 test p-value:  0.0001513966622120322\n"
          ],
          "name": "stdout"
        }
      ]
    },
    {
      "cell_type": "code",
      "metadata": {
        "colab": {
          "base_uri": "https://localhost:8080/"
        },
        "id": "w3k11MpFPnJ8",
        "outputId": "323a3fff-894f-48f0-f381-c012aebe7e24"
      },
      "source": [
        "oddsratio, pvalue = stats.fisher_exact(obs[[1,0]])\r\n",
        "print(\"OddsR: \", oddsratio, \"p-Value:\", pvalue)"
      ],
      "execution_count": 27,
      "outputs": [
        {
          "output_type": "stream",
          "text": [
            "OddsR:  1.2559883387400042 p-Value: 0.00013250899187726252\n"
          ],
          "name": "stdout"
        }
      ]
    },
    {
      "cell_type": "markdown",
      "metadata": {
        "id": "zxdyKysZQFcX"
      },
      "source": [
        "$80\\%$ učenika pohađa jaslice, te im to pokazano ovisi o ponavljanu godine. Oni koji ne pohađaju jaslice imaju $1.25$ puta veću šansu za pohađanje godine."
      ]
    },
    {
      "cell_type": "markdown",
      "metadata": {
        "id": "y3Xns8Cir1lZ"
      },
      "source": [
        "Varijabla **higher** opisuje imali li učenik namjeru pohađati fakultet ili ne."
      ]
    },
    {
      "cell_type": "code",
      "metadata": {
        "colab": {
          "base_uri": "https://localhost:8080/",
          "height": 349
        },
        "id": "glWVdIiuqci_",
        "outputId": "3bbabed2-0a2c-44cf-dcff-616860a24244"
      },
      "source": [
        "print(data['higher'].value_counts()/7900)\r\n",
        "\r\n",
        "fig, ax = plt.subplots(1, 2, figsize=(10, 3))\r\n",
        "sns.countplot(ax = ax[0],x = 'higher', data = data)\r\n",
        "sns.countplot(ax = ax[1],x = 'higher', hue = 'repeated',data = data)\r\n",
        "plt.show()\r\n",
        "\r\n",
        "obs = pd.crosstab(data['higher'],data['repeated'])\r\n",
        "print(obs[[1,0]])"
      ],
      "execution_count": 28,
      "outputs": [
        {
          "output_type": "stream",
          "text": [
            "True     0.949367\n",
            "False    0.050633\n",
            "Name: higher, dtype: float64\n"
          ],
          "name": "stdout"
        },
        {
          "output_type": "display_data",
          "data": {
            "image/png": "[encoded data removed]",
            "text/plain": [
              "<Figure size 720x216 with 2 Axes>"
            ]
          },
          "metadata": {
            "tags": [],
            "needs_background": "light"
          }
        },
        {
          "output_type": "stream",
          "text": [
            "repeated     1     0\n",
            "higher              \n",
            "False      240   160\n",
            "True      2152  5348\n"
          ],
          "name": "stdout"
        }
      ]
    },
    {
      "cell_type": "code",
      "metadata": {
        "colab": {
          "base_uri": "https://localhost:8080/"
        },
        "id": "RGgkcsJUqclj",
        "outputId": "91cc4fda-66e1-4bc7-f484-2d330d51a0db"
      },
      "source": [
        "g, p, dof, expctd = chi2_contingency(obs[[1,0]],lambda_=\"log-likelihood\")\r\n",
        "print(\"chi2 test p-value: \",p)"
      ],
      "execution_count": 29,
      "outputs": [
        {
          "output_type": "stream",
          "text": [
            "chi2 test p-value:  2.828038062777878e-36\n"
          ],
          "name": "stdout"
        }
      ]
    },
    {
      "cell_type": "code",
      "metadata": {
        "colab": {
          "base_uri": "https://localhost:8080/"
        },
        "id": "N6lQUBgWW9o8",
        "outputId": "35b00acf-2191-487a-bb84-440239bde4d7"
      },
      "source": [
        "oddsratio, pvalue = stats.fisher_exact(obs[[1,0]])\r\n",
        "print(\"OddsR: \", oddsratio, \"p-Value:\", pvalue)"
      ],
      "execution_count": 30,
      "outputs": [
        {
          "output_type": "stream",
          "text": [
            "OddsR:  3.7276951672862455 p-Value: 2.4518695989107403e-36\n"
          ],
          "name": "stdout"
        }
      ]
    },
    {
      "cell_type": "markdown",
      "metadata": {
        "id": "z_j75aDKXSp_"
      },
      "source": [
        "Vidimo kako $95\\%$ učenika, što je veliki broj, ima namjeru pohađati fakultet. Isto tako učenici koji nemaju namjeru ići na fakultet imaju skoro $4$ puta veći rizik od ponavljanja godine."
      ]
    },
    {
      "cell_type": "markdown",
      "metadata": {
        "id": "JdBjcuu4sUtj"
      },
      "source": [
        "Varijabla **internet** pokazuje imali učenik pristup internetu ili ne. "
      ]
    },
    {
      "cell_type": "code",
      "metadata": {
        "colab": {
          "base_uri": "https://localhost:8080/",
          "height": 349
        },
        "id": "i5G4jD7AqcoH",
        "outputId": "180e90ff-5c6b-408f-d21f-082787c9a27c"
      },
      "source": [
        "print(data['internet'].value_counts()/7900)\r\n",
        "\r\n",
        "fig, ax = plt.subplots(1, 2, figsize=(10, 3))\r\n",
        "sns.countplot(ax = ax[0],x = 'internet', data = data)\r\n",
        "sns.countplot(ax = ax[1],x = 'internet', hue = 'repeated',data = data)\r\n",
        "plt.show()\r\n",
        "\r\n",
        "obs = pd.crosstab(data['internet'],data['repeated'])\r\n",
        "print(obs[[1,0]])"
      ],
      "execution_count": 31,
      "outputs": [
        {
          "output_type": "stream",
          "text": [
            "True     0.832911\n",
            "False    0.167089\n",
            "Name: internet, dtype: float64\n"
          ],
          "name": "stdout"
        },
        {
          "output_type": "display_data",
          "data": {
            "image/png": "[encoded data removed]",
            "text/plain": [
              "<Figure size 720x216 with 2 Axes>"
            ]
          },
          "metadata": {
            "tags": [],
            "needs_background": "light"
          }
        },
        {
          "output_type": "stream",
          "text": [
            "repeated     1     0\n",
            "internet            \n",
            "False      547   773\n",
            "True      1845  4735\n"
          ],
          "name": "stdout"
        }
      ]
    },
    {
      "cell_type": "code",
      "metadata": {
        "colab": {
          "base_uri": "https://localhost:8080/"
        },
        "id": "N3DQsdYPqcqu",
        "outputId": "f5aafdb8-46ed-434f-8fa1-40b47b223b47"
      },
      "source": [
        "g, p, dof, expctd = chi2_contingency(obs[[1,0]],lambda_=\"log-likelihood\")\r\n",
        "print(\"chi2 test p-value: \",p)"
      ],
      "execution_count": 32,
      "outputs": [
        {
          "output_type": "stream",
          "text": [
            "chi2 test p-value:  4.248255417311261e-21\n"
          ],
          "name": "stdout"
        }
      ]
    },
    {
      "cell_type": "code",
      "metadata": {
        "colab": {
          "base_uri": "https://localhost:8080/"
        },
        "id": "uLhKwHXEYeIb",
        "outputId": "c4dd24b1-29d7-431e-905f-9484c376a4bb"
      },
      "source": [
        "oddsratio, pvalue = stats.fisher_exact(obs[[1,0]])\r\n",
        "print(\"OddsR: \", oddsratio, \"p-Value:\", pvalue)"
      ],
      "execution_count": 33,
      "outputs": [
        {
          "output_type": "stream",
          "text": [
            "OddsR:  1.8160652369783723 p-Value: 3.9542706762047546e-21\n"
          ],
          "name": "stdout"
        }
      ]
    },
    {
      "cell_type": "markdown",
      "metadata": {
        "id": "zKpusdYAY4-a"
      },
      "source": [
        "Analizom je prikazano da $83\\%$ učenika ima pristup internetu, dok skoro njih $17\\%$ nema, što je za današnje vrijeme visok postotak. Samim time logično je pretpostaviti i testiranjem dokazati da postoji zavisnosti s ponavljanjem godine. Učenici koji nemaju pristup internetu imaju $1.816$ puta veći rizik od ponavljanja godine."
      ]
    },
    {
      "cell_type": "markdown",
      "metadata": {
        "id": "3Spep6CFsst7"
      },
      "source": [
        "Varijalble **romantic** je li učenik u romatičnoj vezi"
      ]
    },
    {
      "cell_type": "code",
      "metadata": {
        "colab": {
          "base_uri": "https://localhost:8080/",
          "height": 342
        },
        "id": "2_dhtD1wqctl",
        "outputId": "f148059b-3e66-4d11-ca6b-ae0c8098e683"
      },
      "source": [
        "print(data['romantic'].value_counts()/7900)\r\n",
        "\r\n",
        "fig, ax = plt.subplots(1, 2, figsize=(10, 3))\r\n",
        "sns.countplot(ax = ax[0],x = 'romantic', data = data)\r\n",
        "sns.countplot(ax = ax[1],x = 'romantic', hue = 'repeated',data = data)\r\n",
        "plt.show()\r\n",
        "\r\n",
        "obs = pd.crosstab(data['romantic'],data['repeated'])\r\n",
        "print(obs[[1,0]])"
      ],
      "execution_count": 34,
      "outputs": [
        {
          "output_type": "stream",
          "text": [
            "False    0.665823\n",
            "True     0.334177\n",
            "Name: romantic, dtype: float64\n"
          ],
          "name": "stdout"
        },
        {
          "output_type": "display_data",
          "data": {
            "image/png": "[encoded data removed]",
            "text/plain": [
              "<Figure size 720x216 with 2 Axes>"
            ]
          },
          "metadata": {
            "tags": [],
            "needs_background": "light"
          }
        },
        {
          "output_type": "stream",
          "text": [
            "repeated     1     0\n",
            "romantic            \n",
            "False     1487  3773\n",
            "True       905  1735\n"
          ],
          "name": "stdout"
        }
      ]
    },
    {
      "cell_type": "code",
      "metadata": {
        "colab": {
          "base_uri": "https://localhost:8080/"
        },
        "id": "gkbqYtxEs4gb",
        "outputId": "b1f28541-1b50-421e-9bdc-ed71b777add0"
      },
      "source": [
        "g, p, dof, expctd = chi2_contingency(obs[[1,0]],lambda_=\"log-likelihood\")\r\n",
        "print(\"chi2 test p-value: \",p)"
      ],
      "execution_count": 35,
      "outputs": [
        {
          "output_type": "stream",
          "text": [
            "chi2 test p-value:  5.671201350897738e-08\n"
          ],
          "name": "stdout"
        }
      ]
    },
    {
      "cell_type": "code",
      "metadata": {
        "colab": {
          "base_uri": "https://localhost:8080/"
        },
        "id": "Y-GZsJCrZ5TB",
        "outputId": "615605da-9ba7-4e85-c97e-05a78e69143e"
      },
      "source": [
        "oddsratio, pvalue = stats.fisher_exact(obs[[1,0]])\r\n",
        "print(\"OddsR: \", oddsratio, \"p-Value:\", pvalue)"
      ],
      "execution_count": 36,
      "outputs": [
        {
          "output_type": "stream",
          "text": [
            "OddsR:  0.7555706217336615 p-Value: 4.947518340552613e-08\n"
          ],
          "name": "stdout"
        }
      ]
    },
    {
      "cell_type": "markdown",
      "metadata": {
        "id": "VTQzmarEaOGk"
      },
      "source": [
        "Skoro $67\\%$ učenika je u romatičnoj vezi. Vidimo kako učenici koji nisu imaju $0.756$ puta manju šansu od ponavljanja godine. "
      ]
    },
    {
      "cell_type": "markdown",
      "metadata": {
        "id": "cIcdrigAs8n1"
      },
      "source": [
        "Varijabla **famrel** numerička je varijabla i pokazuje kvaliteta obiteljskih odnosa ocjenama 1-5."
      ]
    },
    {
      "cell_type": "code",
      "metadata": {
        "colab": {
          "base_uri": "https://localhost:8080/",
          "height": 393
        },
        "id": "cyYodKfrs4nS",
        "outputId": "1b963749-3227-40ce-bd4e-0900f200bf46"
      },
      "source": [
        "print(data.famrel.describe())\r\n",
        "\r\n",
        "fig, ax = plt.subplots(1, 2, figsize=(10, 3))\r\n",
        "sns.countplot(ax = ax[0],x='famrel',data=data)\r\n",
        "sns.countplot(ax = ax[1],x='famrel',hue = 'repeated',data=data)\r\n",
        "plt.show()\r\n"
      ],
      "execution_count": 39,
      "outputs": [
        {
          "output_type": "stream",
          "text": [
            "count    7900.000000\n",
            "mean        3.944304\n",
            "std         0.895580\n",
            "min         1.000000\n",
            "25%         4.000000\n",
            "50%         4.000000\n",
            "75%         5.000000\n",
            "max         5.000000\n",
            "Name: famrel, dtype: float64\n"
          ],
          "name": "stdout"
        },
        {
          "output_type": "display_data",
          "data": {
            "image/png": "[encoded data removed]",
            "text/plain": [
              "<Figure size 720x216 with 2 Axes>"
            ]
          },
          "metadata": {
            "tags": [],
            "needs_background": "light"
          }
        },
        {
          "output_type": "stream",
          "text": [
            "0.0619572539933194\n"
          ],
          "name": "stdout"
        }
      ]
    },
    {
      "cell_type": "code",
      "metadata": {
        "colab": {
          "base_uri": "https://localhost:8080/"
        },
        "id": "HP650Ayvs4qI",
        "outputId": "7dc84609-9223-4ca7-d146-4776782aa60e"
      },
      "source": [
        "r0 = data.famrel[data.repeated == 0]\r\n",
        "r1 = data.famrel[data.repeated == 1]\r\n",
        "stat, p = mannwhitneyu(r0,r1)\r\n",
        "print(p)"
      ],
      "execution_count": 40,
      "outputs": [
        {
          "output_type": "stream",
          "text": [
            "0.03723555941689749\n"
          ],
          "name": "stdout"
        }
      ]
    },
    {
      "cell_type": "markdown",
      "metadata": {
        "id": "olDHc0oOb2WN"
      },
      "source": [
        "Vidimo kako je medijalna ocjena 4. Gornji kvartil je 5, što znači da $25\\%$ obitelji ima najbolje odnose. Testtiranjem smo ukazali na razliku u distribuciji ocjene obiteljskih odnosa obzirom na ponavljanje godine. "
      ]
    },
    {
      "cell_type": "markdown",
      "metadata": {
        "id": "LFYR636ita4S"
      },
      "source": [
        "Varijabla **freetime** numerička varijabla i pokazuje ocjenu slobodnog vremena nakon škole. "
      ]
    },
    {
      "cell_type": "code",
      "metadata": {
        "colab": {
          "base_uri": "https://localhost:8080/",
          "height": 378
        },
        "id": "_O5znMM5s4v2",
        "outputId": "d5ca8e16-f548-49b5-c33a-4d0b55a00547"
      },
      "source": [
        "print(data.freetime.describe())\r\n",
        "\r\n",
        "fig, ax = plt.subplots(1, 2, figsize=(10, 3))\r\n",
        "sns.countplot(ax = ax[0],x='freetime',data=data)\r\n",
        "sns.countplot(ax = ax[1],x='freetime',hue = 'repeated',data=data)\r\n",
        "plt.show()"
      ],
      "execution_count": 42,
      "outputs": [
        {
          "output_type": "stream",
          "text": [
            "count    7900.000000\n",
            "mean        3.235443\n",
            "std         0.997660\n",
            "min         1.000000\n",
            "25%         3.000000\n",
            "50%         3.000000\n",
            "75%         4.000000\n",
            "max         5.000000\n",
            "Name: freetime, dtype: float64\n"
          ],
          "name": "stdout"
        },
        {
          "output_type": "display_data",
          "data": {
            "image/png": "[encoded data removed]",
            "text/plain": [
              "<Figure size 720x216 with 2 Axes>"
            ]
          },
          "metadata": {
            "tags": [],
            "needs_background": "light"
          }
        }
      ]
    },
    {
      "cell_type": "code",
      "metadata": {
        "colab": {
          "base_uri": "https://localhost:8080/"
        },
        "id": "gMGyscAfs4y6",
        "outputId": "c29bd9fd-a724-4361-8080-8aab993c31df"
      },
      "source": [
        "r0 = data.freetime[data.repeated == 0]\r\n",
        "r1 = data.freetime[data.repeated == 1]\r\n",
        "stat, p = mannwhitneyu(r0,r1)\r\n",
        "print('MVW: ',p)"
      ],
      "execution_count": 41,
      "outputs": [
        {
          "output_type": "stream",
          "text": [
            "MVW:  0.20546894878059846\n"
          ],
          "name": "stdout"
        }
      ]
    },
    {
      "cell_type": "markdown",
      "metadata": {
        "id": "Ni8Epn-hdYpY"
      },
      "source": [
        "Vidimo kako je srednja ocjena slobodnog vremena 3. Testom također nije ukazana razlika u distribuciji obzirom na ponavljanje godine. "
      ]
    },
    {
      "cell_type": "markdown",
      "metadata": {
        "id": "VWZG9i3Gt_zV"
      },
      "source": [
        "Varijaba **goout** numerička varijabla koja prikazuje ocjenu izlazaka s prijateljima, 1-malo, 5-mnogo. "
      ]
    },
    {
      "cell_type": "code",
      "metadata": {
        "colab": {
          "base_uri": "https://localhost:8080/",
          "height": 376
        },
        "id": "JeppZDFIs41T",
        "outputId": "07abadb0-09eb-41a5-fa8f-ea9ca08f9e6d"
      },
      "source": [
        "print(data.goout.describe())\r\n",
        "\r\n",
        "fig, ax = plt.subplots(1, 2, figsize=(10, 3))\r\n",
        "sns.countplot(ax = ax[0],x='goout',data=data)\r\n",
        "sns.countplot(ax = ax[1],x='goout',hue = 'repeated',data=data)\r\n",
        "plt.show()"
      ],
      "execution_count": 43,
      "outputs": [
        {
          "output_type": "stream",
          "text": [
            "count    7900.000000\n",
            "mean        3.108861\n",
            "std         1.111938\n",
            "min         1.000000\n",
            "25%         2.000000\n",
            "50%         3.000000\n",
            "75%         4.000000\n",
            "max         5.000000\n",
            "Name: goout, dtype: float64\n"
          ],
          "name": "stdout"
        },
        {
          "output_type": "display_data",
          "data": {
            "image/png": "[encoded data removed]",
            "text/plain": [
              "<Figure size 720x216 with 2 Axes>"
            ]
          },
          "metadata": {
            "tags": [],
            "needs_background": "light"
          }
        }
      ]
    },
    {
      "cell_type": "code",
      "metadata": {
        "colab": {
          "base_uri": "https://localhost:8080/"
        },
        "id": "-ObqdXR-qcwF",
        "outputId": "9a99f356-99c4-410c-f66f-00597a2c8932"
      },
      "source": [
        "r0 = data.goout[data.repeated == 0]\r\n",
        "r1 = data.goout[data.repeated == 1]\r\n",
        "\r\n",
        "stat, p = mannwhitneyu(r0,r1)\r\n",
        "print('MVW: ',p)"
      ],
      "execution_count": 44,
      "outputs": [
        {
          "output_type": "stream",
          "text": [
            "MVW:  9.942677972815905e-19\n"
          ],
          "name": "stdout"
        }
      ]
    },
    {
      "cell_type": "markdown",
      "metadata": {
        "id": "n0ZC_euOecLb"
      },
      "source": [
        "Srednja ocjena i medijan ocjene izlaska je 3. Postoji statistički značajna razlika distribucije ocjena izlazak obzirom na ponavljanje godine. "
      ]
    },
    {
      "cell_type": "markdown",
      "metadata": {
        "id": "eHS25aAXwscX"
      },
      "source": [
        "Varijable **Dalc** i **Walc** su numeričke varijable koje ocjenjuju konzumaciju alkohola tijekom tjedna i vikenda redom. "
      ]
    },
    {
      "cell_type": "code",
      "metadata": {
        "colab": {
          "base_uri": "https://localhost:8080/",
          "height": 376
        },
        "id": "W7uzygaZwuoT",
        "outputId": "e368ecb9-f27a-4d70-e1de-5e9609135a38"
      },
      "source": [
        "print(data.Dalc.describe())\r\n",
        "\r\n",
        "fig, ax = plt.subplots(1, 2, figsize=(10, 3))\r\n",
        "sns.countplot(ax = ax[0],x='Dalc',data=data)\r\n",
        "sns.countplot(ax = ax[1],x='Dalc',hue = 'repeated',data=data)\r\n",
        "plt.show()"
      ],
      "execution_count": 45,
      "outputs": [
        {
          "output_type": "stream",
          "text": [
            "count    7900.000000\n",
            "mean        1.481013\n",
            "std         0.889670\n",
            "min         1.000000\n",
            "25%         1.000000\n",
            "50%         1.000000\n",
            "75%         2.000000\n",
            "max         5.000000\n",
            "Name: Dalc, dtype: float64\n"
          ],
          "name": "stdout"
        },
        {
          "output_type": "display_data",
          "data": {
            "image/png": "[encoded data removed]",
            "text/plain": [
              "<Figure size 720x216 with 2 Axes>"
            ]
          },
          "metadata": {
            "tags": [],
            "needs_background": "light"
          }
        }
      ]
    },
    {
      "cell_type": "code",
      "metadata": {
        "colab": {
          "base_uri": "https://localhost:8080/"
        },
        "id": "noALMq_-ffOI",
        "outputId": "8582b8c0-7206-4433-a234-352aaacac5b1"
      },
      "source": [
        "r0 = data.Dalc[data.repeated == 0]\r\n",
        "r1 = data.Dalc[data.repeated == 1]\r\n",
        "\r\n",
        "stat, p = mannwhitneyu(r0,r1)\r\n",
        "print('MVW: ',p)"
      ],
      "execution_count": 46,
      "outputs": [
        {
          "output_type": "stream",
          "text": [
            "MVW:  1.6764137055955005e-17\n"
          ],
          "name": "stdout"
        }
      ]
    },
    {
      "cell_type": "code",
      "metadata": {
        "colab": {
          "base_uri": "https://localhost:8080/",
          "height": 385
        },
        "id": "uYg0XeAuwur7",
        "outputId": "838cfd79-14a1-4996-bf42-8cb7cae9a71d"
      },
      "source": [
        "print(data.Walc.describe())\r\n",
        "\r\n",
        "fig, ax = plt.subplots(1, 2, figsize=(10, 3))\r\n",
        "sns.countplot(ax = ax[0],x='Walc',data=data)\r\n",
        "sns.countplot(ax = ax[1],x='Walc',hue = 'repeated',data=data)\r\n",
        "plt.show()"
      ],
      "execution_count": 48,
      "outputs": [
        {
          "output_type": "stream",
          "text": [
            "count    7900.000000\n",
            "mean        2.291139\n",
            "std         1.286347\n",
            "min         1.000000\n",
            "25%         1.000000\n",
            "50%         2.000000\n",
            "75%         3.000000\n",
            "max         5.000000\n",
            "Name: Walc, dtype: float64\n"
          ],
          "name": "stdout"
        },
        {
          "output_type": "display_data",
          "data": {
            "image/png": "[encoded data removed]",
            "text/plain": [
              "<Figure size 720x216 with 2 Axes>"
            ]
          },
          "metadata": {
            "tags": [],
            "needs_background": "light"
          }
        }
      ]
    },
    {
      "cell_type": "code",
      "metadata": {
        "colab": {
          "base_uri": "https://localhost:8080/"
        },
        "id": "7JN9Dal4wuvS",
        "outputId": "13ef167a-8905-4991-a19c-124e740f4f05"
      },
      "source": [
        "r0 = data.Walc[data.repeated == 0]\r\n",
        "r1 = data.Walc[data.repeated == 1]\r\n",
        "\r\n",
        "stat, p = mannwhitneyu(r0,r1)\r\n",
        "print('MVW: ',p)"
      ],
      "execution_count": 49,
      "outputs": [
        {
          "output_type": "stream",
          "text": [
            "MVW:  1.4899780693003666e-10\n"
          ],
          "name": "stdout"
        }
      ]
    },
    {
      "cell_type": "markdown",
      "metadata": {
        "id": "7igLB8_UxUr2"
      },
      "source": [
        "Vidimo kako većina učenika malo ili vrlo malo konzumira alkohol tokom tjedna i tokom vikenda. No statistički značajne razlike se pojavlju u distribuciji onih koji su ponavljali godinu i onih koji ne. "
      ]
    },
    {
      "cell_type": "markdown",
      "metadata": {
        "id": "iOc8flEjxmXp"
      },
      "source": [
        "Varijabla **health** numerička varijabla i pokazuje zdravstvenu ocjenu učenika. "
      ]
    },
    {
      "cell_type": "code",
      "metadata": {
        "colab": {
          "base_uri": "https://localhost:8080/",
          "height": 376
        },
        "id": "mQy4zYzCxrby",
        "outputId": "f66b41a7-ffce-4b84-ba5f-10188f11adf3"
      },
      "source": [
        "print(data.health .describe())\r\n",
        "\r\n",
        "fig, ax = plt.subplots(1, 2, figsize=(10, 3))\r\n",
        "sns.countplot(ax = ax[0],x='health',data=data)\r\n",
        "sns.countplot(ax = ax[1],x='health',hue = 'repeated',data=data)\r\n",
        "plt.show()"
      ],
      "execution_count": 52,
      "outputs": [
        {
          "output_type": "stream",
          "text": [
            "count    7900.00000\n",
            "mean        3.55443\n",
            "std         1.38863\n",
            "min         1.00000\n",
            "25%         3.00000\n",
            "50%         4.00000\n",
            "75%         5.00000\n",
            "max         5.00000\n",
            "Name: health, dtype: float64\n"
          ],
          "name": "stdout"
        },
        {
          "output_type": "display_data",
          "data": {
            "image/png": "[encoded data removed]",
            "text/plain": [
              "<Figure size 720x216 with 2 Axes>"
            ]
          },
          "metadata": {
            "tags": [],
            "needs_background": "light"
          }
        }
      ]
    },
    {
      "cell_type": "code",
      "metadata": {
        "colab": {
          "base_uri": "https://localhost:8080/"
        },
        "id": "QTYmaqR5xpsT",
        "outputId": "98baa3a1-ccbc-41fd-881a-c4b46763cd11"
      },
      "source": [
        "r0 = data.health[data.repeated == 0]\r\n",
        "r1 = data.health[data.repeated == 1]\r\n",
        "\r\n",
        "stat, p = mannwhitneyu(r0,r1)\r\n",
        "print('MVW: ',p)"
      ],
      "execution_count": 55,
      "outputs": [
        {
          "output_type": "stream",
          "text": [
            "MVW:  0.034603087010724114\n"
          ],
          "name": "stdout"
        }
      ]
    },
    {
      "cell_type": "code",
      "metadata": {
        "colab": {
          "base_uri": "https://localhost:8080/"
        },
        "id": "99SlnCa9hEop",
        "outputId": "286e2796-e81d-4f63-8128-99f6b01b99bd"
      },
      "source": [
        "data.health.value_counts()/7900"
      ],
      "execution_count": 57,
      "outputs": [
        {
          "output_type": "execute_result",
          "data": {
            "text/plain": [
              "5    0.369620\n",
              "3    0.230380\n",
              "4    0.167089\n",
              "1    0.118987\n",
              "2    0.113924\n",
              "Name: health, dtype: float64"
            ]
          },
          "metadata": {
            "tags": []
          },
          "execution_count": 57
        }
      ]
    },
    {
      "cell_type": "markdown",
      "metadata": {
        "id": "z6pUz5m5gZmn"
      },
      "source": [
        "Veliki brioj učeika od $37\\%$ ima izvrsnu ocjenu zdravlja, dok je medijalna ocjena zdravlja četvorka. $20\\%$ učenika ima vrlo slabu ili slabu ocjenu zdravlja. Testom je pokazana statistički značajna razlika distribucije zdravlja u odnosu na ponavljanje godine. "
      ]
    },
    {
      "cell_type": "markdown",
      "metadata": {
        "id": "fqJzqn2ihszg"
      },
      "source": [
        "Varijabla **absences** je numeričkog tipa i pokazuje broj učenikovog izostanka iz škole. "
      ]
    },
    {
      "cell_type": "code",
      "metadata": {
        "colab": {
          "base_uri": "https://localhost:8080/",
          "height": 434
        },
        "id": "Y9XUFecExmmJ",
        "outputId": "1099be58-eb60-4005-edc1-807c54277313"
      },
      "source": [
        "print(data.absences.describe())\r\n",
        "\r\n",
        "fig, ax = plt.subplots(1, 3, figsize=(15, 4))\r\n",
        "sns.histplot(ax = ax[0],x='absences',data=data,bins=10)\r\n",
        "sns.boxplot(ax = ax[1],y='absences',data=data)\r\n",
        "sns.boxplot(ax = ax[2],y='absences',x = 'repeated',data=data)\r\n",
        "plt.show()"
      ],
      "execution_count": 68,
      "outputs": [
        {
          "output_type": "stream",
          "text": [
            "count    7900.000000\n",
            "mean        5.708861\n",
            "std         7.993465\n",
            "min         0.000000\n",
            "25%         0.000000\n",
            "50%         4.000000\n",
            "75%         8.000000\n",
            "max        75.000000\n",
            "Name: absences, dtype: float64\n"
          ],
          "name": "stdout"
        },
        {
          "output_type": "display_data",
          "data": {
            "image/png": "[encoded data removed]",
            "text/plain": [
              "<Figure size 1080x288 with 3 Axes>"
            ]
          },
          "metadata": {
            "tags": [],
            "needs_background": "light"
          }
        }
      ]
    },
    {
      "cell_type": "code",
      "metadata": {
        "id": "dsy52y0Dxmqv",
        "colab": {
          "base_uri": "https://localhost:8080/"
        },
        "outputId": "b89a1a4a-8858-495c-d5ec-7ef4389898ab"
      },
      "source": [
        "r0 = data.absences[data.repeated == 0]\r\n",
        "r1 = data.absences[data.repeated == 1]\r\n",
        "s, p = stats.ttest_ind(r0,r1,equal_var = False)\r\n",
        "\r\n",
        "print('t-test: ',p)"
      ],
      "execution_count": 62,
      "outputs": [
        {
          "output_type": "stream",
          "text": [
            "t-test:  0.7612144303599555\n"
          ],
          "name": "stdout"
        }
      ]
    },
    {
      "cell_type": "code",
      "metadata": {
        "colab": {
          "base_uri": "https://localhost:8080/"
        },
        "id": "vAnaVHFljIzp",
        "outputId": "c86fb545-2f3c-4c18-ce72-8ed7a865dd91"
      },
      "source": [
        "from scipy import stats\r\n",
        "stats.ks_2samp(r0,r1)"
      ],
      "execution_count": 70,
      "outputs": [
        {
          "output_type": "execute_result",
          "data": {
            "text/plain": [
              "Ks_2sampResult(statistic=0.08790042091406115, pvalue=1.0)"
            ]
          },
          "metadata": {
            "tags": []
          },
          "execution_count": 70
        }
      ]
    },
    {
      "cell_type": "markdown",
      "metadata": {
        "id": "anBD4vJxja8x"
      },
      "source": [
        "Iz opisne statistike vidimo kako $75\\%$ je barem jednom izostalo iz škole. Postoje učenici koji izoslati čak 75 puta. No, rezultati testiranja prosječnog broja testiranja po grupi ponavljanja nije statistički značajan. "
      ]
    }
  ]
}