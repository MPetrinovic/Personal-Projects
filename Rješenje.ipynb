{
  "nbformat": 4,
  "nbformat_minor": 0,
  "metadata": {
    "colab": {
      "name": "Rješenje.ipynb",
      "provenance": [],
      "collapsed_sections": [],
      "authorship_tag": "ABX9TyPG5BeA6l5Ir+w32mPX974Y",
      "include_colab_link": true
    },
    "kernelspec": {
      "name": "python3",
      "display_name": "Python 3"
    }
  },
  "cells": [
    {
      "cell_type": "markdown",
      "metadata": {
        "id": "view-in-github",
        "colab_type": "text"
      },
      "source": [
        "<a href=\"https://colab.research.google.com/github/MPetrinovic/Personal-Projects/blob/main/Rje%C5%A1enje.ipynb\" target=\"_parent\"><img src=\"https://colab.research.google.com/assets/colab-badge.svg\" alt=\"Open In Colab\"/></a>"
      ]
    },
    {
      "cell_type": "code",
      "metadata": {
        "id": "Vd6aenH4XRn8"
      },
      "source": [
        "import pandas as pd\r\n",
        "import numpy as np\r\n",
        "import matplotlib.pyplot as plt\r\n",
        "import seaborn as sns\r\n",
        "sns.set_palette('Set2')\r\n",
        "from scipy.stats import chi2_contingency"
      ],
      "execution_count": 34,
      "outputs": []
    },
    {
      "cell_type": "code",
      "metadata": {
        "colab": {
          "base_uri": "https://localhost:8080/"
        },
        "id": "MjJqy33ZX6H3",
        "outputId": "c3c21699-4ebb-4e30-92ab-36a04523ed7c"
      },
      "source": [
        "data = pd.read_csv('schools_data.csv')\r\n",
        "data.shape"
      ],
      "execution_count": 10,
      "outputs": [
        {
          "output_type": "execute_result",
          "data": {
            "text/plain": [
              "(7900, 32)"
            ]
          },
          "metadata": {
            "tags": []
          },
          "execution_count": 10
        }
      ]
    },
    {
      "cell_type": "code",
      "metadata": {
        "colab": {
          "base_uri": "https://localhost:8080/",
          "height": 224
        },
        "id": "njt1XlRSYsW2",
        "outputId": "ba10a42c-d1d7-4093-d45c-71208ba44cc2"
      },
      "source": [
        "data.head()"
      ],
      "execution_count": 6,
      "outputs": [
        {
          "output_type": "execute_result",
          "data": {
            "text/html": [
              "<div>\n",
              "<style scoped>\n",
              "    .dataframe tbody tr th:only-of-type {\n",
              "        vertical-align: middle;\n",
              "    }\n",
              "\n",
              "    .dataframe tbody tr th {\n",
              "        vertical-align: top;\n",
              "    }\n",
              "\n",
              "    .dataframe thead th {\n",
              "        text-align: right;\n",
              "    }\n",
              "</style>\n",
              "<table border=\"1\" class=\"dataframe\">\n",
              "  <thead>\n",
              "    <tr style=\"text-align: right;\">\n",
              "      <th></th>\n",
              "      <th>school</th>\n",
              "      <th>sex</th>\n",
              "      <th>age</th>\n",
              "      <th>address</th>\n",
              "      <th>famsize</th>\n",
              "      <th>Pstatus</th>\n",
              "      <th>Medu</th>\n",
              "      <th>Fedu</th>\n",
              "      <th>Mjob</th>\n",
              "      <th>Fjob</th>\n",
              "      <th>reason</th>\n",
              "      <th>guardian</th>\n",
              "      <th>traveltime</th>\n",
              "      <th>studytime</th>\n",
              "      <th>failures</th>\n",
              "      <th>schoolsup</th>\n",
              "      <th>famsup</th>\n",
              "      <th>paid</th>\n",
              "      <th>activities</th>\n",
              "      <th>nursery</th>\n",
              "      <th>higher</th>\n",
              "      <th>internet</th>\n",
              "      <th>romantic</th>\n",
              "      <th>famrel</th>\n",
              "      <th>freetime</th>\n",
              "      <th>goout</th>\n",
              "      <th>Dalc</th>\n",
              "      <th>Walc</th>\n",
              "      <th>health</th>\n",
              "      <th>absences</th>\n",
              "      <th>repeated</th>\n",
              "      <th>data_perimeter</th>\n",
              "    </tr>\n",
              "  </thead>\n",
              "  <tbody>\n",
              "    <tr>\n",
              "      <th>0</th>\n",
              "      <td>MS</td>\n",
              "      <td>F</td>\n",
              "      <td>15</td>\n",
              "      <td>Urban</td>\n",
              "      <td>&gt;3</td>\n",
              "      <td>Married</td>\n",
              "      <td>2</td>\n",
              "      <td>3</td>\n",
              "      <td>other</td>\n",
              "      <td>other</td>\n",
              "      <td>other</td>\n",
              "      <td>father</td>\n",
              "      <td>2</td>\n",
              "      <td>1</td>\n",
              "      <td>0</td>\n",
              "      <td>False</td>\n",
              "      <td>True</td>\n",
              "      <td>False</td>\n",
              "      <td>True</td>\n",
              "      <td>True</td>\n",
              "      <td>True</td>\n",
              "      <td>False</td>\n",
              "      <td>False</td>\n",
              "      <td>3</td>\n",
              "      <td>5</td>\n",
              "      <td>1</td>\n",
              "      <td>1</td>\n",
              "      <td>1</td>\n",
              "      <td>5</td>\n",
              "      <td>0</td>\n",
              "      <td>0</td>\n",
              "      <td>validation</td>\n",
              "    </tr>\n",
              "    <tr>\n",
              "      <th>1</th>\n",
              "      <td>MS</td>\n",
              "      <td>M</td>\n",
              "      <td>15</td>\n",
              "      <td>Urban</td>\n",
              "      <td>&lt;=3</td>\n",
              "      <td>Married</td>\n",
              "      <td>4</td>\n",
              "      <td>3</td>\n",
              "      <td>teacher</td>\n",
              "      <td>services</td>\n",
              "      <td>home</td>\n",
              "      <td>mother</td>\n",
              "      <td>1</td>\n",
              "      <td>3</td>\n",
              "      <td>0</td>\n",
              "      <td>False</td>\n",
              "      <td>True</td>\n",
              "      <td>False</td>\n",
              "      <td>True</td>\n",
              "      <td>True</td>\n",
              "      <td>True</td>\n",
              "      <td>True</td>\n",
              "      <td>False</td>\n",
              "      <td>5</td>\n",
              "      <td>4</td>\n",
              "      <td>3</td>\n",
              "      <td>1</td>\n",
              "      <td>1</td>\n",
              "      <td>4</td>\n",
              "      <td>2</td>\n",
              "      <td>0</td>\n",
              "      <td>train</td>\n",
              "    </tr>\n",
              "    <tr>\n",
              "      <th>2</th>\n",
              "      <td>MS</td>\n",
              "      <td>M</td>\n",
              "      <td>16</td>\n",
              "      <td>Rural</td>\n",
              "      <td>&gt;3</td>\n",
              "      <td>Divorced</td>\n",
              "      <td>4</td>\n",
              "      <td>4</td>\n",
              "      <td>other</td>\n",
              "      <td>teacher</td>\n",
              "      <td>reputation</td>\n",
              "      <td>mother</td>\n",
              "      <td>2</td>\n",
              "      <td>3</td>\n",
              "      <td>0</td>\n",
              "      <td>False</td>\n",
              "      <td>True</td>\n",
              "      <td>False</td>\n",
              "      <td>True</td>\n",
              "      <td>True</td>\n",
              "      <td>True</td>\n",
              "      <td>True</td>\n",
              "      <td>True</td>\n",
              "      <td>2</td>\n",
              "      <td>4</td>\n",
              "      <td>3</td>\n",
              "      <td>1</td>\n",
              "      <td>1</td>\n",
              "      <td>5</td>\n",
              "      <td>7</td>\n",
              "      <td>0</td>\n",
              "      <td>validation</td>\n",
              "    </tr>\n",
              "    <tr>\n",
              "      <th>3</th>\n",
              "      <td>MS</td>\n",
              "      <td>F</td>\n",
              "      <td>15</td>\n",
              "      <td>Rural</td>\n",
              "      <td>&gt;3</td>\n",
              "      <td>Married</td>\n",
              "      <td>3</td>\n",
              "      <td>4</td>\n",
              "      <td>services</td>\n",
              "      <td>health</td>\n",
              "      <td>course</td>\n",
              "      <td>mother</td>\n",
              "      <td>1</td>\n",
              "      <td>3</td>\n",
              "      <td>0</td>\n",
              "      <td>True</td>\n",
              "      <td>True</td>\n",
              "      <td>True</td>\n",
              "      <td>True</td>\n",
              "      <td>True</td>\n",
              "      <td>True</td>\n",
              "      <td>True</td>\n",
              "      <td>False</td>\n",
              "      <td>4</td>\n",
              "      <td>3</td>\n",
              "      <td>2</td>\n",
              "      <td>1</td>\n",
              "      <td>1</td>\n",
              "      <td>5</td>\n",
              "      <td>2</td>\n",
              "      <td>0</td>\n",
              "      <td>train</td>\n",
              "    </tr>\n",
              "    <tr>\n",
              "      <th>4</th>\n",
              "      <td>MS</td>\n",
              "      <td>F</td>\n",
              "      <td>15</td>\n",
              "      <td>Rural</td>\n",
              "      <td>&gt;3</td>\n",
              "      <td>Married</td>\n",
              "      <td>2</td>\n",
              "      <td>2</td>\n",
              "      <td>at_home</td>\n",
              "      <td>other</td>\n",
              "      <td>reputation</td>\n",
              "      <td>mother</td>\n",
              "      <td>1</td>\n",
              "      <td>1</td>\n",
              "      <td>0</td>\n",
              "      <td>True</td>\n",
              "      <td>True</td>\n",
              "      <td>True</td>\n",
              "      <td>True</td>\n",
              "      <td>True</td>\n",
              "      <td>True</td>\n",
              "      <td>False</td>\n",
              "      <td>False</td>\n",
              "      <td>4</td>\n",
              "      <td>3</td>\n",
              "      <td>1</td>\n",
              "      <td>1</td>\n",
              "      <td>1</td>\n",
              "      <td>2</td>\n",
              "      <td>8</td>\n",
              "      <td>0</td>\n",
              "      <td>validation</td>\n",
              "    </tr>\n",
              "  </tbody>\n",
              "</table>\n",
              "</div>"
            ],
            "text/plain": [
              "  school sex  age address  ... health absences  repeated  data_perimeter\n",
              "0     MS   F   15   Urban  ...      5        0         0      validation\n",
              "1     MS   M   15   Urban  ...      4        2         0           train\n",
              "2     MS   M   16   Rural  ...      5        7         0      validation\n",
              "3     MS   F   15   Rural  ...      5        2         0           train\n",
              "4     MS   F   15   Rural  ...      2        8         0      validation\n",
              "\n",
              "[5 rows x 32 columns]"
            ]
          },
          "metadata": {
            "tags": []
          },
          "execution_count": 6
        }
      ]
    },
    {
      "cell_type": "code",
      "metadata": {
        "id": "0LCp0h87X6Ke"
      },
      "source": [
        "work_data = data.copy()\r\n",
        "work_data.sample(5)"
      ],
      "execution_count": null,
      "outputs": []
    },
    {
      "cell_type": "code",
      "metadata": {
        "colab": {
          "base_uri": "https://localhost:8080/",
          "height": 330
        },
        "id": "F-AQtuoNX6NA",
        "outputId": "a2483972-8384-4d5b-b368-a72fd6aa0a09"
      },
      "source": [
        "sns.countplot(x = 'repeated', data = data)\r\n",
        "work_data['repeated'].value_counts()/7900"
      ],
      "execution_count": 35,
      "outputs": [
        {
          "output_type": "execute_result",
          "data": {
            "text/plain": [
              "0    0.697215\n",
              "1    0.302785\n",
              "Name: repeated, dtype: float64"
            ]
          },
          "metadata": {
            "tags": []
          },
          "execution_count": 35
        },
        {
          "output_type": "display_data",
          "data": {
            "image/png": "[encoded data removed]",
            "text/plain": [
              "<Figure size 432x288 with 1 Axes>"
            ]
          },
          "metadata": {
            "tags": [],
            "needs_background": "light"
          }
        }
      ]
    },
    {
      "cell_type": "markdown",
      "metadata": {
        "id": "2XQM7Dp6Z-rX"
      },
      "source": [
        "1. varijabla = SCHOOL"
      ]
    },
    {
      "cell_type": "code",
      "metadata": {
        "colab": {
          "base_uri": "https://localhost:8080/",
          "height": 541
        },
        "id": "v9Ck_8lYX6Pu",
        "outputId": "a6f4f1d1-4eb8-409e-e36a-c783410b9d87"
      },
      "source": [
        "sns.countplot(x = 'school', data = data)\r\n",
        "plt.show()\r\n",
        "data['school'].value_counts()\r\n",
        "sns.countplot(x = 'school', hue = 'repeated',data = data)\r\n",
        "plt.show()"
      ],
      "execution_count": 36,
      "outputs": [
        {
          "output_type": "display_data",
          "data": {
            "image/png": "[encoded data removed]",
            "text/plain": [
              "<Figure size 432x288 with 1 Axes>"
            ]
          },
          "metadata": {
            "tags": [],
            "needs_background": "light"
          }
        },
        {
          "output_type": "display_data",
          "data": {
            "image/png": "[encoded data removed]",
            "text/plain": [
              "<Figure size 432x288 with 1 Axes>"
            ]
          },
          "metadata": {
            "tags": [],
            "needs_background": "light"
          }
        }
      ]
    },
    {
      "cell_type": "code",
      "metadata": {
        "colab": {
          "base_uri": "https://localhost:8080/"
        },
        "id": "sdjJs1uSX6Sf",
        "outputId": "dc406228-0346-46eb-c936-fdc2f61c6512"
      },
      "source": [
        "obs = pd.crosstab(data['school'],data['repeated'])\r\n",
        "print(obs)\r\n",
        "g, p, dof, expctd = chi2_contingency(obs,lambda_=\"log-likelihood\")\r\n",
        "print(p)"
      ],
      "execution_count": 31,
      "outputs": [
        {
          "output_type": "stream",
          "text": [
            "repeated     0     1\n",
            "school              \n",
            "GP        1975   527\n",
            "LT        1403   222\n",
            "MS        1234   214\n",
            "RC         896  1429\n",
            "0.0\n"
          ],
          "name": "stdout"
        }
      ]
    },
    {
      "cell_type": "markdown",
      "metadata": {
        "id": "87pLqA7Ib4j3"
      },
      "source": [
        "$\\chi^2$ test pokazuje ovisno varijable škola i ponavljanja godine. Možemo reći da ponavljanje godine ovisi o školi koju učenik pohađa. "
      ]
    },
    {
      "cell_type": "markdown",
      "metadata": {
        "id": "wJsXRep8cMpM"
      },
      "source": [
        "2.Varijabla = sex"
      ]
    },
    {
      "cell_type": "code",
      "metadata": {
        "colab": {
          "base_uri": "https://localhost:8080/",
          "height": 541
        },
        "id": "zfhzBOGWX6U9",
        "outputId": "b4805a7d-3a58-4c2f-da7f-1db598f627f0"
      },
      "source": [
        "sns.countplot(x = 'sex', data = data)\r\n",
        "plt.show()\r\n",
        "data['sex'].value_counts()\r\n",
        "sns.countplot(x = 'sex', hue = 'repeated',data = data)\r\n",
        "plt.show()"
      ],
      "execution_count": 37,
      "outputs": [
        {
          "output_type": "display_data",
          "data": {
            "image/png": "[encoded data removed]",
            "text/plain": [
              "<Figure size 432x288 with 1 Axes>"
            ]
          },
          "metadata": {
            "tags": [],
            "needs_background": "light"
          }
        },
        {
          "output_type": "display_data",
          "data": {
            "image/png": "[encoded data removed]",
            "text/plain": [
              "<Figure size 432x288 with 1 Axes>"
            ]
          },
          "metadata": {
            "tags": [],
            "needs_background": "light"
          }
        }
      ]
    },
    {
      "cell_type": "code",
      "metadata": {
        "colab": {
          "base_uri": "https://localhost:8080/"
        },
        "id": "tu4ANHSNcdmc",
        "outputId": "f63bb722-6217-4d81-89ab-8bf17d2443c8"
      },
      "source": [
        "obs = pd.crosstab(data['sex'],data['repeated'])\r\n",
        "print(obs[[1,0]])\r\n",
        "g, p, dof, expctd = chi2_contingency(obs[[1,0]],lambda_=\"log-likelihood\")\r\n",
        "print(p)"
      ],
      "execution_count": 53,
      "outputs": [
        {
          "output_type": "stream",
          "text": [
            "repeated     1     0\n",
            "sex                 \n",
            "F         1361  2799\n",
            "M         1031  2709\n",
            "7.207292390507581e-07\n"
          ],
          "name": "stdout"
        }
      ]
    },
    {
      "cell_type": "code",
      "metadata": {
        "colab": {
          "base_uri": "https://localhost:8080/"
        },
        "id": "s9eCUWvTfYlX",
        "outputId": "7740266d-987a-42f4-b5e2-2818781d10cd"
      },
      "source": [
        "a = 1361/2799\r\n",
        "b = 1031/2709\r\n",
        "oddrat = a/b\r\n",
        "print(oddrat)"
      ],
      "execution_count": 54,
      "outputs": [
        {
          "output_type": "stream",
          "text": [
            "1.2776313696626445\n"
          ],
          "name": "stdout"
        }
      ]
    },
    {
      "cell_type": "code",
      "metadata": {
        "colab": {
          "base_uri": "https://localhost:8080/"
        },
        "id": "8cX9Z_snclZl",
        "outputId": "108a7e52-c3dd-4b1a-efab-94a277ca312a"
      },
      "source": [
        "import scipy.stats as stats\r\n",
        "oddsratio, pvalue = stats.fisher_exact(obs[[1,0]])\r\n",
        "print(\"OddsR: \", oddsratio, \"p-Value:\", pvalue)"
      ],
      "execution_count": 50,
      "outputs": [
        {
          "output_type": "stream",
          "text": [
            "OddsR:  1.2776313696626445 p-Value: 7.212931680765025e-07\n"
          ],
          "name": "stdout"
        }
      ]
    },
    {
      "cell_type": "markdown",
      "metadata": {
        "id": "aB2aozOqcL1E"
      },
      "source": [
        "3.varijabla = age"
      ]
    },
    {
      "cell_type": "code",
      "metadata": {
        "colab": {
          "base_uri": "https://localhost:8080/",
          "height": 514
        },
        "id": "KZFCkl90X6Xv",
        "outputId": "3f4ed70f-26d4-48bf-8177-3cffae585e54"
      },
      "source": [
        "sns.countplot(x='age',data=data)\r\n",
        "plt.show()\r\n",
        "sns.boxplot(y='age',data=data)\r\n",
        "plt.show()"
      ],
      "execution_count": 57,
      "outputs": [
        {
          "output_type": "display_data",
          "data": {
            "image/png": "[encoded data removed]",
            "text/plain": [
              "<Figure size 432x288 with 1 Axes>"
            ]
          },
          "metadata": {
            "tags": [],
            "needs_background": "light"
          }
        },
        {
          "output_type": "display_data",
          "data": {
            "image/png": "[encoded data removed]",
            "text/plain": [
              "<Figure size 432x288 with 1 Axes>"
            ]
          },
          "metadata": {
            "tags": [],
            "needs_background": "light"
          }
        }
      ]
    },
    {
      "cell_type": "code",
      "metadata": {
        "colab": {
          "base_uri": "https://localhost:8080/",
          "height": 279
        },
        "id": "TZQhzPUcgEun",
        "outputId": "6b37dd97-bc4b-4b97-8156-2d4421b7f57e"
      },
      "source": [
        "sns.boxplot(y='age',x = 'repeated',data=data)\r\n",
        "plt.show()"
      ],
      "execution_count": 58,
      "outputs": [
        {
          "output_type": "display_data",
          "data": {
            "image/png": "[encoded data removed]",
            "text/plain": [
              "<Figure size 432x288 with 1 Axes>"
            ]
          },
          "metadata": {
            "tags": [],
            "needs_background": "light"
          }
        }
      ]
    },
    {
      "cell_type": "code",
      "metadata": {
        "colab": {
          "base_uri": "https://localhost:8080/"
        },
        "id": "6_OBvVSxgEws",
        "outputId": "1dc12dea-1aa2-446d-c415-ea17df376832"
      },
      "source": [
        "r0 = data.age[data.repeated == 0]\r\n",
        "r1 = data.age[data.repeated == 1]\r\n",
        "s, p = stats.ttest_ind(r0,r1,equal_var = False)\r\n",
        "print(p)"
      ],
      "execution_count": 67,
      "outputs": [
        {
          "output_type": "stream",
          "text": [
            "1.0255377075099464e-22\n"
          ],
          "name": "stdout"
        }
      ]
    },
    {
      "cell_type": "code",
      "metadata": {
        "colab": {
          "base_uri": "https://localhost:8080/"
        },
        "id": "sTtgsJKUgEzN",
        "outputId": "c953a7f3-17e0-44f6-f05d-b3069147ed08"
      },
      "source": [
        "data.columns"
      ],
      "execution_count": 68,
      "outputs": [
        {
          "output_type": "execute_result",
          "data": {
            "text/plain": [
              "Index(['school', 'sex', 'age', 'address', 'famsize', 'Pstatus', 'Medu', 'Fedu',\n",
              "       'Mjob', 'Fjob', 'reason', 'guardian', 'traveltime', 'studytime',\n",
              "       'failures', 'schoolsup', 'famsup', 'paid', 'activities', 'nursery',\n",
              "       'higher', 'internet', 'romantic', 'famrel', 'freetime', 'goout', 'Dalc',\n",
              "       'Walc', 'health', 'absences', 'repeated', 'data_perimeter'],\n",
              "      dtype='object')"
            ]
          },
          "metadata": {
            "tags": []
          },
          "execution_count": 68
        }
      ]
    },
    {
      "cell_type": "markdown",
      "metadata": {
        "id": "QvGXB4qJiFK3"
      },
      "source": [
        "4.varijabla = address"
      ]
    },
    {
      "cell_type": "code",
      "metadata": {
        "colab": {
          "base_uri": "https://localhost:8080/",
          "height": 592
        },
        "id": "nkHZFOsSgE1d",
        "outputId": "3cffc8d0-1cce-44b2-ab7f-558fbea77301"
      },
      "source": [
        "print(data['address'].value_counts()/7900)\r\n",
        "sns.countplot(x = 'address', data = data)\r\n",
        "plt.show()\r\n",
        "sns.countplot(x = 'address', hue = 'repeated',data = data)\r\n",
        "plt.show()"
      ],
      "execution_count": 73,
      "outputs": [
        {
          "output_type": "stream",
          "text": [
            "Urban    0.777215\n",
            "Rural    0.222785\n",
            "Name: address, dtype: float64\n"
          ],
          "name": "stdout"
        },
        {
          "output_type": "display_data",
          "data": {
            "image/png": "[encoded data removed]",
            "text/plain": [
              "<Figure size 432x288 with 1 Axes>"
            ]
          },
          "metadata": {
            "tags": [],
            "needs_background": "light"
          }
        },
        {
          "output_type": "display_data",
          "data": {
            "image/png": "[encoded data removed]",
            "text/plain": [
              "<Figure size 432x288 with 1 Axes>"
            ]
          },
          "metadata": {
            "tags": [],
            "needs_background": "light"
          }
        }
      ]
    },
    {
      "cell_type": "code",
      "metadata": {
        "colab": {
          "base_uri": "https://localhost:8080/"
        },
        "id": "mIJVjZ4OgE32",
        "outputId": "2ff7e875-5b99-43c4-b195-3b55d98065d3"
      },
      "source": [
        "obs = pd.crosstab(data['address'],data['repeated'])\r\n",
        "print(obs[[1,0]])\r\n",
        "g, p, dof, expctd = chi2_contingency(obs[[1,0]],lambda_=\"log-likelihood\")\r\n",
        "print(\"chi2 test p-value: \",p)\r\n",
        "oddsratio, pvalue = stats.fisher_exact(obs[[1,0]])\r\n",
        "print(\"OddsR: \", oddsratio, \"p-Value:\", pvalue)"
      ],
      "execution_count": 79,
      "outputs": [
        {
          "output_type": "stream",
          "text": [
            "repeated     1     0\n",
            "address             \n",
            "Rural      655  1105\n",
            "Urban     1737  4403\n",
            "chi2 test p-value:  1.6413675145703275e-12\n",
            "OddsR:  1.5025463885567512 p-Value: 1.491683833664934e-12\n"
          ],
          "name": "stdout"
        }
      ]
    },
    {
      "cell_type": "markdown",
      "metadata": {
        "id": "sdhVGy6IjI3X"
      },
      "source": [
        "5.varijabla = famsize"
      ]
    },
    {
      "cell_type": "code",
      "metadata": {
        "colab": {
          "base_uri": "https://localhost:8080/",
          "height": 596
        },
        "id": "U8b9NB2aX6aL",
        "outputId": "42de4976-b00d-41ce-f55e-8116dae330fb"
      },
      "source": [
        "print(data['famsize'].value_counts()/7900)\r\n",
        "sns.countplot(x = 'famsize', data = data)\r\n",
        "plt.show()\r\n",
        "sns.countplot(x = 'famsize', hue = 'repeated',data = data)\r\n",
        "plt.show()"
      ],
      "execution_count": 80,
      "outputs": [
        {
          "output_type": "stream",
          "text": [
            ">3     0.711392\n",
            "<=3    0.288608\n",
            "Name: famsize, dtype: float64\n"
          ],
          "name": "stdout"
        },
        {
          "output_type": "display_data",
          "data": {
            "image/png": "[encoded data removed]",
            "text/plain": [
              "<Figure size 432x288 with 1 Axes>"
            ]
          },
          "metadata": {
            "tags": [],
            "needs_background": "light"
          }
        },
        {
          "output_type": "display_data",
          "data": {
            "image/png": "[encoded data removed]",
            "text/plain": [
              "<Figure size 432x288 with 1 Axes>"
            ]
          },
          "metadata": {
            "tags": [],
            "needs_background": "light"
          }
        }
      ]
    },
    {
      "cell_type": "code",
      "metadata": {
        "colab": {
          "base_uri": "https://localhost:8080/"
        },
        "id": "FSB465XLjWKV",
        "outputId": "d95799d3-1a05-497b-c372-8365a75659e6"
      },
      "source": [
        "obs = pd.crosstab(data['famsize'],data['repeated'])\r\n",
        "print(obs[[1,0]])\r\n",
        "g, p, dof, expctd = chi2_contingency(obs[[1,0]],lambda_=\"log-likelihood\")\r\n",
        "print(\"chi2 test p-value: \",p)\r\n",
        "oddsratio, pvalue = stats.fisher_exact(obs[[1,0]])\r\n",
        "print(\"OddsR: \", oddsratio, \"p-Value:\", pvalue)"
      ],
      "execution_count": 81,
      "outputs": [
        {
          "output_type": "stream",
          "text": [
            "repeated     1     0\n",
            "famsize             \n",
            "<=3        589  1691\n",
            ">3        1803  3817\n",
            "chi2 test p-value:  3.7887932365568124e-08\n",
            "OddsR:  0.7373914885926701 p-Value: 3.47321369191552e-08\n"
          ],
          "name": "stdout"
        }
      ]
    },
    {
      "cell_type": "code",
      "metadata": {
        "colab": {
          "base_uri": "https://localhost:8080/"
        },
        "id": "wOjPM8MVjWM0",
        "outputId": "e49f34b8-4557-4a22-a6c6-8d70bd49cbf2"
      },
      "source": [
        "data.columns"
      ],
      "execution_count": 84,
      "outputs": [
        {
          "output_type": "execute_result",
          "data": {
            "text/plain": [
              "Index(['school', 'sex', 'age', 'address', 'famsize', 'Pstatus', 'Medu', 'Fedu',\n",
              "       'Mjob', 'Fjob', 'reason', 'guardian', 'traveltime', 'studytime',\n",
              "       'failures', 'schoolsup', 'famsup', 'paid', 'activities', 'nursery',\n",
              "       'higher', 'internet', 'romantic', 'famrel', 'freetime', 'goout', 'Dalc',\n",
              "       'Walc', 'health', 'absences', 'repeated', 'data_perimeter'],\n",
              "      dtype='object')"
            ]
          },
          "metadata": {
            "tags": []
          },
          "execution_count": 84
        }
      ]
    },
    {
      "cell_type": "markdown",
      "metadata": {
        "id": "kWqyEzeGktjZ"
      },
      "source": [
        "6.varijabla = Pstatus"
      ]
    },
    {
      "cell_type": "code",
      "metadata": {
        "colab": {
          "base_uri": "https://localhost:8080/",
          "height": 592
        },
        "id": "XhBpU5VOjWR2",
        "outputId": "334ae200-c5b4-4570-e047-20bbf8a6ba2d"
      },
      "source": [
        "print(data['Pstatus'].value_counts()/7900)\r\n",
        "sns.countplot(x = 'Pstatus', data = data)\r\n",
        "plt.show()\r\n",
        "sns.countplot(x = 'Pstatus', hue = 'repeated',data = data)\r\n",
        "plt.show()"
      ],
      "execution_count": 85,
      "outputs": [
        {
          "output_type": "stream",
          "text": [
            "Married     0.896203\n",
            "Divorced    0.103797\n",
            "Name: Pstatus, dtype: float64\n"
          ],
          "name": "stdout"
        },
        {
          "output_type": "display_data",
          "data": {
            "image/png": "[encoded data removed]",
            "text/plain": [
              "<Figure size 432x288 with 1 Axes>"
            ]
          },
          "metadata": {
            "tags": [],
            "needs_background": "light"
          }
        },
        {
          "output_type": "display_data",
          "data": {
            "image/png": "[encoded data removed]",
            "text/plain": [
              "<Figure size 432x288 with 1 Axes>"
            ]
          },
          "metadata": {
            "tags": [],
            "needs_background": "light"
          }
        }
      ]
    },
    {
      "cell_type": "code",
      "metadata": {
        "colab": {
          "base_uri": "https://localhost:8080/"
        },
        "id": "BwPNQRdgjWUb",
        "outputId": "7e513e94-808a-4c5f-9de3-7faf5222b536"
      },
      "source": [
        "obs = pd.crosstab(data['Pstatus'],data['repeated'])\r\n",
        "print(obs[[1,0]])\r\n",
        "g, p, dof, expctd = chi2_contingency(obs[[1,0]],lambda_=\"log-likelihood\")\r\n",
        "print(\"chi2 test p-value: \",p)\r\n",
        "oddsratio, pvalue = stats.fisher_exact(obs[[1,0]])\r\n",
        "print(\"OddsR: \", oddsratio, \"p-Value:\", pvalue)"
      ],
      "execution_count": 86,
      "outputs": [
        {
          "output_type": "stream",
          "text": [
            "repeated     1     0\n",
            "Pstatus             \n",
            "Divorced   278   542\n",
            "Married   2114  4966\n",
            "chi2 test p-value:  0.02011004261727061\n",
            "OddsR:  1.2048895607215295 p-Value: 0.017869565928866786\n"
          ],
          "name": "stdout"
        }
      ]
    },
    {
      "cell_type": "markdown",
      "metadata": {
        "id": "nSvjTXgrl264"
      },
      "source": [
        "7.Varijabla = Medu"
      ]
    },
    {
      "cell_type": "code",
      "metadata": {
        "colab": {
          "base_uri": "https://localhost:8080/",
          "height": 643
        },
        "id": "t_764C7RjWXB",
        "outputId": "055c1047-9aa5-4562-a210-5aa24489c61e"
      },
      "source": [
        "print(data['Medu'].value_counts()/7900)\r\n",
        "sns.countplot(x = 'Medu', data = data)\r\n",
        "plt.show()\r\n",
        "sns.countplot(x = 'Medu', hue = 'repeated',data = data)\r\n",
        "plt.show()"
      ],
      "execution_count": 87,
      "outputs": [
        {
          "output_type": "stream",
          "text": [
            "4    0.331646\n",
            "2    0.260759\n",
            "3    0.250633\n",
            "1    0.149367\n",
            "0    0.007595\n",
            "Name: Medu, dtype: float64\n"
          ],
          "name": "stdout"
        },
        {
          "output_type": "display_data",
          "data": {
            "image/png": "[encoded data removed]",
            "text/plain": [
              "<Figure size 432x288 with 1 Axes>"
            ]
          },
          "metadata": {
            "tags": [],
            "needs_background": "light"
          }
        },
        {
          "output_type": "display_data",
          "data": {
            "image/png": "[encoded data removed]",
            "text/plain": [
              "<Figure size 432x288 with 1 Axes>"
            ]
          },
          "metadata": {
            "tags": [],
            "needs_background": "light"
          }
        }
      ]
    },
    {
      "cell_type": "code",
      "metadata": {
        "colab": {
          "base_uri": "https://localhost:8080/"
        },
        "id": "Yz55a2D6jWZ0",
        "outputId": "89e112d3-eeb7-4a06-cae0-f8267638fd68"
      },
      "source": [
        "obs = pd.crosstab(data['Medu'],data['repeated'])\r\n",
        "print(obs[[1,0]])\r\n",
        "g, p, dof, expctd = chi2_contingency(obs[[1,0]],lambda_=\"log-likelihood\")\r\n",
        "print(\"chi2 test p-value: \",p)"
      ],
      "execution_count": 91,
      "outputs": [
        {
          "output_type": "stream",
          "text": [
            "repeated    1     0\n",
            "Medu               \n",
            "0          19    41\n",
            "1         515   665\n",
            "2         676  1384\n",
            "3         660  1320\n",
            "4         522  2098\n",
            "chi2 test p-value:  1.9154892352225763e-53\n"
          ],
          "name": "stdout"
        }
      ]
    },
    {
      "cell_type": "markdown",
      "metadata": {
        "id": "TUVqaO5-ptQf"
      },
      "source": [
        "8.Varijabla = Fedu"
      ]
    },
    {
      "cell_type": "code",
      "metadata": {
        "colab": {
          "base_uri": "https://localhost:8080/",
          "height": 779
        },
        "id": "PTKUzkzMjWb8",
        "outputId": "f261c517-cb38-408c-b88e-f4ce3ef0fbb7"
      },
      "source": [
        "print(data['Fedu'].value_counts()/7900)\r\n",
        "sns.countplot(x = 'Fedu', data = data)\r\n",
        "plt.show()\r\n",
        "sns.countplot(x = 'Fedu', hue = 'repeated',data = data)\r\n",
        "plt.show()\r\n",
        "\r\n",
        "obs = pd.crosstab(data['Fedu'],data['repeated'])\r\n",
        "print(obs[[1,0]])\r\n",
        "g, p, dof, expctd = chi2_contingency(obs[[1,0]],lambda_=\"log-likelihood\")\r\n",
        "print(\"chi2 test p-value: \",p)"
      ],
      "execution_count": 92,
      "outputs": [
        {
          "output_type": "stream",
          "text": [
            "2    0.291139\n",
            "3    0.253165\n",
            "4    0.243038\n",
            "1    0.207595\n",
            "0    0.005063\n",
            "Name: Fedu, dtype: float64\n"
          ],
          "name": "stdout"
        },
        {
          "output_type": "display_data",
          "data": {
            "image/png": "[encoded data removed]",
            "text/plain": [
              "<Figure size 432x288 with 1 Axes>"
            ]
          },
          "metadata": {
            "tags": [],
            "needs_background": "light"
          }
        },
        {
          "output_type": "display_data",
          "data": {
            "image/png": "[encoded data removed]",
            "text/plain": [
              "<Figure size 432x288 with 1 Axes>"
            ]
          },
          "metadata": {
            "tags": [],
            "needs_background": "light"
          }
        },
        {
          "output_type": "stream",
          "text": [
            "repeated    1     0\n",
            "Fedu               \n",
            "0           6    34\n",
            "1         709   931\n",
            "2         694  1606\n",
            "3         553  1447\n",
            "4         430  1490\n",
            "chi2 test p-value:  7.80967622721655e-41\n"
          ],
          "name": "stdout"
        }
      ]
    },
    {
      "cell_type": "code",
      "metadata": {
        "colab": {
          "base_uri": "https://localhost:8080/"
        },
        "id": "mKdk0oRKjWeX",
        "outputId": "141456f2-b8d3-4d25-f20f-255dd25c4f78"
      },
      "source": [
        "data.columns"
      ],
      "execution_count": 97,
      "outputs": [
        {
          "output_type": "execute_result",
          "data": {
            "text/plain": [
              "Index(['school', 'sex', 'age', 'address', 'famsize', 'Pstatus', 'Medu', 'Fedu',\n",
              "       'Mjob', 'Fjob', 'reason', 'guardian', 'traveltime', 'studytime',\n",
              "       'failures', 'schoolsup', 'famsup', 'paid', 'activities', 'nursery',\n",
              "       'higher', 'internet', 'romantic', 'famrel', 'freetime', 'goout', 'Dalc',\n",
              "       'Walc', 'health', 'absences', 'repeated', 'data_perimeter'],\n",
              "      dtype='object')"
            ]
          },
          "metadata": {
            "tags": []
          },
          "execution_count": 97
        }
      ]
    },
    {
      "cell_type": "markdown",
      "metadata": {
        "id": "-ERY3TQPpwSm"
      },
      "source": [
        "9.Varijabla = Mjob"
      ]
    },
    {
      "cell_type": "code",
      "metadata": {
        "colab": {
          "base_uri": "https://localhost:8080/",
          "height": 781
        },
        "id": "RMVaTytjjWg5",
        "outputId": "2c91c85c-1ae5-4b8d-cf02-d5df44ec01ea"
      },
      "source": [
        "print(data['Mjob'].value_counts()/7900)\r\n",
        "sns.countplot(x = 'Mjob', data = data)\r\n",
        "plt.show()\r\n",
        "sns.countplot(x = 'Mjob', hue = 'repeated',data = data)\r\n",
        "plt.show()\r\n",
        "\r\n",
        "obs = pd.crosstab(data['Mjob'],data['repeated'])\r\n",
        "print(obs[[1,0]])\r\n",
        "g, p, dof, expctd = chi2_contingency(obs[[1,0]],lambda_=\"log-likelihood\")\r\n",
        "print(\"chi2 test p-value: \",p)"
      ],
      "execution_count": 98,
      "outputs": [
        {
          "output_type": "stream",
          "text": [
            "other       0.356962\n",
            "services    0.260759\n",
            "at_home     0.149367\n",
            "teacher     0.146835\n",
            "health      0.086076\n",
            "Name: Mjob, dtype: float64\n"
          ],
          "name": "stdout"
        },
        {
          "output_type": "display_data",
          "data": {
            "image/png": "[encoded data removed]",
            "text/plain": [
              "<Figure size 432x288 with 1 Axes>"
            ]
          },
          "metadata": {
            "tags": [],
            "needs_background": "light"
          }
        },
        {
          "output_type": "display_data",
          "data": {
            "image/png": "[encoded data removed]",
            "text/plain": [
              "<Figure size 432x288 with 1 Axes>"
            ]
          },
          "metadata": {
            "tags": [],
            "needs_background": "light"
          }
        },
        {
          "output_type": "stream",
          "text": [
            "repeated    1     0\n",
            "Mjob               \n",
            "at_home   458   722\n",
            "health    116   564\n",
            "other     972  1848\n",
            "services  602  1458\n",
            "teacher   244   916\n",
            "chi2 test p-value:  5.534005768615867e-37\n"
          ],
          "name": "stdout"
        }
      ]
    },
    {
      "cell_type": "markdown",
      "metadata": {
        "id": "TGlK5WeCpyn2"
      },
      "source": [
        "10.Varijabla = Fjob"
      ]
    },
    {
      "cell_type": "code",
      "metadata": {
        "colab": {
          "base_uri": "https://localhost:8080/",
          "height": 781
        },
        "id": "Ahz-C13djWjW",
        "outputId": "162ca86e-c49f-4f4e-a8e8-142c3dfd902f"
      },
      "source": [
        "print(data['Fjob'].value_counts()/7900)\r\n",
        "sns.countplot(x = 'Fjob', data = data)\r\n",
        "plt.show()\r\n",
        "sns.countplot(x = 'Fjob', hue = 'repeated',data = data)\r\n",
        "plt.show()\r\n",
        "\r\n",
        "obs = pd.crosstab(data['Fjob'],data['repeated'])\r\n",
        "print(obs[[1,0]])\r\n",
        "g, p, dof, expctd = chi2_contingency(obs[[1,0]],lambda_=\"log-likelihood\")\r\n",
        "print(\"chi2 test p-value: \",p)"
      ],
      "execution_count": 99,
      "outputs": [
        {
          "output_type": "stream",
          "text": [
            "other       0.549367\n",
            "services    0.281013\n",
            "teacher     0.073418\n",
            "at_home     0.050633\n",
            "health      0.045570\n",
            "Name: Fjob, dtype: float64\n"
          ],
          "name": "stdout"
        },
        {
          "output_type": "display_data",
          "data": {
            "image/png": "[encoded data removed]",
            "text/plain": [
              "<Figure size 432x288 with 1 Axes>"
            ]
          },
          "metadata": {
            "tags": [],
            "needs_background": "light"
          }
        },
        {
          "output_type": "display_data",
          "data": {
            "image/png": "[encoded data removed]",
            "text/plain": [
              "<Figure size 432x288 with 1 Axes>"
            ]
          },
          "metadata": {
            "tags": [],
            "needs_background": "light"
          }
        },
        {
          "output_type": "stream",
          "text": [
            "repeated     1     0\n",
            "Fjob                \n",
            "at_home    125   275\n",
            "health      79   281\n",
            "other     1344  2996\n",
            "services   715  1505\n",
            "teacher    129   451\n",
            "chi2 test p-value:  2.360506464975341e-07\n"
          ],
          "name": "stdout"
        }
      ]
    },
    {
      "cell_type": "code",
      "metadata": {
        "colab": {
          "base_uri": "https://localhost:8080/"
        },
        "id": "3vmxml4ajWl_",
        "outputId": "84313edf-3145-4f99-caea-b1e8996b2500"
      },
      "source": [
        "data.columns"
      ],
      "execution_count": 100,
      "outputs": [
        {
          "output_type": "execute_result",
          "data": {
            "text/plain": [
              "Index(['school', 'sex', 'age', 'address', 'famsize', 'Pstatus', 'Medu', 'Fedu',\n",
              "       'Mjob', 'Fjob', 'reason', 'guardian', 'traveltime', 'studytime',\n",
              "       'failures', 'schoolsup', 'famsup', 'paid', 'activities', 'nursery',\n",
              "       'higher', 'internet', 'romantic', 'famrel', 'freetime', 'goout', 'Dalc',\n",
              "       'Walc', 'health', 'absences', 'repeated', 'data_perimeter'],\n",
              "      dtype='object')"
            ]
          },
          "metadata": {
            "tags": []
          },
          "execution_count": 100
        }
      ]
    },
    {
      "cell_type": "markdown",
      "metadata": {
        "id": "dFw4ZwRhp_Qr"
      },
      "source": [
        "11.Varijabla = reason"
      ]
    },
    {
      "cell_type": "code",
      "metadata": {
        "colab": {
          "base_uri": "https://localhost:8080/",
          "height": 750
        },
        "id": "-AvEeIKQjWo9",
        "outputId": "b9a95b27-ecac-499c-c518-ceb5884c20b6"
      },
      "source": [
        "print(data['reason'].value_counts()/7900)\r\n",
        "sns.countplot(x = 'reason', data = data)\r\n",
        "plt.show()\r\n",
        "sns.countplot(x = 'reason', hue = 'repeated',data = data)\r\n",
        "plt.show()\r\n",
        "\r\n",
        "obs = pd.crosstab(data['reason'],data['repeated'])\r\n",
        "print(obs[[1,0]])\r\n",
        "g, p, dof, expctd = chi2_contingency(obs[[1,0]],lambda_=\"log-likelihood\")\r\n",
        "print(\"chi2 test p-value: \",p)"
      ],
      "execution_count": 103,
      "outputs": [
        {
          "output_type": "stream",
          "text": [
            "course        0.367089\n",
            "home          0.275949\n",
            "reputation    0.265823\n",
            "other         0.091139\n",
            "Name: reason, dtype: float64\n"
          ],
          "name": "stdout"
        },
        {
          "output_type": "display_data",
          "data": {
            "image/png": "[encoded data removed]",
            "text/plain": [
              "<Figure size 432x288 with 1 Axes>"
            ]
          },
          "metadata": {
            "tags": [],
            "needs_background": "light"
          }
        },
        {
          "output_type": "display_data",
          "data": {
            "image/png": "[encoded data removed]",
            "text/plain": [
              "<Figure size 432x288 with 1 Axes>"
            ]
          },
          "metadata": {
            "tags": [],
            "needs_background": "light"
          }
        },
        {
          "output_type": "stream",
          "text": [
            "repeated      1     0\n",
            "reason               \n",
            "course      990  1910\n",
            "home        667  1513\n",
            "other       200   520\n",
            "reputation  535  1565\n",
            "chi2 test p-value:  5.704380116706152e-10\n"
          ],
          "name": "stdout"
        }
      ]
    },
    {
      "cell_type": "markdown",
      "metadata": {
        "id": "6m5SGXa4qRrW"
      },
      "source": [
        "12.Varijaba = guardian"
      ]
    },
    {
      "cell_type": "code",
      "metadata": {
        "colab": {
          "base_uri": "https://localhost:8080/",
          "height": 714
        },
        "id": "ZsHXi0iEqP_u",
        "outputId": "e03db238-36cf-4291-e6a9-4ecba435e5a5"
      },
      "source": [
        "print(data['guardian'].value_counts()/7900)\r\n",
        "sns.countplot(x = 'guardian', data = data)\r\n",
        "plt.show()\r\n",
        "sns.countplot(x = 'guardian', hue = 'repeated',data = data)\r\n",
        "plt.show()\r\n",
        "\r\n",
        "obs = pd.crosstab(data['guardian'],data['repeated'])\r\n",
        "print(obs[[1,0]])\r\n",
        "g, p, dof, expctd = chi2_contingency(obs[[1,0]],lambda_=\"log-likelihood\")\r\n",
        "print(\"chi2 test p-value: \",p)"
      ],
      "execution_count": 104,
      "outputs": [
        {
          "output_type": "stream",
          "text": [
            "mother    0.691139\n",
            "father    0.227848\n",
            "other     0.081013\n",
            "Name: guardian, dtype: float64\n"
          ],
          "name": "stdout"
        },
        {
          "output_type": "display_data",
          "data": {
            "image/png": "[encoded data removed]",
            "text/plain": [
              "<Figure size 432x288 with 1 Axes>"
            ]
          },
          "metadata": {
            "tags": [],
            "needs_background": "light"
          }
        },
        {
          "output_type": "display_data",
          "data": {
            "image/png": "[encoded data removed]",
            "text/plain": [
              "<Figure size 432x288 with 1 Axes>"
            ]
          },
          "metadata": {
            "tags": [],
            "needs_background": "light"
          }
        },
        {
          "output_type": "stream",
          "text": [
            "repeated     1     0\n",
            "guardian            \n",
            "father     486  1314\n",
            "mother    1634  3826\n",
            "other      272   368\n",
            "chi2 test p-value:  4.410004950005862e-12\n"
          ],
          "name": "stdout"
        }
      ]
    },
    {
      "cell_type": "code",
      "metadata": {
        "colab": {
          "base_uri": "https://localhost:8080/"
        },
        "id": "adcP5gyvjWtZ",
        "outputId": "d67a121d-67aa-4446-ede6-5cce2275d7db"
      },
      "source": [
        "data.columns"
      ],
      "execution_count": 105,
      "outputs": [
        {
          "output_type": "execute_result",
          "data": {
            "text/plain": [
              "Index(['school', 'sex', 'age', 'address', 'famsize', 'Pstatus', 'Medu', 'Fedu',\n",
              "       'Mjob', 'Fjob', 'reason', 'guardian', 'traveltime', 'studytime',\n",
              "       'failures', 'schoolsup', 'famsup', 'paid', 'activities', 'nursery',\n",
              "       'higher', 'internet', 'romantic', 'famrel', 'freetime', 'goout', 'Dalc',\n",
              "       'Walc', 'health', 'absences', 'repeated', 'data_perimeter'],\n",
              "      dtype='object')"
            ]
          },
          "metadata": {
            "tags": []
          },
          "execution_count": 105
        }
      ]
    },
    {
      "cell_type": "code",
      "metadata": {
        "id": "KZSr0EFFjWwF"
      },
      "source": [
        ""
      ],
      "execution_count": null,
      "outputs": []
    },
    {
      "cell_type": "code",
      "metadata": {
        "id": "Y_5T_x8fjWyf"
      },
      "source": [
        ""
      ],
      "execution_count": null,
      "outputs": []
    },
    {
      "cell_type": "code",
      "metadata": {
        "id": "Z-ZB05x9jW02"
      },
      "source": [
        ""
      ],
      "execution_count": null,
      "outputs": []
    },
    {
      "cell_type": "code",
      "metadata": {
        "id": "rZykNLnIX6fZ"
      },
      "source": [
        ""
      ],
      "execution_count": null,
      "outputs": []
    }
  ]
}